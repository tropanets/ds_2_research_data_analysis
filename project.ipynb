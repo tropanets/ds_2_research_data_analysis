{
 "cells": [
  {
   "cell_type": "markdown",
   "metadata": {},
   "source": [
    "# Исследование объявлений о продаже квартир\n",
    "\n",
    "В вашем распоряжении данные сервиса Яндекс.Недвижимость — архив объявлений о продаже квартир в Санкт-Петербурге и соседних населённых пунктов за несколько лет. Нужно научиться определять рыночную стоимость объектов недвижимости. Ваша задача — установить параметры. Это позволит построить автоматизированную систему: она отследит аномалии и мошенническую деятельность. \n",
    "\n",
    "По каждой квартире на продажу доступны два вида данных. Первые вписаны пользователем, вторые — получены автоматически на основе картографических данных. Например, расстояние до центра, аэропорта, ближайшего парка и водоёма. "
   ]
  },
  {
   "cell_type": "markdown",
   "metadata": {},
   "source": [
    "### Откройте файл с данными и изучите общую информацию. "
   ]
  },
  {
   "cell_type": "code",
   "execution_count": 1,
   "metadata": {},
   "outputs": [],
   "source": [
    "import pandas as pd\n",
    "import matplotlib.pyplot as plt\n",
    "\n",
    "data = pd.read_csv('/datasets/real_estate_data.csv', sep='\\t', parse_dates=['first_day_exposition'])"
   ]
  },
  {
   "cell_type": "code",
   "execution_count": 2,
   "metadata": {},
   "outputs": [
    {
     "name": "stdout",
     "output_type": "stream",
     "text": [
      "<class 'pandas.core.frame.DataFrame'>\n",
      "RangeIndex: 23699 entries, 0 to 23698\n",
      "Data columns (total 22 columns):\n",
      " #   Column                Non-Null Count  Dtype         \n",
      "---  ------                --------------  -----         \n",
      " 0   total_images          23699 non-null  int64         \n",
      " 1   last_price            23699 non-null  float64       \n",
      " 2   total_area            23699 non-null  float64       \n",
      " 3   first_day_exposition  23699 non-null  datetime64[ns]\n",
      " 4   rooms                 23699 non-null  int64         \n",
      " 5   ceiling_height        14504 non-null  float64       \n",
      " 6   floors_total          23613 non-null  float64       \n",
      " 7   living_area           21796 non-null  float64       \n",
      " 8   floor                 23699 non-null  int64         \n",
      " 9   is_apartment          2775 non-null   object        \n",
      " 10  studio                23699 non-null  bool          \n",
      " 11  open_plan             23699 non-null  bool          \n",
      " 12  kitchen_area          21421 non-null  float64       \n",
      " 13  balcony               12180 non-null  float64       \n",
      " 14  locality_name         23650 non-null  object        \n",
      " 15  airports_nearest      18157 non-null  float64       \n",
      " 16  cityCenters_nearest   18180 non-null  float64       \n",
      " 17  parks_around3000      18181 non-null  float64       \n",
      " 18  parks_nearest         8079 non-null   float64       \n",
      " 19  ponds_around3000      18181 non-null  float64       \n",
      " 20  ponds_nearest         9110 non-null   float64       \n",
      " 21  days_exposition       20518 non-null  float64       \n",
      "dtypes: bool(2), datetime64[ns](1), float64(14), int64(3), object(2)\n",
      "memory usage: 3.7+ MB\n"
     ]
    }
   ],
   "source": [
    "data.info()"
   ]
  },
  {
   "cell_type": "code",
   "execution_count": 3,
   "metadata": {},
   "outputs": [
    {
     "data": {
      "text/html": [
       "<div>\n",
       "<style scoped>\n",
       "    .dataframe tbody tr th:only-of-type {\n",
       "        vertical-align: middle;\n",
       "    }\n",
       "\n",
       "    .dataframe tbody tr th {\n",
       "        vertical-align: top;\n",
       "    }\n",
       "\n",
       "    .dataframe thead th {\n",
       "        text-align: right;\n",
       "    }\n",
       "</style>\n",
       "<table border=\"1\" class=\"dataframe\">\n",
       "  <thead>\n",
       "    <tr style=\"text-align: right;\">\n",
       "      <th></th>\n",
       "      <th>total_images</th>\n",
       "      <th>last_price</th>\n",
       "      <th>total_area</th>\n",
       "      <th>first_day_exposition</th>\n",
       "      <th>rooms</th>\n",
       "      <th>ceiling_height</th>\n",
       "      <th>floors_total</th>\n",
       "      <th>living_area</th>\n",
       "      <th>floor</th>\n",
       "      <th>is_apartment</th>\n",
       "      <th>...</th>\n",
       "      <th>kitchen_area</th>\n",
       "      <th>balcony</th>\n",
       "      <th>locality_name</th>\n",
       "      <th>airports_nearest</th>\n",
       "      <th>cityCenters_nearest</th>\n",
       "      <th>parks_around3000</th>\n",
       "      <th>parks_nearest</th>\n",
       "      <th>ponds_around3000</th>\n",
       "      <th>ponds_nearest</th>\n",
       "      <th>days_exposition</th>\n",
       "    </tr>\n",
       "  </thead>\n",
       "  <tbody>\n",
       "    <tr>\n",
       "      <th>0</th>\n",
       "      <td>20</td>\n",
       "      <td>13000000.0</td>\n",
       "      <td>108.00</td>\n",
       "      <td>2019-03-07</td>\n",
       "      <td>3</td>\n",
       "      <td>2.70</td>\n",
       "      <td>16.0</td>\n",
       "      <td>51.0</td>\n",
       "      <td>8</td>\n",
       "      <td>NaN</td>\n",
       "      <td>...</td>\n",
       "      <td>25.00</td>\n",
       "      <td>NaN</td>\n",
       "      <td>Санкт-Петербург</td>\n",
       "      <td>18863.0</td>\n",
       "      <td>16028.0</td>\n",
       "      <td>1.0</td>\n",
       "      <td>482.0</td>\n",
       "      <td>2.0</td>\n",
       "      <td>755.0</td>\n",
       "      <td>NaN</td>\n",
       "    </tr>\n",
       "    <tr>\n",
       "      <th>1</th>\n",
       "      <td>7</td>\n",
       "      <td>3350000.0</td>\n",
       "      <td>40.40</td>\n",
       "      <td>2018-12-04</td>\n",
       "      <td>1</td>\n",
       "      <td>NaN</td>\n",
       "      <td>11.0</td>\n",
       "      <td>18.6</td>\n",
       "      <td>1</td>\n",
       "      <td>NaN</td>\n",
       "      <td>...</td>\n",
       "      <td>11.00</td>\n",
       "      <td>2.0</td>\n",
       "      <td>посёлок Шушары</td>\n",
       "      <td>12817.0</td>\n",
       "      <td>18603.0</td>\n",
       "      <td>0.0</td>\n",
       "      <td>NaN</td>\n",
       "      <td>0.0</td>\n",
       "      <td>NaN</td>\n",
       "      <td>81.0</td>\n",
       "    </tr>\n",
       "    <tr>\n",
       "      <th>2</th>\n",
       "      <td>10</td>\n",
       "      <td>5196000.0</td>\n",
       "      <td>56.00</td>\n",
       "      <td>2015-08-20</td>\n",
       "      <td>2</td>\n",
       "      <td>NaN</td>\n",
       "      <td>5.0</td>\n",
       "      <td>34.3</td>\n",
       "      <td>4</td>\n",
       "      <td>NaN</td>\n",
       "      <td>...</td>\n",
       "      <td>8.30</td>\n",
       "      <td>0.0</td>\n",
       "      <td>Санкт-Петербург</td>\n",
       "      <td>21741.0</td>\n",
       "      <td>13933.0</td>\n",
       "      <td>1.0</td>\n",
       "      <td>90.0</td>\n",
       "      <td>2.0</td>\n",
       "      <td>574.0</td>\n",
       "      <td>558.0</td>\n",
       "    </tr>\n",
       "    <tr>\n",
       "      <th>3</th>\n",
       "      <td>0</td>\n",
       "      <td>64900000.0</td>\n",
       "      <td>159.00</td>\n",
       "      <td>2015-07-24</td>\n",
       "      <td>3</td>\n",
       "      <td>NaN</td>\n",
       "      <td>14.0</td>\n",
       "      <td>NaN</td>\n",
       "      <td>9</td>\n",
       "      <td>NaN</td>\n",
       "      <td>...</td>\n",
       "      <td>NaN</td>\n",
       "      <td>0.0</td>\n",
       "      <td>Санкт-Петербург</td>\n",
       "      <td>28098.0</td>\n",
       "      <td>6800.0</td>\n",
       "      <td>2.0</td>\n",
       "      <td>84.0</td>\n",
       "      <td>3.0</td>\n",
       "      <td>234.0</td>\n",
       "      <td>424.0</td>\n",
       "    </tr>\n",
       "    <tr>\n",
       "      <th>4</th>\n",
       "      <td>2</td>\n",
       "      <td>10000000.0</td>\n",
       "      <td>100.00</td>\n",
       "      <td>2018-06-19</td>\n",
       "      <td>2</td>\n",
       "      <td>3.03</td>\n",
       "      <td>14.0</td>\n",
       "      <td>32.0</td>\n",
       "      <td>13</td>\n",
       "      <td>NaN</td>\n",
       "      <td>...</td>\n",
       "      <td>41.00</td>\n",
       "      <td>NaN</td>\n",
       "      <td>Санкт-Петербург</td>\n",
       "      <td>31856.0</td>\n",
       "      <td>8098.0</td>\n",
       "      <td>2.0</td>\n",
       "      <td>112.0</td>\n",
       "      <td>1.0</td>\n",
       "      <td>48.0</td>\n",
       "      <td>121.0</td>\n",
       "    </tr>\n",
       "    <tr>\n",
       "      <th>...</th>\n",
       "      <td>...</td>\n",
       "      <td>...</td>\n",
       "      <td>...</td>\n",
       "      <td>...</td>\n",
       "      <td>...</td>\n",
       "      <td>...</td>\n",
       "      <td>...</td>\n",
       "      <td>...</td>\n",
       "      <td>...</td>\n",
       "      <td>...</td>\n",
       "      <td>...</td>\n",
       "      <td>...</td>\n",
       "      <td>...</td>\n",
       "      <td>...</td>\n",
       "      <td>...</td>\n",
       "      <td>...</td>\n",
       "      <td>...</td>\n",
       "      <td>...</td>\n",
       "      <td>...</td>\n",
       "      <td>...</td>\n",
       "      <td>...</td>\n",
       "    </tr>\n",
       "    <tr>\n",
       "      <th>23694</th>\n",
       "      <td>9</td>\n",
       "      <td>9700000.0</td>\n",
       "      <td>133.81</td>\n",
       "      <td>2017-03-21</td>\n",
       "      <td>3</td>\n",
       "      <td>3.70</td>\n",
       "      <td>5.0</td>\n",
       "      <td>73.3</td>\n",
       "      <td>3</td>\n",
       "      <td>NaN</td>\n",
       "      <td>...</td>\n",
       "      <td>13.83</td>\n",
       "      <td>NaN</td>\n",
       "      <td>Санкт-Петербург</td>\n",
       "      <td>24665.0</td>\n",
       "      <td>4232.0</td>\n",
       "      <td>1.0</td>\n",
       "      <td>796.0</td>\n",
       "      <td>3.0</td>\n",
       "      <td>381.0</td>\n",
       "      <td>NaN</td>\n",
       "    </tr>\n",
       "    <tr>\n",
       "      <th>23695</th>\n",
       "      <td>14</td>\n",
       "      <td>3100000.0</td>\n",
       "      <td>59.00</td>\n",
       "      <td>2018-01-15</td>\n",
       "      <td>3</td>\n",
       "      <td>NaN</td>\n",
       "      <td>5.0</td>\n",
       "      <td>38.0</td>\n",
       "      <td>4</td>\n",
       "      <td>NaN</td>\n",
       "      <td>...</td>\n",
       "      <td>8.50</td>\n",
       "      <td>NaN</td>\n",
       "      <td>Тосно</td>\n",
       "      <td>NaN</td>\n",
       "      <td>NaN</td>\n",
       "      <td>NaN</td>\n",
       "      <td>NaN</td>\n",
       "      <td>NaN</td>\n",
       "      <td>NaN</td>\n",
       "      <td>45.0</td>\n",
       "    </tr>\n",
       "    <tr>\n",
       "      <th>23696</th>\n",
       "      <td>18</td>\n",
       "      <td>2500000.0</td>\n",
       "      <td>56.70</td>\n",
       "      <td>2018-02-11</td>\n",
       "      <td>2</td>\n",
       "      <td>NaN</td>\n",
       "      <td>3.0</td>\n",
       "      <td>29.7</td>\n",
       "      <td>1</td>\n",
       "      <td>NaN</td>\n",
       "      <td>...</td>\n",
       "      <td>NaN</td>\n",
       "      <td>NaN</td>\n",
       "      <td>село Рождествено</td>\n",
       "      <td>NaN</td>\n",
       "      <td>NaN</td>\n",
       "      <td>NaN</td>\n",
       "      <td>NaN</td>\n",
       "      <td>NaN</td>\n",
       "      <td>NaN</td>\n",
       "      <td>NaN</td>\n",
       "    </tr>\n",
       "    <tr>\n",
       "      <th>23697</th>\n",
       "      <td>13</td>\n",
       "      <td>11475000.0</td>\n",
       "      <td>76.75</td>\n",
       "      <td>2017-03-28</td>\n",
       "      <td>2</td>\n",
       "      <td>3.00</td>\n",
       "      <td>17.0</td>\n",
       "      <td>NaN</td>\n",
       "      <td>12</td>\n",
       "      <td>NaN</td>\n",
       "      <td>...</td>\n",
       "      <td>23.30</td>\n",
       "      <td>2.0</td>\n",
       "      <td>Санкт-Петербург</td>\n",
       "      <td>39140.0</td>\n",
       "      <td>10364.0</td>\n",
       "      <td>2.0</td>\n",
       "      <td>173.0</td>\n",
       "      <td>3.0</td>\n",
       "      <td>196.0</td>\n",
       "      <td>602.0</td>\n",
       "    </tr>\n",
       "    <tr>\n",
       "      <th>23698</th>\n",
       "      <td>4</td>\n",
       "      <td>1350000.0</td>\n",
       "      <td>32.30</td>\n",
       "      <td>2017-07-21</td>\n",
       "      <td>1</td>\n",
       "      <td>2.50</td>\n",
       "      <td>5.0</td>\n",
       "      <td>12.3</td>\n",
       "      <td>1</td>\n",
       "      <td>NaN</td>\n",
       "      <td>...</td>\n",
       "      <td>9.00</td>\n",
       "      <td>NaN</td>\n",
       "      <td>поселок Новый Учхоз</td>\n",
       "      <td>NaN</td>\n",
       "      <td>NaN</td>\n",
       "      <td>NaN</td>\n",
       "      <td>NaN</td>\n",
       "      <td>NaN</td>\n",
       "      <td>NaN</td>\n",
       "      <td>NaN</td>\n",
       "    </tr>\n",
       "  </tbody>\n",
       "</table>\n",
       "<p>23699 rows × 22 columns</p>\n",
       "</div>"
      ],
      "text/plain": [
       "       total_images  last_price  total_area first_day_exposition  rooms  \\\n",
       "0                20  13000000.0      108.00           2019-03-07      3   \n",
       "1                 7   3350000.0       40.40           2018-12-04      1   \n",
       "2                10   5196000.0       56.00           2015-08-20      2   \n",
       "3                 0  64900000.0      159.00           2015-07-24      3   \n",
       "4                 2  10000000.0      100.00           2018-06-19      2   \n",
       "...             ...         ...         ...                  ...    ...   \n",
       "23694             9   9700000.0      133.81           2017-03-21      3   \n",
       "23695            14   3100000.0       59.00           2018-01-15      3   \n",
       "23696            18   2500000.0       56.70           2018-02-11      2   \n",
       "23697            13  11475000.0       76.75           2017-03-28      2   \n",
       "23698             4   1350000.0       32.30           2017-07-21      1   \n",
       "\n",
       "       ceiling_height  floors_total  living_area  floor is_apartment  ...  \\\n",
       "0                2.70          16.0         51.0      8          NaN  ...   \n",
       "1                 NaN          11.0         18.6      1          NaN  ...   \n",
       "2                 NaN           5.0         34.3      4          NaN  ...   \n",
       "3                 NaN          14.0          NaN      9          NaN  ...   \n",
       "4                3.03          14.0         32.0     13          NaN  ...   \n",
       "...               ...           ...          ...    ...          ...  ...   \n",
       "23694            3.70           5.0         73.3      3          NaN  ...   \n",
       "23695             NaN           5.0         38.0      4          NaN  ...   \n",
       "23696             NaN           3.0         29.7      1          NaN  ...   \n",
       "23697            3.00          17.0          NaN     12          NaN  ...   \n",
       "23698            2.50           5.0         12.3      1          NaN  ...   \n",
       "\n",
       "       kitchen_area  balcony        locality_name  airports_nearest  \\\n",
       "0             25.00      NaN      Санкт-Петербург           18863.0   \n",
       "1             11.00      2.0       посёлок Шушары           12817.0   \n",
       "2              8.30      0.0      Санкт-Петербург           21741.0   \n",
       "3               NaN      0.0      Санкт-Петербург           28098.0   \n",
       "4             41.00      NaN      Санкт-Петербург           31856.0   \n",
       "...             ...      ...                  ...               ...   \n",
       "23694         13.83      NaN      Санкт-Петербург           24665.0   \n",
       "23695          8.50      NaN                Тосно               NaN   \n",
       "23696           NaN      NaN     село Рождествено               NaN   \n",
       "23697         23.30      2.0      Санкт-Петербург           39140.0   \n",
       "23698          9.00      NaN  поселок Новый Учхоз               NaN   \n",
       "\n",
       "      cityCenters_nearest  parks_around3000  parks_nearest  ponds_around3000  \\\n",
       "0                 16028.0               1.0          482.0               2.0   \n",
       "1                 18603.0               0.0            NaN               0.0   \n",
       "2                 13933.0               1.0           90.0               2.0   \n",
       "3                  6800.0               2.0           84.0               3.0   \n",
       "4                  8098.0               2.0          112.0               1.0   \n",
       "...                   ...               ...            ...               ...   \n",
       "23694              4232.0               1.0          796.0               3.0   \n",
       "23695                 NaN               NaN            NaN               NaN   \n",
       "23696                 NaN               NaN            NaN               NaN   \n",
       "23697             10364.0               2.0          173.0               3.0   \n",
       "23698                 NaN               NaN            NaN               NaN   \n",
       "\n",
       "       ponds_nearest  days_exposition  \n",
       "0              755.0              NaN  \n",
       "1                NaN             81.0  \n",
       "2              574.0            558.0  \n",
       "3              234.0            424.0  \n",
       "4               48.0            121.0  \n",
       "...              ...              ...  \n",
       "23694          381.0              NaN  \n",
       "23695            NaN             45.0  \n",
       "23696            NaN              NaN  \n",
       "23697          196.0            602.0  \n",
       "23698            NaN              NaN  \n",
       "\n",
       "[23699 rows x 22 columns]"
      ]
     },
     "metadata": {},
     "output_type": "display_data"
    }
   ],
   "source": [
    "display(data)"
   ]
  },
  {
   "cell_type": "code",
   "execution_count": 4,
   "metadata": {},
   "outputs": [
    {
     "data": {
      "text/html": [
       "<style  type=\"text/css\" >\n",
       "#T_5efef_row0_col0,#T_5efef_row1_col0,#T_5efef_row2_col0,#T_5efef_row3_col0,#T_5efef_row4_col0,#T_5efef_row6_col0,#T_5efef_row8_col0,#T_5efef_row10_col0,#T_5efef_row11_col0,#T_5efef_row14_col0{\n",
       "            background-color:  #3b4cc0;\n",
       "            color:  #f1f1f1;\n",
       "        }#T_5efef_row5_col0{\n",
       "            background-color:  #cdd9ec;\n",
       "            color:  #000000;\n",
       "        }#T_5efef_row7_col0{\n",
       "            background-color:  #5673e0;\n",
       "            color:  #000000;\n",
       "        }#T_5efef_row9_col0{\n",
       "            background-color:  #b40426;\n",
       "            color:  #f1f1f1;\n",
       "        }#T_5efef_row12_col0{\n",
       "            background-color:  #5e7de7;\n",
       "            color:  #000000;\n",
       "        }#T_5efef_row13_col0{\n",
       "            background-color:  #ead4c8;\n",
       "            color:  #000000;\n",
       "        }#T_5efef_row15_col0,#T_5efef_row16_col0,#T_5efef_row17_col0,#T_5efef_row19_col0{\n",
       "            background-color:  #90b2fe;\n",
       "            color:  #000000;\n",
       "        }#T_5efef_row18_col0{\n",
       "            background-color:  #f4987a;\n",
       "            color:  #000000;\n",
       "        }#T_5efef_row20_col0{\n",
       "            background-color:  #f7aa8c;\n",
       "            color:  #000000;\n",
       "        }#T_5efef_row21_col0{\n",
       "            background-color:  #688aef;\n",
       "            color:  #000000;\n",
       "        }</style><table id=\"T_5efef_\" ><thead>    <tr>        <th class=\"blank level0\" ></th>        <th class=\"col_heading level0 col0\" >0</th>    </tr></thead><tbody>\n",
       "                <tr>\n",
       "                        <th id=\"T_5efef_level0_row0\" class=\"row_heading level0 row0\" >total_images</th>\n",
       "                        <td id=\"T_5efef_row0_col0\" class=\"data row0 col0\" >0.000000</td>\n",
       "            </tr>\n",
       "            <tr>\n",
       "                        <th id=\"T_5efef_level0_row1\" class=\"row_heading level0 row1\" >last_price</th>\n",
       "                        <td id=\"T_5efef_row1_col0\" class=\"data row1 col0\" >0.000000</td>\n",
       "            </tr>\n",
       "            <tr>\n",
       "                        <th id=\"T_5efef_level0_row2\" class=\"row_heading level0 row2\" >total_area</th>\n",
       "                        <td id=\"T_5efef_row2_col0\" class=\"data row2 col0\" >0.000000</td>\n",
       "            </tr>\n",
       "            <tr>\n",
       "                        <th id=\"T_5efef_level0_row3\" class=\"row_heading level0 row3\" >first_day_exposition</th>\n",
       "                        <td id=\"T_5efef_row3_col0\" class=\"data row3 col0\" >0.000000</td>\n",
       "            </tr>\n",
       "            <tr>\n",
       "                        <th id=\"T_5efef_level0_row4\" class=\"row_heading level0 row4\" >rooms</th>\n",
       "                        <td id=\"T_5efef_row4_col0\" class=\"data row4 col0\" >0.000000</td>\n",
       "            </tr>\n",
       "            <tr>\n",
       "                        <th id=\"T_5efef_level0_row5\" class=\"row_heading level0 row5\" >ceiling_height</th>\n",
       "                        <td id=\"T_5efef_row5_col0\" class=\"data row5 col0\" >39.000000</td>\n",
       "            </tr>\n",
       "            <tr>\n",
       "                        <th id=\"T_5efef_level0_row6\" class=\"row_heading level0 row6\" >floors_total</th>\n",
       "                        <td id=\"T_5efef_row6_col0\" class=\"data row6 col0\" >0.000000</td>\n",
       "            </tr>\n",
       "            <tr>\n",
       "                        <th id=\"T_5efef_level0_row7\" class=\"row_heading level0 row7\" >living_area</th>\n",
       "                        <td id=\"T_5efef_row7_col0\" class=\"data row7 col0\" >8.000000</td>\n",
       "            </tr>\n",
       "            <tr>\n",
       "                        <th id=\"T_5efef_level0_row8\" class=\"row_heading level0 row8\" >floor</th>\n",
       "                        <td id=\"T_5efef_row8_col0\" class=\"data row8 col0\" >0.000000</td>\n",
       "            </tr>\n",
       "            <tr>\n",
       "                        <th id=\"T_5efef_level0_row9\" class=\"row_heading level0 row9\" >is_apartment</th>\n",
       "                        <td id=\"T_5efef_row9_col0\" class=\"data row9 col0\" >88.000000</td>\n",
       "            </tr>\n",
       "            <tr>\n",
       "                        <th id=\"T_5efef_level0_row10\" class=\"row_heading level0 row10\" >studio</th>\n",
       "                        <td id=\"T_5efef_row10_col0\" class=\"data row10 col0\" >0.000000</td>\n",
       "            </tr>\n",
       "            <tr>\n",
       "                        <th id=\"T_5efef_level0_row11\" class=\"row_heading level0 row11\" >open_plan</th>\n",
       "                        <td id=\"T_5efef_row11_col0\" class=\"data row11 col0\" >0.000000</td>\n",
       "            </tr>\n",
       "            <tr>\n",
       "                        <th id=\"T_5efef_level0_row12\" class=\"row_heading level0 row12\" >kitchen_area</th>\n",
       "                        <td id=\"T_5efef_row12_col0\" class=\"data row12 col0\" >10.000000</td>\n",
       "            </tr>\n",
       "            <tr>\n",
       "                        <th id=\"T_5efef_level0_row13\" class=\"row_heading level0 row13\" >balcony</th>\n",
       "                        <td id=\"T_5efef_row13_col0\" class=\"data row13 col0\" >49.000000</td>\n",
       "            </tr>\n",
       "            <tr>\n",
       "                        <th id=\"T_5efef_level0_row14\" class=\"row_heading level0 row14\" >locality_name</th>\n",
       "                        <td id=\"T_5efef_row14_col0\" class=\"data row14 col0\" >0.000000</td>\n",
       "            </tr>\n",
       "            <tr>\n",
       "                        <th id=\"T_5efef_level0_row15\" class=\"row_heading level0 row15\" >airports_nearest</th>\n",
       "                        <td id=\"T_5efef_row15_col0\" class=\"data row15 col0\" >23.000000</td>\n",
       "            </tr>\n",
       "            <tr>\n",
       "                        <th id=\"T_5efef_level0_row16\" class=\"row_heading level0 row16\" >cityCenters_nearest</th>\n",
       "                        <td id=\"T_5efef_row16_col0\" class=\"data row16 col0\" >23.000000</td>\n",
       "            </tr>\n",
       "            <tr>\n",
       "                        <th id=\"T_5efef_level0_row17\" class=\"row_heading level0 row17\" >parks_around3000</th>\n",
       "                        <td id=\"T_5efef_row17_col0\" class=\"data row17 col0\" >23.000000</td>\n",
       "            </tr>\n",
       "            <tr>\n",
       "                        <th id=\"T_5efef_level0_row18\" class=\"row_heading level0 row18\" >parks_nearest</th>\n",
       "                        <td id=\"T_5efef_row18_col0\" class=\"data row18 col0\" >66.000000</td>\n",
       "            </tr>\n",
       "            <tr>\n",
       "                        <th id=\"T_5efef_level0_row19\" class=\"row_heading level0 row19\" >ponds_around3000</th>\n",
       "                        <td id=\"T_5efef_row19_col0\" class=\"data row19 col0\" >23.000000</td>\n",
       "            </tr>\n",
       "            <tr>\n",
       "                        <th id=\"T_5efef_level0_row20\" class=\"row_heading level0 row20\" >ponds_nearest</th>\n",
       "                        <td id=\"T_5efef_row20_col0\" class=\"data row20 col0\" >62.000000</td>\n",
       "            </tr>\n",
       "            <tr>\n",
       "                        <th id=\"T_5efef_level0_row21\" class=\"row_heading level0 row21\" >days_exposition</th>\n",
       "                        <td id=\"T_5efef_row21_col0\" class=\"data row21 col0\" >13.000000</td>\n",
       "            </tr>\n",
       "    </tbody></table>"
      ],
      "text/plain": [
       "<pandas.io.formats.style.Styler at 0x7fc9fae6ceb0>"
      ]
     },
     "execution_count": 4,
     "metadata": {},
     "output_type": "execute_result"
    }
   ],
   "source": [
    "pd.DataFrame(round(data.isna().mean()*100,)).style.background_gradient('coolwarm')"
   ]
  },
  {
   "cell_type": "markdown",
   "metadata": {},
   "source": [
    "Как мы видим, пропуски есть у ceiling_height - 39%, livin_area - 8%, is_apartment - 88%, kitchen_area - 10%, airports_nearest, cityCenters_nearest, parks_around3000, ponds_around3000 по 23%, ponds_nearest - 62%, days_exposition - 13%."
   ]
  },
  {
   "cell_type": "code",
   "execution_count": 5,
   "metadata": {},
   "outputs": [
    {
     "data": {
      "text/html": [
       "<div>\n",
       "<style scoped>\n",
       "    .dataframe tbody tr th:only-of-type {\n",
       "        vertical-align: middle;\n",
       "    }\n",
       "\n",
       "    .dataframe tbody tr th {\n",
       "        vertical-align: top;\n",
       "    }\n",
       "\n",
       "    .dataframe thead th {\n",
       "        text-align: right;\n",
       "    }\n",
       "</style>\n",
       "<table border=\"1\" class=\"dataframe\">\n",
       "  <thead>\n",
       "    <tr style=\"text-align: right;\">\n",
       "      <th></th>\n",
       "      <th>total_images</th>\n",
       "      <th>last_price</th>\n",
       "      <th>total_area</th>\n",
       "      <th>first_day_exposition</th>\n",
       "      <th>rooms</th>\n",
       "      <th>ceiling_height</th>\n",
       "      <th>floors_total</th>\n",
       "      <th>living_area</th>\n",
       "      <th>floor</th>\n",
       "      <th>is_apartment</th>\n",
       "      <th>...</th>\n",
       "      <th>kitchen_area</th>\n",
       "      <th>balcony</th>\n",
       "      <th>locality_name</th>\n",
       "      <th>airports_nearest</th>\n",
       "      <th>cityCenters_nearest</th>\n",
       "      <th>parks_around3000</th>\n",
       "      <th>parks_nearest</th>\n",
       "      <th>ponds_around3000</th>\n",
       "      <th>ponds_nearest</th>\n",
       "      <th>days_exposition</th>\n",
       "    </tr>\n",
       "  </thead>\n",
       "  <tbody>\n",
       "    <tr>\n",
       "      <th>1</th>\n",
       "      <td>7</td>\n",
       "      <td>3350000.0</td>\n",
       "      <td>40.4</td>\n",
       "      <td>2018-12-04</td>\n",
       "      <td>1</td>\n",
       "      <td>NaN</td>\n",
       "      <td>11.0</td>\n",
       "      <td>18.6</td>\n",
       "      <td>1</td>\n",
       "      <td>NaN</td>\n",
       "      <td>...</td>\n",
       "      <td>11.0</td>\n",
       "      <td>2.0</td>\n",
       "      <td>посёлок Шушары</td>\n",
       "      <td>12817.0</td>\n",
       "      <td>18603.0</td>\n",
       "      <td>0.0</td>\n",
       "      <td>NaN</td>\n",
       "      <td>0.0</td>\n",
       "      <td>NaN</td>\n",
       "      <td>81.0</td>\n",
       "    </tr>\n",
       "    <tr>\n",
       "      <th>2</th>\n",
       "      <td>10</td>\n",
       "      <td>5196000.0</td>\n",
       "      <td>56.0</td>\n",
       "      <td>2015-08-20</td>\n",
       "      <td>2</td>\n",
       "      <td>NaN</td>\n",
       "      <td>5.0</td>\n",
       "      <td>34.3</td>\n",
       "      <td>4</td>\n",
       "      <td>NaN</td>\n",
       "      <td>...</td>\n",
       "      <td>8.3</td>\n",
       "      <td>0.0</td>\n",
       "      <td>Санкт-Петербург</td>\n",
       "      <td>21741.0</td>\n",
       "      <td>13933.0</td>\n",
       "      <td>1.0</td>\n",
       "      <td>90.0</td>\n",
       "      <td>2.0</td>\n",
       "      <td>574.0</td>\n",
       "      <td>558.0</td>\n",
       "    </tr>\n",
       "    <tr>\n",
       "      <th>3</th>\n",
       "      <td>0</td>\n",
       "      <td>64900000.0</td>\n",
       "      <td>159.0</td>\n",
       "      <td>2015-07-24</td>\n",
       "      <td>3</td>\n",
       "      <td>NaN</td>\n",
       "      <td>14.0</td>\n",
       "      <td>NaN</td>\n",
       "      <td>9</td>\n",
       "      <td>NaN</td>\n",
       "      <td>...</td>\n",
       "      <td>NaN</td>\n",
       "      <td>0.0</td>\n",
       "      <td>Санкт-Петербург</td>\n",
       "      <td>28098.0</td>\n",
       "      <td>6800.0</td>\n",
       "      <td>2.0</td>\n",
       "      <td>84.0</td>\n",
       "      <td>3.0</td>\n",
       "      <td>234.0</td>\n",
       "      <td>424.0</td>\n",
       "    </tr>\n",
       "    <tr>\n",
       "      <th>5</th>\n",
       "      <td>10</td>\n",
       "      <td>2890000.0</td>\n",
       "      <td>30.4</td>\n",
       "      <td>2018-09-10</td>\n",
       "      <td>1</td>\n",
       "      <td>NaN</td>\n",
       "      <td>12.0</td>\n",
       "      <td>14.4</td>\n",
       "      <td>5</td>\n",
       "      <td>NaN</td>\n",
       "      <td>...</td>\n",
       "      <td>9.1</td>\n",
       "      <td>NaN</td>\n",
       "      <td>городской посёлок Янино-1</td>\n",
       "      <td>NaN</td>\n",
       "      <td>NaN</td>\n",
       "      <td>NaN</td>\n",
       "      <td>NaN</td>\n",
       "      <td>NaN</td>\n",
       "      <td>NaN</td>\n",
       "      <td>55.0</td>\n",
       "    </tr>\n",
       "    <tr>\n",
       "      <th>6</th>\n",
       "      <td>6</td>\n",
       "      <td>3700000.0</td>\n",
       "      <td>37.3</td>\n",
       "      <td>2017-11-02</td>\n",
       "      <td>1</td>\n",
       "      <td>NaN</td>\n",
       "      <td>26.0</td>\n",
       "      <td>10.6</td>\n",
       "      <td>6</td>\n",
       "      <td>NaN</td>\n",
       "      <td>...</td>\n",
       "      <td>14.4</td>\n",
       "      <td>1.0</td>\n",
       "      <td>посёлок Парголово</td>\n",
       "      <td>52996.0</td>\n",
       "      <td>19143.0</td>\n",
       "      <td>0.0</td>\n",
       "      <td>NaN</td>\n",
       "      <td>0.0</td>\n",
       "      <td>NaN</td>\n",
       "      <td>155.0</td>\n",
       "    </tr>\n",
       "    <tr>\n",
       "      <th>...</th>\n",
       "      <td>...</td>\n",
       "      <td>...</td>\n",
       "      <td>...</td>\n",
       "      <td>...</td>\n",
       "      <td>...</td>\n",
       "      <td>...</td>\n",
       "      <td>...</td>\n",
       "      <td>...</td>\n",
       "      <td>...</td>\n",
       "      <td>...</td>\n",
       "      <td>...</td>\n",
       "      <td>...</td>\n",
       "      <td>...</td>\n",
       "      <td>...</td>\n",
       "      <td>...</td>\n",
       "      <td>...</td>\n",
       "      <td>...</td>\n",
       "      <td>...</td>\n",
       "      <td>...</td>\n",
       "      <td>...</td>\n",
       "      <td>...</td>\n",
       "    </tr>\n",
       "    <tr>\n",
       "      <th>23687</th>\n",
       "      <td>6</td>\n",
       "      <td>3200000.0</td>\n",
       "      <td>39.0</td>\n",
       "      <td>2017-12-16</td>\n",
       "      <td>1</td>\n",
       "      <td>NaN</td>\n",
       "      <td>9.0</td>\n",
       "      <td>20.0</td>\n",
       "      <td>6</td>\n",
       "      <td>NaN</td>\n",
       "      <td>...</td>\n",
       "      <td>11.0</td>\n",
       "      <td>2.0</td>\n",
       "      <td>Санкт-Петербург</td>\n",
       "      <td>40837.0</td>\n",
       "      <td>16704.0</td>\n",
       "      <td>0.0</td>\n",
       "      <td>NaN</td>\n",
       "      <td>0.0</td>\n",
       "      <td>NaN</td>\n",
       "      <td>38.0</td>\n",
       "    </tr>\n",
       "    <tr>\n",
       "      <th>23690</th>\n",
       "      <td>3</td>\n",
       "      <td>5500000.0</td>\n",
       "      <td>52.0</td>\n",
       "      <td>2018-07-19</td>\n",
       "      <td>2</td>\n",
       "      <td>NaN</td>\n",
       "      <td>5.0</td>\n",
       "      <td>31.0</td>\n",
       "      <td>2</td>\n",
       "      <td>NaN</td>\n",
       "      <td>...</td>\n",
       "      <td>6.0</td>\n",
       "      <td>NaN</td>\n",
       "      <td>Санкт-Петербург</td>\n",
       "      <td>20151.0</td>\n",
       "      <td>6263.0</td>\n",
       "      <td>1.0</td>\n",
       "      <td>300.0</td>\n",
       "      <td>0.0</td>\n",
       "      <td>NaN</td>\n",
       "      <td>15.0</td>\n",
       "    </tr>\n",
       "    <tr>\n",
       "      <th>23692</th>\n",
       "      <td>2</td>\n",
       "      <td>1350000.0</td>\n",
       "      <td>30.0</td>\n",
       "      <td>2017-07-07</td>\n",
       "      <td>1</td>\n",
       "      <td>NaN</td>\n",
       "      <td>5.0</td>\n",
       "      <td>17.5</td>\n",
       "      <td>4</td>\n",
       "      <td>NaN</td>\n",
       "      <td>...</td>\n",
       "      <td>6.0</td>\n",
       "      <td>NaN</td>\n",
       "      <td>Тихвин</td>\n",
       "      <td>NaN</td>\n",
       "      <td>NaN</td>\n",
       "      <td>NaN</td>\n",
       "      <td>NaN</td>\n",
       "      <td>NaN</td>\n",
       "      <td>NaN</td>\n",
       "      <td>413.0</td>\n",
       "    </tr>\n",
       "    <tr>\n",
       "      <th>23695</th>\n",
       "      <td>14</td>\n",
       "      <td>3100000.0</td>\n",
       "      <td>59.0</td>\n",
       "      <td>2018-01-15</td>\n",
       "      <td>3</td>\n",
       "      <td>NaN</td>\n",
       "      <td>5.0</td>\n",
       "      <td>38.0</td>\n",
       "      <td>4</td>\n",
       "      <td>NaN</td>\n",
       "      <td>...</td>\n",
       "      <td>8.5</td>\n",
       "      <td>NaN</td>\n",
       "      <td>Тосно</td>\n",
       "      <td>NaN</td>\n",
       "      <td>NaN</td>\n",
       "      <td>NaN</td>\n",
       "      <td>NaN</td>\n",
       "      <td>NaN</td>\n",
       "      <td>NaN</td>\n",
       "      <td>45.0</td>\n",
       "    </tr>\n",
       "    <tr>\n",
       "      <th>23696</th>\n",
       "      <td>18</td>\n",
       "      <td>2500000.0</td>\n",
       "      <td>56.7</td>\n",
       "      <td>2018-02-11</td>\n",
       "      <td>2</td>\n",
       "      <td>NaN</td>\n",
       "      <td>3.0</td>\n",
       "      <td>29.7</td>\n",
       "      <td>1</td>\n",
       "      <td>NaN</td>\n",
       "      <td>...</td>\n",
       "      <td>NaN</td>\n",
       "      <td>NaN</td>\n",
       "      <td>село Рождествено</td>\n",
       "      <td>NaN</td>\n",
       "      <td>NaN</td>\n",
       "      <td>NaN</td>\n",
       "      <td>NaN</td>\n",
       "      <td>NaN</td>\n",
       "      <td>NaN</td>\n",
       "      <td>NaN</td>\n",
       "    </tr>\n",
       "  </tbody>\n",
       "</table>\n",
       "<p>9195 rows × 22 columns</p>\n",
       "</div>"
      ],
      "text/plain": [
       "       total_images  last_price  total_area first_day_exposition  rooms  \\\n",
       "1                 7   3350000.0        40.4           2018-12-04      1   \n",
       "2                10   5196000.0        56.0           2015-08-20      2   \n",
       "3                 0  64900000.0       159.0           2015-07-24      3   \n",
       "5                10   2890000.0        30.4           2018-09-10      1   \n",
       "6                 6   3700000.0        37.3           2017-11-02      1   \n",
       "...             ...         ...         ...                  ...    ...   \n",
       "23687             6   3200000.0        39.0           2017-12-16      1   \n",
       "23690             3   5500000.0        52.0           2018-07-19      2   \n",
       "23692             2   1350000.0        30.0           2017-07-07      1   \n",
       "23695            14   3100000.0        59.0           2018-01-15      3   \n",
       "23696            18   2500000.0        56.7           2018-02-11      2   \n",
       "\n",
       "       ceiling_height  floors_total  living_area  floor is_apartment  ...  \\\n",
       "1                 NaN          11.0         18.6      1          NaN  ...   \n",
       "2                 NaN           5.0         34.3      4          NaN  ...   \n",
       "3                 NaN          14.0          NaN      9          NaN  ...   \n",
       "5                 NaN          12.0         14.4      5          NaN  ...   \n",
       "6                 NaN          26.0         10.6      6          NaN  ...   \n",
       "...               ...           ...          ...    ...          ...  ...   \n",
       "23687             NaN           9.0         20.0      6          NaN  ...   \n",
       "23690             NaN           5.0         31.0      2          NaN  ...   \n",
       "23692             NaN           5.0         17.5      4          NaN  ...   \n",
       "23695             NaN           5.0         38.0      4          NaN  ...   \n",
       "23696             NaN           3.0         29.7      1          NaN  ...   \n",
       "\n",
       "       kitchen_area  balcony              locality_name  airports_nearest  \\\n",
       "1              11.0      2.0             посёлок Шушары           12817.0   \n",
       "2               8.3      0.0            Санкт-Петербург           21741.0   \n",
       "3               NaN      0.0            Санкт-Петербург           28098.0   \n",
       "5               9.1      NaN  городской посёлок Янино-1               NaN   \n",
       "6              14.4      1.0          посёлок Парголово           52996.0   \n",
       "...             ...      ...                        ...               ...   \n",
       "23687          11.0      2.0            Санкт-Петербург           40837.0   \n",
       "23690           6.0      NaN            Санкт-Петербург           20151.0   \n",
       "23692           6.0      NaN                     Тихвин               NaN   \n",
       "23695           8.5      NaN                      Тосно               NaN   \n",
       "23696           NaN      NaN           село Рождествено               NaN   \n",
       "\n",
       "      cityCenters_nearest  parks_around3000  parks_nearest  ponds_around3000  \\\n",
       "1                 18603.0               0.0            NaN               0.0   \n",
       "2                 13933.0               1.0           90.0               2.0   \n",
       "3                  6800.0               2.0           84.0               3.0   \n",
       "5                     NaN               NaN            NaN               NaN   \n",
       "6                 19143.0               0.0            NaN               0.0   \n",
       "...                   ...               ...            ...               ...   \n",
       "23687             16704.0               0.0            NaN               0.0   \n",
       "23690              6263.0               1.0          300.0               0.0   \n",
       "23692                 NaN               NaN            NaN               NaN   \n",
       "23695                 NaN               NaN            NaN               NaN   \n",
       "23696                 NaN               NaN            NaN               NaN   \n",
       "\n",
       "       ponds_nearest  days_exposition  \n",
       "1                NaN             81.0  \n",
       "2              574.0            558.0  \n",
       "3              234.0            424.0  \n",
       "5                NaN             55.0  \n",
       "6                NaN            155.0  \n",
       "...              ...              ...  \n",
       "23687            NaN             38.0  \n",
       "23690            NaN             15.0  \n",
       "23692            NaN            413.0  \n",
       "23695            NaN             45.0  \n",
       "23696            NaN              NaN  \n",
       "\n",
       "[9195 rows x 22 columns]"
      ]
     },
     "metadata": {},
     "output_type": "display_data"
    }
   ],
   "source": [
    "display(data[data['ceiling_height'].isna()])"
   ]
  },
  {
   "cell_type": "markdown",
   "metadata": {},
   "source": [
    "У 9195 объявлений не указана высота потолка, видимо продавцы из-за незнания пропускают."
   ]
  },
  {
   "cell_type": "code",
   "execution_count": 6,
   "metadata": {},
   "outputs": [
    {
     "data": {
      "text/html": [
       "<div>\n",
       "<style scoped>\n",
       "    .dataframe tbody tr th:only-of-type {\n",
       "        vertical-align: middle;\n",
       "    }\n",
       "\n",
       "    .dataframe tbody tr th {\n",
       "        vertical-align: top;\n",
       "    }\n",
       "\n",
       "    .dataframe thead th {\n",
       "        text-align: right;\n",
       "    }\n",
       "</style>\n",
       "<table border=\"1\" class=\"dataframe\">\n",
       "  <thead>\n",
       "    <tr style=\"text-align: right;\">\n",
       "      <th></th>\n",
       "      <th>total_images</th>\n",
       "      <th>last_price</th>\n",
       "      <th>total_area</th>\n",
       "      <th>first_day_exposition</th>\n",
       "      <th>rooms</th>\n",
       "      <th>ceiling_height</th>\n",
       "      <th>floors_total</th>\n",
       "      <th>living_area</th>\n",
       "      <th>floor</th>\n",
       "      <th>is_apartment</th>\n",
       "      <th>...</th>\n",
       "      <th>kitchen_area</th>\n",
       "      <th>balcony</th>\n",
       "      <th>locality_name</th>\n",
       "      <th>airports_nearest</th>\n",
       "      <th>cityCenters_nearest</th>\n",
       "      <th>parks_around3000</th>\n",
       "      <th>parks_nearest</th>\n",
       "      <th>ponds_around3000</th>\n",
       "      <th>ponds_nearest</th>\n",
       "      <th>days_exposition</th>\n",
       "    </tr>\n",
       "  </thead>\n",
       "  <tbody>\n",
       "    <tr>\n",
       "      <th>186</th>\n",
       "      <td>12</td>\n",
       "      <td>11640000.0</td>\n",
       "      <td>65.2</td>\n",
       "      <td>2018-10-02</td>\n",
       "      <td>2</td>\n",
       "      <td>NaN</td>\n",
       "      <td>NaN</td>\n",
       "      <td>30.80</td>\n",
       "      <td>4</td>\n",
       "      <td>NaN</td>\n",
       "      <td>...</td>\n",
       "      <td>12.00</td>\n",
       "      <td>NaN</td>\n",
       "      <td>Санкт-Петербург</td>\n",
       "      <td>39197.0</td>\n",
       "      <td>12373.0</td>\n",
       "      <td>1.0</td>\n",
       "      <td>123.0</td>\n",
       "      <td>0.0</td>\n",
       "      <td>NaN</td>\n",
       "      <td>49.0</td>\n",
       "    </tr>\n",
       "    <tr>\n",
       "      <th>237</th>\n",
       "      <td>4</td>\n",
       "      <td>2438033.0</td>\n",
       "      <td>28.1</td>\n",
       "      <td>2016-11-23</td>\n",
       "      <td>1</td>\n",
       "      <td>NaN</td>\n",
       "      <td>NaN</td>\n",
       "      <td>20.75</td>\n",
       "      <td>1</td>\n",
       "      <td>NaN</td>\n",
       "      <td>...</td>\n",
       "      <td>NaN</td>\n",
       "      <td>0.0</td>\n",
       "      <td>Санкт-Петербург</td>\n",
       "      <td>22041.0</td>\n",
       "      <td>17369.0</td>\n",
       "      <td>0.0</td>\n",
       "      <td>NaN</td>\n",
       "      <td>1.0</td>\n",
       "      <td>374.0</td>\n",
       "      <td>251.0</td>\n",
       "    </tr>\n",
       "    <tr>\n",
       "      <th>457</th>\n",
       "      <td>4</td>\n",
       "      <td>9788348.0</td>\n",
       "      <td>70.8</td>\n",
       "      <td>2015-08-01</td>\n",
       "      <td>2</td>\n",
       "      <td>NaN</td>\n",
       "      <td>NaN</td>\n",
       "      <td>38.40</td>\n",
       "      <td>12</td>\n",
       "      <td>NaN</td>\n",
       "      <td>...</td>\n",
       "      <td>10.63</td>\n",
       "      <td>0.0</td>\n",
       "      <td>Санкт-Петербург</td>\n",
       "      <td>37364.0</td>\n",
       "      <td>8322.0</td>\n",
       "      <td>2.0</td>\n",
       "      <td>309.0</td>\n",
       "      <td>2.0</td>\n",
       "      <td>706.0</td>\n",
       "      <td>727.0</td>\n",
       "    </tr>\n",
       "    <tr>\n",
       "      <th>671</th>\n",
       "      <td>4</td>\n",
       "      <td>6051191.0</td>\n",
       "      <td>93.6</td>\n",
       "      <td>2017-04-06</td>\n",
       "      <td>3</td>\n",
       "      <td>NaN</td>\n",
       "      <td>NaN</td>\n",
       "      <td>47.10</td>\n",
       "      <td>8</td>\n",
       "      <td>NaN</td>\n",
       "      <td>...</td>\n",
       "      <td>16.80</td>\n",
       "      <td>0.0</td>\n",
       "      <td>Санкт-Петербург</td>\n",
       "      <td>22041.0</td>\n",
       "      <td>17369.0</td>\n",
       "      <td>0.0</td>\n",
       "      <td>NaN</td>\n",
       "      <td>1.0</td>\n",
       "      <td>374.0</td>\n",
       "      <td>123.0</td>\n",
       "    </tr>\n",
       "    <tr>\n",
       "      <th>1757</th>\n",
       "      <td>5</td>\n",
       "      <td>3600000.0</td>\n",
       "      <td>39.0</td>\n",
       "      <td>2017-04-22</td>\n",
       "      <td>1</td>\n",
       "      <td>NaN</td>\n",
       "      <td>NaN</td>\n",
       "      <td>NaN</td>\n",
       "      <td>9</td>\n",
       "      <td>NaN</td>\n",
       "      <td>...</td>\n",
       "      <td>NaN</td>\n",
       "      <td>0.0</td>\n",
       "      <td>Санкт-Петербург</td>\n",
       "      <td>22735.0</td>\n",
       "      <td>11618.0</td>\n",
       "      <td>1.0</td>\n",
       "      <td>835.0</td>\n",
       "      <td>1.0</td>\n",
       "      <td>652.0</td>\n",
       "      <td>77.0</td>\n",
       "    </tr>\n",
       "    <tr>\n",
       "      <th>...</th>\n",
       "      <td>...</td>\n",
       "      <td>...</td>\n",
       "      <td>...</td>\n",
       "      <td>...</td>\n",
       "      <td>...</td>\n",
       "      <td>...</td>\n",
       "      <td>...</td>\n",
       "      <td>...</td>\n",
       "      <td>...</td>\n",
       "      <td>...</td>\n",
       "      <td>...</td>\n",
       "      <td>...</td>\n",
       "      <td>...</td>\n",
       "      <td>...</td>\n",
       "      <td>...</td>\n",
       "      <td>...</td>\n",
       "      <td>...</td>\n",
       "      <td>...</td>\n",
       "      <td>...</td>\n",
       "      <td>...</td>\n",
       "      <td>...</td>\n",
       "    </tr>\n",
       "    <tr>\n",
       "      <th>22542</th>\n",
       "      <td>5</td>\n",
       "      <td>8500000.0</td>\n",
       "      <td>63.5</td>\n",
       "      <td>2017-05-24</td>\n",
       "      <td>2</td>\n",
       "      <td>2.8</td>\n",
       "      <td>NaN</td>\n",
       "      <td>NaN</td>\n",
       "      <td>3</td>\n",
       "      <td>NaN</td>\n",
       "      <td>...</td>\n",
       "      <td>NaN</td>\n",
       "      <td>NaN</td>\n",
       "      <td>Санкт-Петербург</td>\n",
       "      <td>51340.0</td>\n",
       "      <td>15363.0</td>\n",
       "      <td>0.0</td>\n",
       "      <td>NaN</td>\n",
       "      <td>1.0</td>\n",
       "      <td>853.0</td>\n",
       "      <td>512.0</td>\n",
       "    </tr>\n",
       "    <tr>\n",
       "      <th>22656</th>\n",
       "      <td>4</td>\n",
       "      <td>4574160.0</td>\n",
       "      <td>64.5</td>\n",
       "      <td>2017-04-02</td>\n",
       "      <td>2</td>\n",
       "      <td>NaN</td>\n",
       "      <td>NaN</td>\n",
       "      <td>31.70</td>\n",
       "      <td>20</td>\n",
       "      <td>NaN</td>\n",
       "      <td>...</td>\n",
       "      <td>14.40</td>\n",
       "      <td>0.0</td>\n",
       "      <td>Санкт-Петербург</td>\n",
       "      <td>22041.0</td>\n",
       "      <td>17369.0</td>\n",
       "      <td>0.0</td>\n",
       "      <td>NaN</td>\n",
       "      <td>1.0</td>\n",
       "      <td>374.0</td>\n",
       "      <td>127.0</td>\n",
       "    </tr>\n",
       "    <tr>\n",
       "      <th>22808</th>\n",
       "      <td>0</td>\n",
       "      <td>14569263.0</td>\n",
       "      <td>110.4</td>\n",
       "      <td>2016-11-20</td>\n",
       "      <td>3</td>\n",
       "      <td>NaN</td>\n",
       "      <td>NaN</td>\n",
       "      <td>45.38</td>\n",
       "      <td>6</td>\n",
       "      <td>NaN</td>\n",
       "      <td>...</td>\n",
       "      <td>23.42</td>\n",
       "      <td>0.0</td>\n",
       "      <td>Санкт-Петербург</td>\n",
       "      <td>19095.0</td>\n",
       "      <td>4529.0</td>\n",
       "      <td>0.0</td>\n",
       "      <td>NaN</td>\n",
       "      <td>0.0</td>\n",
       "      <td>NaN</td>\n",
       "      <td>260.0</td>\n",
       "    </tr>\n",
       "    <tr>\n",
       "      <th>23590</th>\n",
       "      <td>0</td>\n",
       "      <td>21187872.0</td>\n",
       "      <td>123.3</td>\n",
       "      <td>2017-04-25</td>\n",
       "      <td>3</td>\n",
       "      <td>NaN</td>\n",
       "      <td>NaN</td>\n",
       "      <td>50.40</td>\n",
       "      <td>18</td>\n",
       "      <td>NaN</td>\n",
       "      <td>...</td>\n",
       "      <td>23.60</td>\n",
       "      <td>0.0</td>\n",
       "      <td>Санкт-Петербург</td>\n",
       "      <td>19095.0</td>\n",
       "      <td>4529.0</td>\n",
       "      <td>0.0</td>\n",
       "      <td>NaN</td>\n",
       "      <td>0.0</td>\n",
       "      <td>NaN</td>\n",
       "      <td>104.0</td>\n",
       "    </tr>\n",
       "    <tr>\n",
       "      <th>23658</th>\n",
       "      <td>6</td>\n",
       "      <td>3063600.0</td>\n",
       "      <td>43.8</td>\n",
       "      <td>2016-11-28</td>\n",
       "      <td>1</td>\n",
       "      <td>2.7</td>\n",
       "      <td>NaN</td>\n",
       "      <td>14.00</td>\n",
       "      <td>8</td>\n",
       "      <td>NaN</td>\n",
       "      <td>...</td>\n",
       "      <td>15.50</td>\n",
       "      <td>2.0</td>\n",
       "      <td>Санкт-Петербург</td>\n",
       "      <td>8426.0</td>\n",
       "      <td>12082.0</td>\n",
       "      <td>2.0</td>\n",
       "      <td>24.0</td>\n",
       "      <td>1.0</td>\n",
       "      <td>271.0</td>\n",
       "      <td>246.0</td>\n",
       "    </tr>\n",
       "  </tbody>\n",
       "</table>\n",
       "<p>86 rows × 22 columns</p>\n",
       "</div>"
      ],
      "text/plain": [
       "       total_images  last_price  total_area first_day_exposition  rooms  \\\n",
       "186              12  11640000.0        65.2           2018-10-02      2   \n",
       "237               4   2438033.0        28.1           2016-11-23      1   \n",
       "457               4   9788348.0        70.8           2015-08-01      2   \n",
       "671               4   6051191.0        93.6           2017-04-06      3   \n",
       "1757              5   3600000.0        39.0           2017-04-22      1   \n",
       "...             ...         ...         ...                  ...    ...   \n",
       "22542             5   8500000.0        63.5           2017-05-24      2   \n",
       "22656             4   4574160.0        64.5           2017-04-02      2   \n",
       "22808             0  14569263.0       110.4           2016-11-20      3   \n",
       "23590             0  21187872.0       123.3           2017-04-25      3   \n",
       "23658             6   3063600.0        43.8           2016-11-28      1   \n",
       "\n",
       "       ceiling_height  floors_total  living_area  floor is_apartment  ...  \\\n",
       "186               NaN           NaN        30.80      4          NaN  ...   \n",
       "237               NaN           NaN        20.75      1          NaN  ...   \n",
       "457               NaN           NaN        38.40     12          NaN  ...   \n",
       "671               NaN           NaN        47.10      8          NaN  ...   \n",
       "1757              NaN           NaN          NaN      9          NaN  ...   \n",
       "...               ...           ...          ...    ...          ...  ...   \n",
       "22542             2.8           NaN          NaN      3          NaN  ...   \n",
       "22656             NaN           NaN        31.70     20          NaN  ...   \n",
       "22808             NaN           NaN        45.38      6          NaN  ...   \n",
       "23590             NaN           NaN        50.40     18          NaN  ...   \n",
       "23658             2.7           NaN        14.00      8          NaN  ...   \n",
       "\n",
       "       kitchen_area  balcony    locality_name  airports_nearest  \\\n",
       "186           12.00      NaN  Санкт-Петербург           39197.0   \n",
       "237             NaN      0.0  Санкт-Петербург           22041.0   \n",
       "457           10.63      0.0  Санкт-Петербург           37364.0   \n",
       "671           16.80      0.0  Санкт-Петербург           22041.0   \n",
       "1757            NaN      0.0  Санкт-Петербург           22735.0   \n",
       "...             ...      ...              ...               ...   \n",
       "22542           NaN      NaN  Санкт-Петербург           51340.0   \n",
       "22656         14.40      0.0  Санкт-Петербург           22041.0   \n",
       "22808         23.42      0.0  Санкт-Петербург           19095.0   \n",
       "23590         23.60      0.0  Санкт-Петербург           19095.0   \n",
       "23658         15.50      2.0  Санкт-Петербург            8426.0   \n",
       "\n",
       "      cityCenters_nearest  parks_around3000  parks_nearest  ponds_around3000  \\\n",
       "186               12373.0               1.0          123.0               0.0   \n",
       "237               17369.0               0.0            NaN               1.0   \n",
       "457                8322.0               2.0          309.0               2.0   \n",
       "671               17369.0               0.0            NaN               1.0   \n",
       "1757              11618.0               1.0          835.0               1.0   \n",
       "...                   ...               ...            ...               ...   \n",
       "22542             15363.0               0.0            NaN               1.0   \n",
       "22656             17369.0               0.0            NaN               1.0   \n",
       "22808              4529.0               0.0            NaN               0.0   \n",
       "23590              4529.0               0.0            NaN               0.0   \n",
       "23658             12082.0               2.0           24.0               1.0   \n",
       "\n",
       "       ponds_nearest  days_exposition  \n",
       "186              NaN             49.0  \n",
       "237            374.0            251.0  \n",
       "457            706.0            727.0  \n",
       "671            374.0            123.0  \n",
       "1757           652.0             77.0  \n",
       "...              ...              ...  \n",
       "22542          853.0            512.0  \n",
       "22656          374.0            127.0  \n",
       "22808            NaN            260.0  \n",
       "23590            NaN            104.0  \n",
       "23658          271.0            246.0  \n",
       "\n",
       "[86 rows x 22 columns]"
      ]
     },
     "metadata": {},
     "output_type": "display_data"
    }
   ],
   "source": [
    "display(data[data['floors_total'].isna()])"
   ]
  },
  {
   "cell_type": "markdown",
   "metadata": {},
   "source": [
    "У 86 объявлений не указана этажность дома. Мне кажется это важный параметр, т.к. людям важно знать, что недвижимость не на первом и не на последнем этажах."
   ]
  },
  {
   "cell_type": "code",
   "execution_count": 7,
   "metadata": {},
   "outputs": [
    {
     "data": {
      "text/html": [
       "<div>\n",
       "<style scoped>\n",
       "    .dataframe tbody tr th:only-of-type {\n",
       "        vertical-align: middle;\n",
       "    }\n",
       "\n",
       "    .dataframe tbody tr th {\n",
       "        vertical-align: top;\n",
       "    }\n",
       "\n",
       "    .dataframe thead th {\n",
       "        text-align: right;\n",
       "    }\n",
       "</style>\n",
       "<table border=\"1\" class=\"dataframe\">\n",
       "  <thead>\n",
       "    <tr style=\"text-align: right;\">\n",
       "      <th></th>\n",
       "      <th>total_images</th>\n",
       "      <th>last_price</th>\n",
       "      <th>total_area</th>\n",
       "      <th>first_day_exposition</th>\n",
       "      <th>rooms</th>\n",
       "      <th>ceiling_height</th>\n",
       "      <th>floors_total</th>\n",
       "      <th>living_area</th>\n",
       "      <th>floor</th>\n",
       "      <th>is_apartment</th>\n",
       "      <th>...</th>\n",
       "      <th>kitchen_area</th>\n",
       "      <th>balcony</th>\n",
       "      <th>locality_name</th>\n",
       "      <th>airports_nearest</th>\n",
       "      <th>cityCenters_nearest</th>\n",
       "      <th>parks_around3000</th>\n",
       "      <th>parks_nearest</th>\n",
       "      <th>ponds_around3000</th>\n",
       "      <th>ponds_nearest</th>\n",
       "      <th>days_exposition</th>\n",
       "    </tr>\n",
       "  </thead>\n",
       "  <tbody>\n",
       "    <tr>\n",
       "      <th>3</th>\n",
       "      <td>0</td>\n",
       "      <td>64900000.0</td>\n",
       "      <td>159.00</td>\n",
       "      <td>2015-07-24</td>\n",
       "      <td>3</td>\n",
       "      <td>NaN</td>\n",
       "      <td>14.0</td>\n",
       "      <td>NaN</td>\n",
       "      <td>9</td>\n",
       "      <td>NaN</td>\n",
       "      <td>...</td>\n",
       "      <td>NaN</td>\n",
       "      <td>0.0</td>\n",
       "      <td>Санкт-Петербург</td>\n",
       "      <td>28098.0</td>\n",
       "      <td>6800.0</td>\n",
       "      <td>2.0</td>\n",
       "      <td>84.0</td>\n",
       "      <td>3.0</td>\n",
       "      <td>234.0</td>\n",
       "      <td>424.0</td>\n",
       "    </tr>\n",
       "    <tr>\n",
       "      <th>7</th>\n",
       "      <td>5</td>\n",
       "      <td>7915000.0</td>\n",
       "      <td>71.60</td>\n",
       "      <td>2019-04-18</td>\n",
       "      <td>2</td>\n",
       "      <td>NaN</td>\n",
       "      <td>24.0</td>\n",
       "      <td>NaN</td>\n",
       "      <td>22</td>\n",
       "      <td>NaN</td>\n",
       "      <td>...</td>\n",
       "      <td>18.9</td>\n",
       "      <td>2.0</td>\n",
       "      <td>Санкт-Петербург</td>\n",
       "      <td>23982.0</td>\n",
       "      <td>11634.0</td>\n",
       "      <td>0.0</td>\n",
       "      <td>NaN</td>\n",
       "      <td>0.0</td>\n",
       "      <td>NaN</td>\n",
       "      <td>NaN</td>\n",
       "    </tr>\n",
       "    <tr>\n",
       "      <th>30</th>\n",
       "      <td>12</td>\n",
       "      <td>2200000.0</td>\n",
       "      <td>32.80</td>\n",
       "      <td>2018-02-19</td>\n",
       "      <td>1</td>\n",
       "      <td>NaN</td>\n",
       "      <td>9.0</td>\n",
       "      <td>NaN</td>\n",
       "      <td>2</td>\n",
       "      <td>NaN</td>\n",
       "      <td>...</td>\n",
       "      <td>NaN</td>\n",
       "      <td>NaN</td>\n",
       "      <td>Коммунар</td>\n",
       "      <td>NaN</td>\n",
       "      <td>NaN</td>\n",
       "      <td>NaN</td>\n",
       "      <td>NaN</td>\n",
       "      <td>NaN</td>\n",
       "      <td>NaN</td>\n",
       "      <td>63.0</td>\n",
       "    </tr>\n",
       "    <tr>\n",
       "      <th>37</th>\n",
       "      <td>10</td>\n",
       "      <td>1990000.0</td>\n",
       "      <td>45.80</td>\n",
       "      <td>2017-10-28</td>\n",
       "      <td>2</td>\n",
       "      <td>2.50</td>\n",
       "      <td>5.0</td>\n",
       "      <td>NaN</td>\n",
       "      <td>1</td>\n",
       "      <td>NaN</td>\n",
       "      <td>...</td>\n",
       "      <td>NaN</td>\n",
       "      <td>NaN</td>\n",
       "      <td>поселок городского типа Красный Бор</td>\n",
       "      <td>NaN</td>\n",
       "      <td>NaN</td>\n",
       "      <td>NaN</td>\n",
       "      <td>NaN</td>\n",
       "      <td>NaN</td>\n",
       "      <td>NaN</td>\n",
       "      <td>196.0</td>\n",
       "    </tr>\n",
       "    <tr>\n",
       "      <th>44</th>\n",
       "      <td>13</td>\n",
       "      <td>5350000.0</td>\n",
       "      <td>40.00</td>\n",
       "      <td>2018-11-18</td>\n",
       "      <td>1</td>\n",
       "      <td>NaN</td>\n",
       "      <td>22.0</td>\n",
       "      <td>NaN</td>\n",
       "      <td>3</td>\n",
       "      <td>NaN</td>\n",
       "      <td>...</td>\n",
       "      <td>NaN</td>\n",
       "      <td>1.0</td>\n",
       "      <td>Санкт-Петербург</td>\n",
       "      <td>30471.0</td>\n",
       "      <td>11603.0</td>\n",
       "      <td>1.0</td>\n",
       "      <td>620.0</td>\n",
       "      <td>1.0</td>\n",
       "      <td>1152.0</td>\n",
       "      <td>NaN</td>\n",
       "    </tr>\n",
       "    <tr>\n",
       "      <th>...</th>\n",
       "      <td>...</td>\n",
       "      <td>...</td>\n",
       "      <td>...</td>\n",
       "      <td>...</td>\n",
       "      <td>...</td>\n",
       "      <td>...</td>\n",
       "      <td>...</td>\n",
       "      <td>...</td>\n",
       "      <td>...</td>\n",
       "      <td>...</td>\n",
       "      <td>...</td>\n",
       "      <td>...</td>\n",
       "      <td>...</td>\n",
       "      <td>...</td>\n",
       "      <td>...</td>\n",
       "      <td>...</td>\n",
       "      <td>...</td>\n",
       "      <td>...</td>\n",
       "      <td>...</td>\n",
       "      <td>...</td>\n",
       "      <td>...</td>\n",
       "    </tr>\n",
       "    <tr>\n",
       "      <th>23642</th>\n",
       "      <td>14</td>\n",
       "      <td>5950000.0</td>\n",
       "      <td>80.30</td>\n",
       "      <td>2018-07-03</td>\n",
       "      <td>3</td>\n",
       "      <td>2.70</td>\n",
       "      <td>12.0</td>\n",
       "      <td>NaN</td>\n",
       "      <td>5</td>\n",
       "      <td>NaN</td>\n",
       "      <td>...</td>\n",
       "      <td>NaN</td>\n",
       "      <td>NaN</td>\n",
       "      <td>Колпино</td>\n",
       "      <td>27933.0</td>\n",
       "      <td>33719.0</td>\n",
       "      <td>0.0</td>\n",
       "      <td>NaN</td>\n",
       "      <td>2.0</td>\n",
       "      <td>562.0</td>\n",
       "      <td>60.0</td>\n",
       "    </tr>\n",
       "    <tr>\n",
       "      <th>23663</th>\n",
       "      <td>12</td>\n",
       "      <td>6400000.0</td>\n",
       "      <td>88.00</td>\n",
       "      <td>2018-01-12</td>\n",
       "      <td>4</td>\n",
       "      <td>2.55</td>\n",
       "      <td>10.0</td>\n",
       "      <td>NaN</td>\n",
       "      <td>1</td>\n",
       "      <td>NaN</td>\n",
       "      <td>...</td>\n",
       "      <td>NaN</td>\n",
       "      <td>NaN</td>\n",
       "      <td>Санкт-Петербург</td>\n",
       "      <td>33642.0</td>\n",
       "      <td>13943.0</td>\n",
       "      <td>0.0</td>\n",
       "      <td>NaN</td>\n",
       "      <td>2.0</td>\n",
       "      <td>844.0</td>\n",
       "      <td>59.0</td>\n",
       "    </tr>\n",
       "    <tr>\n",
       "      <th>23670</th>\n",
       "      <td>9</td>\n",
       "      <td>2450000.0</td>\n",
       "      <td>45.60</td>\n",
       "      <td>2018-02-08</td>\n",
       "      <td>1</td>\n",
       "      <td>2.80</td>\n",
       "      <td>9.0</td>\n",
       "      <td>NaN</td>\n",
       "      <td>2</td>\n",
       "      <td>NaN</td>\n",
       "      <td>...</td>\n",
       "      <td>NaN</td>\n",
       "      <td>NaN</td>\n",
       "      <td>поселок городского типа Синявино</td>\n",
       "      <td>NaN</td>\n",
       "      <td>NaN</td>\n",
       "      <td>NaN</td>\n",
       "      <td>NaN</td>\n",
       "      <td>NaN</td>\n",
       "      <td>NaN</td>\n",
       "      <td>45.0</td>\n",
       "    </tr>\n",
       "    <tr>\n",
       "      <th>23679</th>\n",
       "      <td>0</td>\n",
       "      <td>2500000.0</td>\n",
       "      <td>35.00</td>\n",
       "      <td>2017-12-08</td>\n",
       "      <td>1</td>\n",
       "      <td>NaN</td>\n",
       "      <td>9.0</td>\n",
       "      <td>NaN</td>\n",
       "      <td>4</td>\n",
       "      <td>NaN</td>\n",
       "      <td>...</td>\n",
       "      <td>NaN</td>\n",
       "      <td>NaN</td>\n",
       "      <td>Сосновый Бор</td>\n",
       "      <td>NaN</td>\n",
       "      <td>NaN</td>\n",
       "      <td>NaN</td>\n",
       "      <td>NaN</td>\n",
       "      <td>NaN</td>\n",
       "      <td>NaN</td>\n",
       "      <td>45.0</td>\n",
       "    </tr>\n",
       "    <tr>\n",
       "      <th>23697</th>\n",
       "      <td>13</td>\n",
       "      <td>11475000.0</td>\n",
       "      <td>76.75</td>\n",
       "      <td>2017-03-28</td>\n",
       "      <td>2</td>\n",
       "      <td>3.00</td>\n",
       "      <td>17.0</td>\n",
       "      <td>NaN</td>\n",
       "      <td>12</td>\n",
       "      <td>NaN</td>\n",
       "      <td>...</td>\n",
       "      <td>23.3</td>\n",
       "      <td>2.0</td>\n",
       "      <td>Санкт-Петербург</td>\n",
       "      <td>39140.0</td>\n",
       "      <td>10364.0</td>\n",
       "      <td>2.0</td>\n",
       "      <td>173.0</td>\n",
       "      <td>3.0</td>\n",
       "      <td>196.0</td>\n",
       "      <td>602.0</td>\n",
       "    </tr>\n",
       "  </tbody>\n",
       "</table>\n",
       "<p>1903 rows × 22 columns</p>\n",
       "</div>"
      ],
      "text/plain": [
       "       total_images  last_price  total_area first_day_exposition  rooms  \\\n",
       "3                 0  64900000.0      159.00           2015-07-24      3   \n",
       "7                 5   7915000.0       71.60           2019-04-18      2   \n",
       "30               12   2200000.0       32.80           2018-02-19      1   \n",
       "37               10   1990000.0       45.80           2017-10-28      2   \n",
       "44               13   5350000.0       40.00           2018-11-18      1   \n",
       "...             ...         ...         ...                  ...    ...   \n",
       "23642            14   5950000.0       80.30           2018-07-03      3   \n",
       "23663            12   6400000.0       88.00           2018-01-12      4   \n",
       "23670             9   2450000.0       45.60           2018-02-08      1   \n",
       "23679             0   2500000.0       35.00           2017-12-08      1   \n",
       "23697            13  11475000.0       76.75           2017-03-28      2   \n",
       "\n",
       "       ceiling_height  floors_total  living_area  floor is_apartment  ...  \\\n",
       "3                 NaN          14.0          NaN      9          NaN  ...   \n",
       "7                 NaN          24.0          NaN     22          NaN  ...   \n",
       "30                NaN           9.0          NaN      2          NaN  ...   \n",
       "37               2.50           5.0          NaN      1          NaN  ...   \n",
       "44                NaN          22.0          NaN      3          NaN  ...   \n",
       "...               ...           ...          ...    ...          ...  ...   \n",
       "23642            2.70          12.0          NaN      5          NaN  ...   \n",
       "23663            2.55          10.0          NaN      1          NaN  ...   \n",
       "23670            2.80           9.0          NaN      2          NaN  ...   \n",
       "23679             NaN           9.0          NaN      4          NaN  ...   \n",
       "23697            3.00          17.0          NaN     12          NaN  ...   \n",
       "\n",
       "       kitchen_area  balcony                        locality_name  \\\n",
       "3               NaN      0.0                      Санкт-Петербург   \n",
       "7              18.9      2.0                      Санкт-Петербург   \n",
       "30              NaN      NaN                             Коммунар   \n",
       "37              NaN      NaN  поселок городского типа Красный Бор   \n",
       "44              NaN      1.0                      Санкт-Петербург   \n",
       "...             ...      ...                                  ...   \n",
       "23642           NaN      NaN                              Колпино   \n",
       "23663           NaN      NaN                      Санкт-Петербург   \n",
       "23670           NaN      NaN     поселок городского типа Синявино   \n",
       "23679           NaN      NaN                         Сосновый Бор   \n",
       "23697          23.3      2.0                      Санкт-Петербург   \n",
       "\n",
       "       airports_nearest cityCenters_nearest  parks_around3000  parks_nearest  \\\n",
       "3               28098.0              6800.0               2.0           84.0   \n",
       "7               23982.0             11634.0               0.0            NaN   \n",
       "30                  NaN                 NaN               NaN            NaN   \n",
       "37                  NaN                 NaN               NaN            NaN   \n",
       "44              30471.0             11603.0               1.0          620.0   \n",
       "...                 ...                 ...               ...            ...   \n",
       "23642           27933.0             33719.0               0.0            NaN   \n",
       "23663           33642.0             13943.0               0.0            NaN   \n",
       "23670               NaN                 NaN               NaN            NaN   \n",
       "23679               NaN                 NaN               NaN            NaN   \n",
       "23697           39140.0             10364.0               2.0          173.0   \n",
       "\n",
       "       ponds_around3000  ponds_nearest  days_exposition  \n",
       "3                   3.0          234.0            424.0  \n",
       "7                   0.0            NaN              NaN  \n",
       "30                  NaN            NaN             63.0  \n",
       "37                  NaN            NaN            196.0  \n",
       "44                  1.0         1152.0              NaN  \n",
       "...                 ...            ...              ...  \n",
       "23642               2.0          562.0             60.0  \n",
       "23663               2.0          844.0             59.0  \n",
       "23670               NaN            NaN             45.0  \n",
       "23679               NaN            NaN             45.0  \n",
       "23697               3.0          196.0            602.0  \n",
       "\n",
       "[1903 rows x 22 columns]"
      ]
     },
     "metadata": {},
     "output_type": "display_data"
    }
   ],
   "source": [
    "display(data[data['living_area'].isna()]) "
   ]
  },
  {
   "cell_type": "markdown",
   "metadata": {},
   "source": [
    "У 1903 объявлений отсутствуют значения жилой площади."
   ]
  },
  {
   "cell_type": "code",
   "execution_count": 8,
   "metadata": {},
   "outputs": [
    {
     "data": {
      "text/html": [
       "<div>\n",
       "<style scoped>\n",
       "    .dataframe tbody tr th:only-of-type {\n",
       "        vertical-align: middle;\n",
       "    }\n",
       "\n",
       "    .dataframe tbody tr th {\n",
       "        vertical-align: top;\n",
       "    }\n",
       "\n",
       "    .dataframe thead th {\n",
       "        text-align: right;\n",
       "    }\n",
       "</style>\n",
       "<table border=\"1\" class=\"dataframe\">\n",
       "  <thead>\n",
       "    <tr style=\"text-align: right;\">\n",
       "      <th></th>\n",
       "      <th>total_images</th>\n",
       "      <th>last_price</th>\n",
       "      <th>total_area</th>\n",
       "      <th>first_day_exposition</th>\n",
       "      <th>rooms</th>\n",
       "      <th>ceiling_height</th>\n",
       "      <th>floors_total</th>\n",
       "      <th>living_area</th>\n",
       "      <th>floor</th>\n",
       "      <th>is_apartment</th>\n",
       "      <th>...</th>\n",
       "      <th>kitchen_area</th>\n",
       "      <th>balcony</th>\n",
       "      <th>locality_name</th>\n",
       "      <th>airports_nearest</th>\n",
       "      <th>cityCenters_nearest</th>\n",
       "      <th>parks_around3000</th>\n",
       "      <th>parks_nearest</th>\n",
       "      <th>ponds_around3000</th>\n",
       "      <th>ponds_nearest</th>\n",
       "      <th>days_exposition</th>\n",
       "    </tr>\n",
       "  </thead>\n",
       "  <tbody>\n",
       "  </tbody>\n",
       "</table>\n",
       "<p>0 rows × 22 columns</p>\n",
       "</div>"
      ],
      "text/plain": [
       "Empty DataFrame\n",
       "Columns: [total_images, last_price, total_area, first_day_exposition, rooms, ceiling_height, floors_total, living_area, floor, is_apartment, studio, open_plan, kitchen_area, balcony, locality_name, airports_nearest, cityCenters_nearest, parks_around3000, parks_nearest, ponds_around3000, ponds_nearest, days_exposition]\n",
       "Index: []\n",
       "\n",
       "[0 rows x 22 columns]"
      ]
     },
     "metadata": {},
     "output_type": "display_data"
    }
   ],
   "source": [
    "display(data[data['floor'].isna()]) "
   ]
  },
  {
   "cell_type": "markdown",
   "metadata": {},
   "source": [
    "Пропуски отсутствуют. Значит этажность указна у всех."
   ]
  },
  {
   "cell_type": "code",
   "execution_count": 9,
   "metadata": {},
   "outputs": [
    {
     "data": {
      "text/html": [
       "<div>\n",
       "<style scoped>\n",
       "    .dataframe tbody tr th:only-of-type {\n",
       "        vertical-align: middle;\n",
       "    }\n",
       "\n",
       "    .dataframe tbody tr th {\n",
       "        vertical-align: top;\n",
       "    }\n",
       "\n",
       "    .dataframe thead th {\n",
       "        text-align: right;\n",
       "    }\n",
       "</style>\n",
       "<table border=\"1\" class=\"dataframe\">\n",
       "  <thead>\n",
       "    <tr style=\"text-align: right;\">\n",
       "      <th></th>\n",
       "      <th>total_images</th>\n",
       "      <th>last_price</th>\n",
       "      <th>total_area</th>\n",
       "      <th>first_day_exposition</th>\n",
       "      <th>rooms</th>\n",
       "      <th>ceiling_height</th>\n",
       "      <th>floors_total</th>\n",
       "      <th>living_area</th>\n",
       "      <th>floor</th>\n",
       "      <th>is_apartment</th>\n",
       "      <th>...</th>\n",
       "      <th>kitchen_area</th>\n",
       "      <th>balcony</th>\n",
       "      <th>locality_name</th>\n",
       "      <th>airports_nearest</th>\n",
       "      <th>cityCenters_nearest</th>\n",
       "      <th>parks_around3000</th>\n",
       "      <th>parks_nearest</th>\n",
       "      <th>ponds_around3000</th>\n",
       "      <th>ponds_nearest</th>\n",
       "      <th>days_exposition</th>\n",
       "    </tr>\n",
       "  </thead>\n",
       "  <tbody>\n",
       "    <tr>\n",
       "      <th>0</th>\n",
       "      <td>20</td>\n",
       "      <td>13000000.0</td>\n",
       "      <td>108.00</td>\n",
       "      <td>2019-03-07</td>\n",
       "      <td>3</td>\n",
       "      <td>2.70</td>\n",
       "      <td>16.0</td>\n",
       "      <td>51.0</td>\n",
       "      <td>8</td>\n",
       "      <td>NaN</td>\n",
       "      <td>...</td>\n",
       "      <td>25.00</td>\n",
       "      <td>NaN</td>\n",
       "      <td>Санкт-Петербург</td>\n",
       "      <td>18863.0</td>\n",
       "      <td>16028.0</td>\n",
       "      <td>1.0</td>\n",
       "      <td>482.0</td>\n",
       "      <td>2.0</td>\n",
       "      <td>755.0</td>\n",
       "      <td>NaN</td>\n",
       "    </tr>\n",
       "    <tr>\n",
       "      <th>1</th>\n",
       "      <td>7</td>\n",
       "      <td>3350000.0</td>\n",
       "      <td>40.40</td>\n",
       "      <td>2018-12-04</td>\n",
       "      <td>1</td>\n",
       "      <td>NaN</td>\n",
       "      <td>11.0</td>\n",
       "      <td>18.6</td>\n",
       "      <td>1</td>\n",
       "      <td>NaN</td>\n",
       "      <td>...</td>\n",
       "      <td>11.00</td>\n",
       "      <td>2.0</td>\n",
       "      <td>посёлок Шушары</td>\n",
       "      <td>12817.0</td>\n",
       "      <td>18603.0</td>\n",
       "      <td>0.0</td>\n",
       "      <td>NaN</td>\n",
       "      <td>0.0</td>\n",
       "      <td>NaN</td>\n",
       "      <td>81.0</td>\n",
       "    </tr>\n",
       "    <tr>\n",
       "      <th>2</th>\n",
       "      <td>10</td>\n",
       "      <td>5196000.0</td>\n",
       "      <td>56.00</td>\n",
       "      <td>2015-08-20</td>\n",
       "      <td>2</td>\n",
       "      <td>NaN</td>\n",
       "      <td>5.0</td>\n",
       "      <td>34.3</td>\n",
       "      <td>4</td>\n",
       "      <td>NaN</td>\n",
       "      <td>...</td>\n",
       "      <td>8.30</td>\n",
       "      <td>0.0</td>\n",
       "      <td>Санкт-Петербург</td>\n",
       "      <td>21741.0</td>\n",
       "      <td>13933.0</td>\n",
       "      <td>1.0</td>\n",
       "      <td>90.0</td>\n",
       "      <td>2.0</td>\n",
       "      <td>574.0</td>\n",
       "      <td>558.0</td>\n",
       "    </tr>\n",
       "    <tr>\n",
       "      <th>3</th>\n",
       "      <td>0</td>\n",
       "      <td>64900000.0</td>\n",
       "      <td>159.00</td>\n",
       "      <td>2015-07-24</td>\n",
       "      <td>3</td>\n",
       "      <td>NaN</td>\n",
       "      <td>14.0</td>\n",
       "      <td>NaN</td>\n",
       "      <td>9</td>\n",
       "      <td>NaN</td>\n",
       "      <td>...</td>\n",
       "      <td>NaN</td>\n",
       "      <td>0.0</td>\n",
       "      <td>Санкт-Петербург</td>\n",
       "      <td>28098.0</td>\n",
       "      <td>6800.0</td>\n",
       "      <td>2.0</td>\n",
       "      <td>84.0</td>\n",
       "      <td>3.0</td>\n",
       "      <td>234.0</td>\n",
       "      <td>424.0</td>\n",
       "    </tr>\n",
       "    <tr>\n",
       "      <th>4</th>\n",
       "      <td>2</td>\n",
       "      <td>10000000.0</td>\n",
       "      <td>100.00</td>\n",
       "      <td>2018-06-19</td>\n",
       "      <td>2</td>\n",
       "      <td>3.03</td>\n",
       "      <td>14.0</td>\n",
       "      <td>32.0</td>\n",
       "      <td>13</td>\n",
       "      <td>NaN</td>\n",
       "      <td>...</td>\n",
       "      <td>41.00</td>\n",
       "      <td>NaN</td>\n",
       "      <td>Санкт-Петербург</td>\n",
       "      <td>31856.0</td>\n",
       "      <td>8098.0</td>\n",
       "      <td>2.0</td>\n",
       "      <td>112.0</td>\n",
       "      <td>1.0</td>\n",
       "      <td>48.0</td>\n",
       "      <td>121.0</td>\n",
       "    </tr>\n",
       "    <tr>\n",
       "      <th>...</th>\n",
       "      <td>...</td>\n",
       "      <td>...</td>\n",
       "      <td>...</td>\n",
       "      <td>...</td>\n",
       "      <td>...</td>\n",
       "      <td>...</td>\n",
       "      <td>...</td>\n",
       "      <td>...</td>\n",
       "      <td>...</td>\n",
       "      <td>...</td>\n",
       "      <td>...</td>\n",
       "      <td>...</td>\n",
       "      <td>...</td>\n",
       "      <td>...</td>\n",
       "      <td>...</td>\n",
       "      <td>...</td>\n",
       "      <td>...</td>\n",
       "      <td>...</td>\n",
       "      <td>...</td>\n",
       "      <td>...</td>\n",
       "      <td>...</td>\n",
       "    </tr>\n",
       "    <tr>\n",
       "      <th>23694</th>\n",
       "      <td>9</td>\n",
       "      <td>9700000.0</td>\n",
       "      <td>133.81</td>\n",
       "      <td>2017-03-21</td>\n",
       "      <td>3</td>\n",
       "      <td>3.70</td>\n",
       "      <td>5.0</td>\n",
       "      <td>73.3</td>\n",
       "      <td>3</td>\n",
       "      <td>NaN</td>\n",
       "      <td>...</td>\n",
       "      <td>13.83</td>\n",
       "      <td>NaN</td>\n",
       "      <td>Санкт-Петербург</td>\n",
       "      <td>24665.0</td>\n",
       "      <td>4232.0</td>\n",
       "      <td>1.0</td>\n",
       "      <td>796.0</td>\n",
       "      <td>3.0</td>\n",
       "      <td>381.0</td>\n",
       "      <td>NaN</td>\n",
       "    </tr>\n",
       "    <tr>\n",
       "      <th>23695</th>\n",
       "      <td>14</td>\n",
       "      <td>3100000.0</td>\n",
       "      <td>59.00</td>\n",
       "      <td>2018-01-15</td>\n",
       "      <td>3</td>\n",
       "      <td>NaN</td>\n",
       "      <td>5.0</td>\n",
       "      <td>38.0</td>\n",
       "      <td>4</td>\n",
       "      <td>NaN</td>\n",
       "      <td>...</td>\n",
       "      <td>8.50</td>\n",
       "      <td>NaN</td>\n",
       "      <td>Тосно</td>\n",
       "      <td>NaN</td>\n",
       "      <td>NaN</td>\n",
       "      <td>NaN</td>\n",
       "      <td>NaN</td>\n",
       "      <td>NaN</td>\n",
       "      <td>NaN</td>\n",
       "      <td>45.0</td>\n",
       "    </tr>\n",
       "    <tr>\n",
       "      <th>23696</th>\n",
       "      <td>18</td>\n",
       "      <td>2500000.0</td>\n",
       "      <td>56.70</td>\n",
       "      <td>2018-02-11</td>\n",
       "      <td>2</td>\n",
       "      <td>NaN</td>\n",
       "      <td>3.0</td>\n",
       "      <td>29.7</td>\n",
       "      <td>1</td>\n",
       "      <td>NaN</td>\n",
       "      <td>...</td>\n",
       "      <td>NaN</td>\n",
       "      <td>NaN</td>\n",
       "      <td>село Рождествено</td>\n",
       "      <td>NaN</td>\n",
       "      <td>NaN</td>\n",
       "      <td>NaN</td>\n",
       "      <td>NaN</td>\n",
       "      <td>NaN</td>\n",
       "      <td>NaN</td>\n",
       "      <td>NaN</td>\n",
       "    </tr>\n",
       "    <tr>\n",
       "      <th>23697</th>\n",
       "      <td>13</td>\n",
       "      <td>11475000.0</td>\n",
       "      <td>76.75</td>\n",
       "      <td>2017-03-28</td>\n",
       "      <td>2</td>\n",
       "      <td>3.00</td>\n",
       "      <td>17.0</td>\n",
       "      <td>NaN</td>\n",
       "      <td>12</td>\n",
       "      <td>NaN</td>\n",
       "      <td>...</td>\n",
       "      <td>23.30</td>\n",
       "      <td>2.0</td>\n",
       "      <td>Санкт-Петербург</td>\n",
       "      <td>39140.0</td>\n",
       "      <td>10364.0</td>\n",
       "      <td>2.0</td>\n",
       "      <td>173.0</td>\n",
       "      <td>3.0</td>\n",
       "      <td>196.0</td>\n",
       "      <td>602.0</td>\n",
       "    </tr>\n",
       "    <tr>\n",
       "      <th>23698</th>\n",
       "      <td>4</td>\n",
       "      <td>1350000.0</td>\n",
       "      <td>32.30</td>\n",
       "      <td>2017-07-21</td>\n",
       "      <td>1</td>\n",
       "      <td>2.50</td>\n",
       "      <td>5.0</td>\n",
       "      <td>12.3</td>\n",
       "      <td>1</td>\n",
       "      <td>NaN</td>\n",
       "      <td>...</td>\n",
       "      <td>9.00</td>\n",
       "      <td>NaN</td>\n",
       "      <td>поселок Новый Учхоз</td>\n",
       "      <td>NaN</td>\n",
       "      <td>NaN</td>\n",
       "      <td>NaN</td>\n",
       "      <td>NaN</td>\n",
       "      <td>NaN</td>\n",
       "      <td>NaN</td>\n",
       "      <td>NaN</td>\n",
       "    </tr>\n",
       "  </tbody>\n",
       "</table>\n",
       "<p>20924 rows × 22 columns</p>\n",
       "</div>"
      ],
      "text/plain": [
       "       total_images  last_price  total_area first_day_exposition  rooms  \\\n",
       "0                20  13000000.0      108.00           2019-03-07      3   \n",
       "1                 7   3350000.0       40.40           2018-12-04      1   \n",
       "2                10   5196000.0       56.00           2015-08-20      2   \n",
       "3                 0  64900000.0      159.00           2015-07-24      3   \n",
       "4                 2  10000000.0      100.00           2018-06-19      2   \n",
       "...             ...         ...         ...                  ...    ...   \n",
       "23694             9   9700000.0      133.81           2017-03-21      3   \n",
       "23695            14   3100000.0       59.00           2018-01-15      3   \n",
       "23696            18   2500000.0       56.70           2018-02-11      2   \n",
       "23697            13  11475000.0       76.75           2017-03-28      2   \n",
       "23698             4   1350000.0       32.30           2017-07-21      1   \n",
       "\n",
       "       ceiling_height  floors_total  living_area  floor is_apartment  ...  \\\n",
       "0                2.70          16.0         51.0      8          NaN  ...   \n",
       "1                 NaN          11.0         18.6      1          NaN  ...   \n",
       "2                 NaN           5.0         34.3      4          NaN  ...   \n",
       "3                 NaN          14.0          NaN      9          NaN  ...   \n",
       "4                3.03          14.0         32.0     13          NaN  ...   \n",
       "...               ...           ...          ...    ...          ...  ...   \n",
       "23694            3.70           5.0         73.3      3          NaN  ...   \n",
       "23695             NaN           5.0         38.0      4          NaN  ...   \n",
       "23696             NaN           3.0         29.7      1          NaN  ...   \n",
       "23697            3.00          17.0          NaN     12          NaN  ...   \n",
       "23698            2.50           5.0         12.3      1          NaN  ...   \n",
       "\n",
       "       kitchen_area  balcony        locality_name  airports_nearest  \\\n",
       "0             25.00      NaN      Санкт-Петербург           18863.0   \n",
       "1             11.00      2.0       посёлок Шушары           12817.0   \n",
       "2              8.30      0.0      Санкт-Петербург           21741.0   \n",
       "3               NaN      0.0      Санкт-Петербург           28098.0   \n",
       "4             41.00      NaN      Санкт-Петербург           31856.0   \n",
       "...             ...      ...                  ...               ...   \n",
       "23694         13.83      NaN      Санкт-Петербург           24665.0   \n",
       "23695          8.50      NaN                Тосно               NaN   \n",
       "23696           NaN      NaN     село Рождествено               NaN   \n",
       "23697         23.30      2.0      Санкт-Петербург           39140.0   \n",
       "23698          9.00      NaN  поселок Новый Учхоз               NaN   \n",
       "\n",
       "      cityCenters_nearest  parks_around3000  parks_nearest  ponds_around3000  \\\n",
       "0                 16028.0               1.0          482.0               2.0   \n",
       "1                 18603.0               0.0            NaN               0.0   \n",
       "2                 13933.0               1.0           90.0               2.0   \n",
       "3                  6800.0               2.0           84.0               3.0   \n",
       "4                  8098.0               2.0          112.0               1.0   \n",
       "...                   ...               ...            ...               ...   \n",
       "23694              4232.0               1.0          796.0               3.0   \n",
       "23695                 NaN               NaN            NaN               NaN   \n",
       "23696                 NaN               NaN            NaN               NaN   \n",
       "23697             10364.0               2.0          173.0               3.0   \n",
       "23698                 NaN               NaN            NaN               NaN   \n",
       "\n",
       "       ponds_nearest  days_exposition  \n",
       "0              755.0              NaN  \n",
       "1                NaN             81.0  \n",
       "2              574.0            558.0  \n",
       "3              234.0            424.0  \n",
       "4               48.0            121.0  \n",
       "...              ...              ...  \n",
       "23694          381.0              NaN  \n",
       "23695            NaN             45.0  \n",
       "23696            NaN              NaN  \n",
       "23697          196.0            602.0  \n",
       "23698            NaN              NaN  \n",
       "\n",
       "[20924 rows x 22 columns]"
      ]
     },
     "metadata": {},
     "output_type": "display_data"
    }
   ],
   "source": [
    "display(data[data['is_apartment'].isna()]) "
   ]
  },
  {
   "cell_type": "markdown",
   "metadata": {},
   "source": [
    "Из 23699 объявлений - 2775 объявлений с апартаментами."
   ]
  },
  {
   "cell_type": "code",
   "execution_count": 10,
   "metadata": {},
   "outputs": [
    {
     "data": {
      "text/html": [
       "<div>\n",
       "<style scoped>\n",
       "    .dataframe tbody tr th:only-of-type {\n",
       "        vertical-align: middle;\n",
       "    }\n",
       "\n",
       "    .dataframe tbody tr th {\n",
       "        vertical-align: top;\n",
       "    }\n",
       "\n",
       "    .dataframe thead th {\n",
       "        text-align: right;\n",
       "    }\n",
       "</style>\n",
       "<table border=\"1\" class=\"dataframe\">\n",
       "  <thead>\n",
       "    <tr style=\"text-align: right;\">\n",
       "      <th></th>\n",
       "      <th>total_images</th>\n",
       "      <th>last_price</th>\n",
       "      <th>total_area</th>\n",
       "      <th>first_day_exposition</th>\n",
       "      <th>rooms</th>\n",
       "      <th>ceiling_height</th>\n",
       "      <th>floors_total</th>\n",
       "      <th>living_area</th>\n",
       "      <th>floor</th>\n",
       "      <th>is_apartment</th>\n",
       "      <th>...</th>\n",
       "      <th>kitchen_area</th>\n",
       "      <th>balcony</th>\n",
       "      <th>locality_name</th>\n",
       "      <th>airports_nearest</th>\n",
       "      <th>cityCenters_nearest</th>\n",
       "      <th>parks_around3000</th>\n",
       "      <th>parks_nearest</th>\n",
       "      <th>ponds_around3000</th>\n",
       "      <th>ponds_nearest</th>\n",
       "      <th>days_exposition</th>\n",
       "    </tr>\n",
       "  </thead>\n",
       "  <tbody>\n",
       "    <tr>\n",
       "      <th>3</th>\n",
       "      <td>0</td>\n",
       "      <td>64900000.0</td>\n",
       "      <td>159.0</td>\n",
       "      <td>2015-07-24</td>\n",
       "      <td>3</td>\n",
       "      <td>NaN</td>\n",
       "      <td>14.0</td>\n",
       "      <td>NaN</td>\n",
       "      <td>9</td>\n",
       "      <td>NaN</td>\n",
       "      <td>...</td>\n",
       "      <td>NaN</td>\n",
       "      <td>0.0</td>\n",
       "      <td>Санкт-Петербург</td>\n",
       "      <td>28098.0</td>\n",
       "      <td>6800.0</td>\n",
       "      <td>2.0</td>\n",
       "      <td>84.0</td>\n",
       "      <td>3.0</td>\n",
       "      <td>234.0</td>\n",
       "      <td>424.0</td>\n",
       "    </tr>\n",
       "    <tr>\n",
       "      <th>30</th>\n",
       "      <td>12</td>\n",
       "      <td>2200000.0</td>\n",
       "      <td>32.8</td>\n",
       "      <td>2018-02-19</td>\n",
       "      <td>1</td>\n",
       "      <td>NaN</td>\n",
       "      <td>9.0</td>\n",
       "      <td>NaN</td>\n",
       "      <td>2</td>\n",
       "      <td>NaN</td>\n",
       "      <td>...</td>\n",
       "      <td>NaN</td>\n",
       "      <td>NaN</td>\n",
       "      <td>Коммунар</td>\n",
       "      <td>NaN</td>\n",
       "      <td>NaN</td>\n",
       "      <td>NaN</td>\n",
       "      <td>NaN</td>\n",
       "      <td>NaN</td>\n",
       "      <td>NaN</td>\n",
       "      <td>63.0</td>\n",
       "    </tr>\n",
       "    <tr>\n",
       "      <th>37</th>\n",
       "      <td>10</td>\n",
       "      <td>1990000.0</td>\n",
       "      <td>45.8</td>\n",
       "      <td>2017-10-28</td>\n",
       "      <td>2</td>\n",
       "      <td>2.50</td>\n",
       "      <td>5.0</td>\n",
       "      <td>NaN</td>\n",
       "      <td>1</td>\n",
       "      <td>NaN</td>\n",
       "      <td>...</td>\n",
       "      <td>NaN</td>\n",
       "      <td>NaN</td>\n",
       "      <td>поселок городского типа Красный Бор</td>\n",
       "      <td>NaN</td>\n",
       "      <td>NaN</td>\n",
       "      <td>NaN</td>\n",
       "      <td>NaN</td>\n",
       "      <td>NaN</td>\n",
       "      <td>NaN</td>\n",
       "      <td>196.0</td>\n",
       "    </tr>\n",
       "    <tr>\n",
       "      <th>44</th>\n",
       "      <td>13</td>\n",
       "      <td>5350000.0</td>\n",
       "      <td>40.0</td>\n",
       "      <td>2018-11-18</td>\n",
       "      <td>1</td>\n",
       "      <td>NaN</td>\n",
       "      <td>22.0</td>\n",
       "      <td>NaN</td>\n",
       "      <td>3</td>\n",
       "      <td>NaN</td>\n",
       "      <td>...</td>\n",
       "      <td>NaN</td>\n",
       "      <td>1.0</td>\n",
       "      <td>Санкт-Петербург</td>\n",
       "      <td>30471.0</td>\n",
       "      <td>11603.0</td>\n",
       "      <td>1.0</td>\n",
       "      <td>620.0</td>\n",
       "      <td>1.0</td>\n",
       "      <td>1152.0</td>\n",
       "      <td>NaN</td>\n",
       "    </tr>\n",
       "    <tr>\n",
       "      <th>59</th>\n",
       "      <td>15</td>\n",
       "      <td>6300000.0</td>\n",
       "      <td>46.5</td>\n",
       "      <td>2017-03-06</td>\n",
       "      <td>1</td>\n",
       "      <td>NaN</td>\n",
       "      <td>13.0</td>\n",
       "      <td>NaN</td>\n",
       "      <td>13</td>\n",
       "      <td>NaN</td>\n",
       "      <td>...</td>\n",
       "      <td>NaN</td>\n",
       "      <td>NaN</td>\n",
       "      <td>Санкт-Петербург</td>\n",
       "      <td>11125.0</td>\n",
       "      <td>14501.0</td>\n",
       "      <td>0.0</td>\n",
       "      <td>NaN</td>\n",
       "      <td>0.0</td>\n",
       "      <td>NaN</td>\n",
       "      <td>336.0</td>\n",
       "    </tr>\n",
       "    <tr>\n",
       "      <th>...</th>\n",
       "      <td>...</td>\n",
       "      <td>...</td>\n",
       "      <td>...</td>\n",
       "      <td>...</td>\n",
       "      <td>...</td>\n",
       "      <td>...</td>\n",
       "      <td>...</td>\n",
       "      <td>...</td>\n",
       "      <td>...</td>\n",
       "      <td>...</td>\n",
       "      <td>...</td>\n",
       "      <td>...</td>\n",
       "      <td>...</td>\n",
       "      <td>...</td>\n",
       "      <td>...</td>\n",
       "      <td>...</td>\n",
       "      <td>...</td>\n",
       "      <td>...</td>\n",
       "      <td>...</td>\n",
       "      <td>...</td>\n",
       "      <td>...</td>\n",
       "    </tr>\n",
       "    <tr>\n",
       "      <th>23655</th>\n",
       "      <td>1</td>\n",
       "      <td>2414306.0</td>\n",
       "      <td>40.5</td>\n",
       "      <td>2016-09-08</td>\n",
       "      <td>1</td>\n",
       "      <td>2.56</td>\n",
       "      <td>18.0</td>\n",
       "      <td>19.6</td>\n",
       "      <td>10</td>\n",
       "      <td>False</td>\n",
       "      <td>...</td>\n",
       "      <td>NaN</td>\n",
       "      <td>NaN</td>\n",
       "      <td>Никольское</td>\n",
       "      <td>NaN</td>\n",
       "      <td>NaN</td>\n",
       "      <td>NaN</td>\n",
       "      <td>NaN</td>\n",
       "      <td>NaN</td>\n",
       "      <td>NaN</td>\n",
       "      <td>627.0</td>\n",
       "    </tr>\n",
       "    <tr>\n",
       "      <th>23663</th>\n",
       "      <td>12</td>\n",
       "      <td>6400000.0</td>\n",
       "      <td>88.0</td>\n",
       "      <td>2018-01-12</td>\n",
       "      <td>4</td>\n",
       "      <td>2.55</td>\n",
       "      <td>10.0</td>\n",
       "      <td>NaN</td>\n",
       "      <td>1</td>\n",
       "      <td>NaN</td>\n",
       "      <td>...</td>\n",
       "      <td>NaN</td>\n",
       "      <td>NaN</td>\n",
       "      <td>Санкт-Петербург</td>\n",
       "      <td>33642.0</td>\n",
       "      <td>13943.0</td>\n",
       "      <td>0.0</td>\n",
       "      <td>NaN</td>\n",
       "      <td>2.0</td>\n",
       "      <td>844.0</td>\n",
       "      <td>59.0</td>\n",
       "    </tr>\n",
       "    <tr>\n",
       "      <th>23670</th>\n",
       "      <td>9</td>\n",
       "      <td>2450000.0</td>\n",
       "      <td>45.6</td>\n",
       "      <td>2018-02-08</td>\n",
       "      <td>1</td>\n",
       "      <td>2.80</td>\n",
       "      <td>9.0</td>\n",
       "      <td>NaN</td>\n",
       "      <td>2</td>\n",
       "      <td>NaN</td>\n",
       "      <td>...</td>\n",
       "      <td>NaN</td>\n",
       "      <td>NaN</td>\n",
       "      <td>поселок городского типа Синявино</td>\n",
       "      <td>NaN</td>\n",
       "      <td>NaN</td>\n",
       "      <td>NaN</td>\n",
       "      <td>NaN</td>\n",
       "      <td>NaN</td>\n",
       "      <td>NaN</td>\n",
       "      <td>45.0</td>\n",
       "    </tr>\n",
       "    <tr>\n",
       "      <th>23679</th>\n",
       "      <td>0</td>\n",
       "      <td>2500000.0</td>\n",
       "      <td>35.0</td>\n",
       "      <td>2017-12-08</td>\n",
       "      <td>1</td>\n",
       "      <td>NaN</td>\n",
       "      <td>9.0</td>\n",
       "      <td>NaN</td>\n",
       "      <td>4</td>\n",
       "      <td>NaN</td>\n",
       "      <td>...</td>\n",
       "      <td>NaN</td>\n",
       "      <td>NaN</td>\n",
       "      <td>Сосновый Бор</td>\n",
       "      <td>NaN</td>\n",
       "      <td>NaN</td>\n",
       "      <td>NaN</td>\n",
       "      <td>NaN</td>\n",
       "      <td>NaN</td>\n",
       "      <td>NaN</td>\n",
       "      <td>45.0</td>\n",
       "    </tr>\n",
       "    <tr>\n",
       "      <th>23696</th>\n",
       "      <td>18</td>\n",
       "      <td>2500000.0</td>\n",
       "      <td>56.7</td>\n",
       "      <td>2018-02-11</td>\n",
       "      <td>2</td>\n",
       "      <td>NaN</td>\n",
       "      <td>3.0</td>\n",
       "      <td>29.7</td>\n",
       "      <td>1</td>\n",
       "      <td>NaN</td>\n",
       "      <td>...</td>\n",
       "      <td>NaN</td>\n",
       "      <td>NaN</td>\n",
       "      <td>село Рождествено</td>\n",
       "      <td>NaN</td>\n",
       "      <td>NaN</td>\n",
       "      <td>NaN</td>\n",
       "      <td>NaN</td>\n",
       "      <td>NaN</td>\n",
       "      <td>NaN</td>\n",
       "      <td>NaN</td>\n",
       "    </tr>\n",
       "  </tbody>\n",
       "</table>\n",
       "<p>2278 rows × 22 columns</p>\n",
       "</div>"
      ],
      "text/plain": [
       "       total_images  last_price  total_area first_day_exposition  rooms  \\\n",
       "3                 0  64900000.0       159.0           2015-07-24      3   \n",
       "30               12   2200000.0        32.8           2018-02-19      1   \n",
       "37               10   1990000.0        45.8           2017-10-28      2   \n",
       "44               13   5350000.0        40.0           2018-11-18      1   \n",
       "59               15   6300000.0        46.5           2017-03-06      1   \n",
       "...             ...         ...         ...                  ...    ...   \n",
       "23655             1   2414306.0        40.5           2016-09-08      1   \n",
       "23663            12   6400000.0        88.0           2018-01-12      4   \n",
       "23670             9   2450000.0        45.6           2018-02-08      1   \n",
       "23679             0   2500000.0        35.0           2017-12-08      1   \n",
       "23696            18   2500000.0        56.7           2018-02-11      2   \n",
       "\n",
       "       ceiling_height  floors_total  living_area  floor is_apartment  ...  \\\n",
       "3                 NaN          14.0          NaN      9          NaN  ...   \n",
       "30                NaN           9.0          NaN      2          NaN  ...   \n",
       "37               2.50           5.0          NaN      1          NaN  ...   \n",
       "44                NaN          22.0          NaN      3          NaN  ...   \n",
       "59                NaN          13.0          NaN     13          NaN  ...   \n",
       "...               ...           ...          ...    ...          ...  ...   \n",
       "23655            2.56          18.0         19.6     10        False  ...   \n",
       "23663            2.55          10.0          NaN      1          NaN  ...   \n",
       "23670            2.80           9.0          NaN      2          NaN  ...   \n",
       "23679             NaN           9.0          NaN      4          NaN  ...   \n",
       "23696             NaN           3.0         29.7      1          NaN  ...   \n",
       "\n",
       "       kitchen_area  balcony                        locality_name  \\\n",
       "3               NaN      0.0                      Санкт-Петербург   \n",
       "30              NaN      NaN                             Коммунар   \n",
       "37              NaN      NaN  поселок городского типа Красный Бор   \n",
       "44              NaN      1.0                      Санкт-Петербург   \n",
       "59              NaN      NaN                      Санкт-Петербург   \n",
       "...             ...      ...                                  ...   \n",
       "23655           NaN      NaN                           Никольское   \n",
       "23663           NaN      NaN                      Санкт-Петербург   \n",
       "23670           NaN      NaN     поселок городского типа Синявино   \n",
       "23679           NaN      NaN                         Сосновый Бор   \n",
       "23696           NaN      NaN                     село Рождествено   \n",
       "\n",
       "       airports_nearest cityCenters_nearest  parks_around3000  parks_nearest  \\\n",
       "3               28098.0              6800.0               2.0           84.0   \n",
       "30                  NaN                 NaN               NaN            NaN   \n",
       "37                  NaN                 NaN               NaN            NaN   \n",
       "44              30471.0             11603.0               1.0          620.0   \n",
       "59              11125.0             14501.0               0.0            NaN   \n",
       "...                 ...                 ...               ...            ...   \n",
       "23655               NaN                 NaN               NaN            NaN   \n",
       "23663           33642.0             13943.0               0.0            NaN   \n",
       "23670               NaN                 NaN               NaN            NaN   \n",
       "23679               NaN                 NaN               NaN            NaN   \n",
       "23696               NaN                 NaN               NaN            NaN   \n",
       "\n",
       "       ponds_around3000  ponds_nearest  days_exposition  \n",
       "3                   3.0          234.0            424.0  \n",
       "30                  NaN            NaN             63.0  \n",
       "37                  NaN            NaN            196.0  \n",
       "44                  1.0         1152.0              NaN  \n",
       "59                  0.0            NaN            336.0  \n",
       "...                 ...            ...              ...  \n",
       "23655               NaN            NaN            627.0  \n",
       "23663               2.0          844.0             59.0  \n",
       "23670               NaN            NaN             45.0  \n",
       "23679               NaN            NaN             45.0  \n",
       "23696               NaN            NaN              NaN  \n",
       "\n",
       "[2278 rows x 22 columns]"
      ]
     },
     "metadata": {},
     "output_type": "display_data"
    }
   ],
   "source": [
    "display(data[data['kitchen_area'].isna()]) "
   ]
  },
  {
   "cell_type": "markdown",
   "metadata": {},
   "source": [
    "У 2278 объявлений отсутствуют значение о площади кухни."
   ]
  },
  {
   "cell_type": "code",
   "execution_count": 11,
   "metadata": {},
   "outputs": [
    {
     "data": {
      "text/html": [
       "<div>\n",
       "<style scoped>\n",
       "    .dataframe tbody tr th:only-of-type {\n",
       "        vertical-align: middle;\n",
       "    }\n",
       "\n",
       "    .dataframe tbody tr th {\n",
       "        vertical-align: top;\n",
       "    }\n",
       "\n",
       "    .dataframe thead th {\n",
       "        text-align: right;\n",
       "    }\n",
       "</style>\n",
       "<table border=\"1\" class=\"dataframe\">\n",
       "  <thead>\n",
       "    <tr style=\"text-align: right;\">\n",
       "      <th></th>\n",
       "      <th>total_images</th>\n",
       "      <th>last_price</th>\n",
       "      <th>total_area</th>\n",
       "      <th>first_day_exposition</th>\n",
       "      <th>rooms</th>\n",
       "      <th>ceiling_height</th>\n",
       "      <th>floors_total</th>\n",
       "      <th>living_area</th>\n",
       "      <th>floor</th>\n",
       "      <th>is_apartment</th>\n",
       "      <th>...</th>\n",
       "      <th>kitchen_area</th>\n",
       "      <th>balcony</th>\n",
       "      <th>locality_name</th>\n",
       "      <th>airports_nearest</th>\n",
       "      <th>cityCenters_nearest</th>\n",
       "      <th>parks_around3000</th>\n",
       "      <th>parks_nearest</th>\n",
       "      <th>ponds_around3000</th>\n",
       "      <th>ponds_nearest</th>\n",
       "      <th>days_exposition</th>\n",
       "    </tr>\n",
       "  </thead>\n",
       "  <tbody>\n",
       "    <tr>\n",
       "      <th>0</th>\n",
       "      <td>20</td>\n",
       "      <td>13000000.0</td>\n",
       "      <td>108.00</td>\n",
       "      <td>2019-03-07</td>\n",
       "      <td>3</td>\n",
       "      <td>2.70</td>\n",
       "      <td>16.0</td>\n",
       "      <td>51.00</td>\n",
       "      <td>8</td>\n",
       "      <td>NaN</td>\n",
       "      <td>...</td>\n",
       "      <td>25.00</td>\n",
       "      <td>NaN</td>\n",
       "      <td>Санкт-Петербург</td>\n",
       "      <td>18863.0</td>\n",
       "      <td>16028.0</td>\n",
       "      <td>1.0</td>\n",
       "      <td>482.0</td>\n",
       "      <td>2.0</td>\n",
       "      <td>755.0</td>\n",
       "      <td>NaN</td>\n",
       "    </tr>\n",
       "    <tr>\n",
       "      <th>4</th>\n",
       "      <td>2</td>\n",
       "      <td>10000000.0</td>\n",
       "      <td>100.00</td>\n",
       "      <td>2018-06-19</td>\n",
       "      <td>2</td>\n",
       "      <td>3.03</td>\n",
       "      <td>14.0</td>\n",
       "      <td>32.00</td>\n",
       "      <td>13</td>\n",
       "      <td>NaN</td>\n",
       "      <td>...</td>\n",
       "      <td>41.00</td>\n",
       "      <td>NaN</td>\n",
       "      <td>Санкт-Петербург</td>\n",
       "      <td>31856.0</td>\n",
       "      <td>8098.0</td>\n",
       "      <td>2.0</td>\n",
       "      <td>112.0</td>\n",
       "      <td>1.0</td>\n",
       "      <td>48.0</td>\n",
       "      <td>121.0</td>\n",
       "    </tr>\n",
       "    <tr>\n",
       "      <th>5</th>\n",
       "      <td>10</td>\n",
       "      <td>2890000.0</td>\n",
       "      <td>30.40</td>\n",
       "      <td>2018-09-10</td>\n",
       "      <td>1</td>\n",
       "      <td>NaN</td>\n",
       "      <td>12.0</td>\n",
       "      <td>14.40</td>\n",
       "      <td>5</td>\n",
       "      <td>NaN</td>\n",
       "      <td>...</td>\n",
       "      <td>9.10</td>\n",
       "      <td>NaN</td>\n",
       "      <td>городской посёлок Янино-1</td>\n",
       "      <td>NaN</td>\n",
       "      <td>NaN</td>\n",
       "      <td>NaN</td>\n",
       "      <td>NaN</td>\n",
       "      <td>NaN</td>\n",
       "      <td>NaN</td>\n",
       "      <td>55.0</td>\n",
       "    </tr>\n",
       "    <tr>\n",
       "      <th>8</th>\n",
       "      <td>20</td>\n",
       "      <td>2900000.0</td>\n",
       "      <td>33.16</td>\n",
       "      <td>2018-05-23</td>\n",
       "      <td>1</td>\n",
       "      <td>NaN</td>\n",
       "      <td>27.0</td>\n",
       "      <td>15.43</td>\n",
       "      <td>26</td>\n",
       "      <td>NaN</td>\n",
       "      <td>...</td>\n",
       "      <td>8.81</td>\n",
       "      <td>NaN</td>\n",
       "      <td>посёлок Мурино</td>\n",
       "      <td>NaN</td>\n",
       "      <td>NaN</td>\n",
       "      <td>NaN</td>\n",
       "      <td>NaN</td>\n",
       "      <td>NaN</td>\n",
       "      <td>NaN</td>\n",
       "      <td>189.0</td>\n",
       "    </tr>\n",
       "    <tr>\n",
       "      <th>10</th>\n",
       "      <td>5</td>\n",
       "      <td>5050000.0</td>\n",
       "      <td>39.60</td>\n",
       "      <td>2017-11-16</td>\n",
       "      <td>1</td>\n",
       "      <td>2.67</td>\n",
       "      <td>12.0</td>\n",
       "      <td>20.30</td>\n",
       "      <td>3</td>\n",
       "      <td>NaN</td>\n",
       "      <td>...</td>\n",
       "      <td>8.50</td>\n",
       "      <td>NaN</td>\n",
       "      <td>Санкт-Петербург</td>\n",
       "      <td>38357.0</td>\n",
       "      <td>13878.0</td>\n",
       "      <td>1.0</td>\n",
       "      <td>310.0</td>\n",
       "      <td>2.0</td>\n",
       "      <td>553.0</td>\n",
       "      <td>137.0</td>\n",
       "    </tr>\n",
       "    <tr>\n",
       "      <th>...</th>\n",
       "      <td>...</td>\n",
       "      <td>...</td>\n",
       "      <td>...</td>\n",
       "      <td>...</td>\n",
       "      <td>...</td>\n",
       "      <td>...</td>\n",
       "      <td>...</td>\n",
       "      <td>...</td>\n",
       "      <td>...</td>\n",
       "      <td>...</td>\n",
       "      <td>...</td>\n",
       "      <td>...</td>\n",
       "      <td>...</td>\n",
       "      <td>...</td>\n",
       "      <td>...</td>\n",
       "      <td>...</td>\n",
       "      <td>...</td>\n",
       "      <td>...</td>\n",
       "      <td>...</td>\n",
       "      <td>...</td>\n",
       "      <td>...</td>\n",
       "    </tr>\n",
       "    <tr>\n",
       "      <th>23692</th>\n",
       "      <td>2</td>\n",
       "      <td>1350000.0</td>\n",
       "      <td>30.00</td>\n",
       "      <td>2017-07-07</td>\n",
       "      <td>1</td>\n",
       "      <td>NaN</td>\n",
       "      <td>5.0</td>\n",
       "      <td>17.50</td>\n",
       "      <td>4</td>\n",
       "      <td>NaN</td>\n",
       "      <td>...</td>\n",
       "      <td>6.00</td>\n",
       "      <td>NaN</td>\n",
       "      <td>Тихвин</td>\n",
       "      <td>NaN</td>\n",
       "      <td>NaN</td>\n",
       "      <td>NaN</td>\n",
       "      <td>NaN</td>\n",
       "      <td>NaN</td>\n",
       "      <td>NaN</td>\n",
       "      <td>413.0</td>\n",
       "    </tr>\n",
       "    <tr>\n",
       "      <th>23694</th>\n",
       "      <td>9</td>\n",
       "      <td>9700000.0</td>\n",
       "      <td>133.81</td>\n",
       "      <td>2017-03-21</td>\n",
       "      <td>3</td>\n",
       "      <td>3.70</td>\n",
       "      <td>5.0</td>\n",
       "      <td>73.30</td>\n",
       "      <td>3</td>\n",
       "      <td>NaN</td>\n",
       "      <td>...</td>\n",
       "      <td>13.83</td>\n",
       "      <td>NaN</td>\n",
       "      <td>Санкт-Петербург</td>\n",
       "      <td>24665.0</td>\n",
       "      <td>4232.0</td>\n",
       "      <td>1.0</td>\n",
       "      <td>796.0</td>\n",
       "      <td>3.0</td>\n",
       "      <td>381.0</td>\n",
       "      <td>NaN</td>\n",
       "    </tr>\n",
       "    <tr>\n",
       "      <th>23695</th>\n",
       "      <td>14</td>\n",
       "      <td>3100000.0</td>\n",
       "      <td>59.00</td>\n",
       "      <td>2018-01-15</td>\n",
       "      <td>3</td>\n",
       "      <td>NaN</td>\n",
       "      <td>5.0</td>\n",
       "      <td>38.00</td>\n",
       "      <td>4</td>\n",
       "      <td>NaN</td>\n",
       "      <td>...</td>\n",
       "      <td>8.50</td>\n",
       "      <td>NaN</td>\n",
       "      <td>Тосно</td>\n",
       "      <td>NaN</td>\n",
       "      <td>NaN</td>\n",
       "      <td>NaN</td>\n",
       "      <td>NaN</td>\n",
       "      <td>NaN</td>\n",
       "      <td>NaN</td>\n",
       "      <td>45.0</td>\n",
       "    </tr>\n",
       "    <tr>\n",
       "      <th>23696</th>\n",
       "      <td>18</td>\n",
       "      <td>2500000.0</td>\n",
       "      <td>56.70</td>\n",
       "      <td>2018-02-11</td>\n",
       "      <td>2</td>\n",
       "      <td>NaN</td>\n",
       "      <td>3.0</td>\n",
       "      <td>29.70</td>\n",
       "      <td>1</td>\n",
       "      <td>NaN</td>\n",
       "      <td>...</td>\n",
       "      <td>NaN</td>\n",
       "      <td>NaN</td>\n",
       "      <td>село Рождествено</td>\n",
       "      <td>NaN</td>\n",
       "      <td>NaN</td>\n",
       "      <td>NaN</td>\n",
       "      <td>NaN</td>\n",
       "      <td>NaN</td>\n",
       "      <td>NaN</td>\n",
       "      <td>NaN</td>\n",
       "    </tr>\n",
       "    <tr>\n",
       "      <th>23698</th>\n",
       "      <td>4</td>\n",
       "      <td>1350000.0</td>\n",
       "      <td>32.30</td>\n",
       "      <td>2017-07-21</td>\n",
       "      <td>1</td>\n",
       "      <td>2.50</td>\n",
       "      <td>5.0</td>\n",
       "      <td>12.30</td>\n",
       "      <td>1</td>\n",
       "      <td>NaN</td>\n",
       "      <td>...</td>\n",
       "      <td>9.00</td>\n",
       "      <td>NaN</td>\n",
       "      <td>поселок Новый Учхоз</td>\n",
       "      <td>NaN</td>\n",
       "      <td>NaN</td>\n",
       "      <td>NaN</td>\n",
       "      <td>NaN</td>\n",
       "      <td>NaN</td>\n",
       "      <td>NaN</td>\n",
       "      <td>NaN</td>\n",
       "    </tr>\n",
       "  </tbody>\n",
       "</table>\n",
       "<p>11519 rows × 22 columns</p>\n",
       "</div>"
      ],
      "text/plain": [
       "       total_images  last_price  total_area first_day_exposition  rooms  \\\n",
       "0                20  13000000.0      108.00           2019-03-07      3   \n",
       "4                 2  10000000.0      100.00           2018-06-19      2   \n",
       "5                10   2890000.0       30.40           2018-09-10      1   \n",
       "8                20   2900000.0       33.16           2018-05-23      1   \n",
       "10                5   5050000.0       39.60           2017-11-16      1   \n",
       "...             ...         ...         ...                  ...    ...   \n",
       "23692             2   1350000.0       30.00           2017-07-07      1   \n",
       "23694             9   9700000.0      133.81           2017-03-21      3   \n",
       "23695            14   3100000.0       59.00           2018-01-15      3   \n",
       "23696            18   2500000.0       56.70           2018-02-11      2   \n",
       "23698             4   1350000.0       32.30           2017-07-21      1   \n",
       "\n",
       "       ceiling_height  floors_total  living_area  floor is_apartment  ...  \\\n",
       "0                2.70          16.0        51.00      8          NaN  ...   \n",
       "4                3.03          14.0        32.00     13          NaN  ...   \n",
       "5                 NaN          12.0        14.40      5          NaN  ...   \n",
       "8                 NaN          27.0        15.43     26          NaN  ...   \n",
       "10               2.67          12.0        20.30      3          NaN  ...   \n",
       "...               ...           ...          ...    ...          ...  ...   \n",
       "23692             NaN           5.0        17.50      4          NaN  ...   \n",
       "23694            3.70           5.0        73.30      3          NaN  ...   \n",
       "23695             NaN           5.0        38.00      4          NaN  ...   \n",
       "23696             NaN           3.0        29.70      1          NaN  ...   \n",
       "23698            2.50           5.0        12.30      1          NaN  ...   \n",
       "\n",
       "       kitchen_area  balcony              locality_name  airports_nearest  \\\n",
       "0             25.00      NaN            Санкт-Петербург           18863.0   \n",
       "4             41.00      NaN            Санкт-Петербург           31856.0   \n",
       "5              9.10      NaN  городской посёлок Янино-1               NaN   \n",
       "8              8.81      NaN             посёлок Мурино               NaN   \n",
       "10             8.50      NaN            Санкт-Петербург           38357.0   \n",
       "...             ...      ...                        ...               ...   \n",
       "23692          6.00      NaN                     Тихвин               NaN   \n",
       "23694         13.83      NaN            Санкт-Петербург           24665.0   \n",
       "23695          8.50      NaN                      Тосно               NaN   \n",
       "23696           NaN      NaN           село Рождествено               NaN   \n",
       "23698          9.00      NaN        поселок Новый Учхоз               NaN   \n",
       "\n",
       "      cityCenters_nearest  parks_around3000  parks_nearest  ponds_around3000  \\\n",
       "0                 16028.0               1.0          482.0               2.0   \n",
       "4                  8098.0               2.0          112.0               1.0   \n",
       "5                     NaN               NaN            NaN               NaN   \n",
       "8                     NaN               NaN            NaN               NaN   \n",
       "10                13878.0               1.0          310.0               2.0   \n",
       "...                   ...               ...            ...               ...   \n",
       "23692                 NaN               NaN            NaN               NaN   \n",
       "23694              4232.0               1.0          796.0               3.0   \n",
       "23695                 NaN               NaN            NaN               NaN   \n",
       "23696                 NaN               NaN            NaN               NaN   \n",
       "23698                 NaN               NaN            NaN               NaN   \n",
       "\n",
       "       ponds_nearest  days_exposition  \n",
       "0              755.0              NaN  \n",
       "4               48.0            121.0  \n",
       "5                NaN             55.0  \n",
       "8                NaN            189.0  \n",
       "10             553.0            137.0  \n",
       "...              ...              ...  \n",
       "23692            NaN            413.0  \n",
       "23694          381.0              NaN  \n",
       "23695            NaN             45.0  \n",
       "23696            NaN              NaN  \n",
       "23698            NaN              NaN  \n",
       "\n",
       "[11519 rows x 22 columns]"
      ]
     },
     "metadata": {},
     "output_type": "display_data"
    }
   ],
   "source": [
    "display(data[data['balcony'].isna()]) "
   ]
  },
  {
   "cell_type": "markdown",
   "metadata": {},
   "source": [
    "Здесь уже проще, если отсутствуют значения балкона, это скорее всего значит, что балкона нет. Можно будет обнулить их. "
   ]
  },
  {
   "cell_type": "code",
   "execution_count": 12,
   "metadata": {},
   "outputs": [
    {
     "data": {
      "text/html": [
       "<div>\n",
       "<style scoped>\n",
       "    .dataframe tbody tr th:only-of-type {\n",
       "        vertical-align: middle;\n",
       "    }\n",
       "\n",
       "    .dataframe tbody tr th {\n",
       "        vertical-align: top;\n",
       "    }\n",
       "\n",
       "    .dataframe thead th {\n",
       "        text-align: right;\n",
       "    }\n",
       "</style>\n",
       "<table border=\"1\" class=\"dataframe\">\n",
       "  <thead>\n",
       "    <tr style=\"text-align: right;\">\n",
       "      <th></th>\n",
       "      <th>total_images</th>\n",
       "      <th>last_price</th>\n",
       "      <th>total_area</th>\n",
       "      <th>first_day_exposition</th>\n",
       "      <th>rooms</th>\n",
       "      <th>ceiling_height</th>\n",
       "      <th>floors_total</th>\n",
       "      <th>living_area</th>\n",
       "      <th>floor</th>\n",
       "      <th>is_apartment</th>\n",
       "      <th>...</th>\n",
       "      <th>kitchen_area</th>\n",
       "      <th>balcony</th>\n",
       "      <th>locality_name</th>\n",
       "      <th>airports_nearest</th>\n",
       "      <th>cityCenters_nearest</th>\n",
       "      <th>parks_around3000</th>\n",
       "      <th>parks_nearest</th>\n",
       "      <th>ponds_around3000</th>\n",
       "      <th>ponds_nearest</th>\n",
       "      <th>days_exposition</th>\n",
       "    </tr>\n",
       "  </thead>\n",
       "  <tbody>\n",
       "    <tr>\n",
       "      <th>1097</th>\n",
       "      <td>3</td>\n",
       "      <td>8600000.0</td>\n",
       "      <td>81.70</td>\n",
       "      <td>2016-04-15</td>\n",
       "      <td>3</td>\n",
       "      <td>3.55</td>\n",
       "      <td>5.0</td>\n",
       "      <td>50.80</td>\n",
       "      <td>2</td>\n",
       "      <td>NaN</td>\n",
       "      <td>...</td>\n",
       "      <td>8.80</td>\n",
       "      <td>0.0</td>\n",
       "      <td>NaN</td>\n",
       "      <td>23478.0</td>\n",
       "      <td>4258.0</td>\n",
       "      <td>0.0</td>\n",
       "      <td>NaN</td>\n",
       "      <td>0.0</td>\n",
       "      <td>NaN</td>\n",
       "      <td>147.0</td>\n",
       "    </tr>\n",
       "    <tr>\n",
       "      <th>2033</th>\n",
       "      <td>6</td>\n",
       "      <td>5398000.0</td>\n",
       "      <td>80.00</td>\n",
       "      <td>2017-05-30</td>\n",
       "      <td>3</td>\n",
       "      <td>NaN</td>\n",
       "      <td>4.0</td>\n",
       "      <td>42.60</td>\n",
       "      <td>2</td>\n",
       "      <td>NaN</td>\n",
       "      <td>...</td>\n",
       "      <td>18.60</td>\n",
       "      <td>0.0</td>\n",
       "      <td>NaN</td>\n",
       "      <td>NaN</td>\n",
       "      <td>NaN</td>\n",
       "      <td>NaN</td>\n",
       "      <td>NaN</td>\n",
       "      <td>NaN</td>\n",
       "      <td>NaN</td>\n",
       "      <td>34.0</td>\n",
       "    </tr>\n",
       "    <tr>\n",
       "      <th>2603</th>\n",
       "      <td>20</td>\n",
       "      <td>3351765.0</td>\n",
       "      <td>42.70</td>\n",
       "      <td>2015-09-20</td>\n",
       "      <td>1</td>\n",
       "      <td>NaN</td>\n",
       "      <td>24.0</td>\n",
       "      <td>15.60</td>\n",
       "      <td>3</td>\n",
       "      <td>NaN</td>\n",
       "      <td>...</td>\n",
       "      <td>10.70</td>\n",
       "      <td>0.0</td>\n",
       "      <td>NaN</td>\n",
       "      <td>22041.0</td>\n",
       "      <td>17369.0</td>\n",
       "      <td>0.0</td>\n",
       "      <td>NaN</td>\n",
       "      <td>1.0</td>\n",
       "      <td>374.0</td>\n",
       "      <td>276.0</td>\n",
       "    </tr>\n",
       "    <tr>\n",
       "      <th>2632</th>\n",
       "      <td>2</td>\n",
       "      <td>5130593.0</td>\n",
       "      <td>62.40</td>\n",
       "      <td>2015-10-11</td>\n",
       "      <td>2</td>\n",
       "      <td>NaN</td>\n",
       "      <td>24.0</td>\n",
       "      <td>33.10</td>\n",
       "      <td>21</td>\n",
       "      <td>NaN</td>\n",
       "      <td>...</td>\n",
       "      <td>8.20</td>\n",
       "      <td>0.0</td>\n",
       "      <td>NaN</td>\n",
       "      <td>22041.0</td>\n",
       "      <td>17369.0</td>\n",
       "      <td>0.0</td>\n",
       "      <td>NaN</td>\n",
       "      <td>1.0</td>\n",
       "      <td>374.0</td>\n",
       "      <td>256.0</td>\n",
       "    </tr>\n",
       "    <tr>\n",
       "      <th>3574</th>\n",
       "      <td>10</td>\n",
       "      <td>4200000.0</td>\n",
       "      <td>46.50</td>\n",
       "      <td>2016-05-28</td>\n",
       "      <td>2</td>\n",
       "      <td>NaN</td>\n",
       "      <td>5.0</td>\n",
       "      <td>30.80</td>\n",
       "      <td>5</td>\n",
       "      <td>NaN</td>\n",
       "      <td>...</td>\n",
       "      <td>6.50</td>\n",
       "      <td>0.0</td>\n",
       "      <td>NaN</td>\n",
       "      <td>27419.0</td>\n",
       "      <td>8127.0</td>\n",
       "      <td>0.0</td>\n",
       "      <td>NaN</td>\n",
       "      <td>1.0</td>\n",
       "      <td>603.0</td>\n",
       "      <td>45.0</td>\n",
       "    </tr>\n",
       "    <tr>\n",
       "      <th>4151</th>\n",
       "      <td>17</td>\n",
       "      <td>17600000.0</td>\n",
       "      <td>89.50</td>\n",
       "      <td>2014-12-09</td>\n",
       "      <td>2</td>\n",
       "      <td>3.00</td>\n",
       "      <td>8.0</td>\n",
       "      <td>39.62</td>\n",
       "      <td>7</td>\n",
       "      <td>NaN</td>\n",
       "      <td>...</td>\n",
       "      <td>13.38</td>\n",
       "      <td>0.0</td>\n",
       "      <td>NaN</td>\n",
       "      <td>25054.0</td>\n",
       "      <td>3902.0</td>\n",
       "      <td>1.0</td>\n",
       "      <td>485.0</td>\n",
       "      <td>3.0</td>\n",
       "      <td>722.0</td>\n",
       "      <td>869.0</td>\n",
       "    </tr>\n",
       "    <tr>\n",
       "      <th>4189</th>\n",
       "      <td>7</td>\n",
       "      <td>9200000.0</td>\n",
       "      <td>80.00</td>\n",
       "      <td>2015-12-10</td>\n",
       "      <td>3</td>\n",
       "      <td>4.00</td>\n",
       "      <td>4.0</td>\n",
       "      <td>52.30</td>\n",
       "      <td>3</td>\n",
       "      <td>False</td>\n",
       "      <td>...</td>\n",
       "      <td>10.40</td>\n",
       "      <td>0.0</td>\n",
       "      <td>NaN</td>\n",
       "      <td>21774.0</td>\n",
       "      <td>3039.0</td>\n",
       "      <td>1.0</td>\n",
       "      <td>690.0</td>\n",
       "      <td>1.0</td>\n",
       "      <td>953.0</td>\n",
       "      <td>223.0</td>\n",
       "    </tr>\n",
       "    <tr>\n",
       "      <th>4670</th>\n",
       "      <td>1</td>\n",
       "      <td>5500000.0</td>\n",
       "      <td>83.00</td>\n",
       "      <td>2015-08-14</td>\n",
       "      <td>3</td>\n",
       "      <td>NaN</td>\n",
       "      <td>7.0</td>\n",
       "      <td>NaN</td>\n",
       "      <td>6</td>\n",
       "      <td>NaN</td>\n",
       "      <td>...</td>\n",
       "      <td>NaN</td>\n",
       "      <td>0.0</td>\n",
       "      <td>NaN</td>\n",
       "      <td>26534.0</td>\n",
       "      <td>5382.0</td>\n",
       "      <td>1.0</td>\n",
       "      <td>446.0</td>\n",
       "      <td>1.0</td>\n",
       "      <td>376.0</td>\n",
       "      <td>350.0</td>\n",
       "    </tr>\n",
       "    <tr>\n",
       "      <th>5343</th>\n",
       "      <td>19</td>\n",
       "      <td>13540000.0</td>\n",
       "      <td>85.50</td>\n",
       "      <td>2016-01-20</td>\n",
       "      <td>3</td>\n",
       "      <td>NaN</td>\n",
       "      <td>7.0</td>\n",
       "      <td>59.10</td>\n",
       "      <td>5</td>\n",
       "      <td>False</td>\n",
       "      <td>...</td>\n",
       "      <td>8.30</td>\n",
       "      <td>4.0</td>\n",
       "      <td>NaN</td>\n",
       "      <td>10556.0</td>\n",
       "      <td>9538.0</td>\n",
       "      <td>1.0</td>\n",
       "      <td>67.0</td>\n",
       "      <td>0.0</td>\n",
       "      <td>NaN</td>\n",
       "      <td>303.0</td>\n",
       "    </tr>\n",
       "    <tr>\n",
       "      <th>5707</th>\n",
       "      <td>7</td>\n",
       "      <td>3700000.0</td>\n",
       "      <td>30.00</td>\n",
       "      <td>2016-04-29</td>\n",
       "      <td>1</td>\n",
       "      <td>NaN</td>\n",
       "      <td>24.0</td>\n",
       "      <td>20.00</td>\n",
       "      <td>23</td>\n",
       "      <td>NaN</td>\n",
       "      <td>...</td>\n",
       "      <td>NaN</td>\n",
       "      <td>0.0</td>\n",
       "      <td>NaN</td>\n",
       "      <td>21460.0</td>\n",
       "      <td>16788.0</td>\n",
       "      <td>0.0</td>\n",
       "      <td>NaN</td>\n",
       "      <td>1.0</td>\n",
       "      <td>170.0</td>\n",
       "      <td>49.0</td>\n",
       "    </tr>\n",
       "    <tr>\n",
       "      <th>6765</th>\n",
       "      <td>20</td>\n",
       "      <td>4895892.0</td>\n",
       "      <td>60.70</td>\n",
       "      <td>2015-03-12</td>\n",
       "      <td>2</td>\n",
       "      <td>NaN</td>\n",
       "      <td>24.0</td>\n",
       "      <td>31.90</td>\n",
       "      <td>3</td>\n",
       "      <td>NaN</td>\n",
       "      <td>...</td>\n",
       "      <td>12.20</td>\n",
       "      <td>0.0</td>\n",
       "      <td>NaN</td>\n",
       "      <td>22041.0</td>\n",
       "      <td>17369.0</td>\n",
       "      <td>0.0</td>\n",
       "      <td>NaN</td>\n",
       "      <td>1.0</td>\n",
       "      <td>374.0</td>\n",
       "      <td>468.0</td>\n",
       "    </tr>\n",
       "    <tr>\n",
       "      <th>7114</th>\n",
       "      <td>5</td>\n",
       "      <td>4250000.0</td>\n",
       "      <td>56.00</td>\n",
       "      <td>2016-03-16</td>\n",
       "      <td>3</td>\n",
       "      <td>NaN</td>\n",
       "      <td>5.0</td>\n",
       "      <td>40.00</td>\n",
       "      <td>4</td>\n",
       "      <td>NaN</td>\n",
       "      <td>...</td>\n",
       "      <td>6.00</td>\n",
       "      <td>0.0</td>\n",
       "      <td>NaN</td>\n",
       "      <td>14031.0</td>\n",
       "      <td>8582.0</td>\n",
       "      <td>0.0</td>\n",
       "      <td>NaN</td>\n",
       "      <td>0.0</td>\n",
       "      <td>NaN</td>\n",
       "      <td>96.0</td>\n",
       "    </tr>\n",
       "    <tr>\n",
       "      <th>7330</th>\n",
       "      <td>8</td>\n",
       "      <td>5100000.0</td>\n",
       "      <td>63.00</td>\n",
       "      <td>2015-01-27</td>\n",
       "      <td>3</td>\n",
       "      <td>NaN</td>\n",
       "      <td>5.0</td>\n",
       "      <td>42.00</td>\n",
       "      <td>1</td>\n",
       "      <td>False</td>\n",
       "      <td>...</td>\n",
       "      <td>7.50</td>\n",
       "      <td>0.0</td>\n",
       "      <td>NaN</td>\n",
       "      <td>25925.0</td>\n",
       "      <td>4627.0</td>\n",
       "      <td>2.0</td>\n",
       "      <td>459.0</td>\n",
       "      <td>0.0</td>\n",
       "      <td>NaN</td>\n",
       "      <td>566.0</td>\n",
       "    </tr>\n",
       "    <tr>\n",
       "      <th>7600</th>\n",
       "      <td>8</td>\n",
       "      <td>6800000.0</td>\n",
       "      <td>70.00</td>\n",
       "      <td>2016-01-31</td>\n",
       "      <td>3</td>\n",
       "      <td>NaN</td>\n",
       "      <td>11.0</td>\n",
       "      <td>42.00</td>\n",
       "      <td>9</td>\n",
       "      <td>NaN</td>\n",
       "      <td>...</td>\n",
       "      <td>11.00</td>\n",
       "      <td>1.0</td>\n",
       "      <td>NaN</td>\n",
       "      <td>37123.0</td>\n",
       "      <td>12332.0</td>\n",
       "      <td>0.0</td>\n",
       "      <td>NaN</td>\n",
       "      <td>0.0</td>\n",
       "      <td>NaN</td>\n",
       "      <td>209.0</td>\n",
       "    </tr>\n",
       "    <tr>\n",
       "      <th>8568</th>\n",
       "      <td>10</td>\n",
       "      <td>16000000.0</td>\n",
       "      <td>155.00</td>\n",
       "      <td>2016-05-09</td>\n",
       "      <td>3</td>\n",
       "      <td>NaN</td>\n",
       "      <td>6.0</td>\n",
       "      <td>94.00</td>\n",
       "      <td>3</td>\n",
       "      <td>NaN</td>\n",
       "      <td>...</td>\n",
       "      <td>23.00</td>\n",
       "      <td>0.0</td>\n",
       "      <td>NaN</td>\n",
       "      <td>24233.0</td>\n",
       "      <td>4065.0</td>\n",
       "      <td>1.0</td>\n",
       "      <td>547.0</td>\n",
       "      <td>0.0</td>\n",
       "      <td>NaN</td>\n",
       "      <td>248.0</td>\n",
       "    </tr>\n",
       "    <tr>\n",
       "      <th>8986</th>\n",
       "      <td>10</td>\n",
       "      <td>4850000.0</td>\n",
       "      <td>103.10</td>\n",
       "      <td>2018-07-10</td>\n",
       "      <td>3</td>\n",
       "      <td>NaN</td>\n",
       "      <td>NaN</td>\n",
       "      <td>68.10</td>\n",
       "      <td>4</td>\n",
       "      <td>NaN</td>\n",
       "      <td>...</td>\n",
       "      <td>16.70</td>\n",
       "      <td>NaN</td>\n",
       "      <td>NaN</td>\n",
       "      <td>19659.0</td>\n",
       "      <td>31813.0</td>\n",
       "      <td>0.0</td>\n",
       "      <td>NaN</td>\n",
       "      <td>0.0</td>\n",
       "      <td>NaN</td>\n",
       "      <td>28.0</td>\n",
       "    </tr>\n",
       "    <tr>\n",
       "      <th>9821</th>\n",
       "      <td>13</td>\n",
       "      <td>8000000.0</td>\n",
       "      <td>94.50</td>\n",
       "      <td>2015-01-21</td>\n",
       "      <td>4</td>\n",
       "      <td>3.00</td>\n",
       "      <td>2.0</td>\n",
       "      <td>57.80</td>\n",
       "      <td>2</td>\n",
       "      <td>NaN</td>\n",
       "      <td>...</td>\n",
       "      <td>11.30</td>\n",
       "      <td>0.0</td>\n",
       "      <td>NaN</td>\n",
       "      <td>24953.0</td>\n",
       "      <td>3801.0</td>\n",
       "      <td>1.0</td>\n",
       "      <td>375.0</td>\n",
       "      <td>2.0</td>\n",
       "      <td>532.0</td>\n",
       "      <td>531.0</td>\n",
       "    </tr>\n",
       "    <tr>\n",
       "      <th>10122</th>\n",
       "      <td>5</td>\n",
       "      <td>8200000.0</td>\n",
       "      <td>83.00</td>\n",
       "      <td>2015-06-24</td>\n",
       "      <td>4</td>\n",
       "      <td>NaN</td>\n",
       "      <td>5.0</td>\n",
       "      <td>53.00</td>\n",
       "      <td>2</td>\n",
       "      <td>NaN</td>\n",
       "      <td>...</td>\n",
       "      <td>10.00</td>\n",
       "      <td>0.0</td>\n",
       "      <td>NaN</td>\n",
       "      <td>25771.0</td>\n",
       "      <td>4474.0</td>\n",
       "      <td>2.0</td>\n",
       "      <td>374.0</td>\n",
       "      <td>0.0</td>\n",
       "      <td>NaN</td>\n",
       "      <td>364.0</td>\n",
       "    </tr>\n",
       "    <tr>\n",
       "      <th>11248</th>\n",
       "      <td>12</td>\n",
       "      <td>6300000.0</td>\n",
       "      <td>63.10</td>\n",
       "      <td>2015-01-16</td>\n",
       "      <td>4</td>\n",
       "      <td>NaN</td>\n",
       "      <td>8.0</td>\n",
       "      <td>44.00</td>\n",
       "      <td>7</td>\n",
       "      <td>NaN</td>\n",
       "      <td>...</td>\n",
       "      <td>8.70</td>\n",
       "      <td>0.0</td>\n",
       "      <td>NaN</td>\n",
       "      <td>25221.0</td>\n",
       "      <td>4069.0</td>\n",
       "      <td>0.0</td>\n",
       "      <td>NaN</td>\n",
       "      <td>2.0</td>\n",
       "      <td>653.0</td>\n",
       "      <td>551.0</td>\n",
       "    </tr>\n",
       "    <tr>\n",
       "      <th>12879</th>\n",
       "      <td>12</td>\n",
       "      <td>4400000.0</td>\n",
       "      <td>39.20</td>\n",
       "      <td>2016-04-26</td>\n",
       "      <td>1</td>\n",
       "      <td>NaN</td>\n",
       "      <td>12.0</td>\n",
       "      <td>20.00</td>\n",
       "      <td>12</td>\n",
       "      <td>False</td>\n",
       "      <td>...</td>\n",
       "      <td>7.90</td>\n",
       "      <td>0.0</td>\n",
       "      <td>NaN</td>\n",
       "      <td>37123.0</td>\n",
       "      <td>12332.0</td>\n",
       "      <td>0.0</td>\n",
       "      <td>NaN</td>\n",
       "      <td>0.0</td>\n",
       "      <td>NaN</td>\n",
       "      <td>179.0</td>\n",
       "    </tr>\n",
       "    <tr>\n",
       "      <th>12936</th>\n",
       "      <td>6</td>\n",
       "      <td>6800000.0</td>\n",
       "      <td>73.00</td>\n",
       "      <td>2015-11-01</td>\n",
       "      <td>3</td>\n",
       "      <td>NaN</td>\n",
       "      <td>5.0</td>\n",
       "      <td>53.10</td>\n",
       "      <td>2</td>\n",
       "      <td>NaN</td>\n",
       "      <td>...</td>\n",
       "      <td>8.20</td>\n",
       "      <td>0.0</td>\n",
       "      <td>NaN</td>\n",
       "      <td>25680.0</td>\n",
       "      <td>4383.0</td>\n",
       "      <td>3.0</td>\n",
       "      <td>336.0</td>\n",
       "      <td>0.0</td>\n",
       "      <td>NaN</td>\n",
       "      <td>542.0</td>\n",
       "    </tr>\n",
       "    <tr>\n",
       "      <th>13223</th>\n",
       "      <td>1</td>\n",
       "      <td>2919911.0</td>\n",
       "      <td>29.40</td>\n",
       "      <td>2015-03-12</td>\n",
       "      <td>1</td>\n",
       "      <td>2.75</td>\n",
       "      <td>24.0</td>\n",
       "      <td>21.10</td>\n",
       "      <td>2</td>\n",
       "      <td>NaN</td>\n",
       "      <td>...</td>\n",
       "      <td>NaN</td>\n",
       "      <td>0.0</td>\n",
       "      <td>NaN</td>\n",
       "      <td>22041.0</td>\n",
       "      <td>17369.0</td>\n",
       "      <td>0.0</td>\n",
       "      <td>NaN</td>\n",
       "      <td>1.0</td>\n",
       "      <td>374.0</td>\n",
       "      <td>470.0</td>\n",
       "    </tr>\n",
       "    <tr>\n",
       "      <th>13690</th>\n",
       "      <td>7</td>\n",
       "      <td>3500000.0</td>\n",
       "      <td>71.00</td>\n",
       "      <td>2016-06-23</td>\n",
       "      <td>3</td>\n",
       "      <td>2.75</td>\n",
       "      <td>2.0</td>\n",
       "      <td>45.60</td>\n",
       "      <td>1</td>\n",
       "      <td>False</td>\n",
       "      <td>...</td>\n",
       "      <td>8.00</td>\n",
       "      <td>2.0</td>\n",
       "      <td>NaN</td>\n",
       "      <td>20234.0</td>\n",
       "      <td>23659.0</td>\n",
       "      <td>0.0</td>\n",
       "      <td>NaN</td>\n",
       "      <td>2.0</td>\n",
       "      <td>296.0</td>\n",
       "      <td>92.0</td>\n",
       "    </tr>\n",
       "    <tr>\n",
       "      <th>14273</th>\n",
       "      <td>2</td>\n",
       "      <td>4422000.0</td>\n",
       "      <td>60.00</td>\n",
       "      <td>2016-03-23</td>\n",
       "      <td>2</td>\n",
       "      <td>2.75</td>\n",
       "      <td>23.0</td>\n",
       "      <td>32.00</td>\n",
       "      <td>14</td>\n",
       "      <td>NaN</td>\n",
       "      <td>...</td>\n",
       "      <td>11.90</td>\n",
       "      <td>0.0</td>\n",
       "      <td>NaN</td>\n",
       "      <td>22041.0</td>\n",
       "      <td>17369.0</td>\n",
       "      <td>0.0</td>\n",
       "      <td>NaN</td>\n",
       "      <td>1.0</td>\n",
       "      <td>374.0</td>\n",
       "      <td>90.0</td>\n",
       "    </tr>\n",
       "    <tr>\n",
       "      <th>14342</th>\n",
       "      <td>3</td>\n",
       "      <td>3611000.0</td>\n",
       "      <td>53.50</td>\n",
       "      <td>2017-04-27</td>\n",
       "      <td>1</td>\n",
       "      <td>NaN</td>\n",
       "      <td>4.0</td>\n",
       "      <td>25.80</td>\n",
       "      <td>3</td>\n",
       "      <td>False</td>\n",
       "      <td>...</td>\n",
       "      <td>NaN</td>\n",
       "      <td>1.0</td>\n",
       "      <td>NaN</td>\n",
       "      <td>NaN</td>\n",
       "      <td>NaN</td>\n",
       "      <td>NaN</td>\n",
       "      <td>NaN</td>\n",
       "      <td>NaN</td>\n",
       "      <td>NaN</td>\n",
       "      <td>92.0</td>\n",
       "    </tr>\n",
       "    <tr>\n",
       "      <th>15686</th>\n",
       "      <td>13</td>\n",
       "      <td>4700000.0</td>\n",
       "      <td>44.00</td>\n",
       "      <td>2015-12-01</td>\n",
       "      <td>2</td>\n",
       "      <td>NaN</td>\n",
       "      <td>5.0</td>\n",
       "      <td>28.00</td>\n",
       "      <td>3</td>\n",
       "      <td>NaN</td>\n",
       "      <td>...</td>\n",
       "      <td>5.00</td>\n",
       "      <td>0.0</td>\n",
       "      <td>NaN</td>\n",
       "      <td>35920.0</td>\n",
       "      <td>9633.0</td>\n",
       "      <td>2.0</td>\n",
       "      <td>472.0</td>\n",
       "      <td>3.0</td>\n",
       "      <td>535.0</td>\n",
       "      <td>280.0</td>\n",
       "    </tr>\n",
       "    <tr>\n",
       "      <th>15866</th>\n",
       "      <td>10</td>\n",
       "      <td>3950000.0</td>\n",
       "      <td>44.00</td>\n",
       "      <td>2016-04-16</td>\n",
       "      <td>2</td>\n",
       "      <td>2.70</td>\n",
       "      <td>5.0</td>\n",
       "      <td>28.50</td>\n",
       "      <td>5</td>\n",
       "      <td>False</td>\n",
       "      <td>...</td>\n",
       "      <td>5.50</td>\n",
       "      <td>1.0</td>\n",
       "      <td>NaN</td>\n",
       "      <td>36380.0</td>\n",
       "      <td>9497.0</td>\n",
       "      <td>1.0</td>\n",
       "      <td>634.0</td>\n",
       "      <td>3.0</td>\n",
       "      <td>513.0</td>\n",
       "      <td>85.0</td>\n",
       "    </tr>\n",
       "    <tr>\n",
       "      <th>16499</th>\n",
       "      <td>2</td>\n",
       "      <td>4995573.0</td>\n",
       "      <td>56.90</td>\n",
       "      <td>2016-06-17</td>\n",
       "      <td>2</td>\n",
       "      <td>NaN</td>\n",
       "      <td>24.0</td>\n",
       "      <td>29.20</td>\n",
       "      <td>14</td>\n",
       "      <td>NaN</td>\n",
       "      <td>...</td>\n",
       "      <td>10.90</td>\n",
       "      <td>0.0</td>\n",
       "      <td>NaN</td>\n",
       "      <td>22041.0</td>\n",
       "      <td>17369.0</td>\n",
       "      <td>0.0</td>\n",
       "      <td>NaN</td>\n",
       "      <td>1.0</td>\n",
       "      <td>374.0</td>\n",
       "      <td>4.0</td>\n",
       "    </tr>\n",
       "    <tr>\n",
       "      <th>16561</th>\n",
       "      <td>3</td>\n",
       "      <td>2450000.0</td>\n",
       "      <td>30.00</td>\n",
       "      <td>2016-06-02</td>\n",
       "      <td>1</td>\n",
       "      <td>NaN</td>\n",
       "      <td>4.0</td>\n",
       "      <td>17.00</td>\n",
       "      <td>2</td>\n",
       "      <td>NaN</td>\n",
       "      <td>...</td>\n",
       "      <td>6.00</td>\n",
       "      <td>1.0</td>\n",
       "      <td>NaN</td>\n",
       "      <td>21731.0</td>\n",
       "      <td>8619.0</td>\n",
       "      <td>0.0</td>\n",
       "      <td>NaN</td>\n",
       "      <td>3.0</td>\n",
       "      <td>162.0</td>\n",
       "      <td>140.0</td>\n",
       "    </tr>\n",
       "    <tr>\n",
       "      <th>16610</th>\n",
       "      <td>11</td>\n",
       "      <td>11940000.0</td>\n",
       "      <td>112.00</td>\n",
       "      <td>2015-11-19</td>\n",
       "      <td>3</td>\n",
       "      <td>3.00</td>\n",
       "      <td>5.0</td>\n",
       "      <td>64.00</td>\n",
       "      <td>2</td>\n",
       "      <td>NaN</td>\n",
       "      <td>...</td>\n",
       "      <td>23.00</td>\n",
       "      <td>0.0</td>\n",
       "      <td>NaN</td>\n",
       "      <td>21219.0</td>\n",
       "      <td>1322.0</td>\n",
       "      <td>1.0</td>\n",
       "      <td>740.0</td>\n",
       "      <td>3.0</td>\n",
       "      <td>365.0</td>\n",
       "      <td>319.0</td>\n",
       "    </tr>\n",
       "    <tr>\n",
       "      <th>17535</th>\n",
       "      <td>2</td>\n",
       "      <td>5985000.0</td>\n",
       "      <td>79.80</td>\n",
       "      <td>2018-07-30</td>\n",
       "      <td>3</td>\n",
       "      <td>NaN</td>\n",
       "      <td>9.0</td>\n",
       "      <td>NaN</td>\n",
       "      <td>2</td>\n",
       "      <td>False</td>\n",
       "      <td>...</td>\n",
       "      <td>NaN</td>\n",
       "      <td>NaN</td>\n",
       "      <td>NaN</td>\n",
       "      <td>NaN</td>\n",
       "      <td>NaN</td>\n",
       "      <td>NaN</td>\n",
       "      <td>NaN</td>\n",
       "      <td>NaN</td>\n",
       "      <td>NaN</td>\n",
       "      <td>213.0</td>\n",
       "    </tr>\n",
       "    <tr>\n",
       "      <th>17764</th>\n",
       "      <td>9</td>\n",
       "      <td>8400000.0</td>\n",
       "      <td>94.00</td>\n",
       "      <td>2016-01-24</td>\n",
       "      <td>3</td>\n",
       "      <td>NaN</td>\n",
       "      <td>23.0</td>\n",
       "      <td>52.00</td>\n",
       "      <td>5</td>\n",
       "      <td>NaN</td>\n",
       "      <td>...</td>\n",
       "      <td>NaN</td>\n",
       "      <td>0.0</td>\n",
       "      <td>NaN</td>\n",
       "      <td>36865.0</td>\n",
       "      <td>10976.0</td>\n",
       "      <td>0.0</td>\n",
       "      <td>NaN</td>\n",
       "      <td>1.0</td>\n",
       "      <td>856.0</td>\n",
       "      <td>305.0</td>\n",
       "    </tr>\n",
       "    <tr>\n",
       "      <th>18526</th>\n",
       "      <td>3</td>\n",
       "      <td>10800000.0</td>\n",
       "      <td>86.00</td>\n",
       "      <td>2016-06-24</td>\n",
       "      <td>4</td>\n",
       "      <td>3.20</td>\n",
       "      <td>7.0</td>\n",
       "      <td>48.00</td>\n",
       "      <td>2</td>\n",
       "      <td>NaN</td>\n",
       "      <td>...</td>\n",
       "      <td>12.00</td>\n",
       "      <td>0.0</td>\n",
       "      <td>NaN</td>\n",
       "      <td>11206.0</td>\n",
       "      <td>8943.0</td>\n",
       "      <td>0.0</td>\n",
       "      <td>NaN</td>\n",
       "      <td>0.0</td>\n",
       "      <td>NaN</td>\n",
       "      <td>65.0</td>\n",
       "    </tr>\n",
       "    <tr>\n",
       "      <th>18917</th>\n",
       "      <td>3</td>\n",
       "      <td>2660000.0</td>\n",
       "      <td>37.99</td>\n",
       "      <td>2017-08-17</td>\n",
       "      <td>1</td>\n",
       "      <td>NaN</td>\n",
       "      <td>4.0</td>\n",
       "      <td>13.00</td>\n",
       "      <td>1</td>\n",
       "      <td>NaN</td>\n",
       "      <td>...</td>\n",
       "      <td>12.40</td>\n",
       "      <td>0.0</td>\n",
       "      <td>NaN</td>\n",
       "      <td>21540.0</td>\n",
       "      <td>8429.0</td>\n",
       "      <td>0.0</td>\n",
       "      <td>NaN</td>\n",
       "      <td>3.0</td>\n",
       "      <td>142.0</td>\n",
       "      <td>15.0</td>\n",
       "    </tr>\n",
       "    <tr>\n",
       "      <th>19045</th>\n",
       "      <td>6</td>\n",
       "      <td>4650000.0</td>\n",
       "      <td>48.00</td>\n",
       "      <td>2016-01-25</td>\n",
       "      <td>2</td>\n",
       "      <td>3.12</td>\n",
       "      <td>5.0</td>\n",
       "      <td>26.20</td>\n",
       "      <td>1</td>\n",
       "      <td>False</td>\n",
       "      <td>...</td>\n",
       "      <td>8.00</td>\n",
       "      <td>0.0</td>\n",
       "      <td>NaN</td>\n",
       "      <td>21654.0</td>\n",
       "      <td>3312.0</td>\n",
       "      <td>1.0</td>\n",
       "      <td>549.0</td>\n",
       "      <td>1.0</td>\n",
       "      <td>858.0</td>\n",
       "      <td>254.0</td>\n",
       "    </tr>\n",
       "    <tr>\n",
       "      <th>19972</th>\n",
       "      <td>20</td>\n",
       "      <td>4361004.0</td>\n",
       "      <td>62.40</td>\n",
       "      <td>2015-09-20</td>\n",
       "      <td>2</td>\n",
       "      <td>NaN</td>\n",
       "      <td>24.0</td>\n",
       "      <td>33.10</td>\n",
       "      <td>21</td>\n",
       "      <td>NaN</td>\n",
       "      <td>...</td>\n",
       "      <td>8.20</td>\n",
       "      <td>0.0</td>\n",
       "      <td>NaN</td>\n",
       "      <td>22041.0</td>\n",
       "      <td>17369.0</td>\n",
       "      <td>0.0</td>\n",
       "      <td>NaN</td>\n",
       "      <td>1.0</td>\n",
       "      <td>374.0</td>\n",
       "      <td>278.0</td>\n",
       "    </tr>\n",
       "    <tr>\n",
       "      <th>20057</th>\n",
       "      <td>13</td>\n",
       "      <td>11500000.0</td>\n",
       "      <td>102.00</td>\n",
       "      <td>2015-10-14</td>\n",
       "      <td>2</td>\n",
       "      <td>NaN</td>\n",
       "      <td>5.0</td>\n",
       "      <td>70.00</td>\n",
       "      <td>2</td>\n",
       "      <td>NaN</td>\n",
       "      <td>...</td>\n",
       "      <td>NaN</td>\n",
       "      <td>0.0</td>\n",
       "      <td>NaN</td>\n",
       "      <td>23478.0</td>\n",
       "      <td>4258.0</td>\n",
       "      <td>0.0</td>\n",
       "      <td>NaN</td>\n",
       "      <td>0.0</td>\n",
       "      <td>NaN</td>\n",
       "      <td>325.0</td>\n",
       "    </tr>\n",
       "    <tr>\n",
       "      <th>20382</th>\n",
       "      <td>8</td>\n",
       "      <td>1750000.0</td>\n",
       "      <td>72.90</td>\n",
       "      <td>2018-10-27</td>\n",
       "      <td>3</td>\n",
       "      <td>NaN</td>\n",
       "      <td>5.0</td>\n",
       "      <td>47.30</td>\n",
       "      <td>2</td>\n",
       "      <td>NaN</td>\n",
       "      <td>...</td>\n",
       "      <td>8.30</td>\n",
       "      <td>NaN</td>\n",
       "      <td>NaN</td>\n",
       "      <td>NaN</td>\n",
       "      <td>NaN</td>\n",
       "      <td>NaN</td>\n",
       "      <td>NaN</td>\n",
       "      <td>NaN</td>\n",
       "      <td>NaN</td>\n",
       "      <td>NaN</td>\n",
       "    </tr>\n",
       "    <tr>\n",
       "      <th>20590</th>\n",
       "      <td>7</td>\n",
       "      <td>3380000.0</td>\n",
       "      <td>56.00</td>\n",
       "      <td>2017-11-06</td>\n",
       "      <td>2</td>\n",
       "      <td>2.70</td>\n",
       "      <td>4.0</td>\n",
       "      <td>29.00</td>\n",
       "      <td>3</td>\n",
       "      <td>NaN</td>\n",
       "      <td>...</td>\n",
       "      <td>10.00</td>\n",
       "      <td>1.0</td>\n",
       "      <td>NaN</td>\n",
       "      <td>NaN</td>\n",
       "      <td>NaN</td>\n",
       "      <td>NaN</td>\n",
       "      <td>NaN</td>\n",
       "      <td>NaN</td>\n",
       "      <td>NaN</td>\n",
       "      <td>78.0</td>\n",
       "    </tr>\n",
       "    <tr>\n",
       "      <th>20654</th>\n",
       "      <td>7</td>\n",
       "      <td>6100000.0</td>\n",
       "      <td>43.00</td>\n",
       "      <td>2016-01-13</td>\n",
       "      <td>1</td>\n",
       "      <td>NaN</td>\n",
       "      <td>5.0</td>\n",
       "      <td>21.00</td>\n",
       "      <td>3</td>\n",
       "      <td>NaN</td>\n",
       "      <td>...</td>\n",
       "      <td>12.00</td>\n",
       "      <td>1.0</td>\n",
       "      <td>NaN</td>\n",
       "      <td>24385.0</td>\n",
       "      <td>4604.0</td>\n",
       "      <td>1.0</td>\n",
       "      <td>700.0</td>\n",
       "      <td>0.0</td>\n",
       "      <td>NaN</td>\n",
       "      <td>164.0</td>\n",
       "    </tr>\n",
       "    <tr>\n",
       "      <th>21119</th>\n",
       "      <td>8</td>\n",
       "      <td>3500000.0</td>\n",
       "      <td>43.20</td>\n",
       "      <td>2018-11-11</td>\n",
       "      <td>2</td>\n",
       "      <td>NaN</td>\n",
       "      <td>4.0</td>\n",
       "      <td>NaN</td>\n",
       "      <td>2</td>\n",
       "      <td>NaN</td>\n",
       "      <td>...</td>\n",
       "      <td>NaN</td>\n",
       "      <td>NaN</td>\n",
       "      <td>NaN</td>\n",
       "      <td>19744.0</td>\n",
       "      <td>31897.0</td>\n",
       "      <td>0.0</td>\n",
       "      <td>NaN</td>\n",
       "      <td>0.0</td>\n",
       "      <td>NaN</td>\n",
       "      <td>9.0</td>\n",
       "    </tr>\n",
       "    <tr>\n",
       "      <th>21276</th>\n",
       "      <td>0</td>\n",
       "      <td>17122148.0</td>\n",
       "      <td>178.30</td>\n",
       "      <td>2017-02-10</td>\n",
       "      <td>1</td>\n",
       "      <td>NaN</td>\n",
       "      <td>3.0</td>\n",
       "      <td>NaN</td>\n",
       "      <td>1</td>\n",
       "      <td>NaN</td>\n",
       "      <td>...</td>\n",
       "      <td>41.60</td>\n",
       "      <td>1.0</td>\n",
       "      <td>NaN</td>\n",
       "      <td>60195.0</td>\n",
       "      <td>41294.0</td>\n",
       "      <td>0.0</td>\n",
       "      <td>NaN</td>\n",
       "      <td>0.0</td>\n",
       "      <td>NaN</td>\n",
       "      <td>4.0</td>\n",
       "    </tr>\n",
       "    <tr>\n",
       "      <th>21333</th>\n",
       "      <td>10</td>\n",
       "      <td>5900000.0</td>\n",
       "      <td>58.00</td>\n",
       "      <td>2015-03-12</td>\n",
       "      <td>3</td>\n",
       "      <td>NaN</td>\n",
       "      <td>6.0</td>\n",
       "      <td>35.20</td>\n",
       "      <td>6</td>\n",
       "      <td>False</td>\n",
       "      <td>...</td>\n",
       "      <td>11.00</td>\n",
       "      <td>0.0</td>\n",
       "      <td>NaN</td>\n",
       "      <td>26090.0</td>\n",
       "      <td>4805.0</td>\n",
       "      <td>0.0</td>\n",
       "      <td>NaN</td>\n",
       "      <td>1.0</td>\n",
       "      <td>943.0</td>\n",
       "      <td>486.0</td>\n",
       "    </tr>\n",
       "    <tr>\n",
       "      <th>21715</th>\n",
       "      <td>2</td>\n",
       "      <td>6047550.0</td>\n",
       "      <td>80.10</td>\n",
       "      <td>2018-07-30</td>\n",
       "      <td>2</td>\n",
       "      <td>NaN</td>\n",
       "      <td>9.0</td>\n",
       "      <td>30.50</td>\n",
       "      <td>2</td>\n",
       "      <td>False</td>\n",
       "      <td>...</td>\n",
       "      <td>29.20</td>\n",
       "      <td>NaN</td>\n",
       "      <td>NaN</td>\n",
       "      <td>NaN</td>\n",
       "      <td>NaN</td>\n",
       "      <td>NaN</td>\n",
       "      <td>NaN</td>\n",
       "      <td>NaN</td>\n",
       "      <td>NaN</td>\n",
       "      <td>176.0</td>\n",
       "    </tr>\n",
       "    <tr>\n",
       "      <th>21898</th>\n",
       "      <td>2</td>\n",
       "      <td>5886750.0</td>\n",
       "      <td>83.50</td>\n",
       "      <td>2018-07-30</td>\n",
       "      <td>2</td>\n",
       "      <td>NaN</td>\n",
       "      <td>9.0</td>\n",
       "      <td>36.60</td>\n",
       "      <td>2</td>\n",
       "      <td>False</td>\n",
       "      <td>...</td>\n",
       "      <td>29.70</td>\n",
       "      <td>NaN</td>\n",
       "      <td>NaN</td>\n",
       "      <td>NaN</td>\n",
       "      <td>NaN</td>\n",
       "      <td>NaN</td>\n",
       "      <td>NaN</td>\n",
       "      <td>NaN</td>\n",
       "      <td>NaN</td>\n",
       "      <td>169.0</td>\n",
       "    </tr>\n",
       "    <tr>\n",
       "      <th>22474</th>\n",
       "      <td>7</td>\n",
       "      <td>24000000.0</td>\n",
       "      <td>128.00</td>\n",
       "      <td>2015-07-24</td>\n",
       "      <td>4</td>\n",
       "      <td>2.75</td>\n",
       "      <td>6.0</td>\n",
       "      <td>68.40</td>\n",
       "      <td>6</td>\n",
       "      <td>False</td>\n",
       "      <td>...</td>\n",
       "      <td>16.50</td>\n",
       "      <td>0.0</td>\n",
       "      <td>NaN</td>\n",
       "      <td>23297.0</td>\n",
       "      <td>1780.0</td>\n",
       "      <td>3.0</td>\n",
       "      <td>277.0</td>\n",
       "      <td>3.0</td>\n",
       "      <td>561.0</td>\n",
       "      <td>436.0</td>\n",
       "    </tr>\n",
       "    <tr>\n",
       "      <th>22717</th>\n",
       "      <td>9</td>\n",
       "      <td>3000000.0</td>\n",
       "      <td>35.00</td>\n",
       "      <td>2018-01-02</td>\n",
       "      <td>1</td>\n",
       "      <td>2.60</td>\n",
       "      <td>16.0</td>\n",
       "      <td>16.00</td>\n",
       "      <td>7</td>\n",
       "      <td>False</td>\n",
       "      <td>...</td>\n",
       "      <td>10.00</td>\n",
       "      <td>1.0</td>\n",
       "      <td>NaN</td>\n",
       "      <td>NaN</td>\n",
       "      <td>NaN</td>\n",
       "      <td>NaN</td>\n",
       "      <td>NaN</td>\n",
       "      <td>NaN</td>\n",
       "      <td>NaN</td>\n",
       "      <td>75.0</td>\n",
       "    </tr>\n",
       "    <tr>\n",
       "      <th>22933</th>\n",
       "      <td>20</td>\n",
       "      <td>3176015.0</td>\n",
       "      <td>33.30</td>\n",
       "      <td>2015-04-22</td>\n",
       "      <td>1</td>\n",
       "      <td>NaN</td>\n",
       "      <td>23.0</td>\n",
       "      <td>15.40</td>\n",
       "      <td>22</td>\n",
       "      <td>NaN</td>\n",
       "      <td>...</td>\n",
       "      <td>9.00</td>\n",
       "      <td>0.0</td>\n",
       "      <td>NaN</td>\n",
       "      <td>22041.0</td>\n",
       "      <td>17369.0</td>\n",
       "      <td>0.0</td>\n",
       "      <td>NaN</td>\n",
       "      <td>1.0</td>\n",
       "      <td>374.0</td>\n",
       "      <td>427.0</td>\n",
       "    </tr>\n",
       "    <tr>\n",
       "      <th>23214</th>\n",
       "      <td>3</td>\n",
       "      <td>7990000.0</td>\n",
       "      <td>56.00</td>\n",
       "      <td>2016-05-31</td>\n",
       "      <td>2</td>\n",
       "      <td>NaN</td>\n",
       "      <td>6.0</td>\n",
       "      <td>NaN</td>\n",
       "      <td>5</td>\n",
       "      <td>False</td>\n",
       "      <td>...</td>\n",
       "      <td>NaN</td>\n",
       "      <td>0.0</td>\n",
       "      <td>NaN</td>\n",
       "      <td>11206.0</td>\n",
       "      <td>8943.0</td>\n",
       "      <td>0.0</td>\n",
       "      <td>NaN</td>\n",
       "      <td>0.0</td>\n",
       "      <td>NaN</td>\n",
       "      <td>70.0</td>\n",
       "    </tr>\n",
       "  </tbody>\n",
       "</table>\n",
       "<p>49 rows × 22 columns</p>\n",
       "</div>"
      ],
      "text/plain": [
       "       total_images  last_price  total_area first_day_exposition  rooms  \\\n",
       "1097              3   8600000.0       81.70           2016-04-15      3   \n",
       "2033              6   5398000.0       80.00           2017-05-30      3   \n",
       "2603             20   3351765.0       42.70           2015-09-20      1   \n",
       "2632              2   5130593.0       62.40           2015-10-11      2   \n",
       "3574             10   4200000.0       46.50           2016-05-28      2   \n",
       "4151             17  17600000.0       89.50           2014-12-09      2   \n",
       "4189              7   9200000.0       80.00           2015-12-10      3   \n",
       "4670              1   5500000.0       83.00           2015-08-14      3   \n",
       "5343             19  13540000.0       85.50           2016-01-20      3   \n",
       "5707              7   3700000.0       30.00           2016-04-29      1   \n",
       "6765             20   4895892.0       60.70           2015-03-12      2   \n",
       "7114              5   4250000.0       56.00           2016-03-16      3   \n",
       "7330              8   5100000.0       63.00           2015-01-27      3   \n",
       "7600              8   6800000.0       70.00           2016-01-31      3   \n",
       "8568             10  16000000.0      155.00           2016-05-09      3   \n",
       "8986             10   4850000.0      103.10           2018-07-10      3   \n",
       "9821             13   8000000.0       94.50           2015-01-21      4   \n",
       "10122             5   8200000.0       83.00           2015-06-24      4   \n",
       "11248            12   6300000.0       63.10           2015-01-16      4   \n",
       "12879            12   4400000.0       39.20           2016-04-26      1   \n",
       "12936             6   6800000.0       73.00           2015-11-01      3   \n",
       "13223             1   2919911.0       29.40           2015-03-12      1   \n",
       "13690             7   3500000.0       71.00           2016-06-23      3   \n",
       "14273             2   4422000.0       60.00           2016-03-23      2   \n",
       "14342             3   3611000.0       53.50           2017-04-27      1   \n",
       "15686            13   4700000.0       44.00           2015-12-01      2   \n",
       "15866            10   3950000.0       44.00           2016-04-16      2   \n",
       "16499             2   4995573.0       56.90           2016-06-17      2   \n",
       "16561             3   2450000.0       30.00           2016-06-02      1   \n",
       "16610            11  11940000.0      112.00           2015-11-19      3   \n",
       "17535             2   5985000.0       79.80           2018-07-30      3   \n",
       "17764             9   8400000.0       94.00           2016-01-24      3   \n",
       "18526             3  10800000.0       86.00           2016-06-24      4   \n",
       "18917             3   2660000.0       37.99           2017-08-17      1   \n",
       "19045             6   4650000.0       48.00           2016-01-25      2   \n",
       "19972            20   4361004.0       62.40           2015-09-20      2   \n",
       "20057            13  11500000.0      102.00           2015-10-14      2   \n",
       "20382             8   1750000.0       72.90           2018-10-27      3   \n",
       "20590             7   3380000.0       56.00           2017-11-06      2   \n",
       "20654             7   6100000.0       43.00           2016-01-13      1   \n",
       "21119             8   3500000.0       43.20           2018-11-11      2   \n",
       "21276             0  17122148.0      178.30           2017-02-10      1   \n",
       "21333            10   5900000.0       58.00           2015-03-12      3   \n",
       "21715             2   6047550.0       80.10           2018-07-30      2   \n",
       "21898             2   5886750.0       83.50           2018-07-30      2   \n",
       "22474             7  24000000.0      128.00           2015-07-24      4   \n",
       "22717             9   3000000.0       35.00           2018-01-02      1   \n",
       "22933            20   3176015.0       33.30           2015-04-22      1   \n",
       "23214             3   7990000.0       56.00           2016-05-31      2   \n",
       "\n",
       "       ceiling_height  floors_total  living_area  floor is_apartment  ...  \\\n",
       "1097             3.55           5.0        50.80      2          NaN  ...   \n",
       "2033              NaN           4.0        42.60      2          NaN  ...   \n",
       "2603              NaN          24.0        15.60      3          NaN  ...   \n",
       "2632              NaN          24.0        33.10     21          NaN  ...   \n",
       "3574              NaN           5.0        30.80      5          NaN  ...   \n",
       "4151             3.00           8.0        39.62      7          NaN  ...   \n",
       "4189             4.00           4.0        52.30      3        False  ...   \n",
       "4670              NaN           7.0          NaN      6          NaN  ...   \n",
       "5343              NaN           7.0        59.10      5        False  ...   \n",
       "5707              NaN          24.0        20.00     23          NaN  ...   \n",
       "6765              NaN          24.0        31.90      3          NaN  ...   \n",
       "7114              NaN           5.0        40.00      4          NaN  ...   \n",
       "7330              NaN           5.0        42.00      1        False  ...   \n",
       "7600              NaN          11.0        42.00      9          NaN  ...   \n",
       "8568              NaN           6.0        94.00      3          NaN  ...   \n",
       "8986              NaN           NaN        68.10      4          NaN  ...   \n",
       "9821             3.00           2.0        57.80      2          NaN  ...   \n",
       "10122             NaN           5.0        53.00      2          NaN  ...   \n",
       "11248             NaN           8.0        44.00      7          NaN  ...   \n",
       "12879             NaN          12.0        20.00     12        False  ...   \n",
       "12936             NaN           5.0        53.10      2          NaN  ...   \n",
       "13223            2.75          24.0        21.10      2          NaN  ...   \n",
       "13690            2.75           2.0        45.60      1        False  ...   \n",
       "14273            2.75          23.0        32.00     14          NaN  ...   \n",
       "14342             NaN           4.0        25.80      3        False  ...   \n",
       "15686             NaN           5.0        28.00      3          NaN  ...   \n",
       "15866            2.70           5.0        28.50      5        False  ...   \n",
       "16499             NaN          24.0        29.20     14          NaN  ...   \n",
       "16561             NaN           4.0        17.00      2          NaN  ...   \n",
       "16610            3.00           5.0        64.00      2          NaN  ...   \n",
       "17535             NaN           9.0          NaN      2        False  ...   \n",
       "17764             NaN          23.0        52.00      5          NaN  ...   \n",
       "18526            3.20           7.0        48.00      2          NaN  ...   \n",
       "18917             NaN           4.0        13.00      1          NaN  ...   \n",
       "19045            3.12           5.0        26.20      1        False  ...   \n",
       "19972             NaN          24.0        33.10     21          NaN  ...   \n",
       "20057             NaN           5.0        70.00      2          NaN  ...   \n",
       "20382             NaN           5.0        47.30      2          NaN  ...   \n",
       "20590            2.70           4.0        29.00      3          NaN  ...   \n",
       "20654             NaN           5.0        21.00      3          NaN  ...   \n",
       "21119             NaN           4.0          NaN      2          NaN  ...   \n",
       "21276             NaN           3.0          NaN      1          NaN  ...   \n",
       "21333             NaN           6.0        35.20      6        False  ...   \n",
       "21715             NaN           9.0        30.50      2        False  ...   \n",
       "21898             NaN           9.0        36.60      2        False  ...   \n",
       "22474            2.75           6.0        68.40      6        False  ...   \n",
       "22717            2.60          16.0        16.00      7        False  ...   \n",
       "22933             NaN          23.0        15.40     22          NaN  ...   \n",
       "23214             NaN           6.0          NaN      5        False  ...   \n",
       "\n",
       "       kitchen_area  balcony  locality_name  airports_nearest  \\\n",
       "1097           8.80      0.0            NaN           23478.0   \n",
       "2033          18.60      0.0            NaN               NaN   \n",
       "2603          10.70      0.0            NaN           22041.0   \n",
       "2632           8.20      0.0            NaN           22041.0   \n",
       "3574           6.50      0.0            NaN           27419.0   \n",
       "4151          13.38      0.0            NaN           25054.0   \n",
       "4189          10.40      0.0            NaN           21774.0   \n",
       "4670            NaN      0.0            NaN           26534.0   \n",
       "5343           8.30      4.0            NaN           10556.0   \n",
       "5707            NaN      0.0            NaN           21460.0   \n",
       "6765          12.20      0.0            NaN           22041.0   \n",
       "7114           6.00      0.0            NaN           14031.0   \n",
       "7330           7.50      0.0            NaN           25925.0   \n",
       "7600          11.00      1.0            NaN           37123.0   \n",
       "8568          23.00      0.0            NaN           24233.0   \n",
       "8986          16.70      NaN            NaN           19659.0   \n",
       "9821          11.30      0.0            NaN           24953.0   \n",
       "10122         10.00      0.0            NaN           25771.0   \n",
       "11248          8.70      0.0            NaN           25221.0   \n",
       "12879          7.90      0.0            NaN           37123.0   \n",
       "12936          8.20      0.0            NaN           25680.0   \n",
       "13223           NaN      0.0            NaN           22041.0   \n",
       "13690          8.00      2.0            NaN           20234.0   \n",
       "14273         11.90      0.0            NaN           22041.0   \n",
       "14342           NaN      1.0            NaN               NaN   \n",
       "15686          5.00      0.0            NaN           35920.0   \n",
       "15866          5.50      1.0            NaN           36380.0   \n",
       "16499         10.90      0.0            NaN           22041.0   \n",
       "16561          6.00      1.0            NaN           21731.0   \n",
       "16610         23.00      0.0            NaN           21219.0   \n",
       "17535           NaN      NaN            NaN               NaN   \n",
       "17764           NaN      0.0            NaN           36865.0   \n",
       "18526         12.00      0.0            NaN           11206.0   \n",
       "18917         12.40      0.0            NaN           21540.0   \n",
       "19045          8.00      0.0            NaN           21654.0   \n",
       "19972          8.20      0.0            NaN           22041.0   \n",
       "20057           NaN      0.0            NaN           23478.0   \n",
       "20382          8.30      NaN            NaN               NaN   \n",
       "20590         10.00      1.0            NaN               NaN   \n",
       "20654         12.00      1.0            NaN           24385.0   \n",
       "21119           NaN      NaN            NaN           19744.0   \n",
       "21276         41.60      1.0            NaN           60195.0   \n",
       "21333         11.00      0.0            NaN           26090.0   \n",
       "21715         29.20      NaN            NaN               NaN   \n",
       "21898         29.70      NaN            NaN               NaN   \n",
       "22474         16.50      0.0            NaN           23297.0   \n",
       "22717         10.00      1.0            NaN               NaN   \n",
       "22933          9.00      0.0            NaN           22041.0   \n",
       "23214           NaN      0.0            NaN           11206.0   \n",
       "\n",
       "      cityCenters_nearest  parks_around3000  parks_nearest  ponds_around3000  \\\n",
       "1097               4258.0               0.0            NaN               0.0   \n",
       "2033                  NaN               NaN            NaN               NaN   \n",
       "2603              17369.0               0.0            NaN               1.0   \n",
       "2632              17369.0               0.0            NaN               1.0   \n",
       "3574               8127.0               0.0            NaN               1.0   \n",
       "4151               3902.0               1.0          485.0               3.0   \n",
       "4189               3039.0               1.0          690.0               1.0   \n",
       "4670               5382.0               1.0          446.0               1.0   \n",
       "5343               9538.0               1.0           67.0               0.0   \n",
       "5707              16788.0               0.0            NaN               1.0   \n",
       "6765              17369.0               0.0            NaN               1.0   \n",
       "7114               8582.0               0.0            NaN               0.0   \n",
       "7330               4627.0               2.0          459.0               0.0   \n",
       "7600              12332.0               0.0            NaN               0.0   \n",
       "8568               4065.0               1.0          547.0               0.0   \n",
       "8986              31813.0               0.0            NaN               0.0   \n",
       "9821               3801.0               1.0          375.0               2.0   \n",
       "10122              4474.0               2.0          374.0               0.0   \n",
       "11248              4069.0               0.0            NaN               2.0   \n",
       "12879             12332.0               0.0            NaN               0.0   \n",
       "12936              4383.0               3.0          336.0               0.0   \n",
       "13223             17369.0               0.0            NaN               1.0   \n",
       "13690             23659.0               0.0            NaN               2.0   \n",
       "14273             17369.0               0.0            NaN               1.0   \n",
       "14342                 NaN               NaN            NaN               NaN   \n",
       "15686              9633.0               2.0          472.0               3.0   \n",
       "15866              9497.0               1.0          634.0               3.0   \n",
       "16499             17369.0               0.0            NaN               1.0   \n",
       "16561              8619.0               0.0            NaN               3.0   \n",
       "16610              1322.0               1.0          740.0               3.0   \n",
       "17535                 NaN               NaN            NaN               NaN   \n",
       "17764             10976.0               0.0            NaN               1.0   \n",
       "18526              8943.0               0.0            NaN               0.0   \n",
       "18917              8429.0               0.0            NaN               3.0   \n",
       "19045              3312.0               1.0          549.0               1.0   \n",
       "19972             17369.0               0.0            NaN               1.0   \n",
       "20057              4258.0               0.0            NaN               0.0   \n",
       "20382                 NaN               NaN            NaN               NaN   \n",
       "20590                 NaN               NaN            NaN               NaN   \n",
       "20654              4604.0               1.0          700.0               0.0   \n",
       "21119             31897.0               0.0            NaN               0.0   \n",
       "21276             41294.0               0.0            NaN               0.0   \n",
       "21333              4805.0               0.0            NaN               1.0   \n",
       "21715                 NaN               NaN            NaN               NaN   \n",
       "21898                 NaN               NaN            NaN               NaN   \n",
       "22474              1780.0               3.0          277.0               3.0   \n",
       "22717                 NaN               NaN            NaN               NaN   \n",
       "22933             17369.0               0.0            NaN               1.0   \n",
       "23214              8943.0               0.0            NaN               0.0   \n",
       "\n",
       "       ponds_nearest  days_exposition  \n",
       "1097             NaN            147.0  \n",
       "2033             NaN             34.0  \n",
       "2603           374.0            276.0  \n",
       "2632           374.0            256.0  \n",
       "3574           603.0             45.0  \n",
       "4151           722.0            869.0  \n",
       "4189           953.0            223.0  \n",
       "4670           376.0            350.0  \n",
       "5343             NaN            303.0  \n",
       "5707           170.0             49.0  \n",
       "6765           374.0            468.0  \n",
       "7114             NaN             96.0  \n",
       "7330             NaN            566.0  \n",
       "7600             NaN            209.0  \n",
       "8568             NaN            248.0  \n",
       "8986             NaN             28.0  \n",
       "9821           532.0            531.0  \n",
       "10122            NaN            364.0  \n",
       "11248          653.0            551.0  \n",
       "12879            NaN            179.0  \n",
       "12936            NaN            542.0  \n",
       "13223          374.0            470.0  \n",
       "13690          296.0             92.0  \n",
       "14273          374.0             90.0  \n",
       "14342            NaN             92.0  \n",
       "15686          535.0            280.0  \n",
       "15866          513.0             85.0  \n",
       "16499          374.0              4.0  \n",
       "16561          162.0            140.0  \n",
       "16610          365.0            319.0  \n",
       "17535            NaN            213.0  \n",
       "17764          856.0            305.0  \n",
       "18526            NaN             65.0  \n",
       "18917          142.0             15.0  \n",
       "19045          858.0            254.0  \n",
       "19972          374.0            278.0  \n",
       "20057            NaN            325.0  \n",
       "20382            NaN              NaN  \n",
       "20590            NaN             78.0  \n",
       "20654            NaN            164.0  \n",
       "21119            NaN              9.0  \n",
       "21276            NaN              4.0  \n",
       "21333          943.0            486.0  \n",
       "21715            NaN            176.0  \n",
       "21898            NaN            169.0  \n",
       "22474          561.0            436.0  \n",
       "22717            NaN             75.0  \n",
       "22933          374.0            427.0  \n",
       "23214            NaN             70.0  \n",
       "\n",
       "[49 rows x 22 columns]"
      ]
     },
     "metadata": {},
     "output_type": "display_data"
    }
   ],
   "source": [
    "display(data[data['locality_name'].isna()]) "
   ]
  },
  {
   "cell_type": "markdown",
   "metadata": {},
   "source": [
    "У 49 объявлений отсутствуют данные расположения. Объявлений немного. Но как не знать расположение... Нужно определить, но как это сделать?"
   ]
  },
  {
   "cell_type": "code",
   "execution_count": 13,
   "metadata": {},
   "outputs": [
    {
     "data": {
      "text/html": [
       "<div>\n",
       "<style scoped>\n",
       "    .dataframe tbody tr th:only-of-type {\n",
       "        vertical-align: middle;\n",
       "    }\n",
       "\n",
       "    .dataframe tbody tr th {\n",
       "        vertical-align: top;\n",
       "    }\n",
       "\n",
       "    .dataframe thead th {\n",
       "        text-align: right;\n",
       "    }\n",
       "</style>\n",
       "<table border=\"1\" class=\"dataframe\">\n",
       "  <thead>\n",
       "    <tr style=\"text-align: right;\">\n",
       "      <th></th>\n",
       "      <th>total_images</th>\n",
       "      <th>last_price</th>\n",
       "      <th>total_area</th>\n",
       "      <th>first_day_exposition</th>\n",
       "      <th>rooms</th>\n",
       "      <th>ceiling_height</th>\n",
       "      <th>floors_total</th>\n",
       "      <th>living_area</th>\n",
       "      <th>floor</th>\n",
       "      <th>is_apartment</th>\n",
       "      <th>...</th>\n",
       "      <th>kitchen_area</th>\n",
       "      <th>balcony</th>\n",
       "      <th>locality_name</th>\n",
       "      <th>airports_nearest</th>\n",
       "      <th>cityCenters_nearest</th>\n",
       "      <th>parks_around3000</th>\n",
       "      <th>parks_nearest</th>\n",
       "      <th>ponds_around3000</th>\n",
       "      <th>ponds_nearest</th>\n",
       "      <th>days_exposition</th>\n",
       "    </tr>\n",
       "  </thead>\n",
       "  <tbody>\n",
       "    <tr>\n",
       "      <th>5</th>\n",
       "      <td>10</td>\n",
       "      <td>2890000.0</td>\n",
       "      <td>30.40</td>\n",
       "      <td>2018-09-10</td>\n",
       "      <td>1</td>\n",
       "      <td>NaN</td>\n",
       "      <td>12.0</td>\n",
       "      <td>14.40</td>\n",
       "      <td>5</td>\n",
       "      <td>NaN</td>\n",
       "      <td>...</td>\n",
       "      <td>9.10</td>\n",
       "      <td>NaN</td>\n",
       "      <td>городской посёлок Янино-1</td>\n",
       "      <td>NaN</td>\n",
       "      <td>NaN</td>\n",
       "      <td>NaN</td>\n",
       "      <td>NaN</td>\n",
       "      <td>NaN</td>\n",
       "      <td>NaN</td>\n",
       "      <td>55.0</td>\n",
       "    </tr>\n",
       "    <tr>\n",
       "      <th>8</th>\n",
       "      <td>20</td>\n",
       "      <td>2900000.0</td>\n",
       "      <td>33.16</td>\n",
       "      <td>2018-05-23</td>\n",
       "      <td>1</td>\n",
       "      <td>NaN</td>\n",
       "      <td>27.0</td>\n",
       "      <td>15.43</td>\n",
       "      <td>26</td>\n",
       "      <td>NaN</td>\n",
       "      <td>...</td>\n",
       "      <td>8.81</td>\n",
       "      <td>NaN</td>\n",
       "      <td>посёлок Мурино</td>\n",
       "      <td>NaN</td>\n",
       "      <td>NaN</td>\n",
       "      <td>NaN</td>\n",
       "      <td>NaN</td>\n",
       "      <td>NaN</td>\n",
       "      <td>NaN</td>\n",
       "      <td>189.0</td>\n",
       "    </tr>\n",
       "    <tr>\n",
       "      <th>12</th>\n",
       "      <td>10</td>\n",
       "      <td>3890000.0</td>\n",
       "      <td>54.00</td>\n",
       "      <td>2016-06-30</td>\n",
       "      <td>2</td>\n",
       "      <td>NaN</td>\n",
       "      <td>5.0</td>\n",
       "      <td>30.00</td>\n",
       "      <td>5</td>\n",
       "      <td>NaN</td>\n",
       "      <td>...</td>\n",
       "      <td>9.00</td>\n",
       "      <td>0.0</td>\n",
       "      <td>Сертолово</td>\n",
       "      <td>NaN</td>\n",
       "      <td>NaN</td>\n",
       "      <td>NaN</td>\n",
       "      <td>NaN</td>\n",
       "      <td>NaN</td>\n",
       "      <td>NaN</td>\n",
       "      <td>90.0</td>\n",
       "    </tr>\n",
       "    <tr>\n",
       "      <th>22</th>\n",
       "      <td>20</td>\n",
       "      <td>5000000.0</td>\n",
       "      <td>58.00</td>\n",
       "      <td>2017-04-24</td>\n",
       "      <td>2</td>\n",
       "      <td>2.75</td>\n",
       "      <td>25.0</td>\n",
       "      <td>30.00</td>\n",
       "      <td>15</td>\n",
       "      <td>NaN</td>\n",
       "      <td>...</td>\n",
       "      <td>11.00</td>\n",
       "      <td>2.0</td>\n",
       "      <td>деревня Кудрово</td>\n",
       "      <td>NaN</td>\n",
       "      <td>NaN</td>\n",
       "      <td>NaN</td>\n",
       "      <td>NaN</td>\n",
       "      <td>NaN</td>\n",
       "      <td>NaN</td>\n",
       "      <td>60.0</td>\n",
       "    </tr>\n",
       "    <tr>\n",
       "      <th>30</th>\n",
       "      <td>12</td>\n",
       "      <td>2200000.0</td>\n",
       "      <td>32.80</td>\n",
       "      <td>2018-02-19</td>\n",
       "      <td>1</td>\n",
       "      <td>NaN</td>\n",
       "      <td>9.0</td>\n",
       "      <td>NaN</td>\n",
       "      <td>2</td>\n",
       "      <td>NaN</td>\n",
       "      <td>...</td>\n",
       "      <td>NaN</td>\n",
       "      <td>NaN</td>\n",
       "      <td>Коммунар</td>\n",
       "      <td>NaN</td>\n",
       "      <td>NaN</td>\n",
       "      <td>NaN</td>\n",
       "      <td>NaN</td>\n",
       "      <td>NaN</td>\n",
       "      <td>NaN</td>\n",
       "      <td>63.0</td>\n",
       "    </tr>\n",
       "    <tr>\n",
       "      <th>...</th>\n",
       "      <td>...</td>\n",
       "      <td>...</td>\n",
       "      <td>...</td>\n",
       "      <td>...</td>\n",
       "      <td>...</td>\n",
       "      <td>...</td>\n",
       "      <td>...</td>\n",
       "      <td>...</td>\n",
       "      <td>...</td>\n",
       "      <td>...</td>\n",
       "      <td>...</td>\n",
       "      <td>...</td>\n",
       "      <td>...</td>\n",
       "      <td>...</td>\n",
       "      <td>...</td>\n",
       "      <td>...</td>\n",
       "      <td>...</td>\n",
       "      <td>...</td>\n",
       "      <td>...</td>\n",
       "      <td>...</td>\n",
       "      <td>...</td>\n",
       "    </tr>\n",
       "    <tr>\n",
       "      <th>23683</th>\n",
       "      <td>16</td>\n",
       "      <td>2100000.0</td>\n",
       "      <td>62.80</td>\n",
       "      <td>2018-09-18</td>\n",
       "      <td>4</td>\n",
       "      <td>2.50</td>\n",
       "      <td>5.0</td>\n",
       "      <td>45.50</td>\n",
       "      <td>3</td>\n",
       "      <td>NaN</td>\n",
       "      <td>...</td>\n",
       "      <td>5.50</td>\n",
       "      <td>NaN</td>\n",
       "      <td>посёлок Дзержинского</td>\n",
       "      <td>NaN</td>\n",
       "      <td>NaN</td>\n",
       "      <td>NaN</td>\n",
       "      <td>NaN</td>\n",
       "      <td>NaN</td>\n",
       "      <td>NaN</td>\n",
       "      <td>NaN</td>\n",
       "    </tr>\n",
       "    <tr>\n",
       "      <th>23692</th>\n",
       "      <td>2</td>\n",
       "      <td>1350000.0</td>\n",
       "      <td>30.00</td>\n",
       "      <td>2017-07-07</td>\n",
       "      <td>1</td>\n",
       "      <td>NaN</td>\n",
       "      <td>5.0</td>\n",
       "      <td>17.50</td>\n",
       "      <td>4</td>\n",
       "      <td>NaN</td>\n",
       "      <td>...</td>\n",
       "      <td>6.00</td>\n",
       "      <td>NaN</td>\n",
       "      <td>Тихвин</td>\n",
       "      <td>NaN</td>\n",
       "      <td>NaN</td>\n",
       "      <td>NaN</td>\n",
       "      <td>NaN</td>\n",
       "      <td>NaN</td>\n",
       "      <td>NaN</td>\n",
       "      <td>413.0</td>\n",
       "    </tr>\n",
       "    <tr>\n",
       "      <th>23695</th>\n",
       "      <td>14</td>\n",
       "      <td>3100000.0</td>\n",
       "      <td>59.00</td>\n",
       "      <td>2018-01-15</td>\n",
       "      <td>3</td>\n",
       "      <td>NaN</td>\n",
       "      <td>5.0</td>\n",
       "      <td>38.00</td>\n",
       "      <td>4</td>\n",
       "      <td>NaN</td>\n",
       "      <td>...</td>\n",
       "      <td>8.50</td>\n",
       "      <td>NaN</td>\n",
       "      <td>Тосно</td>\n",
       "      <td>NaN</td>\n",
       "      <td>NaN</td>\n",
       "      <td>NaN</td>\n",
       "      <td>NaN</td>\n",
       "      <td>NaN</td>\n",
       "      <td>NaN</td>\n",
       "      <td>45.0</td>\n",
       "    </tr>\n",
       "    <tr>\n",
       "      <th>23696</th>\n",
       "      <td>18</td>\n",
       "      <td>2500000.0</td>\n",
       "      <td>56.70</td>\n",
       "      <td>2018-02-11</td>\n",
       "      <td>2</td>\n",
       "      <td>NaN</td>\n",
       "      <td>3.0</td>\n",
       "      <td>29.70</td>\n",
       "      <td>1</td>\n",
       "      <td>NaN</td>\n",
       "      <td>...</td>\n",
       "      <td>NaN</td>\n",
       "      <td>NaN</td>\n",
       "      <td>село Рождествено</td>\n",
       "      <td>NaN</td>\n",
       "      <td>NaN</td>\n",
       "      <td>NaN</td>\n",
       "      <td>NaN</td>\n",
       "      <td>NaN</td>\n",
       "      <td>NaN</td>\n",
       "      <td>NaN</td>\n",
       "    </tr>\n",
       "    <tr>\n",
       "      <th>23698</th>\n",
       "      <td>4</td>\n",
       "      <td>1350000.0</td>\n",
       "      <td>32.30</td>\n",
       "      <td>2017-07-21</td>\n",
       "      <td>1</td>\n",
       "      <td>2.50</td>\n",
       "      <td>5.0</td>\n",
       "      <td>12.30</td>\n",
       "      <td>1</td>\n",
       "      <td>NaN</td>\n",
       "      <td>...</td>\n",
       "      <td>9.00</td>\n",
       "      <td>NaN</td>\n",
       "      <td>поселок Новый Учхоз</td>\n",
       "      <td>NaN</td>\n",
       "      <td>NaN</td>\n",
       "      <td>NaN</td>\n",
       "      <td>NaN</td>\n",
       "      <td>NaN</td>\n",
       "      <td>NaN</td>\n",
       "      <td>NaN</td>\n",
       "    </tr>\n",
       "  </tbody>\n",
       "</table>\n",
       "<p>5542 rows × 22 columns</p>\n",
       "</div>"
      ],
      "text/plain": [
       "       total_images  last_price  total_area first_day_exposition  rooms  \\\n",
       "5                10   2890000.0       30.40           2018-09-10      1   \n",
       "8                20   2900000.0       33.16           2018-05-23      1   \n",
       "12               10   3890000.0       54.00           2016-06-30      2   \n",
       "22               20   5000000.0       58.00           2017-04-24      2   \n",
       "30               12   2200000.0       32.80           2018-02-19      1   \n",
       "...             ...         ...         ...                  ...    ...   \n",
       "23683            16   2100000.0       62.80           2018-09-18      4   \n",
       "23692             2   1350000.0       30.00           2017-07-07      1   \n",
       "23695            14   3100000.0       59.00           2018-01-15      3   \n",
       "23696            18   2500000.0       56.70           2018-02-11      2   \n",
       "23698             4   1350000.0       32.30           2017-07-21      1   \n",
       "\n",
       "       ceiling_height  floors_total  living_area  floor is_apartment  ...  \\\n",
       "5                 NaN          12.0        14.40      5          NaN  ...   \n",
       "8                 NaN          27.0        15.43     26          NaN  ...   \n",
       "12                NaN           5.0        30.00      5          NaN  ...   \n",
       "22               2.75          25.0        30.00     15          NaN  ...   \n",
       "30                NaN           9.0          NaN      2          NaN  ...   \n",
       "...               ...           ...          ...    ...          ...  ...   \n",
       "23683            2.50           5.0        45.50      3          NaN  ...   \n",
       "23692             NaN           5.0        17.50      4          NaN  ...   \n",
       "23695             NaN           5.0        38.00      4          NaN  ...   \n",
       "23696             NaN           3.0        29.70      1          NaN  ...   \n",
       "23698            2.50           5.0        12.30      1          NaN  ...   \n",
       "\n",
       "       kitchen_area  balcony              locality_name  airports_nearest  \\\n",
       "5              9.10      NaN  городской посёлок Янино-1               NaN   \n",
       "8              8.81      NaN             посёлок Мурино               NaN   \n",
       "12             9.00      0.0                  Сертолово               NaN   \n",
       "22            11.00      2.0            деревня Кудрово               NaN   \n",
       "30              NaN      NaN                   Коммунар               NaN   \n",
       "...             ...      ...                        ...               ...   \n",
       "23683          5.50      NaN       посёлок Дзержинского               NaN   \n",
       "23692          6.00      NaN                     Тихвин               NaN   \n",
       "23695          8.50      NaN                      Тосно               NaN   \n",
       "23696           NaN      NaN           село Рождествено               NaN   \n",
       "23698          9.00      NaN        поселок Новый Учхоз               NaN   \n",
       "\n",
       "      cityCenters_nearest  parks_around3000  parks_nearest  ponds_around3000  \\\n",
       "5                     NaN               NaN            NaN               NaN   \n",
       "8                     NaN               NaN            NaN               NaN   \n",
       "12                    NaN               NaN            NaN               NaN   \n",
       "22                    NaN               NaN            NaN               NaN   \n",
       "30                    NaN               NaN            NaN               NaN   \n",
       "...                   ...               ...            ...               ...   \n",
       "23683                 NaN               NaN            NaN               NaN   \n",
       "23692                 NaN               NaN            NaN               NaN   \n",
       "23695                 NaN               NaN            NaN               NaN   \n",
       "23696                 NaN               NaN            NaN               NaN   \n",
       "23698                 NaN               NaN            NaN               NaN   \n",
       "\n",
       "       ponds_nearest  days_exposition  \n",
       "5                NaN             55.0  \n",
       "8                NaN            189.0  \n",
       "12               NaN             90.0  \n",
       "22               NaN             60.0  \n",
       "30               NaN             63.0  \n",
       "...              ...              ...  \n",
       "23683            NaN              NaN  \n",
       "23692            NaN            413.0  \n",
       "23695            NaN             45.0  \n",
       "23696            NaN              NaN  \n",
       "23698            NaN              NaN  \n",
       "\n",
       "[5542 rows x 22 columns]"
      ]
     },
     "metadata": {},
     "output_type": "display_data"
    }
   ],
   "source": [
    "display(data[data['airports_nearest'].isna()]) "
   ]
  },
  {
   "cell_type": "markdown",
   "metadata": {},
   "source": [
    "5542 объявлений без расстояния до аэропорта. "
   ]
  },
  {
   "cell_type": "code",
   "execution_count": 14,
   "metadata": {},
   "outputs": [
    {
     "data": {
      "text/html": [
       "<div>\n",
       "<style scoped>\n",
       "    .dataframe tbody tr th:only-of-type {\n",
       "        vertical-align: middle;\n",
       "    }\n",
       "\n",
       "    .dataframe tbody tr th {\n",
       "        vertical-align: top;\n",
       "    }\n",
       "\n",
       "    .dataframe thead th {\n",
       "        text-align: right;\n",
       "    }\n",
       "</style>\n",
       "<table border=\"1\" class=\"dataframe\">\n",
       "  <thead>\n",
       "    <tr style=\"text-align: right;\">\n",
       "      <th></th>\n",
       "      <th>total_images</th>\n",
       "      <th>last_price</th>\n",
       "      <th>total_area</th>\n",
       "      <th>first_day_exposition</th>\n",
       "      <th>rooms</th>\n",
       "      <th>ceiling_height</th>\n",
       "      <th>floors_total</th>\n",
       "      <th>living_area</th>\n",
       "      <th>floor</th>\n",
       "      <th>is_apartment</th>\n",
       "      <th>...</th>\n",
       "      <th>kitchen_area</th>\n",
       "      <th>balcony</th>\n",
       "      <th>locality_name</th>\n",
       "      <th>airports_nearest</th>\n",
       "      <th>cityCenters_nearest</th>\n",
       "      <th>parks_around3000</th>\n",
       "      <th>parks_nearest</th>\n",
       "      <th>ponds_around3000</th>\n",
       "      <th>ponds_nearest</th>\n",
       "      <th>days_exposition</th>\n",
       "    </tr>\n",
       "  </thead>\n",
       "  <tbody>\n",
       "    <tr>\n",
       "      <th>5</th>\n",
       "      <td>10</td>\n",
       "      <td>2890000.0</td>\n",
       "      <td>30.40</td>\n",
       "      <td>2018-09-10</td>\n",
       "      <td>1</td>\n",
       "      <td>NaN</td>\n",
       "      <td>12.0</td>\n",
       "      <td>14.40</td>\n",
       "      <td>5</td>\n",
       "      <td>NaN</td>\n",
       "      <td>...</td>\n",
       "      <td>9.10</td>\n",
       "      <td>NaN</td>\n",
       "      <td>городской посёлок Янино-1</td>\n",
       "      <td>NaN</td>\n",
       "      <td>NaN</td>\n",
       "      <td>NaN</td>\n",
       "      <td>NaN</td>\n",
       "      <td>NaN</td>\n",
       "      <td>NaN</td>\n",
       "      <td>55.0</td>\n",
       "    </tr>\n",
       "    <tr>\n",
       "      <th>8</th>\n",
       "      <td>20</td>\n",
       "      <td>2900000.0</td>\n",
       "      <td>33.16</td>\n",
       "      <td>2018-05-23</td>\n",
       "      <td>1</td>\n",
       "      <td>NaN</td>\n",
       "      <td>27.0</td>\n",
       "      <td>15.43</td>\n",
       "      <td>26</td>\n",
       "      <td>NaN</td>\n",
       "      <td>...</td>\n",
       "      <td>8.81</td>\n",
       "      <td>NaN</td>\n",
       "      <td>посёлок Мурино</td>\n",
       "      <td>NaN</td>\n",
       "      <td>NaN</td>\n",
       "      <td>NaN</td>\n",
       "      <td>NaN</td>\n",
       "      <td>NaN</td>\n",
       "      <td>NaN</td>\n",
       "      <td>189.0</td>\n",
       "    </tr>\n",
       "    <tr>\n",
       "      <th>12</th>\n",
       "      <td>10</td>\n",
       "      <td>3890000.0</td>\n",
       "      <td>54.00</td>\n",
       "      <td>2016-06-30</td>\n",
       "      <td>2</td>\n",
       "      <td>NaN</td>\n",
       "      <td>5.0</td>\n",
       "      <td>30.00</td>\n",
       "      <td>5</td>\n",
       "      <td>NaN</td>\n",
       "      <td>...</td>\n",
       "      <td>9.00</td>\n",
       "      <td>0.0</td>\n",
       "      <td>Сертолово</td>\n",
       "      <td>NaN</td>\n",
       "      <td>NaN</td>\n",
       "      <td>NaN</td>\n",
       "      <td>NaN</td>\n",
       "      <td>NaN</td>\n",
       "      <td>NaN</td>\n",
       "      <td>90.0</td>\n",
       "    </tr>\n",
       "    <tr>\n",
       "      <th>22</th>\n",
       "      <td>20</td>\n",
       "      <td>5000000.0</td>\n",
       "      <td>58.00</td>\n",
       "      <td>2017-04-24</td>\n",
       "      <td>2</td>\n",
       "      <td>2.75</td>\n",
       "      <td>25.0</td>\n",
       "      <td>30.00</td>\n",
       "      <td>15</td>\n",
       "      <td>NaN</td>\n",
       "      <td>...</td>\n",
       "      <td>11.00</td>\n",
       "      <td>2.0</td>\n",
       "      <td>деревня Кудрово</td>\n",
       "      <td>NaN</td>\n",
       "      <td>NaN</td>\n",
       "      <td>NaN</td>\n",
       "      <td>NaN</td>\n",
       "      <td>NaN</td>\n",
       "      <td>NaN</td>\n",
       "      <td>60.0</td>\n",
       "    </tr>\n",
       "    <tr>\n",
       "      <th>30</th>\n",
       "      <td>12</td>\n",
       "      <td>2200000.0</td>\n",
       "      <td>32.80</td>\n",
       "      <td>2018-02-19</td>\n",
       "      <td>1</td>\n",
       "      <td>NaN</td>\n",
       "      <td>9.0</td>\n",
       "      <td>NaN</td>\n",
       "      <td>2</td>\n",
       "      <td>NaN</td>\n",
       "      <td>...</td>\n",
       "      <td>NaN</td>\n",
       "      <td>NaN</td>\n",
       "      <td>Коммунар</td>\n",
       "      <td>NaN</td>\n",
       "      <td>NaN</td>\n",
       "      <td>NaN</td>\n",
       "      <td>NaN</td>\n",
       "      <td>NaN</td>\n",
       "      <td>NaN</td>\n",
       "      <td>63.0</td>\n",
       "    </tr>\n",
       "    <tr>\n",
       "      <th>...</th>\n",
       "      <td>...</td>\n",
       "      <td>...</td>\n",
       "      <td>...</td>\n",
       "      <td>...</td>\n",
       "      <td>...</td>\n",
       "      <td>...</td>\n",
       "      <td>...</td>\n",
       "      <td>...</td>\n",
       "      <td>...</td>\n",
       "      <td>...</td>\n",
       "      <td>...</td>\n",
       "      <td>...</td>\n",
       "      <td>...</td>\n",
       "      <td>...</td>\n",
       "      <td>...</td>\n",
       "      <td>...</td>\n",
       "      <td>...</td>\n",
       "      <td>...</td>\n",
       "      <td>...</td>\n",
       "      <td>...</td>\n",
       "      <td>...</td>\n",
       "    </tr>\n",
       "    <tr>\n",
       "      <th>23683</th>\n",
       "      <td>16</td>\n",
       "      <td>2100000.0</td>\n",
       "      <td>62.80</td>\n",
       "      <td>2018-09-18</td>\n",
       "      <td>4</td>\n",
       "      <td>2.50</td>\n",
       "      <td>5.0</td>\n",
       "      <td>45.50</td>\n",
       "      <td>3</td>\n",
       "      <td>NaN</td>\n",
       "      <td>...</td>\n",
       "      <td>5.50</td>\n",
       "      <td>NaN</td>\n",
       "      <td>посёлок Дзержинского</td>\n",
       "      <td>NaN</td>\n",
       "      <td>NaN</td>\n",
       "      <td>NaN</td>\n",
       "      <td>NaN</td>\n",
       "      <td>NaN</td>\n",
       "      <td>NaN</td>\n",
       "      <td>NaN</td>\n",
       "    </tr>\n",
       "    <tr>\n",
       "      <th>23692</th>\n",
       "      <td>2</td>\n",
       "      <td>1350000.0</td>\n",
       "      <td>30.00</td>\n",
       "      <td>2017-07-07</td>\n",
       "      <td>1</td>\n",
       "      <td>NaN</td>\n",
       "      <td>5.0</td>\n",
       "      <td>17.50</td>\n",
       "      <td>4</td>\n",
       "      <td>NaN</td>\n",
       "      <td>...</td>\n",
       "      <td>6.00</td>\n",
       "      <td>NaN</td>\n",
       "      <td>Тихвин</td>\n",
       "      <td>NaN</td>\n",
       "      <td>NaN</td>\n",
       "      <td>NaN</td>\n",
       "      <td>NaN</td>\n",
       "      <td>NaN</td>\n",
       "      <td>NaN</td>\n",
       "      <td>413.0</td>\n",
       "    </tr>\n",
       "    <tr>\n",
       "      <th>23695</th>\n",
       "      <td>14</td>\n",
       "      <td>3100000.0</td>\n",
       "      <td>59.00</td>\n",
       "      <td>2018-01-15</td>\n",
       "      <td>3</td>\n",
       "      <td>NaN</td>\n",
       "      <td>5.0</td>\n",
       "      <td>38.00</td>\n",
       "      <td>4</td>\n",
       "      <td>NaN</td>\n",
       "      <td>...</td>\n",
       "      <td>8.50</td>\n",
       "      <td>NaN</td>\n",
       "      <td>Тосно</td>\n",
       "      <td>NaN</td>\n",
       "      <td>NaN</td>\n",
       "      <td>NaN</td>\n",
       "      <td>NaN</td>\n",
       "      <td>NaN</td>\n",
       "      <td>NaN</td>\n",
       "      <td>45.0</td>\n",
       "    </tr>\n",
       "    <tr>\n",
       "      <th>23696</th>\n",
       "      <td>18</td>\n",
       "      <td>2500000.0</td>\n",
       "      <td>56.70</td>\n",
       "      <td>2018-02-11</td>\n",
       "      <td>2</td>\n",
       "      <td>NaN</td>\n",
       "      <td>3.0</td>\n",
       "      <td>29.70</td>\n",
       "      <td>1</td>\n",
       "      <td>NaN</td>\n",
       "      <td>...</td>\n",
       "      <td>NaN</td>\n",
       "      <td>NaN</td>\n",
       "      <td>село Рождествено</td>\n",
       "      <td>NaN</td>\n",
       "      <td>NaN</td>\n",
       "      <td>NaN</td>\n",
       "      <td>NaN</td>\n",
       "      <td>NaN</td>\n",
       "      <td>NaN</td>\n",
       "      <td>NaN</td>\n",
       "    </tr>\n",
       "    <tr>\n",
       "      <th>23698</th>\n",
       "      <td>4</td>\n",
       "      <td>1350000.0</td>\n",
       "      <td>32.30</td>\n",
       "      <td>2017-07-21</td>\n",
       "      <td>1</td>\n",
       "      <td>2.50</td>\n",
       "      <td>5.0</td>\n",
       "      <td>12.30</td>\n",
       "      <td>1</td>\n",
       "      <td>NaN</td>\n",
       "      <td>...</td>\n",
       "      <td>9.00</td>\n",
       "      <td>NaN</td>\n",
       "      <td>поселок Новый Учхоз</td>\n",
       "      <td>NaN</td>\n",
       "      <td>NaN</td>\n",
       "      <td>NaN</td>\n",
       "      <td>NaN</td>\n",
       "      <td>NaN</td>\n",
       "      <td>NaN</td>\n",
       "      <td>NaN</td>\n",
       "    </tr>\n",
       "  </tbody>\n",
       "</table>\n",
       "<p>5519 rows × 22 columns</p>\n",
       "</div>"
      ],
      "text/plain": [
       "       total_images  last_price  total_area first_day_exposition  rooms  \\\n",
       "5                10   2890000.0       30.40           2018-09-10      1   \n",
       "8                20   2900000.0       33.16           2018-05-23      1   \n",
       "12               10   3890000.0       54.00           2016-06-30      2   \n",
       "22               20   5000000.0       58.00           2017-04-24      2   \n",
       "30               12   2200000.0       32.80           2018-02-19      1   \n",
       "...             ...         ...         ...                  ...    ...   \n",
       "23683            16   2100000.0       62.80           2018-09-18      4   \n",
       "23692             2   1350000.0       30.00           2017-07-07      1   \n",
       "23695            14   3100000.0       59.00           2018-01-15      3   \n",
       "23696            18   2500000.0       56.70           2018-02-11      2   \n",
       "23698             4   1350000.0       32.30           2017-07-21      1   \n",
       "\n",
       "       ceiling_height  floors_total  living_area  floor is_apartment  ...  \\\n",
       "5                 NaN          12.0        14.40      5          NaN  ...   \n",
       "8                 NaN          27.0        15.43     26          NaN  ...   \n",
       "12                NaN           5.0        30.00      5          NaN  ...   \n",
       "22               2.75          25.0        30.00     15          NaN  ...   \n",
       "30                NaN           9.0          NaN      2          NaN  ...   \n",
       "...               ...           ...          ...    ...          ...  ...   \n",
       "23683            2.50           5.0        45.50      3          NaN  ...   \n",
       "23692             NaN           5.0        17.50      4          NaN  ...   \n",
       "23695             NaN           5.0        38.00      4          NaN  ...   \n",
       "23696             NaN           3.0        29.70      1          NaN  ...   \n",
       "23698            2.50           5.0        12.30      1          NaN  ...   \n",
       "\n",
       "       kitchen_area  balcony              locality_name  airports_nearest  \\\n",
       "5              9.10      NaN  городской посёлок Янино-1               NaN   \n",
       "8              8.81      NaN             посёлок Мурино               NaN   \n",
       "12             9.00      0.0                  Сертолово               NaN   \n",
       "22            11.00      2.0            деревня Кудрово               NaN   \n",
       "30              NaN      NaN                   Коммунар               NaN   \n",
       "...             ...      ...                        ...               ...   \n",
       "23683          5.50      NaN       посёлок Дзержинского               NaN   \n",
       "23692          6.00      NaN                     Тихвин               NaN   \n",
       "23695          8.50      NaN                      Тосно               NaN   \n",
       "23696           NaN      NaN           село Рождествено               NaN   \n",
       "23698          9.00      NaN        поселок Новый Учхоз               NaN   \n",
       "\n",
       "      cityCenters_nearest  parks_around3000  parks_nearest  ponds_around3000  \\\n",
       "5                     NaN               NaN            NaN               NaN   \n",
       "8                     NaN               NaN            NaN               NaN   \n",
       "12                    NaN               NaN            NaN               NaN   \n",
       "22                    NaN               NaN            NaN               NaN   \n",
       "30                    NaN               NaN            NaN               NaN   \n",
       "...                   ...               ...            ...               ...   \n",
       "23683                 NaN               NaN            NaN               NaN   \n",
       "23692                 NaN               NaN            NaN               NaN   \n",
       "23695                 NaN               NaN            NaN               NaN   \n",
       "23696                 NaN               NaN            NaN               NaN   \n",
       "23698                 NaN               NaN            NaN               NaN   \n",
       "\n",
       "       ponds_nearest  days_exposition  \n",
       "5                NaN             55.0  \n",
       "8                NaN            189.0  \n",
       "12               NaN             90.0  \n",
       "22               NaN             60.0  \n",
       "30               NaN             63.0  \n",
       "...              ...              ...  \n",
       "23683            NaN              NaN  \n",
       "23692            NaN            413.0  \n",
       "23695            NaN             45.0  \n",
       "23696            NaN              NaN  \n",
       "23698            NaN              NaN  \n",
       "\n",
       "[5519 rows x 22 columns]"
      ]
     },
     "metadata": {},
     "output_type": "display_data"
    }
   ],
   "source": [
    "display(data[data['cityCenters_nearest'].isna()]) "
   ]
  },
  {
   "cell_type": "markdown",
   "metadata": {},
   "source": [
    "5519 объявлений без расстояния до центра города. "
   ]
  },
  {
   "cell_type": "code",
   "execution_count": 15,
   "metadata": {},
   "outputs": [
    {
     "data": {
      "text/html": [
       "<div>\n",
       "<style scoped>\n",
       "    .dataframe tbody tr th:only-of-type {\n",
       "        vertical-align: middle;\n",
       "    }\n",
       "\n",
       "    .dataframe tbody tr th {\n",
       "        vertical-align: top;\n",
       "    }\n",
       "\n",
       "    .dataframe thead th {\n",
       "        text-align: right;\n",
       "    }\n",
       "</style>\n",
       "<table border=\"1\" class=\"dataframe\">\n",
       "  <thead>\n",
       "    <tr style=\"text-align: right;\">\n",
       "      <th></th>\n",
       "      <th>total_images</th>\n",
       "      <th>last_price</th>\n",
       "      <th>total_area</th>\n",
       "      <th>first_day_exposition</th>\n",
       "      <th>rooms</th>\n",
       "      <th>ceiling_height</th>\n",
       "      <th>floors_total</th>\n",
       "      <th>living_area</th>\n",
       "      <th>floor</th>\n",
       "      <th>is_apartment</th>\n",
       "      <th>...</th>\n",
       "      <th>kitchen_area</th>\n",
       "      <th>balcony</th>\n",
       "      <th>locality_name</th>\n",
       "      <th>airports_nearest</th>\n",
       "      <th>cityCenters_nearest</th>\n",
       "      <th>parks_around3000</th>\n",
       "      <th>parks_nearest</th>\n",
       "      <th>ponds_around3000</th>\n",
       "      <th>ponds_nearest</th>\n",
       "      <th>days_exposition</th>\n",
       "    </tr>\n",
       "  </thead>\n",
       "  <tbody>\n",
       "    <tr>\n",
       "      <th>5</th>\n",
       "      <td>10</td>\n",
       "      <td>2890000.0</td>\n",
       "      <td>30.40</td>\n",
       "      <td>2018-09-10</td>\n",
       "      <td>1</td>\n",
       "      <td>NaN</td>\n",
       "      <td>12.0</td>\n",
       "      <td>14.40</td>\n",
       "      <td>5</td>\n",
       "      <td>NaN</td>\n",
       "      <td>...</td>\n",
       "      <td>9.10</td>\n",
       "      <td>NaN</td>\n",
       "      <td>городской посёлок Янино-1</td>\n",
       "      <td>NaN</td>\n",
       "      <td>NaN</td>\n",
       "      <td>NaN</td>\n",
       "      <td>NaN</td>\n",
       "      <td>NaN</td>\n",
       "      <td>NaN</td>\n",
       "      <td>55.0</td>\n",
       "    </tr>\n",
       "    <tr>\n",
       "      <th>8</th>\n",
       "      <td>20</td>\n",
       "      <td>2900000.0</td>\n",
       "      <td>33.16</td>\n",
       "      <td>2018-05-23</td>\n",
       "      <td>1</td>\n",
       "      <td>NaN</td>\n",
       "      <td>27.0</td>\n",
       "      <td>15.43</td>\n",
       "      <td>26</td>\n",
       "      <td>NaN</td>\n",
       "      <td>...</td>\n",
       "      <td>8.81</td>\n",
       "      <td>NaN</td>\n",
       "      <td>посёлок Мурино</td>\n",
       "      <td>NaN</td>\n",
       "      <td>NaN</td>\n",
       "      <td>NaN</td>\n",
       "      <td>NaN</td>\n",
       "      <td>NaN</td>\n",
       "      <td>NaN</td>\n",
       "      <td>189.0</td>\n",
       "    </tr>\n",
       "    <tr>\n",
       "      <th>12</th>\n",
       "      <td>10</td>\n",
       "      <td>3890000.0</td>\n",
       "      <td>54.00</td>\n",
       "      <td>2016-06-30</td>\n",
       "      <td>2</td>\n",
       "      <td>NaN</td>\n",
       "      <td>5.0</td>\n",
       "      <td>30.00</td>\n",
       "      <td>5</td>\n",
       "      <td>NaN</td>\n",
       "      <td>...</td>\n",
       "      <td>9.00</td>\n",
       "      <td>0.0</td>\n",
       "      <td>Сертолово</td>\n",
       "      <td>NaN</td>\n",
       "      <td>NaN</td>\n",
       "      <td>NaN</td>\n",
       "      <td>NaN</td>\n",
       "      <td>NaN</td>\n",
       "      <td>NaN</td>\n",
       "      <td>90.0</td>\n",
       "    </tr>\n",
       "    <tr>\n",
       "      <th>22</th>\n",
       "      <td>20</td>\n",
       "      <td>5000000.0</td>\n",
       "      <td>58.00</td>\n",
       "      <td>2017-04-24</td>\n",
       "      <td>2</td>\n",
       "      <td>2.75</td>\n",
       "      <td>25.0</td>\n",
       "      <td>30.00</td>\n",
       "      <td>15</td>\n",
       "      <td>NaN</td>\n",
       "      <td>...</td>\n",
       "      <td>11.00</td>\n",
       "      <td>2.0</td>\n",
       "      <td>деревня Кудрово</td>\n",
       "      <td>NaN</td>\n",
       "      <td>NaN</td>\n",
       "      <td>NaN</td>\n",
       "      <td>NaN</td>\n",
       "      <td>NaN</td>\n",
       "      <td>NaN</td>\n",
       "      <td>60.0</td>\n",
       "    </tr>\n",
       "    <tr>\n",
       "      <th>30</th>\n",
       "      <td>12</td>\n",
       "      <td>2200000.0</td>\n",
       "      <td>32.80</td>\n",
       "      <td>2018-02-19</td>\n",
       "      <td>1</td>\n",
       "      <td>NaN</td>\n",
       "      <td>9.0</td>\n",
       "      <td>NaN</td>\n",
       "      <td>2</td>\n",
       "      <td>NaN</td>\n",
       "      <td>...</td>\n",
       "      <td>NaN</td>\n",
       "      <td>NaN</td>\n",
       "      <td>Коммунар</td>\n",
       "      <td>NaN</td>\n",
       "      <td>NaN</td>\n",
       "      <td>NaN</td>\n",
       "      <td>NaN</td>\n",
       "      <td>NaN</td>\n",
       "      <td>NaN</td>\n",
       "      <td>63.0</td>\n",
       "    </tr>\n",
       "    <tr>\n",
       "      <th>...</th>\n",
       "      <td>...</td>\n",
       "      <td>...</td>\n",
       "      <td>...</td>\n",
       "      <td>...</td>\n",
       "      <td>...</td>\n",
       "      <td>...</td>\n",
       "      <td>...</td>\n",
       "      <td>...</td>\n",
       "      <td>...</td>\n",
       "      <td>...</td>\n",
       "      <td>...</td>\n",
       "      <td>...</td>\n",
       "      <td>...</td>\n",
       "      <td>...</td>\n",
       "      <td>...</td>\n",
       "      <td>...</td>\n",
       "      <td>...</td>\n",
       "      <td>...</td>\n",
       "      <td>...</td>\n",
       "      <td>...</td>\n",
       "      <td>...</td>\n",
       "    </tr>\n",
       "    <tr>\n",
       "      <th>23683</th>\n",
       "      <td>16</td>\n",
       "      <td>2100000.0</td>\n",
       "      <td>62.80</td>\n",
       "      <td>2018-09-18</td>\n",
       "      <td>4</td>\n",
       "      <td>2.50</td>\n",
       "      <td>5.0</td>\n",
       "      <td>45.50</td>\n",
       "      <td>3</td>\n",
       "      <td>NaN</td>\n",
       "      <td>...</td>\n",
       "      <td>5.50</td>\n",
       "      <td>NaN</td>\n",
       "      <td>посёлок Дзержинского</td>\n",
       "      <td>NaN</td>\n",
       "      <td>NaN</td>\n",
       "      <td>NaN</td>\n",
       "      <td>NaN</td>\n",
       "      <td>NaN</td>\n",
       "      <td>NaN</td>\n",
       "      <td>NaN</td>\n",
       "    </tr>\n",
       "    <tr>\n",
       "      <th>23692</th>\n",
       "      <td>2</td>\n",
       "      <td>1350000.0</td>\n",
       "      <td>30.00</td>\n",
       "      <td>2017-07-07</td>\n",
       "      <td>1</td>\n",
       "      <td>NaN</td>\n",
       "      <td>5.0</td>\n",
       "      <td>17.50</td>\n",
       "      <td>4</td>\n",
       "      <td>NaN</td>\n",
       "      <td>...</td>\n",
       "      <td>6.00</td>\n",
       "      <td>NaN</td>\n",
       "      <td>Тихвин</td>\n",
       "      <td>NaN</td>\n",
       "      <td>NaN</td>\n",
       "      <td>NaN</td>\n",
       "      <td>NaN</td>\n",
       "      <td>NaN</td>\n",
       "      <td>NaN</td>\n",
       "      <td>413.0</td>\n",
       "    </tr>\n",
       "    <tr>\n",
       "      <th>23695</th>\n",
       "      <td>14</td>\n",
       "      <td>3100000.0</td>\n",
       "      <td>59.00</td>\n",
       "      <td>2018-01-15</td>\n",
       "      <td>3</td>\n",
       "      <td>NaN</td>\n",
       "      <td>5.0</td>\n",
       "      <td>38.00</td>\n",
       "      <td>4</td>\n",
       "      <td>NaN</td>\n",
       "      <td>...</td>\n",
       "      <td>8.50</td>\n",
       "      <td>NaN</td>\n",
       "      <td>Тосно</td>\n",
       "      <td>NaN</td>\n",
       "      <td>NaN</td>\n",
       "      <td>NaN</td>\n",
       "      <td>NaN</td>\n",
       "      <td>NaN</td>\n",
       "      <td>NaN</td>\n",
       "      <td>45.0</td>\n",
       "    </tr>\n",
       "    <tr>\n",
       "      <th>23696</th>\n",
       "      <td>18</td>\n",
       "      <td>2500000.0</td>\n",
       "      <td>56.70</td>\n",
       "      <td>2018-02-11</td>\n",
       "      <td>2</td>\n",
       "      <td>NaN</td>\n",
       "      <td>3.0</td>\n",
       "      <td>29.70</td>\n",
       "      <td>1</td>\n",
       "      <td>NaN</td>\n",
       "      <td>...</td>\n",
       "      <td>NaN</td>\n",
       "      <td>NaN</td>\n",
       "      <td>село Рождествено</td>\n",
       "      <td>NaN</td>\n",
       "      <td>NaN</td>\n",
       "      <td>NaN</td>\n",
       "      <td>NaN</td>\n",
       "      <td>NaN</td>\n",
       "      <td>NaN</td>\n",
       "      <td>NaN</td>\n",
       "    </tr>\n",
       "    <tr>\n",
       "      <th>23698</th>\n",
       "      <td>4</td>\n",
       "      <td>1350000.0</td>\n",
       "      <td>32.30</td>\n",
       "      <td>2017-07-21</td>\n",
       "      <td>1</td>\n",
       "      <td>2.50</td>\n",
       "      <td>5.0</td>\n",
       "      <td>12.30</td>\n",
       "      <td>1</td>\n",
       "      <td>NaN</td>\n",
       "      <td>...</td>\n",
       "      <td>9.00</td>\n",
       "      <td>NaN</td>\n",
       "      <td>поселок Новый Учхоз</td>\n",
       "      <td>NaN</td>\n",
       "      <td>NaN</td>\n",
       "      <td>NaN</td>\n",
       "      <td>NaN</td>\n",
       "      <td>NaN</td>\n",
       "      <td>NaN</td>\n",
       "      <td>NaN</td>\n",
       "    </tr>\n",
       "  </tbody>\n",
       "</table>\n",
       "<p>5518 rows × 22 columns</p>\n",
       "</div>"
      ],
      "text/plain": [
       "       total_images  last_price  total_area first_day_exposition  rooms  \\\n",
       "5                10   2890000.0       30.40           2018-09-10      1   \n",
       "8                20   2900000.0       33.16           2018-05-23      1   \n",
       "12               10   3890000.0       54.00           2016-06-30      2   \n",
       "22               20   5000000.0       58.00           2017-04-24      2   \n",
       "30               12   2200000.0       32.80           2018-02-19      1   \n",
       "...             ...         ...         ...                  ...    ...   \n",
       "23683            16   2100000.0       62.80           2018-09-18      4   \n",
       "23692             2   1350000.0       30.00           2017-07-07      1   \n",
       "23695            14   3100000.0       59.00           2018-01-15      3   \n",
       "23696            18   2500000.0       56.70           2018-02-11      2   \n",
       "23698             4   1350000.0       32.30           2017-07-21      1   \n",
       "\n",
       "       ceiling_height  floors_total  living_area  floor is_apartment  ...  \\\n",
       "5                 NaN          12.0        14.40      5          NaN  ...   \n",
       "8                 NaN          27.0        15.43     26          NaN  ...   \n",
       "12                NaN           5.0        30.00      5          NaN  ...   \n",
       "22               2.75          25.0        30.00     15          NaN  ...   \n",
       "30                NaN           9.0          NaN      2          NaN  ...   \n",
       "...               ...           ...          ...    ...          ...  ...   \n",
       "23683            2.50           5.0        45.50      3          NaN  ...   \n",
       "23692             NaN           5.0        17.50      4          NaN  ...   \n",
       "23695             NaN           5.0        38.00      4          NaN  ...   \n",
       "23696             NaN           3.0        29.70      1          NaN  ...   \n",
       "23698            2.50           5.0        12.30      1          NaN  ...   \n",
       "\n",
       "       kitchen_area  balcony              locality_name  airports_nearest  \\\n",
       "5              9.10      NaN  городской посёлок Янино-1               NaN   \n",
       "8              8.81      NaN             посёлок Мурино               NaN   \n",
       "12             9.00      0.0                  Сертолово               NaN   \n",
       "22            11.00      2.0            деревня Кудрово               NaN   \n",
       "30              NaN      NaN                   Коммунар               NaN   \n",
       "...             ...      ...                        ...               ...   \n",
       "23683          5.50      NaN       посёлок Дзержинского               NaN   \n",
       "23692          6.00      NaN                     Тихвин               NaN   \n",
       "23695          8.50      NaN                      Тосно               NaN   \n",
       "23696           NaN      NaN           село Рождествено               NaN   \n",
       "23698          9.00      NaN        поселок Новый Учхоз               NaN   \n",
       "\n",
       "      cityCenters_nearest  parks_around3000  parks_nearest  ponds_around3000  \\\n",
       "5                     NaN               NaN            NaN               NaN   \n",
       "8                     NaN               NaN            NaN               NaN   \n",
       "12                    NaN               NaN            NaN               NaN   \n",
       "22                    NaN               NaN            NaN               NaN   \n",
       "30                    NaN               NaN            NaN               NaN   \n",
       "...                   ...               ...            ...               ...   \n",
       "23683                 NaN               NaN            NaN               NaN   \n",
       "23692                 NaN               NaN            NaN               NaN   \n",
       "23695                 NaN               NaN            NaN               NaN   \n",
       "23696                 NaN               NaN            NaN               NaN   \n",
       "23698                 NaN               NaN            NaN               NaN   \n",
       "\n",
       "       ponds_nearest  days_exposition  \n",
       "5                NaN             55.0  \n",
       "8                NaN            189.0  \n",
       "12               NaN             90.0  \n",
       "22               NaN             60.0  \n",
       "30               NaN             63.0  \n",
       "...              ...              ...  \n",
       "23683            NaN              NaN  \n",
       "23692            NaN            413.0  \n",
       "23695            NaN             45.0  \n",
       "23696            NaN              NaN  \n",
       "23698            NaN              NaN  \n",
       "\n",
       "[5518 rows x 22 columns]"
      ]
     },
     "metadata": {},
     "output_type": "display_data"
    }
   ],
   "source": [
    "display(data[data['parks_around3000'].isna()]) "
   ]
  },
  {
   "cell_type": "markdown",
   "metadata": {},
   "source": [
    "5519 объявлений, корректно заполнить не предоставляется возможным, да и на итоговый результат думаю это не влияет."
   ]
  },
  {
   "cell_type": "code",
   "execution_count": 16,
   "metadata": {},
   "outputs": [
    {
     "data": {
      "text/html": [
       "<div>\n",
       "<style scoped>\n",
       "    .dataframe tbody tr th:only-of-type {\n",
       "        vertical-align: middle;\n",
       "    }\n",
       "\n",
       "    .dataframe tbody tr th {\n",
       "        vertical-align: top;\n",
       "    }\n",
       "\n",
       "    .dataframe thead th {\n",
       "        text-align: right;\n",
       "    }\n",
       "</style>\n",
       "<table border=\"1\" class=\"dataframe\">\n",
       "  <thead>\n",
       "    <tr style=\"text-align: right;\">\n",
       "      <th></th>\n",
       "      <th>total_images</th>\n",
       "      <th>last_price</th>\n",
       "      <th>total_area</th>\n",
       "      <th>first_day_exposition</th>\n",
       "      <th>rooms</th>\n",
       "      <th>ceiling_height</th>\n",
       "      <th>floors_total</th>\n",
       "      <th>living_area</th>\n",
       "      <th>floor</th>\n",
       "      <th>is_apartment</th>\n",
       "      <th>...</th>\n",
       "      <th>kitchen_area</th>\n",
       "      <th>balcony</th>\n",
       "      <th>locality_name</th>\n",
       "      <th>airports_nearest</th>\n",
       "      <th>cityCenters_nearest</th>\n",
       "      <th>parks_around3000</th>\n",
       "      <th>parks_nearest</th>\n",
       "      <th>ponds_around3000</th>\n",
       "      <th>ponds_nearest</th>\n",
       "      <th>days_exposition</th>\n",
       "    </tr>\n",
       "  </thead>\n",
       "  <tbody>\n",
       "    <tr>\n",
       "      <th>1</th>\n",
       "      <td>7</td>\n",
       "      <td>3350000.0</td>\n",
       "      <td>40.40</td>\n",
       "      <td>2018-12-04</td>\n",
       "      <td>1</td>\n",
       "      <td>NaN</td>\n",
       "      <td>11.0</td>\n",
       "      <td>18.60</td>\n",
       "      <td>1</td>\n",
       "      <td>NaN</td>\n",
       "      <td>...</td>\n",
       "      <td>11.00</td>\n",
       "      <td>2.0</td>\n",
       "      <td>посёлок Шушары</td>\n",
       "      <td>12817.0</td>\n",
       "      <td>18603.0</td>\n",
       "      <td>0.0</td>\n",
       "      <td>NaN</td>\n",
       "      <td>0.0</td>\n",
       "      <td>NaN</td>\n",
       "      <td>81.0</td>\n",
       "    </tr>\n",
       "    <tr>\n",
       "      <th>5</th>\n",
       "      <td>10</td>\n",
       "      <td>2890000.0</td>\n",
       "      <td>30.40</td>\n",
       "      <td>2018-09-10</td>\n",
       "      <td>1</td>\n",
       "      <td>NaN</td>\n",
       "      <td>12.0</td>\n",
       "      <td>14.40</td>\n",
       "      <td>5</td>\n",
       "      <td>NaN</td>\n",
       "      <td>...</td>\n",
       "      <td>9.10</td>\n",
       "      <td>NaN</td>\n",
       "      <td>городской посёлок Янино-1</td>\n",
       "      <td>NaN</td>\n",
       "      <td>NaN</td>\n",
       "      <td>NaN</td>\n",
       "      <td>NaN</td>\n",
       "      <td>NaN</td>\n",
       "      <td>NaN</td>\n",
       "      <td>55.0</td>\n",
       "    </tr>\n",
       "    <tr>\n",
       "      <th>6</th>\n",
       "      <td>6</td>\n",
       "      <td>3700000.0</td>\n",
       "      <td>37.30</td>\n",
       "      <td>2017-11-02</td>\n",
       "      <td>1</td>\n",
       "      <td>NaN</td>\n",
       "      <td>26.0</td>\n",
       "      <td>10.60</td>\n",
       "      <td>6</td>\n",
       "      <td>NaN</td>\n",
       "      <td>...</td>\n",
       "      <td>14.40</td>\n",
       "      <td>1.0</td>\n",
       "      <td>посёлок Парголово</td>\n",
       "      <td>52996.0</td>\n",
       "      <td>19143.0</td>\n",
       "      <td>0.0</td>\n",
       "      <td>NaN</td>\n",
       "      <td>0.0</td>\n",
       "      <td>NaN</td>\n",
       "      <td>155.0</td>\n",
       "    </tr>\n",
       "    <tr>\n",
       "      <th>7</th>\n",
       "      <td>5</td>\n",
       "      <td>7915000.0</td>\n",
       "      <td>71.60</td>\n",
       "      <td>2019-04-18</td>\n",
       "      <td>2</td>\n",
       "      <td>NaN</td>\n",
       "      <td>24.0</td>\n",
       "      <td>NaN</td>\n",
       "      <td>22</td>\n",
       "      <td>NaN</td>\n",
       "      <td>...</td>\n",
       "      <td>18.90</td>\n",
       "      <td>2.0</td>\n",
       "      <td>Санкт-Петербург</td>\n",
       "      <td>23982.0</td>\n",
       "      <td>11634.0</td>\n",
       "      <td>0.0</td>\n",
       "      <td>NaN</td>\n",
       "      <td>0.0</td>\n",
       "      <td>NaN</td>\n",
       "      <td>NaN</td>\n",
       "    </tr>\n",
       "    <tr>\n",
       "      <th>8</th>\n",
       "      <td>20</td>\n",
       "      <td>2900000.0</td>\n",
       "      <td>33.16</td>\n",
       "      <td>2018-05-23</td>\n",
       "      <td>1</td>\n",
       "      <td>NaN</td>\n",
       "      <td>27.0</td>\n",
       "      <td>15.43</td>\n",
       "      <td>26</td>\n",
       "      <td>NaN</td>\n",
       "      <td>...</td>\n",
       "      <td>8.81</td>\n",
       "      <td>NaN</td>\n",
       "      <td>посёлок Мурино</td>\n",
       "      <td>NaN</td>\n",
       "      <td>NaN</td>\n",
       "      <td>NaN</td>\n",
       "      <td>NaN</td>\n",
       "      <td>NaN</td>\n",
       "      <td>NaN</td>\n",
       "      <td>189.0</td>\n",
       "    </tr>\n",
       "    <tr>\n",
       "      <th>...</th>\n",
       "      <td>...</td>\n",
       "      <td>...</td>\n",
       "      <td>...</td>\n",
       "      <td>...</td>\n",
       "      <td>...</td>\n",
       "      <td>...</td>\n",
       "      <td>...</td>\n",
       "      <td>...</td>\n",
       "      <td>...</td>\n",
       "      <td>...</td>\n",
       "      <td>...</td>\n",
       "      <td>...</td>\n",
       "      <td>...</td>\n",
       "      <td>...</td>\n",
       "      <td>...</td>\n",
       "      <td>...</td>\n",
       "      <td>...</td>\n",
       "      <td>...</td>\n",
       "      <td>...</td>\n",
       "      <td>...</td>\n",
       "      <td>...</td>\n",
       "    </tr>\n",
       "    <tr>\n",
       "      <th>23691</th>\n",
       "      <td>11</td>\n",
       "      <td>9470000.0</td>\n",
       "      <td>72.90</td>\n",
       "      <td>2016-10-13</td>\n",
       "      <td>2</td>\n",
       "      <td>2.75</td>\n",
       "      <td>25.0</td>\n",
       "      <td>40.30</td>\n",
       "      <td>7</td>\n",
       "      <td>NaN</td>\n",
       "      <td>...</td>\n",
       "      <td>10.60</td>\n",
       "      <td>1.0</td>\n",
       "      <td>Санкт-Петербург</td>\n",
       "      <td>19424.0</td>\n",
       "      <td>4489.0</td>\n",
       "      <td>0.0</td>\n",
       "      <td>NaN</td>\n",
       "      <td>1.0</td>\n",
       "      <td>806.0</td>\n",
       "      <td>519.0</td>\n",
       "    </tr>\n",
       "    <tr>\n",
       "      <th>23692</th>\n",
       "      <td>2</td>\n",
       "      <td>1350000.0</td>\n",
       "      <td>30.00</td>\n",
       "      <td>2017-07-07</td>\n",
       "      <td>1</td>\n",
       "      <td>NaN</td>\n",
       "      <td>5.0</td>\n",
       "      <td>17.50</td>\n",
       "      <td>4</td>\n",
       "      <td>NaN</td>\n",
       "      <td>...</td>\n",
       "      <td>6.00</td>\n",
       "      <td>NaN</td>\n",
       "      <td>Тихвин</td>\n",
       "      <td>NaN</td>\n",
       "      <td>NaN</td>\n",
       "      <td>NaN</td>\n",
       "      <td>NaN</td>\n",
       "      <td>NaN</td>\n",
       "      <td>NaN</td>\n",
       "      <td>413.0</td>\n",
       "    </tr>\n",
       "    <tr>\n",
       "      <th>23695</th>\n",
       "      <td>14</td>\n",
       "      <td>3100000.0</td>\n",
       "      <td>59.00</td>\n",
       "      <td>2018-01-15</td>\n",
       "      <td>3</td>\n",
       "      <td>NaN</td>\n",
       "      <td>5.0</td>\n",
       "      <td>38.00</td>\n",
       "      <td>4</td>\n",
       "      <td>NaN</td>\n",
       "      <td>...</td>\n",
       "      <td>8.50</td>\n",
       "      <td>NaN</td>\n",
       "      <td>Тосно</td>\n",
       "      <td>NaN</td>\n",
       "      <td>NaN</td>\n",
       "      <td>NaN</td>\n",
       "      <td>NaN</td>\n",
       "      <td>NaN</td>\n",
       "      <td>NaN</td>\n",
       "      <td>45.0</td>\n",
       "    </tr>\n",
       "    <tr>\n",
       "      <th>23696</th>\n",
       "      <td>18</td>\n",
       "      <td>2500000.0</td>\n",
       "      <td>56.70</td>\n",
       "      <td>2018-02-11</td>\n",
       "      <td>2</td>\n",
       "      <td>NaN</td>\n",
       "      <td>3.0</td>\n",
       "      <td>29.70</td>\n",
       "      <td>1</td>\n",
       "      <td>NaN</td>\n",
       "      <td>...</td>\n",
       "      <td>NaN</td>\n",
       "      <td>NaN</td>\n",
       "      <td>село Рождествено</td>\n",
       "      <td>NaN</td>\n",
       "      <td>NaN</td>\n",
       "      <td>NaN</td>\n",
       "      <td>NaN</td>\n",
       "      <td>NaN</td>\n",
       "      <td>NaN</td>\n",
       "      <td>NaN</td>\n",
       "    </tr>\n",
       "    <tr>\n",
       "      <th>23698</th>\n",
       "      <td>4</td>\n",
       "      <td>1350000.0</td>\n",
       "      <td>32.30</td>\n",
       "      <td>2017-07-21</td>\n",
       "      <td>1</td>\n",
       "      <td>2.50</td>\n",
       "      <td>5.0</td>\n",
       "      <td>12.30</td>\n",
       "      <td>1</td>\n",
       "      <td>NaN</td>\n",
       "      <td>...</td>\n",
       "      <td>9.00</td>\n",
       "      <td>NaN</td>\n",
       "      <td>поселок Новый Учхоз</td>\n",
       "      <td>NaN</td>\n",
       "      <td>NaN</td>\n",
       "      <td>NaN</td>\n",
       "      <td>NaN</td>\n",
       "      <td>NaN</td>\n",
       "      <td>NaN</td>\n",
       "      <td>NaN</td>\n",
       "    </tr>\n",
       "  </tbody>\n",
       "</table>\n",
       "<p>15620 rows × 22 columns</p>\n",
       "</div>"
      ],
      "text/plain": [
       "       total_images  last_price  total_area first_day_exposition  rooms  \\\n",
       "1                 7   3350000.0       40.40           2018-12-04      1   \n",
       "5                10   2890000.0       30.40           2018-09-10      1   \n",
       "6                 6   3700000.0       37.30           2017-11-02      1   \n",
       "7                 5   7915000.0       71.60           2019-04-18      2   \n",
       "8                20   2900000.0       33.16           2018-05-23      1   \n",
       "...             ...         ...         ...                  ...    ...   \n",
       "23691            11   9470000.0       72.90           2016-10-13      2   \n",
       "23692             2   1350000.0       30.00           2017-07-07      1   \n",
       "23695            14   3100000.0       59.00           2018-01-15      3   \n",
       "23696            18   2500000.0       56.70           2018-02-11      2   \n",
       "23698             4   1350000.0       32.30           2017-07-21      1   \n",
       "\n",
       "       ceiling_height  floors_total  living_area  floor is_apartment  ...  \\\n",
       "1                 NaN          11.0        18.60      1          NaN  ...   \n",
       "5                 NaN          12.0        14.40      5          NaN  ...   \n",
       "6                 NaN          26.0        10.60      6          NaN  ...   \n",
       "7                 NaN          24.0          NaN     22          NaN  ...   \n",
       "8                 NaN          27.0        15.43     26          NaN  ...   \n",
       "...               ...           ...          ...    ...          ...  ...   \n",
       "23691            2.75          25.0        40.30      7          NaN  ...   \n",
       "23692             NaN           5.0        17.50      4          NaN  ...   \n",
       "23695             NaN           5.0        38.00      4          NaN  ...   \n",
       "23696             NaN           3.0        29.70      1          NaN  ...   \n",
       "23698            2.50           5.0        12.30      1          NaN  ...   \n",
       "\n",
       "       kitchen_area  balcony              locality_name  airports_nearest  \\\n",
       "1             11.00      2.0             посёлок Шушары           12817.0   \n",
       "5              9.10      NaN  городской посёлок Янино-1               NaN   \n",
       "6             14.40      1.0          посёлок Парголово           52996.0   \n",
       "7             18.90      2.0            Санкт-Петербург           23982.0   \n",
       "8              8.81      NaN             посёлок Мурино               NaN   \n",
       "...             ...      ...                        ...               ...   \n",
       "23691         10.60      1.0            Санкт-Петербург           19424.0   \n",
       "23692          6.00      NaN                     Тихвин               NaN   \n",
       "23695          8.50      NaN                      Тосно               NaN   \n",
       "23696           NaN      NaN           село Рождествено               NaN   \n",
       "23698          9.00      NaN        поселок Новый Учхоз               NaN   \n",
       "\n",
       "      cityCenters_nearest  parks_around3000  parks_nearest  ponds_around3000  \\\n",
       "1                 18603.0               0.0            NaN               0.0   \n",
       "5                     NaN               NaN            NaN               NaN   \n",
       "6                 19143.0               0.0            NaN               0.0   \n",
       "7                 11634.0               0.0            NaN               0.0   \n",
       "8                     NaN               NaN            NaN               NaN   \n",
       "...                   ...               ...            ...               ...   \n",
       "23691              4489.0               0.0            NaN               1.0   \n",
       "23692                 NaN               NaN            NaN               NaN   \n",
       "23695                 NaN               NaN            NaN               NaN   \n",
       "23696                 NaN               NaN            NaN               NaN   \n",
       "23698                 NaN               NaN            NaN               NaN   \n",
       "\n",
       "       ponds_nearest  days_exposition  \n",
       "1                NaN             81.0  \n",
       "5                NaN             55.0  \n",
       "6                NaN            155.0  \n",
       "7                NaN              NaN  \n",
       "8                NaN            189.0  \n",
       "...              ...              ...  \n",
       "23691          806.0            519.0  \n",
       "23692            NaN            413.0  \n",
       "23695            NaN             45.0  \n",
       "23696            NaN              NaN  \n",
       "23698            NaN              NaN  \n",
       "\n",
       "[15620 rows x 22 columns]"
      ]
     },
     "metadata": {},
     "output_type": "display_data"
    }
   ],
   "source": [
    "display(data[data['parks_nearest'].isna()])"
   ]
  },
  {
   "cell_type": "markdown",
   "metadata": {},
   "source": [
    "15620 объявлений, корректно заполнить не предоставляется возможным, да и на итоговый результат думаю это не влияет."
   ]
  },
  {
   "cell_type": "code",
   "execution_count": 17,
   "metadata": {},
   "outputs": [
    {
     "data": {
      "text/html": [
       "<div>\n",
       "<style scoped>\n",
       "    .dataframe tbody tr th:only-of-type {\n",
       "        vertical-align: middle;\n",
       "    }\n",
       "\n",
       "    .dataframe tbody tr th {\n",
       "        vertical-align: top;\n",
       "    }\n",
       "\n",
       "    .dataframe thead th {\n",
       "        text-align: right;\n",
       "    }\n",
       "</style>\n",
       "<table border=\"1\" class=\"dataframe\">\n",
       "  <thead>\n",
       "    <tr style=\"text-align: right;\">\n",
       "      <th></th>\n",
       "      <th>total_images</th>\n",
       "      <th>last_price</th>\n",
       "      <th>total_area</th>\n",
       "      <th>first_day_exposition</th>\n",
       "      <th>rooms</th>\n",
       "      <th>ceiling_height</th>\n",
       "      <th>floors_total</th>\n",
       "      <th>living_area</th>\n",
       "      <th>floor</th>\n",
       "      <th>is_apartment</th>\n",
       "      <th>...</th>\n",
       "      <th>kitchen_area</th>\n",
       "      <th>balcony</th>\n",
       "      <th>locality_name</th>\n",
       "      <th>airports_nearest</th>\n",
       "      <th>cityCenters_nearest</th>\n",
       "      <th>parks_around3000</th>\n",
       "      <th>parks_nearest</th>\n",
       "      <th>ponds_around3000</th>\n",
       "      <th>ponds_nearest</th>\n",
       "      <th>days_exposition</th>\n",
       "    </tr>\n",
       "  </thead>\n",
       "  <tbody>\n",
       "    <tr>\n",
       "      <th>5</th>\n",
       "      <td>10</td>\n",
       "      <td>2890000.0</td>\n",
       "      <td>30.40</td>\n",
       "      <td>2018-09-10</td>\n",
       "      <td>1</td>\n",
       "      <td>NaN</td>\n",
       "      <td>12.0</td>\n",
       "      <td>14.40</td>\n",
       "      <td>5</td>\n",
       "      <td>NaN</td>\n",
       "      <td>...</td>\n",
       "      <td>9.10</td>\n",
       "      <td>NaN</td>\n",
       "      <td>городской посёлок Янино-1</td>\n",
       "      <td>NaN</td>\n",
       "      <td>NaN</td>\n",
       "      <td>NaN</td>\n",
       "      <td>NaN</td>\n",
       "      <td>NaN</td>\n",
       "      <td>NaN</td>\n",
       "      <td>55.0</td>\n",
       "    </tr>\n",
       "    <tr>\n",
       "      <th>8</th>\n",
       "      <td>20</td>\n",
       "      <td>2900000.0</td>\n",
       "      <td>33.16</td>\n",
       "      <td>2018-05-23</td>\n",
       "      <td>1</td>\n",
       "      <td>NaN</td>\n",
       "      <td>27.0</td>\n",
       "      <td>15.43</td>\n",
       "      <td>26</td>\n",
       "      <td>NaN</td>\n",
       "      <td>...</td>\n",
       "      <td>8.81</td>\n",
       "      <td>NaN</td>\n",
       "      <td>посёлок Мурино</td>\n",
       "      <td>NaN</td>\n",
       "      <td>NaN</td>\n",
       "      <td>NaN</td>\n",
       "      <td>NaN</td>\n",
       "      <td>NaN</td>\n",
       "      <td>NaN</td>\n",
       "      <td>189.0</td>\n",
       "    </tr>\n",
       "    <tr>\n",
       "      <th>12</th>\n",
       "      <td>10</td>\n",
       "      <td>3890000.0</td>\n",
       "      <td>54.00</td>\n",
       "      <td>2016-06-30</td>\n",
       "      <td>2</td>\n",
       "      <td>NaN</td>\n",
       "      <td>5.0</td>\n",
       "      <td>30.00</td>\n",
       "      <td>5</td>\n",
       "      <td>NaN</td>\n",
       "      <td>...</td>\n",
       "      <td>9.00</td>\n",
       "      <td>0.0</td>\n",
       "      <td>Сертолово</td>\n",
       "      <td>NaN</td>\n",
       "      <td>NaN</td>\n",
       "      <td>NaN</td>\n",
       "      <td>NaN</td>\n",
       "      <td>NaN</td>\n",
       "      <td>NaN</td>\n",
       "      <td>90.0</td>\n",
       "    </tr>\n",
       "    <tr>\n",
       "      <th>22</th>\n",
       "      <td>20</td>\n",
       "      <td>5000000.0</td>\n",
       "      <td>58.00</td>\n",
       "      <td>2017-04-24</td>\n",
       "      <td>2</td>\n",
       "      <td>2.75</td>\n",
       "      <td>25.0</td>\n",
       "      <td>30.00</td>\n",
       "      <td>15</td>\n",
       "      <td>NaN</td>\n",
       "      <td>...</td>\n",
       "      <td>11.00</td>\n",
       "      <td>2.0</td>\n",
       "      <td>деревня Кудрово</td>\n",
       "      <td>NaN</td>\n",
       "      <td>NaN</td>\n",
       "      <td>NaN</td>\n",
       "      <td>NaN</td>\n",
       "      <td>NaN</td>\n",
       "      <td>NaN</td>\n",
       "      <td>60.0</td>\n",
       "    </tr>\n",
       "    <tr>\n",
       "      <th>30</th>\n",
       "      <td>12</td>\n",
       "      <td>2200000.0</td>\n",
       "      <td>32.80</td>\n",
       "      <td>2018-02-19</td>\n",
       "      <td>1</td>\n",
       "      <td>NaN</td>\n",
       "      <td>9.0</td>\n",
       "      <td>NaN</td>\n",
       "      <td>2</td>\n",
       "      <td>NaN</td>\n",
       "      <td>...</td>\n",
       "      <td>NaN</td>\n",
       "      <td>NaN</td>\n",
       "      <td>Коммунар</td>\n",
       "      <td>NaN</td>\n",
       "      <td>NaN</td>\n",
       "      <td>NaN</td>\n",
       "      <td>NaN</td>\n",
       "      <td>NaN</td>\n",
       "      <td>NaN</td>\n",
       "      <td>63.0</td>\n",
       "    </tr>\n",
       "    <tr>\n",
       "      <th>...</th>\n",
       "      <td>...</td>\n",
       "      <td>...</td>\n",
       "      <td>...</td>\n",
       "      <td>...</td>\n",
       "      <td>...</td>\n",
       "      <td>...</td>\n",
       "      <td>...</td>\n",
       "      <td>...</td>\n",
       "      <td>...</td>\n",
       "      <td>...</td>\n",
       "      <td>...</td>\n",
       "      <td>...</td>\n",
       "      <td>...</td>\n",
       "      <td>...</td>\n",
       "      <td>...</td>\n",
       "      <td>...</td>\n",
       "      <td>...</td>\n",
       "      <td>...</td>\n",
       "      <td>...</td>\n",
       "      <td>...</td>\n",
       "      <td>...</td>\n",
       "    </tr>\n",
       "    <tr>\n",
       "      <th>23683</th>\n",
       "      <td>16</td>\n",
       "      <td>2100000.0</td>\n",
       "      <td>62.80</td>\n",
       "      <td>2018-09-18</td>\n",
       "      <td>4</td>\n",
       "      <td>2.50</td>\n",
       "      <td>5.0</td>\n",
       "      <td>45.50</td>\n",
       "      <td>3</td>\n",
       "      <td>NaN</td>\n",
       "      <td>...</td>\n",
       "      <td>5.50</td>\n",
       "      <td>NaN</td>\n",
       "      <td>посёлок Дзержинского</td>\n",
       "      <td>NaN</td>\n",
       "      <td>NaN</td>\n",
       "      <td>NaN</td>\n",
       "      <td>NaN</td>\n",
       "      <td>NaN</td>\n",
       "      <td>NaN</td>\n",
       "      <td>NaN</td>\n",
       "    </tr>\n",
       "    <tr>\n",
       "      <th>23692</th>\n",
       "      <td>2</td>\n",
       "      <td>1350000.0</td>\n",
       "      <td>30.00</td>\n",
       "      <td>2017-07-07</td>\n",
       "      <td>1</td>\n",
       "      <td>NaN</td>\n",
       "      <td>5.0</td>\n",
       "      <td>17.50</td>\n",
       "      <td>4</td>\n",
       "      <td>NaN</td>\n",
       "      <td>...</td>\n",
       "      <td>6.00</td>\n",
       "      <td>NaN</td>\n",
       "      <td>Тихвин</td>\n",
       "      <td>NaN</td>\n",
       "      <td>NaN</td>\n",
       "      <td>NaN</td>\n",
       "      <td>NaN</td>\n",
       "      <td>NaN</td>\n",
       "      <td>NaN</td>\n",
       "      <td>413.0</td>\n",
       "    </tr>\n",
       "    <tr>\n",
       "      <th>23695</th>\n",
       "      <td>14</td>\n",
       "      <td>3100000.0</td>\n",
       "      <td>59.00</td>\n",
       "      <td>2018-01-15</td>\n",
       "      <td>3</td>\n",
       "      <td>NaN</td>\n",
       "      <td>5.0</td>\n",
       "      <td>38.00</td>\n",
       "      <td>4</td>\n",
       "      <td>NaN</td>\n",
       "      <td>...</td>\n",
       "      <td>8.50</td>\n",
       "      <td>NaN</td>\n",
       "      <td>Тосно</td>\n",
       "      <td>NaN</td>\n",
       "      <td>NaN</td>\n",
       "      <td>NaN</td>\n",
       "      <td>NaN</td>\n",
       "      <td>NaN</td>\n",
       "      <td>NaN</td>\n",
       "      <td>45.0</td>\n",
       "    </tr>\n",
       "    <tr>\n",
       "      <th>23696</th>\n",
       "      <td>18</td>\n",
       "      <td>2500000.0</td>\n",
       "      <td>56.70</td>\n",
       "      <td>2018-02-11</td>\n",
       "      <td>2</td>\n",
       "      <td>NaN</td>\n",
       "      <td>3.0</td>\n",
       "      <td>29.70</td>\n",
       "      <td>1</td>\n",
       "      <td>NaN</td>\n",
       "      <td>...</td>\n",
       "      <td>NaN</td>\n",
       "      <td>NaN</td>\n",
       "      <td>село Рождествено</td>\n",
       "      <td>NaN</td>\n",
       "      <td>NaN</td>\n",
       "      <td>NaN</td>\n",
       "      <td>NaN</td>\n",
       "      <td>NaN</td>\n",
       "      <td>NaN</td>\n",
       "      <td>NaN</td>\n",
       "    </tr>\n",
       "    <tr>\n",
       "      <th>23698</th>\n",
       "      <td>4</td>\n",
       "      <td>1350000.0</td>\n",
       "      <td>32.30</td>\n",
       "      <td>2017-07-21</td>\n",
       "      <td>1</td>\n",
       "      <td>2.50</td>\n",
       "      <td>5.0</td>\n",
       "      <td>12.30</td>\n",
       "      <td>1</td>\n",
       "      <td>NaN</td>\n",
       "      <td>...</td>\n",
       "      <td>9.00</td>\n",
       "      <td>NaN</td>\n",
       "      <td>поселок Новый Учхоз</td>\n",
       "      <td>NaN</td>\n",
       "      <td>NaN</td>\n",
       "      <td>NaN</td>\n",
       "      <td>NaN</td>\n",
       "      <td>NaN</td>\n",
       "      <td>NaN</td>\n",
       "      <td>NaN</td>\n",
       "    </tr>\n",
       "  </tbody>\n",
       "</table>\n",
       "<p>5518 rows × 22 columns</p>\n",
       "</div>"
      ],
      "text/plain": [
       "       total_images  last_price  total_area first_day_exposition  rooms  \\\n",
       "5                10   2890000.0       30.40           2018-09-10      1   \n",
       "8                20   2900000.0       33.16           2018-05-23      1   \n",
       "12               10   3890000.0       54.00           2016-06-30      2   \n",
       "22               20   5000000.0       58.00           2017-04-24      2   \n",
       "30               12   2200000.0       32.80           2018-02-19      1   \n",
       "...             ...         ...         ...                  ...    ...   \n",
       "23683            16   2100000.0       62.80           2018-09-18      4   \n",
       "23692             2   1350000.0       30.00           2017-07-07      1   \n",
       "23695            14   3100000.0       59.00           2018-01-15      3   \n",
       "23696            18   2500000.0       56.70           2018-02-11      2   \n",
       "23698             4   1350000.0       32.30           2017-07-21      1   \n",
       "\n",
       "       ceiling_height  floors_total  living_area  floor is_apartment  ...  \\\n",
       "5                 NaN          12.0        14.40      5          NaN  ...   \n",
       "8                 NaN          27.0        15.43     26          NaN  ...   \n",
       "12                NaN           5.0        30.00      5          NaN  ...   \n",
       "22               2.75          25.0        30.00     15          NaN  ...   \n",
       "30                NaN           9.0          NaN      2          NaN  ...   \n",
       "...               ...           ...          ...    ...          ...  ...   \n",
       "23683            2.50           5.0        45.50      3          NaN  ...   \n",
       "23692             NaN           5.0        17.50      4          NaN  ...   \n",
       "23695             NaN           5.0        38.00      4          NaN  ...   \n",
       "23696             NaN           3.0        29.70      1          NaN  ...   \n",
       "23698            2.50           5.0        12.30      1          NaN  ...   \n",
       "\n",
       "       kitchen_area  balcony              locality_name  airports_nearest  \\\n",
       "5              9.10      NaN  городской посёлок Янино-1               NaN   \n",
       "8              8.81      NaN             посёлок Мурино               NaN   \n",
       "12             9.00      0.0                  Сертолово               NaN   \n",
       "22            11.00      2.0            деревня Кудрово               NaN   \n",
       "30              NaN      NaN                   Коммунар               NaN   \n",
       "...             ...      ...                        ...               ...   \n",
       "23683          5.50      NaN       посёлок Дзержинского               NaN   \n",
       "23692          6.00      NaN                     Тихвин               NaN   \n",
       "23695          8.50      NaN                      Тосно               NaN   \n",
       "23696           NaN      NaN           село Рождествено               NaN   \n",
       "23698          9.00      NaN        поселок Новый Учхоз               NaN   \n",
       "\n",
       "      cityCenters_nearest  parks_around3000  parks_nearest  ponds_around3000  \\\n",
       "5                     NaN               NaN            NaN               NaN   \n",
       "8                     NaN               NaN            NaN               NaN   \n",
       "12                    NaN               NaN            NaN               NaN   \n",
       "22                    NaN               NaN            NaN               NaN   \n",
       "30                    NaN               NaN            NaN               NaN   \n",
       "...                   ...               ...            ...               ...   \n",
       "23683                 NaN               NaN            NaN               NaN   \n",
       "23692                 NaN               NaN            NaN               NaN   \n",
       "23695                 NaN               NaN            NaN               NaN   \n",
       "23696                 NaN               NaN            NaN               NaN   \n",
       "23698                 NaN               NaN            NaN               NaN   \n",
       "\n",
       "       ponds_nearest  days_exposition  \n",
       "5                NaN             55.0  \n",
       "8                NaN            189.0  \n",
       "12               NaN             90.0  \n",
       "22               NaN             60.0  \n",
       "30               NaN             63.0  \n",
       "...              ...              ...  \n",
       "23683            NaN              NaN  \n",
       "23692            NaN            413.0  \n",
       "23695            NaN             45.0  \n",
       "23696            NaN              NaN  \n",
       "23698            NaN              NaN  \n",
       "\n",
       "[5518 rows x 22 columns]"
      ]
     },
     "metadata": {},
     "output_type": "display_data"
    }
   ],
   "source": [
    "display(data[data['ponds_around3000'].isna()])"
   ]
  },
  {
   "cell_type": "markdown",
   "metadata": {},
   "source": [
    "5518 объявлений, корректно заполнить не предоставляется возможным, да и на итоговый результат думаю это не влияет."
   ]
  },
  {
   "cell_type": "code",
   "execution_count": 18,
   "metadata": {},
   "outputs": [
    {
     "data": {
      "text/html": [
       "<div>\n",
       "<style scoped>\n",
       "    .dataframe tbody tr th:only-of-type {\n",
       "        vertical-align: middle;\n",
       "    }\n",
       "\n",
       "    .dataframe tbody tr th {\n",
       "        vertical-align: top;\n",
       "    }\n",
       "\n",
       "    .dataframe thead th {\n",
       "        text-align: right;\n",
       "    }\n",
       "</style>\n",
       "<table border=\"1\" class=\"dataframe\">\n",
       "  <thead>\n",
       "    <tr style=\"text-align: right;\">\n",
       "      <th></th>\n",
       "      <th>total_images</th>\n",
       "      <th>last_price</th>\n",
       "      <th>total_area</th>\n",
       "      <th>first_day_exposition</th>\n",
       "      <th>rooms</th>\n",
       "      <th>ceiling_height</th>\n",
       "      <th>floors_total</th>\n",
       "      <th>living_area</th>\n",
       "      <th>floor</th>\n",
       "      <th>is_apartment</th>\n",
       "      <th>...</th>\n",
       "      <th>kitchen_area</th>\n",
       "      <th>balcony</th>\n",
       "      <th>locality_name</th>\n",
       "      <th>airports_nearest</th>\n",
       "      <th>cityCenters_nearest</th>\n",
       "      <th>parks_around3000</th>\n",
       "      <th>parks_nearest</th>\n",
       "      <th>ponds_around3000</th>\n",
       "      <th>ponds_nearest</th>\n",
       "      <th>days_exposition</th>\n",
       "    </tr>\n",
       "  </thead>\n",
       "  <tbody>\n",
       "    <tr>\n",
       "      <th>1</th>\n",
       "      <td>7</td>\n",
       "      <td>3350000.0</td>\n",
       "      <td>40.40</td>\n",
       "      <td>2018-12-04</td>\n",
       "      <td>1</td>\n",
       "      <td>NaN</td>\n",
       "      <td>11.0</td>\n",
       "      <td>18.60</td>\n",
       "      <td>1</td>\n",
       "      <td>NaN</td>\n",
       "      <td>...</td>\n",
       "      <td>11.00</td>\n",
       "      <td>2.0</td>\n",
       "      <td>посёлок Шушары</td>\n",
       "      <td>12817.0</td>\n",
       "      <td>18603.0</td>\n",
       "      <td>0.0</td>\n",
       "      <td>NaN</td>\n",
       "      <td>0.0</td>\n",
       "      <td>NaN</td>\n",
       "      <td>81.0</td>\n",
       "    </tr>\n",
       "    <tr>\n",
       "      <th>5</th>\n",
       "      <td>10</td>\n",
       "      <td>2890000.0</td>\n",
       "      <td>30.40</td>\n",
       "      <td>2018-09-10</td>\n",
       "      <td>1</td>\n",
       "      <td>NaN</td>\n",
       "      <td>12.0</td>\n",
       "      <td>14.40</td>\n",
       "      <td>5</td>\n",
       "      <td>NaN</td>\n",
       "      <td>...</td>\n",
       "      <td>9.10</td>\n",
       "      <td>NaN</td>\n",
       "      <td>городской посёлок Янино-1</td>\n",
       "      <td>NaN</td>\n",
       "      <td>NaN</td>\n",
       "      <td>NaN</td>\n",
       "      <td>NaN</td>\n",
       "      <td>NaN</td>\n",
       "      <td>NaN</td>\n",
       "      <td>55.0</td>\n",
       "    </tr>\n",
       "    <tr>\n",
       "      <th>6</th>\n",
       "      <td>6</td>\n",
       "      <td>3700000.0</td>\n",
       "      <td>37.30</td>\n",
       "      <td>2017-11-02</td>\n",
       "      <td>1</td>\n",
       "      <td>NaN</td>\n",
       "      <td>26.0</td>\n",
       "      <td>10.60</td>\n",
       "      <td>6</td>\n",
       "      <td>NaN</td>\n",
       "      <td>...</td>\n",
       "      <td>14.40</td>\n",
       "      <td>1.0</td>\n",
       "      <td>посёлок Парголово</td>\n",
       "      <td>52996.0</td>\n",
       "      <td>19143.0</td>\n",
       "      <td>0.0</td>\n",
       "      <td>NaN</td>\n",
       "      <td>0.0</td>\n",
       "      <td>NaN</td>\n",
       "      <td>155.0</td>\n",
       "    </tr>\n",
       "    <tr>\n",
       "      <th>7</th>\n",
       "      <td>5</td>\n",
       "      <td>7915000.0</td>\n",
       "      <td>71.60</td>\n",
       "      <td>2019-04-18</td>\n",
       "      <td>2</td>\n",
       "      <td>NaN</td>\n",
       "      <td>24.0</td>\n",
       "      <td>NaN</td>\n",
       "      <td>22</td>\n",
       "      <td>NaN</td>\n",
       "      <td>...</td>\n",
       "      <td>18.90</td>\n",
       "      <td>2.0</td>\n",
       "      <td>Санкт-Петербург</td>\n",
       "      <td>23982.0</td>\n",
       "      <td>11634.0</td>\n",
       "      <td>0.0</td>\n",
       "      <td>NaN</td>\n",
       "      <td>0.0</td>\n",
       "      <td>NaN</td>\n",
       "      <td>NaN</td>\n",
       "    </tr>\n",
       "    <tr>\n",
       "      <th>8</th>\n",
       "      <td>20</td>\n",
       "      <td>2900000.0</td>\n",
       "      <td>33.16</td>\n",
       "      <td>2018-05-23</td>\n",
       "      <td>1</td>\n",
       "      <td>NaN</td>\n",
       "      <td>27.0</td>\n",
       "      <td>15.43</td>\n",
       "      <td>26</td>\n",
       "      <td>NaN</td>\n",
       "      <td>...</td>\n",
       "      <td>8.81</td>\n",
       "      <td>NaN</td>\n",
       "      <td>посёлок Мурино</td>\n",
       "      <td>NaN</td>\n",
       "      <td>NaN</td>\n",
       "      <td>NaN</td>\n",
       "      <td>NaN</td>\n",
       "      <td>NaN</td>\n",
       "      <td>NaN</td>\n",
       "      <td>189.0</td>\n",
       "    </tr>\n",
       "    <tr>\n",
       "      <th>...</th>\n",
       "      <td>...</td>\n",
       "      <td>...</td>\n",
       "      <td>...</td>\n",
       "      <td>...</td>\n",
       "      <td>...</td>\n",
       "      <td>...</td>\n",
       "      <td>...</td>\n",
       "      <td>...</td>\n",
       "      <td>...</td>\n",
       "      <td>...</td>\n",
       "      <td>...</td>\n",
       "      <td>...</td>\n",
       "      <td>...</td>\n",
       "      <td>...</td>\n",
       "      <td>...</td>\n",
       "      <td>...</td>\n",
       "      <td>...</td>\n",
       "      <td>...</td>\n",
       "      <td>...</td>\n",
       "      <td>...</td>\n",
       "      <td>...</td>\n",
       "    </tr>\n",
       "    <tr>\n",
       "      <th>23690</th>\n",
       "      <td>3</td>\n",
       "      <td>5500000.0</td>\n",
       "      <td>52.00</td>\n",
       "      <td>2018-07-19</td>\n",
       "      <td>2</td>\n",
       "      <td>NaN</td>\n",
       "      <td>5.0</td>\n",
       "      <td>31.00</td>\n",
       "      <td>2</td>\n",
       "      <td>NaN</td>\n",
       "      <td>...</td>\n",
       "      <td>6.00</td>\n",
       "      <td>NaN</td>\n",
       "      <td>Санкт-Петербург</td>\n",
       "      <td>20151.0</td>\n",
       "      <td>6263.0</td>\n",
       "      <td>1.0</td>\n",
       "      <td>300.0</td>\n",
       "      <td>0.0</td>\n",
       "      <td>NaN</td>\n",
       "      <td>15.0</td>\n",
       "    </tr>\n",
       "    <tr>\n",
       "      <th>23692</th>\n",
       "      <td>2</td>\n",
       "      <td>1350000.0</td>\n",
       "      <td>30.00</td>\n",
       "      <td>2017-07-07</td>\n",
       "      <td>1</td>\n",
       "      <td>NaN</td>\n",
       "      <td>5.0</td>\n",
       "      <td>17.50</td>\n",
       "      <td>4</td>\n",
       "      <td>NaN</td>\n",
       "      <td>...</td>\n",
       "      <td>6.00</td>\n",
       "      <td>NaN</td>\n",
       "      <td>Тихвин</td>\n",
       "      <td>NaN</td>\n",
       "      <td>NaN</td>\n",
       "      <td>NaN</td>\n",
       "      <td>NaN</td>\n",
       "      <td>NaN</td>\n",
       "      <td>NaN</td>\n",
       "      <td>413.0</td>\n",
       "    </tr>\n",
       "    <tr>\n",
       "      <th>23695</th>\n",
       "      <td>14</td>\n",
       "      <td>3100000.0</td>\n",
       "      <td>59.00</td>\n",
       "      <td>2018-01-15</td>\n",
       "      <td>3</td>\n",
       "      <td>NaN</td>\n",
       "      <td>5.0</td>\n",
       "      <td>38.00</td>\n",
       "      <td>4</td>\n",
       "      <td>NaN</td>\n",
       "      <td>...</td>\n",
       "      <td>8.50</td>\n",
       "      <td>NaN</td>\n",
       "      <td>Тосно</td>\n",
       "      <td>NaN</td>\n",
       "      <td>NaN</td>\n",
       "      <td>NaN</td>\n",
       "      <td>NaN</td>\n",
       "      <td>NaN</td>\n",
       "      <td>NaN</td>\n",
       "      <td>45.0</td>\n",
       "    </tr>\n",
       "    <tr>\n",
       "      <th>23696</th>\n",
       "      <td>18</td>\n",
       "      <td>2500000.0</td>\n",
       "      <td>56.70</td>\n",
       "      <td>2018-02-11</td>\n",
       "      <td>2</td>\n",
       "      <td>NaN</td>\n",
       "      <td>3.0</td>\n",
       "      <td>29.70</td>\n",
       "      <td>1</td>\n",
       "      <td>NaN</td>\n",
       "      <td>...</td>\n",
       "      <td>NaN</td>\n",
       "      <td>NaN</td>\n",
       "      <td>село Рождествено</td>\n",
       "      <td>NaN</td>\n",
       "      <td>NaN</td>\n",
       "      <td>NaN</td>\n",
       "      <td>NaN</td>\n",
       "      <td>NaN</td>\n",
       "      <td>NaN</td>\n",
       "      <td>NaN</td>\n",
       "    </tr>\n",
       "    <tr>\n",
       "      <th>23698</th>\n",
       "      <td>4</td>\n",
       "      <td>1350000.0</td>\n",
       "      <td>32.30</td>\n",
       "      <td>2017-07-21</td>\n",
       "      <td>1</td>\n",
       "      <td>2.5</td>\n",
       "      <td>5.0</td>\n",
       "      <td>12.30</td>\n",
       "      <td>1</td>\n",
       "      <td>NaN</td>\n",
       "      <td>...</td>\n",
       "      <td>9.00</td>\n",
       "      <td>NaN</td>\n",
       "      <td>поселок Новый Учхоз</td>\n",
       "      <td>NaN</td>\n",
       "      <td>NaN</td>\n",
       "      <td>NaN</td>\n",
       "      <td>NaN</td>\n",
       "      <td>NaN</td>\n",
       "      <td>NaN</td>\n",
       "      <td>NaN</td>\n",
       "    </tr>\n",
       "  </tbody>\n",
       "</table>\n",
       "<p>14589 rows × 22 columns</p>\n",
       "</div>"
      ],
      "text/plain": [
       "       total_images  last_price  total_area first_day_exposition  rooms  \\\n",
       "1                 7   3350000.0       40.40           2018-12-04      1   \n",
       "5                10   2890000.0       30.40           2018-09-10      1   \n",
       "6                 6   3700000.0       37.30           2017-11-02      1   \n",
       "7                 5   7915000.0       71.60           2019-04-18      2   \n",
       "8                20   2900000.0       33.16           2018-05-23      1   \n",
       "...             ...         ...         ...                  ...    ...   \n",
       "23690             3   5500000.0       52.00           2018-07-19      2   \n",
       "23692             2   1350000.0       30.00           2017-07-07      1   \n",
       "23695            14   3100000.0       59.00           2018-01-15      3   \n",
       "23696            18   2500000.0       56.70           2018-02-11      2   \n",
       "23698             4   1350000.0       32.30           2017-07-21      1   \n",
       "\n",
       "       ceiling_height  floors_total  living_area  floor is_apartment  ...  \\\n",
       "1                 NaN          11.0        18.60      1          NaN  ...   \n",
       "5                 NaN          12.0        14.40      5          NaN  ...   \n",
       "6                 NaN          26.0        10.60      6          NaN  ...   \n",
       "7                 NaN          24.0          NaN     22          NaN  ...   \n",
       "8                 NaN          27.0        15.43     26          NaN  ...   \n",
       "...               ...           ...          ...    ...          ...  ...   \n",
       "23690             NaN           5.0        31.00      2          NaN  ...   \n",
       "23692             NaN           5.0        17.50      4          NaN  ...   \n",
       "23695             NaN           5.0        38.00      4          NaN  ...   \n",
       "23696             NaN           3.0        29.70      1          NaN  ...   \n",
       "23698             2.5           5.0        12.30      1          NaN  ...   \n",
       "\n",
       "       kitchen_area  balcony              locality_name  airports_nearest  \\\n",
       "1             11.00      2.0             посёлок Шушары           12817.0   \n",
       "5              9.10      NaN  городской посёлок Янино-1               NaN   \n",
       "6             14.40      1.0          посёлок Парголово           52996.0   \n",
       "7             18.90      2.0            Санкт-Петербург           23982.0   \n",
       "8              8.81      NaN             посёлок Мурино               NaN   \n",
       "...             ...      ...                        ...               ...   \n",
       "23690          6.00      NaN            Санкт-Петербург           20151.0   \n",
       "23692          6.00      NaN                     Тихвин               NaN   \n",
       "23695          8.50      NaN                      Тосно               NaN   \n",
       "23696           NaN      NaN           село Рождествено               NaN   \n",
       "23698          9.00      NaN        поселок Новый Учхоз               NaN   \n",
       "\n",
       "      cityCenters_nearest  parks_around3000  parks_nearest  ponds_around3000  \\\n",
       "1                 18603.0               0.0            NaN               0.0   \n",
       "5                     NaN               NaN            NaN               NaN   \n",
       "6                 19143.0               0.0            NaN               0.0   \n",
       "7                 11634.0               0.0            NaN               0.0   \n",
       "8                     NaN               NaN            NaN               NaN   \n",
       "...                   ...               ...            ...               ...   \n",
       "23690              6263.0               1.0          300.0               0.0   \n",
       "23692                 NaN               NaN            NaN               NaN   \n",
       "23695                 NaN               NaN            NaN               NaN   \n",
       "23696                 NaN               NaN            NaN               NaN   \n",
       "23698                 NaN               NaN            NaN               NaN   \n",
       "\n",
       "       ponds_nearest  days_exposition  \n",
       "1                NaN             81.0  \n",
       "5                NaN             55.0  \n",
       "6                NaN            155.0  \n",
       "7                NaN              NaN  \n",
       "8                NaN            189.0  \n",
       "...              ...              ...  \n",
       "23690            NaN             15.0  \n",
       "23692            NaN            413.0  \n",
       "23695            NaN             45.0  \n",
       "23696            NaN              NaN  \n",
       "23698            NaN              NaN  \n",
       "\n",
       "[14589 rows x 22 columns]"
      ]
     },
     "metadata": {},
     "output_type": "display_data"
    }
   ],
   "source": [
    "display(data[data['ponds_nearest'].isna()])"
   ]
  },
  {
   "cell_type": "markdown",
   "metadata": {},
   "source": [
    "14589 объявлений с пропусками, корректно заполнить не предоставляется возможным, да и на итоговый результат думаю это не влияет."
   ]
  },
  {
   "cell_type": "code",
   "execution_count": 19,
   "metadata": {},
   "outputs": [
    {
     "data": {
      "text/html": [
       "<div>\n",
       "<style scoped>\n",
       "    .dataframe tbody tr th:only-of-type {\n",
       "        vertical-align: middle;\n",
       "    }\n",
       "\n",
       "    .dataframe tbody tr th {\n",
       "        vertical-align: top;\n",
       "    }\n",
       "\n",
       "    .dataframe thead th {\n",
       "        text-align: right;\n",
       "    }\n",
       "</style>\n",
       "<table border=\"1\" class=\"dataframe\">\n",
       "  <thead>\n",
       "    <tr style=\"text-align: right;\">\n",
       "      <th></th>\n",
       "      <th>total_images</th>\n",
       "      <th>last_price</th>\n",
       "      <th>total_area</th>\n",
       "      <th>first_day_exposition</th>\n",
       "      <th>rooms</th>\n",
       "      <th>ceiling_height</th>\n",
       "      <th>floors_total</th>\n",
       "      <th>living_area</th>\n",
       "      <th>floor</th>\n",
       "      <th>is_apartment</th>\n",
       "      <th>...</th>\n",
       "      <th>kitchen_area</th>\n",
       "      <th>balcony</th>\n",
       "      <th>locality_name</th>\n",
       "      <th>airports_nearest</th>\n",
       "      <th>cityCenters_nearest</th>\n",
       "      <th>parks_around3000</th>\n",
       "      <th>parks_nearest</th>\n",
       "      <th>ponds_around3000</th>\n",
       "      <th>ponds_nearest</th>\n",
       "      <th>days_exposition</th>\n",
       "    </tr>\n",
       "  </thead>\n",
       "  <tbody>\n",
       "    <tr>\n",
       "      <th>0</th>\n",
       "      <td>20</td>\n",
       "      <td>13000000.0</td>\n",
       "      <td>108.00</td>\n",
       "      <td>2019-03-07</td>\n",
       "      <td>3</td>\n",
       "      <td>2.70</td>\n",
       "      <td>16.0</td>\n",
       "      <td>51.0</td>\n",
       "      <td>8</td>\n",
       "      <td>NaN</td>\n",
       "      <td>...</td>\n",
       "      <td>25.00</td>\n",
       "      <td>NaN</td>\n",
       "      <td>Санкт-Петербург</td>\n",
       "      <td>18863.0</td>\n",
       "      <td>16028.0</td>\n",
       "      <td>1.0</td>\n",
       "      <td>482.0</td>\n",
       "      <td>2.0</td>\n",
       "      <td>755.0</td>\n",
       "      <td>NaN</td>\n",
       "    </tr>\n",
       "    <tr>\n",
       "      <th>7</th>\n",
       "      <td>5</td>\n",
       "      <td>7915000.0</td>\n",
       "      <td>71.60</td>\n",
       "      <td>2019-04-18</td>\n",
       "      <td>2</td>\n",
       "      <td>NaN</td>\n",
       "      <td>24.0</td>\n",
       "      <td>NaN</td>\n",
       "      <td>22</td>\n",
       "      <td>NaN</td>\n",
       "      <td>...</td>\n",
       "      <td>18.90</td>\n",
       "      <td>2.0</td>\n",
       "      <td>Санкт-Петербург</td>\n",
       "      <td>23982.0</td>\n",
       "      <td>11634.0</td>\n",
       "      <td>0.0</td>\n",
       "      <td>NaN</td>\n",
       "      <td>0.0</td>\n",
       "      <td>NaN</td>\n",
       "      <td>NaN</td>\n",
       "    </tr>\n",
       "    <tr>\n",
       "      <th>44</th>\n",
       "      <td>13</td>\n",
       "      <td>5350000.0</td>\n",
       "      <td>40.00</td>\n",
       "      <td>2018-11-18</td>\n",
       "      <td>1</td>\n",
       "      <td>NaN</td>\n",
       "      <td>22.0</td>\n",
       "      <td>NaN</td>\n",
       "      <td>3</td>\n",
       "      <td>NaN</td>\n",
       "      <td>...</td>\n",
       "      <td>NaN</td>\n",
       "      <td>1.0</td>\n",
       "      <td>Санкт-Петербург</td>\n",
       "      <td>30471.0</td>\n",
       "      <td>11603.0</td>\n",
       "      <td>1.0</td>\n",
       "      <td>620.0</td>\n",
       "      <td>1.0</td>\n",
       "      <td>1152.0</td>\n",
       "      <td>NaN</td>\n",
       "    </tr>\n",
       "    <tr>\n",
       "      <th>45</th>\n",
       "      <td>17</td>\n",
       "      <td>5200000.0</td>\n",
       "      <td>50.60</td>\n",
       "      <td>2018-12-02</td>\n",
       "      <td>2</td>\n",
       "      <td>2.65</td>\n",
       "      <td>9.0</td>\n",
       "      <td>30.3</td>\n",
       "      <td>7</td>\n",
       "      <td>NaN</td>\n",
       "      <td>...</td>\n",
       "      <td>7.00</td>\n",
       "      <td>NaN</td>\n",
       "      <td>Санкт-Петербург</td>\n",
       "      <td>30011.0</td>\n",
       "      <td>12872.0</td>\n",
       "      <td>0.0</td>\n",
       "      <td>NaN</td>\n",
       "      <td>0.0</td>\n",
       "      <td>NaN</td>\n",
       "      <td>NaN</td>\n",
       "    </tr>\n",
       "    <tr>\n",
       "      <th>46</th>\n",
       "      <td>17</td>\n",
       "      <td>6600000.0</td>\n",
       "      <td>52.10</td>\n",
       "      <td>2019-01-31</td>\n",
       "      <td>2</td>\n",
       "      <td>2.60</td>\n",
       "      <td>24.0</td>\n",
       "      <td>29.7</td>\n",
       "      <td>9</td>\n",
       "      <td>NaN</td>\n",
       "      <td>...</td>\n",
       "      <td>8.30</td>\n",
       "      <td>2.0</td>\n",
       "      <td>Санкт-Петербург</td>\n",
       "      <td>15114.0</td>\n",
       "      <td>12702.0</td>\n",
       "      <td>0.0</td>\n",
       "      <td>NaN</td>\n",
       "      <td>0.0</td>\n",
       "      <td>NaN</td>\n",
       "      <td>NaN</td>\n",
       "    </tr>\n",
       "    <tr>\n",
       "      <th>...</th>\n",
       "      <td>...</td>\n",
       "      <td>...</td>\n",
       "      <td>...</td>\n",
       "      <td>...</td>\n",
       "      <td>...</td>\n",
       "      <td>...</td>\n",
       "      <td>...</td>\n",
       "      <td>...</td>\n",
       "      <td>...</td>\n",
       "      <td>...</td>\n",
       "      <td>...</td>\n",
       "      <td>...</td>\n",
       "      <td>...</td>\n",
       "      <td>...</td>\n",
       "      <td>...</td>\n",
       "      <td>...</td>\n",
       "      <td>...</td>\n",
       "      <td>...</td>\n",
       "      <td>...</td>\n",
       "      <td>...</td>\n",
       "      <td>...</td>\n",
       "    </tr>\n",
       "    <tr>\n",
       "      <th>23684</th>\n",
       "      <td>20</td>\n",
       "      <td>21400000.0</td>\n",
       "      <td>145.00</td>\n",
       "      <td>2018-11-02</td>\n",
       "      <td>4</td>\n",
       "      <td>3.00</td>\n",
       "      <td>26.0</td>\n",
       "      <td>71.4</td>\n",
       "      <td>17</td>\n",
       "      <td>NaN</td>\n",
       "      <td>...</td>\n",
       "      <td>15.60</td>\n",
       "      <td>NaN</td>\n",
       "      <td>Санкт-Петербург</td>\n",
       "      <td>11827.0</td>\n",
       "      <td>11459.0</td>\n",
       "      <td>0.0</td>\n",
       "      <td>NaN</td>\n",
       "      <td>0.0</td>\n",
       "      <td>NaN</td>\n",
       "      <td>NaN</td>\n",
       "    </tr>\n",
       "    <tr>\n",
       "      <th>23685</th>\n",
       "      <td>15</td>\n",
       "      <td>2490000.0</td>\n",
       "      <td>31.00</td>\n",
       "      <td>2019-01-24</td>\n",
       "      <td>1</td>\n",
       "      <td>2.50</td>\n",
       "      <td>5.0</td>\n",
       "      <td>17.3</td>\n",
       "      <td>5</td>\n",
       "      <td>NaN</td>\n",
       "      <td>...</td>\n",
       "      <td>5.60</td>\n",
       "      <td>1.0</td>\n",
       "      <td>Ломоносов</td>\n",
       "      <td>48393.0</td>\n",
       "      <td>51818.0</td>\n",
       "      <td>0.0</td>\n",
       "      <td>NaN</td>\n",
       "      <td>0.0</td>\n",
       "      <td>NaN</td>\n",
       "      <td>NaN</td>\n",
       "    </tr>\n",
       "    <tr>\n",
       "      <th>23694</th>\n",
       "      <td>9</td>\n",
       "      <td>9700000.0</td>\n",
       "      <td>133.81</td>\n",
       "      <td>2017-03-21</td>\n",
       "      <td>3</td>\n",
       "      <td>3.70</td>\n",
       "      <td>5.0</td>\n",
       "      <td>73.3</td>\n",
       "      <td>3</td>\n",
       "      <td>NaN</td>\n",
       "      <td>...</td>\n",
       "      <td>13.83</td>\n",
       "      <td>NaN</td>\n",
       "      <td>Санкт-Петербург</td>\n",
       "      <td>24665.0</td>\n",
       "      <td>4232.0</td>\n",
       "      <td>1.0</td>\n",
       "      <td>796.0</td>\n",
       "      <td>3.0</td>\n",
       "      <td>381.0</td>\n",
       "      <td>NaN</td>\n",
       "    </tr>\n",
       "    <tr>\n",
       "      <th>23696</th>\n",
       "      <td>18</td>\n",
       "      <td>2500000.0</td>\n",
       "      <td>56.70</td>\n",
       "      <td>2018-02-11</td>\n",
       "      <td>2</td>\n",
       "      <td>NaN</td>\n",
       "      <td>3.0</td>\n",
       "      <td>29.7</td>\n",
       "      <td>1</td>\n",
       "      <td>NaN</td>\n",
       "      <td>...</td>\n",
       "      <td>NaN</td>\n",
       "      <td>NaN</td>\n",
       "      <td>село Рождествено</td>\n",
       "      <td>NaN</td>\n",
       "      <td>NaN</td>\n",
       "      <td>NaN</td>\n",
       "      <td>NaN</td>\n",
       "      <td>NaN</td>\n",
       "      <td>NaN</td>\n",
       "      <td>NaN</td>\n",
       "    </tr>\n",
       "    <tr>\n",
       "      <th>23698</th>\n",
       "      <td>4</td>\n",
       "      <td>1350000.0</td>\n",
       "      <td>32.30</td>\n",
       "      <td>2017-07-21</td>\n",
       "      <td>1</td>\n",
       "      <td>2.50</td>\n",
       "      <td>5.0</td>\n",
       "      <td>12.3</td>\n",
       "      <td>1</td>\n",
       "      <td>NaN</td>\n",
       "      <td>...</td>\n",
       "      <td>9.00</td>\n",
       "      <td>NaN</td>\n",
       "      <td>поселок Новый Учхоз</td>\n",
       "      <td>NaN</td>\n",
       "      <td>NaN</td>\n",
       "      <td>NaN</td>\n",
       "      <td>NaN</td>\n",
       "      <td>NaN</td>\n",
       "      <td>NaN</td>\n",
       "      <td>NaN</td>\n",
       "    </tr>\n",
       "  </tbody>\n",
       "</table>\n",
       "<p>3181 rows × 22 columns</p>\n",
       "</div>"
      ],
      "text/plain": [
       "       total_images  last_price  total_area first_day_exposition  rooms  \\\n",
       "0                20  13000000.0      108.00           2019-03-07      3   \n",
       "7                 5   7915000.0       71.60           2019-04-18      2   \n",
       "44               13   5350000.0       40.00           2018-11-18      1   \n",
       "45               17   5200000.0       50.60           2018-12-02      2   \n",
       "46               17   6600000.0       52.10           2019-01-31      2   \n",
       "...             ...         ...         ...                  ...    ...   \n",
       "23684            20  21400000.0      145.00           2018-11-02      4   \n",
       "23685            15   2490000.0       31.00           2019-01-24      1   \n",
       "23694             9   9700000.0      133.81           2017-03-21      3   \n",
       "23696            18   2500000.0       56.70           2018-02-11      2   \n",
       "23698             4   1350000.0       32.30           2017-07-21      1   \n",
       "\n",
       "       ceiling_height  floors_total  living_area  floor is_apartment  ...  \\\n",
       "0                2.70          16.0         51.0      8          NaN  ...   \n",
       "7                 NaN          24.0          NaN     22          NaN  ...   \n",
       "44                NaN          22.0          NaN      3          NaN  ...   \n",
       "45               2.65           9.0         30.3      7          NaN  ...   \n",
       "46               2.60          24.0         29.7      9          NaN  ...   \n",
       "...               ...           ...          ...    ...          ...  ...   \n",
       "23684            3.00          26.0         71.4     17          NaN  ...   \n",
       "23685            2.50           5.0         17.3      5          NaN  ...   \n",
       "23694            3.70           5.0         73.3      3          NaN  ...   \n",
       "23696             NaN           3.0         29.7      1          NaN  ...   \n",
       "23698            2.50           5.0         12.3      1          NaN  ...   \n",
       "\n",
       "       kitchen_area  balcony        locality_name  airports_nearest  \\\n",
       "0             25.00      NaN      Санкт-Петербург           18863.0   \n",
       "7             18.90      2.0      Санкт-Петербург           23982.0   \n",
       "44              NaN      1.0      Санкт-Петербург           30471.0   \n",
       "45             7.00      NaN      Санкт-Петербург           30011.0   \n",
       "46             8.30      2.0      Санкт-Петербург           15114.0   \n",
       "...             ...      ...                  ...               ...   \n",
       "23684         15.60      NaN      Санкт-Петербург           11827.0   \n",
       "23685          5.60      1.0            Ломоносов           48393.0   \n",
       "23694         13.83      NaN      Санкт-Петербург           24665.0   \n",
       "23696           NaN      NaN     село Рождествено               NaN   \n",
       "23698          9.00      NaN  поселок Новый Учхоз               NaN   \n",
       "\n",
       "      cityCenters_nearest  parks_around3000  parks_nearest  ponds_around3000  \\\n",
       "0                 16028.0               1.0          482.0               2.0   \n",
       "7                 11634.0               0.0            NaN               0.0   \n",
       "44                11603.0               1.0          620.0               1.0   \n",
       "45                12872.0               0.0            NaN               0.0   \n",
       "46                12702.0               0.0            NaN               0.0   \n",
       "...                   ...               ...            ...               ...   \n",
       "23684             11459.0               0.0            NaN               0.0   \n",
       "23685             51818.0               0.0            NaN               0.0   \n",
       "23694              4232.0               1.0          796.0               3.0   \n",
       "23696                 NaN               NaN            NaN               NaN   \n",
       "23698                 NaN               NaN            NaN               NaN   \n",
       "\n",
       "       ponds_nearest  days_exposition  \n",
       "0              755.0              NaN  \n",
       "7                NaN              NaN  \n",
       "44            1152.0              NaN  \n",
       "45               NaN              NaN  \n",
       "46               NaN              NaN  \n",
       "...              ...              ...  \n",
       "23684            NaN              NaN  \n",
       "23685            NaN              NaN  \n",
       "23694          381.0              NaN  \n",
       "23696            NaN              NaN  \n",
       "23698            NaN              NaN  \n",
       "\n",
       "[3181 rows x 22 columns]"
      ]
     },
     "metadata": {},
     "output_type": "display_data"
    }
   ],
   "source": [
    "display(data[data['days_exposition'].isna()])"
   ]
  },
  {
   "cell_type": "markdown",
   "metadata": {},
   "source": [
    "3181 объявлений, где отсутствует информация о количестве дней объявлений."
   ]
  },
  {
   "cell_type": "code",
   "execution_count": 20,
   "metadata": {},
   "outputs": [
    {
     "data": {
      "image/png": "[encoded data removed]",
      "text/plain": [
       "<Figure size 1080x1440 with 20 Axes>"
      ]
     },
     "metadata": {
      "needs_background": "light"
     },
     "output_type": "display_data"
    },
    {
     "data": {
      "text/plain": [
       "''"
      ]
     },
     "execution_count": 20,
     "metadata": {},
     "output_type": "execute_result"
    }
   ],
   "source": [
    "data.hist(figsize=(15, 20))\n",
    "plt.show()\n",
    ";"
   ]
  },
  {
   "cell_type": "markdown",
   "metadata": {},
   "source": [
    "### Предобработка данных"
   ]
  },
  {
   "cell_type": "code",
   "execution_count": 21,
   "metadata": {},
   "outputs": [],
   "source": [
    "data['balcony'] = data['balcony'].fillna('0')"
   ]
  },
  {
   "cell_type": "markdown",
   "metadata": {},
   "source": [
    "Обнуляем пропуски. Вероятно этих балконов нет"
   ]
  },
  {
   "cell_type": "code",
   "execution_count": 22,
   "metadata": {},
   "outputs": [
    {
     "data": {
      "text/html": [
       "<div>\n",
       "<style scoped>\n",
       "    .dataframe tbody tr th:only-of-type {\n",
       "        vertical-align: middle;\n",
       "    }\n",
       "\n",
       "    .dataframe tbody tr th {\n",
       "        vertical-align: top;\n",
       "    }\n",
       "\n",
       "    .dataframe thead th {\n",
       "        text-align: right;\n",
       "    }\n",
       "</style>\n",
       "<table border=\"1\" class=\"dataframe\">\n",
       "  <thead>\n",
       "    <tr style=\"text-align: right;\">\n",
       "      <th></th>\n",
       "      <th>total_images</th>\n",
       "      <th>last_price</th>\n",
       "      <th>total_area</th>\n",
       "      <th>first_day_exposition</th>\n",
       "      <th>rooms</th>\n",
       "      <th>ceiling_height</th>\n",
       "      <th>floors_total</th>\n",
       "      <th>living_area</th>\n",
       "      <th>floor</th>\n",
       "      <th>is_apartment</th>\n",
       "      <th>...</th>\n",
       "      <th>kitchen_area</th>\n",
       "      <th>balcony</th>\n",
       "      <th>locality_name</th>\n",
       "      <th>airports_nearest</th>\n",
       "      <th>cityCenters_nearest</th>\n",
       "      <th>parks_around3000</th>\n",
       "      <th>parks_nearest</th>\n",
       "      <th>ponds_around3000</th>\n",
       "      <th>ponds_nearest</th>\n",
       "      <th>days_exposition</th>\n",
       "    </tr>\n",
       "  </thead>\n",
       "  <tbody>\n",
       "    <tr>\n",
       "      <th>0</th>\n",
       "      <td>20</td>\n",
       "      <td>13000000.0</td>\n",
       "      <td>108.00</td>\n",
       "      <td>2019-03-07</td>\n",
       "      <td>3</td>\n",
       "      <td>2.70</td>\n",
       "      <td>16.0</td>\n",
       "      <td>51.0</td>\n",
       "      <td>8</td>\n",
       "      <td>NaN</td>\n",
       "      <td>...</td>\n",
       "      <td>25.00</td>\n",
       "      <td>0</td>\n",
       "      <td>Санкт-Петербург</td>\n",
       "      <td>18863.0</td>\n",
       "      <td>16028.0</td>\n",
       "      <td>1.0</td>\n",
       "      <td>482.0</td>\n",
       "      <td>2.0</td>\n",
       "      <td>755.0</td>\n",
       "      <td>NaN</td>\n",
       "    </tr>\n",
       "    <tr>\n",
       "      <th>1</th>\n",
       "      <td>7</td>\n",
       "      <td>3350000.0</td>\n",
       "      <td>40.40</td>\n",
       "      <td>2018-12-04</td>\n",
       "      <td>1</td>\n",
       "      <td>NaN</td>\n",
       "      <td>11.0</td>\n",
       "      <td>18.6</td>\n",
       "      <td>1</td>\n",
       "      <td>NaN</td>\n",
       "      <td>...</td>\n",
       "      <td>11.00</td>\n",
       "      <td>2.0</td>\n",
       "      <td>посёлок Шушары</td>\n",
       "      <td>12817.0</td>\n",
       "      <td>18603.0</td>\n",
       "      <td>0.0</td>\n",
       "      <td>NaN</td>\n",
       "      <td>0.0</td>\n",
       "      <td>NaN</td>\n",
       "      <td>81.0</td>\n",
       "    </tr>\n",
       "    <tr>\n",
       "      <th>2</th>\n",
       "      <td>10</td>\n",
       "      <td>5196000.0</td>\n",
       "      <td>56.00</td>\n",
       "      <td>2015-08-20</td>\n",
       "      <td>2</td>\n",
       "      <td>NaN</td>\n",
       "      <td>5.0</td>\n",
       "      <td>34.3</td>\n",
       "      <td>4</td>\n",
       "      <td>NaN</td>\n",
       "      <td>...</td>\n",
       "      <td>8.30</td>\n",
       "      <td>0.0</td>\n",
       "      <td>Санкт-Петербург</td>\n",
       "      <td>21741.0</td>\n",
       "      <td>13933.0</td>\n",
       "      <td>1.0</td>\n",
       "      <td>90.0</td>\n",
       "      <td>2.0</td>\n",
       "      <td>574.0</td>\n",
       "      <td>558.0</td>\n",
       "    </tr>\n",
       "    <tr>\n",
       "      <th>3</th>\n",
       "      <td>0</td>\n",
       "      <td>64900000.0</td>\n",
       "      <td>159.00</td>\n",
       "      <td>2015-07-24</td>\n",
       "      <td>3</td>\n",
       "      <td>NaN</td>\n",
       "      <td>14.0</td>\n",
       "      <td>NaN</td>\n",
       "      <td>9</td>\n",
       "      <td>NaN</td>\n",
       "      <td>...</td>\n",
       "      <td>NaN</td>\n",
       "      <td>0.0</td>\n",
       "      <td>Санкт-Петербург</td>\n",
       "      <td>28098.0</td>\n",
       "      <td>6800.0</td>\n",
       "      <td>2.0</td>\n",
       "      <td>84.0</td>\n",
       "      <td>3.0</td>\n",
       "      <td>234.0</td>\n",
       "      <td>424.0</td>\n",
       "    </tr>\n",
       "    <tr>\n",
       "      <th>4</th>\n",
       "      <td>2</td>\n",
       "      <td>10000000.0</td>\n",
       "      <td>100.00</td>\n",
       "      <td>2018-06-19</td>\n",
       "      <td>2</td>\n",
       "      <td>3.03</td>\n",
       "      <td>14.0</td>\n",
       "      <td>32.0</td>\n",
       "      <td>13</td>\n",
       "      <td>NaN</td>\n",
       "      <td>...</td>\n",
       "      <td>41.00</td>\n",
       "      <td>0</td>\n",
       "      <td>Санкт-Петербург</td>\n",
       "      <td>31856.0</td>\n",
       "      <td>8098.0</td>\n",
       "      <td>2.0</td>\n",
       "      <td>112.0</td>\n",
       "      <td>1.0</td>\n",
       "      <td>48.0</td>\n",
       "      <td>121.0</td>\n",
       "    </tr>\n",
       "    <tr>\n",
       "      <th>...</th>\n",
       "      <td>...</td>\n",
       "      <td>...</td>\n",
       "      <td>...</td>\n",
       "      <td>...</td>\n",
       "      <td>...</td>\n",
       "      <td>...</td>\n",
       "      <td>...</td>\n",
       "      <td>...</td>\n",
       "      <td>...</td>\n",
       "      <td>...</td>\n",
       "      <td>...</td>\n",
       "      <td>...</td>\n",
       "      <td>...</td>\n",
       "      <td>...</td>\n",
       "      <td>...</td>\n",
       "      <td>...</td>\n",
       "      <td>...</td>\n",
       "      <td>...</td>\n",
       "      <td>...</td>\n",
       "      <td>...</td>\n",
       "      <td>...</td>\n",
       "    </tr>\n",
       "    <tr>\n",
       "      <th>23694</th>\n",
       "      <td>9</td>\n",
       "      <td>9700000.0</td>\n",
       "      <td>133.81</td>\n",
       "      <td>2017-03-21</td>\n",
       "      <td>3</td>\n",
       "      <td>3.70</td>\n",
       "      <td>5.0</td>\n",
       "      <td>73.3</td>\n",
       "      <td>3</td>\n",
       "      <td>NaN</td>\n",
       "      <td>...</td>\n",
       "      <td>13.83</td>\n",
       "      <td>0</td>\n",
       "      <td>Санкт-Петербург</td>\n",
       "      <td>24665.0</td>\n",
       "      <td>4232.0</td>\n",
       "      <td>1.0</td>\n",
       "      <td>796.0</td>\n",
       "      <td>3.0</td>\n",
       "      <td>381.0</td>\n",
       "      <td>NaN</td>\n",
       "    </tr>\n",
       "    <tr>\n",
       "      <th>23695</th>\n",
       "      <td>14</td>\n",
       "      <td>3100000.0</td>\n",
       "      <td>59.00</td>\n",
       "      <td>2018-01-15</td>\n",
       "      <td>3</td>\n",
       "      <td>NaN</td>\n",
       "      <td>5.0</td>\n",
       "      <td>38.0</td>\n",
       "      <td>4</td>\n",
       "      <td>NaN</td>\n",
       "      <td>...</td>\n",
       "      <td>8.50</td>\n",
       "      <td>0</td>\n",
       "      <td>Тосно</td>\n",
       "      <td>NaN</td>\n",
       "      <td>NaN</td>\n",
       "      <td>NaN</td>\n",
       "      <td>NaN</td>\n",
       "      <td>NaN</td>\n",
       "      <td>NaN</td>\n",
       "      <td>45.0</td>\n",
       "    </tr>\n",
       "    <tr>\n",
       "      <th>23696</th>\n",
       "      <td>18</td>\n",
       "      <td>2500000.0</td>\n",
       "      <td>56.70</td>\n",
       "      <td>2018-02-11</td>\n",
       "      <td>2</td>\n",
       "      <td>NaN</td>\n",
       "      <td>3.0</td>\n",
       "      <td>29.7</td>\n",
       "      <td>1</td>\n",
       "      <td>NaN</td>\n",
       "      <td>...</td>\n",
       "      <td>NaN</td>\n",
       "      <td>0</td>\n",
       "      <td>село Рождествено</td>\n",
       "      <td>NaN</td>\n",
       "      <td>NaN</td>\n",
       "      <td>NaN</td>\n",
       "      <td>NaN</td>\n",
       "      <td>NaN</td>\n",
       "      <td>NaN</td>\n",
       "      <td>NaN</td>\n",
       "    </tr>\n",
       "    <tr>\n",
       "      <th>23697</th>\n",
       "      <td>13</td>\n",
       "      <td>11475000.0</td>\n",
       "      <td>76.75</td>\n",
       "      <td>2017-03-28</td>\n",
       "      <td>2</td>\n",
       "      <td>3.00</td>\n",
       "      <td>17.0</td>\n",
       "      <td>NaN</td>\n",
       "      <td>12</td>\n",
       "      <td>NaN</td>\n",
       "      <td>...</td>\n",
       "      <td>23.30</td>\n",
       "      <td>2.0</td>\n",
       "      <td>Санкт-Петербург</td>\n",
       "      <td>39140.0</td>\n",
       "      <td>10364.0</td>\n",
       "      <td>2.0</td>\n",
       "      <td>173.0</td>\n",
       "      <td>3.0</td>\n",
       "      <td>196.0</td>\n",
       "      <td>602.0</td>\n",
       "    </tr>\n",
       "    <tr>\n",
       "      <th>23698</th>\n",
       "      <td>4</td>\n",
       "      <td>1350000.0</td>\n",
       "      <td>32.30</td>\n",
       "      <td>2017-07-21</td>\n",
       "      <td>1</td>\n",
       "      <td>2.50</td>\n",
       "      <td>5.0</td>\n",
       "      <td>12.3</td>\n",
       "      <td>1</td>\n",
       "      <td>NaN</td>\n",
       "      <td>...</td>\n",
       "      <td>9.00</td>\n",
       "      <td>0</td>\n",
       "      <td>поселок Новый Учхоз</td>\n",
       "      <td>NaN</td>\n",
       "      <td>NaN</td>\n",
       "      <td>NaN</td>\n",
       "      <td>NaN</td>\n",
       "      <td>NaN</td>\n",
       "      <td>NaN</td>\n",
       "      <td>NaN</td>\n",
       "    </tr>\n",
       "  </tbody>\n",
       "</table>\n",
       "<p>23699 rows × 22 columns</p>\n",
       "</div>"
      ],
      "text/plain": [
       "       total_images  last_price  total_area first_day_exposition  rooms  \\\n",
       "0                20  13000000.0      108.00           2019-03-07      3   \n",
       "1                 7   3350000.0       40.40           2018-12-04      1   \n",
       "2                10   5196000.0       56.00           2015-08-20      2   \n",
       "3                 0  64900000.0      159.00           2015-07-24      3   \n",
       "4                 2  10000000.0      100.00           2018-06-19      2   \n",
       "...             ...         ...         ...                  ...    ...   \n",
       "23694             9   9700000.0      133.81           2017-03-21      3   \n",
       "23695            14   3100000.0       59.00           2018-01-15      3   \n",
       "23696            18   2500000.0       56.70           2018-02-11      2   \n",
       "23697            13  11475000.0       76.75           2017-03-28      2   \n",
       "23698             4   1350000.0       32.30           2017-07-21      1   \n",
       "\n",
       "       ceiling_height  floors_total  living_area  floor is_apartment  ...  \\\n",
       "0                2.70          16.0         51.0      8          NaN  ...   \n",
       "1                 NaN          11.0         18.6      1          NaN  ...   \n",
       "2                 NaN           5.0         34.3      4          NaN  ...   \n",
       "3                 NaN          14.0          NaN      9          NaN  ...   \n",
       "4                3.03          14.0         32.0     13          NaN  ...   \n",
       "...               ...           ...          ...    ...          ...  ...   \n",
       "23694            3.70           5.0         73.3      3          NaN  ...   \n",
       "23695             NaN           5.0         38.0      4          NaN  ...   \n",
       "23696             NaN           3.0         29.7      1          NaN  ...   \n",
       "23697            3.00          17.0          NaN     12          NaN  ...   \n",
       "23698            2.50           5.0         12.3      1          NaN  ...   \n",
       "\n",
       "       kitchen_area  balcony        locality_name airports_nearest  \\\n",
       "0             25.00        0      Санкт-Петербург          18863.0   \n",
       "1             11.00      2.0       посёлок Шушары          12817.0   \n",
       "2              8.30      0.0      Санкт-Петербург          21741.0   \n",
       "3               NaN      0.0      Санкт-Петербург          28098.0   \n",
       "4             41.00        0      Санкт-Петербург          31856.0   \n",
       "...             ...      ...                  ...              ...   \n",
       "23694         13.83        0      Санкт-Петербург          24665.0   \n",
       "23695          8.50        0                Тосно              NaN   \n",
       "23696           NaN        0     село Рождествено              NaN   \n",
       "23697         23.30      2.0      Санкт-Петербург          39140.0   \n",
       "23698          9.00        0  поселок Новый Учхоз              NaN   \n",
       "\n",
       "      cityCenters_nearest  parks_around3000  parks_nearest  ponds_around3000  \\\n",
       "0                 16028.0               1.0          482.0               2.0   \n",
       "1                 18603.0               0.0            NaN               0.0   \n",
       "2                 13933.0               1.0           90.0               2.0   \n",
       "3                  6800.0               2.0           84.0               3.0   \n",
       "4                  8098.0               2.0          112.0               1.0   \n",
       "...                   ...               ...            ...               ...   \n",
       "23694              4232.0               1.0          796.0               3.0   \n",
       "23695                 NaN               NaN            NaN               NaN   \n",
       "23696                 NaN               NaN            NaN               NaN   \n",
       "23697             10364.0               2.0          173.0               3.0   \n",
       "23698                 NaN               NaN            NaN               NaN   \n",
       "\n",
       "       ponds_nearest  days_exposition  \n",
       "0              755.0              NaN  \n",
       "1                NaN             81.0  \n",
       "2              574.0            558.0  \n",
       "3              234.0            424.0  \n",
       "4               48.0            121.0  \n",
       "...              ...              ...  \n",
       "23694          381.0              NaN  \n",
       "23695            NaN             45.0  \n",
       "23696            NaN              NaN  \n",
       "23697          196.0            602.0  \n",
       "23698            NaN              NaN  \n",
       "\n",
       "[23699 rows x 22 columns]"
      ]
     },
     "metadata": {},
     "output_type": "display_data"
    }
   ],
   "source": [
    "display(data) "
   ]
  },
  {
   "cell_type": "markdown",
   "metadata": {},
   "source": [
    "Пропуски в таблице ceiling_height заменим медианными значениями"
   ]
  },
  {
   "cell_type": "code",
   "execution_count": 23,
   "metadata": {},
   "outputs": [],
   "source": [
    "data['ceiling_height'].fillna(data['ceiling_height'].median(), inplace=True)"
   ]
  },
  {
   "cell_type": "markdown",
   "metadata": {},
   "source": [
    "Отбросим данные с 86 пропусками floors_total"
   ]
  },
  {
   "cell_type": "code",
   "execution_count": 24,
   "metadata": {},
   "outputs": [],
   "source": [
    "data.dropna(subset=['locality_name', 'floors_total'], inplace=True)"
   ]
  },
  {
   "cell_type": "markdown",
   "metadata": {},
   "source": [
    "В столбце мы видим путаницу с посЁлками и посЕлками, исправляем"
   ]
  },
  {
   "cell_type": "code",
   "execution_count": 25,
   "metadata": {},
   "outputs": [],
   "source": [
    "data['locality_name'] = data['locality_name'].str.replace(\"посёлок\", \"поселок\") "
   ]
  },
  {
   "cell_type": "markdown",
   "metadata": {},
   "source": [
    "В столбце days_exposition мы видим дробные числа. Это нелогично, дни не могут быть дробными, сделаем их целыми. Заодно и поставим нули в пропусках."
   ]
  },
  {
   "cell_type": "code",
   "execution_count": 26,
   "metadata": {},
   "outputs": [],
   "source": [
    "data['days_exposition'].fillna(0, inplace=True)\n",
    "data['days_exposition'] = data['days_exposition'].astype('int64') "
   ]
  },
  {
   "cell_type": "markdown",
   "metadata": {},
   "source": [
    "По поводу апартаментов, слишком много пропусков, я думаю это булево значение, т.е., если недвижимость является апартаментом, то значение True. Если не является апартаментом, то False. У нас уже есть True, но нет False. Заменим пропуски на False."
   ]
  },
  {
   "cell_type": "code",
   "execution_count": 27,
   "metadata": {},
   "outputs": [],
   "source": [
    "data['is_apartment'].unique()\n",
    "data['is_apartment'].fillna(False, inplace=True)"
   ]
  },
  {
   "cell_type": "markdown",
   "metadata": {},
   "source": [
    "Относительно времени публикации. Надо ли знать, в какое время опубликовано объявление? Думаю достаточно даты, чтобы было удобнее группировать. "
   ]
  },
  {
   "cell_type": "code",
   "execution_count": 28,
   "metadata": {},
   "outputs": [],
   "source": [
    "from datetime import datetime\n",
    "data['first_day_exposition'] = pd.to_datetime(data['first_day_exposition'])"
   ]
  },
  {
   "cell_type": "code",
   "execution_count": 29,
   "metadata": {},
   "outputs": [
    {
     "name": "stdout",
     "output_type": "stream",
     "text": [
      "<class 'pandas.core.frame.DataFrame'>\n",
      "Int64Index: 23565 entries, 0 to 23698\n",
      "Data columns (total 22 columns):\n",
      " #   Column                Non-Null Count  Dtype         \n",
      "---  ------                --------------  -----         \n",
      " 0   total_images          23565 non-null  int64         \n",
      " 1   last_price            23565 non-null  float64       \n",
      " 2   total_area            23565 non-null  float64       \n",
      " 3   first_day_exposition  23565 non-null  datetime64[ns]\n",
      " 4   rooms                 23565 non-null  int64         \n",
      " 5   ceiling_height        23565 non-null  float64       \n",
      " 6   floors_total          23565 non-null  float64       \n",
      " 7   living_area           21700 non-null  float64       \n",
      " 8   floor                 23565 non-null  int64         \n",
      " 9   is_apartment          23565 non-null  bool          \n",
      " 10  studio                23565 non-null  bool          \n",
      " 11  open_plan             23565 non-null  bool          \n",
      " 12  kitchen_area          21343 non-null  float64       \n",
      " 13  balcony               23565 non-null  object        \n",
      " 14  locality_name         23565 non-null  object        \n",
      " 15  airports_nearest      18041 non-null  float64       \n",
      " 16  cityCenters_nearest   18064 non-null  float64       \n",
      " 17  parks_around3000      18065 non-null  float64       \n",
      " 18  parks_nearest         8030 non-null   float64       \n",
      " 19  ponds_around3000      18065 non-null  float64       \n",
      " 20  ponds_nearest         9036 non-null   float64       \n",
      " 21  days_exposition       23565 non-null  int64         \n",
      "dtypes: bool(3), datetime64[ns](1), float64(12), int64(4), object(2)\n",
      "memory usage: 3.7+ MB\n"
     ]
    }
   ],
   "source": [
    "data.info()"
   ]
  },
  {
   "cell_type": "code",
   "execution_count": 30,
   "metadata": {},
   "outputs": [
    {
     "data": {
      "text/plain": [
       "0        16\n",
       "1        11\n",
       "2         5\n",
       "3        14\n",
       "4        14\n",
       "         ..\n",
       "23694     5\n",
       "23695     5\n",
       "23696     3\n",
       "23697    17\n",
       "23698     5\n",
       "Name: floors_total, Length: 23565, dtype: int64"
      ]
     },
     "metadata": {},
     "output_type": "display_data"
    }
   ],
   "source": [
    "data['floors_total'] = data['floors_total'].astype('int64') \n",
    "display(data['floors_total'])"
   ]
  },
  {
   "cell_type": "markdown",
   "metadata": {},
   "source": [
    "Скорректировали тип данных. Теперь целое число, как и должно быть."
   ]
  },
  {
   "cell_type": "code",
   "execution_count": 31,
   "metadata": {},
   "outputs": [
    {
     "data": {
      "text/plain": [
       "0"
      ]
     },
     "execution_count": 31,
     "metadata": {},
     "output_type": "execute_result"
    }
   ],
   "source": [
    "data.duplicated().sum()"
   ]
  },
  {
   "cell_type": "markdown",
   "metadata": {},
   "source": [
    "Явных дубликатов нет. Удивительно, честно говоря :)"
   ]
  },
  {
   "cell_type": "code",
   "execution_count": 32,
   "metadata": {},
   "outputs": [
    {
     "data": {
      "text/plain": [
       "{'whiskers': [<matplotlib.lines.Line2D at 0x7fc9fab11f40>,\n",
       "  <matplotlib.lines.Line2D at 0x7fc9faafd2e0>],\n",
       " 'caps': [<matplotlib.lines.Line2D at 0x7fc9faafd640>,\n",
       "  <matplotlib.lines.Line2D at 0x7fc9faafd9a0>],\n",
       " 'boxes': [<matplotlib.lines.Line2D at 0x7fc9fab11be0>],\n",
       " 'medians': [<matplotlib.lines.Line2D at 0x7fc9faafdd00>],\n",
       " 'fliers': [<matplotlib.lines.Line2D at 0x7fc9faaf10a0>],\n",
       " 'means': []}"
      ]
     },
     "execution_count": 32,
     "metadata": {},
     "output_type": "execute_result"
    },
    {
     "data": {
      "image/png": "[encoded data removed]",
      "text/plain": [
       "<Figure size 432x288 with 1 Axes>"
      ]
     },
     "metadata": {
      "needs_background": "light"
     },
     "output_type": "display_data"
    }
   ],
   "source": [
    "plt.boxplot(data['ceiling_height'])\n"
   ]
  },
  {
   "cell_type": "markdown",
   "metadata": {},
   "source": [
    "### Посчитайте и добавьте в таблицу новые столбцы"
   ]
  },
  {
   "cell_type": "markdown",
   "metadata": {},
   "source": [
    "Посчитаем и добавим в таблицу цену одного кв.м."
   ]
  },
  {
   "cell_type": "code",
   "execution_count": 33,
   "metadata": {},
   "outputs": [],
   "source": [
    "data['price_per_square_meter'] = data['last_price'] / data['total_area']"
   ]
  },
  {
   "cell_type": "markdown",
   "metadata": {},
   "source": [
    "Получаем десятитысячные дробы, неудобно читать, приведем к типу int для удобства."
   ]
  },
  {
   "cell_type": "code",
   "execution_count": 34,
   "metadata": {},
   "outputs": [],
   "source": [
    "data['price_per_square_meter'] = data['price_per_square_meter'].astype('int')"
   ]
  },
  {
   "cell_type": "markdown",
   "metadata": {},
   "source": [
    "Посчитаем и добавим в таблицу день публикации объявления."
   ]
  },
  {
   "cell_type": "code",
   "execution_count": 35,
   "metadata": {},
   "outputs": [],
   "source": [
    "data['day_of_week'] = data['first_day_exposition'].dt.dayofweek"
   ]
  },
  {
   "cell_type": "markdown",
   "metadata": {},
   "source": [
    "Посчитаем и добавим в таблицу месяц публикации объявления."
   ]
  },
  {
   "cell_type": "code",
   "execution_count": 36,
   "metadata": {},
   "outputs": [],
   "source": [
    "data['month_exposition'] = data['first_day_exposition'].dt.month.astype('datetime64[M]')"
   ]
  },
  {
   "cell_type": "markdown",
   "metadata": {},
   "source": [
    "Посчитаем и добавим в таблицу год публикации объявления"
   ]
  },
  {
   "cell_type": "code",
   "execution_count": 37,
   "metadata": {},
   "outputs": [],
   "source": [
    "data['year_exposition'] = data['first_day_exposition'].dt.year"
   ]
  },
  {
   "cell_type": "code",
   "execution_count": 38,
   "metadata": {},
   "outputs": [
    {
     "data": {
      "text/plain": [
       "0       1970-04-01\n",
       "1       1971-01-01\n",
       "2       1970-09-01\n",
       "3       1970-08-01\n",
       "4       1970-07-01\n",
       "           ...    \n",
       "23694   1970-04-01\n",
       "23695   1970-02-01\n",
       "23696   1970-03-01\n",
       "23697   1970-04-01\n",
       "23698   1970-08-01\n",
       "Name: month_exposition, Length: 23565, dtype: datetime64[ns]"
      ]
     },
     "metadata": {},
     "output_type": "display_data"
    }
   ],
   "source": [
    "display(data['month_exposition'])"
   ]
  },
  {
   "cell_type": "markdown",
   "metadata": {},
   "source": [
    "Посчитаем и добавим в таблицу тип этажа."
   ]
  },
  {
   "cell_type": "code",
   "execution_count": 39,
   "metadata": {},
   "outputs": [
    {
     "data": {
      "text/plain": [
       "array([16, 11,  5, 14, 12, 26, 24, 27,  9,  6, 17, 25,  3, 23, 19, 18,  4,\n",
       "       22,  8,  2, 10,  7, 13, 15, 20, 28, 36, 21, 35, 34, 60,  1, 29, 33,\n",
       "       52, 37])"
      ]
     },
     "execution_count": 39,
     "metadata": {},
     "output_type": "execute_result"
    }
   ],
   "source": [
    "data['floors_total'].unique()"
   ]
  },
  {
   "cell_type": "code",
   "execution_count": 40,
   "metadata": {},
   "outputs": [],
   "source": [
    "def floor_category(row):\n",
    "    floors_total = row['floors_total']\n",
    "    floor = row['floor']\n",
    "    if floor == 1:\n",
    "        return 'первый'\n",
    "    elif floor == floors_total:\n",
    "        return 'последний'\n",
    "    elif 1 < floor < floors_total:\n",
    "        return 'другой'\n",
    "    \n",
    "data['level'] = data.apply(floor_category, axis = 1)"
   ]
  },
  {
   "cell_type": "code",
   "execution_count": 41,
   "metadata": {},
   "outputs": [
    {
     "data": {
      "text/html": [
       "<div>\n",
       "<style scoped>\n",
       "    .dataframe tbody tr th:only-of-type {\n",
       "        vertical-align: middle;\n",
       "    }\n",
       "\n",
       "    .dataframe tbody tr th {\n",
       "        vertical-align: top;\n",
       "    }\n",
       "\n",
       "    .dataframe thead th {\n",
       "        text-align: right;\n",
       "    }\n",
       "</style>\n",
       "<table border=\"1\" class=\"dataframe\">\n",
       "  <thead>\n",
       "    <tr style=\"text-align: right;\">\n",
       "      <th></th>\n",
       "      <th>total_images</th>\n",
       "      <th>last_price</th>\n",
       "      <th>total_area</th>\n",
       "      <th>first_day_exposition</th>\n",
       "      <th>rooms</th>\n",
       "      <th>ceiling_height</th>\n",
       "      <th>floors_total</th>\n",
       "      <th>living_area</th>\n",
       "      <th>floor</th>\n",
       "      <th>is_apartment</th>\n",
       "      <th>...</th>\n",
       "      <th>parks_around3000</th>\n",
       "      <th>parks_nearest</th>\n",
       "      <th>ponds_around3000</th>\n",
       "      <th>ponds_nearest</th>\n",
       "      <th>days_exposition</th>\n",
       "      <th>price_per_square_meter</th>\n",
       "      <th>day_of_week</th>\n",
       "      <th>month_exposition</th>\n",
       "      <th>year_exposition</th>\n",
       "      <th>level</th>\n",
       "    </tr>\n",
       "  </thead>\n",
       "  <tbody>\n",
       "    <tr>\n",
       "      <th>0</th>\n",
       "      <td>20</td>\n",
       "      <td>13000000.0</td>\n",
       "      <td>108.00</td>\n",
       "      <td>2019-03-07</td>\n",
       "      <td>3</td>\n",
       "      <td>2.70</td>\n",
       "      <td>16</td>\n",
       "      <td>51.0</td>\n",
       "      <td>8</td>\n",
       "      <td>False</td>\n",
       "      <td>...</td>\n",
       "      <td>1.0</td>\n",
       "      <td>482.0</td>\n",
       "      <td>2.0</td>\n",
       "      <td>755.0</td>\n",
       "      <td>0</td>\n",
       "      <td>120370</td>\n",
       "      <td>3</td>\n",
       "      <td>1970-04-01</td>\n",
       "      <td>2019</td>\n",
       "      <td>другой</td>\n",
       "    </tr>\n",
       "    <tr>\n",
       "      <th>1</th>\n",
       "      <td>7</td>\n",
       "      <td>3350000.0</td>\n",
       "      <td>40.40</td>\n",
       "      <td>2018-12-04</td>\n",
       "      <td>1</td>\n",
       "      <td>2.65</td>\n",
       "      <td>11</td>\n",
       "      <td>18.6</td>\n",
       "      <td>1</td>\n",
       "      <td>False</td>\n",
       "      <td>...</td>\n",
       "      <td>0.0</td>\n",
       "      <td>NaN</td>\n",
       "      <td>0.0</td>\n",
       "      <td>NaN</td>\n",
       "      <td>81</td>\n",
       "      <td>82920</td>\n",
       "      <td>1</td>\n",
       "      <td>1971-01-01</td>\n",
       "      <td>2018</td>\n",
       "      <td>первый</td>\n",
       "    </tr>\n",
       "    <tr>\n",
       "      <th>2</th>\n",
       "      <td>10</td>\n",
       "      <td>5196000.0</td>\n",
       "      <td>56.00</td>\n",
       "      <td>2015-08-20</td>\n",
       "      <td>2</td>\n",
       "      <td>2.65</td>\n",
       "      <td>5</td>\n",
       "      <td>34.3</td>\n",
       "      <td>4</td>\n",
       "      <td>False</td>\n",
       "      <td>...</td>\n",
       "      <td>1.0</td>\n",
       "      <td>90.0</td>\n",
       "      <td>2.0</td>\n",
       "      <td>574.0</td>\n",
       "      <td>558</td>\n",
       "      <td>92785</td>\n",
       "      <td>3</td>\n",
       "      <td>1970-09-01</td>\n",
       "      <td>2015</td>\n",
       "      <td>другой</td>\n",
       "    </tr>\n",
       "    <tr>\n",
       "      <th>3</th>\n",
       "      <td>0</td>\n",
       "      <td>64900000.0</td>\n",
       "      <td>159.00</td>\n",
       "      <td>2015-07-24</td>\n",
       "      <td>3</td>\n",
       "      <td>2.65</td>\n",
       "      <td>14</td>\n",
       "      <td>NaN</td>\n",
       "      <td>9</td>\n",
       "      <td>False</td>\n",
       "      <td>...</td>\n",
       "      <td>2.0</td>\n",
       "      <td>84.0</td>\n",
       "      <td>3.0</td>\n",
       "      <td>234.0</td>\n",
       "      <td>424</td>\n",
       "      <td>408176</td>\n",
       "      <td>4</td>\n",
       "      <td>1970-08-01</td>\n",
       "      <td>2015</td>\n",
       "      <td>другой</td>\n",
       "    </tr>\n",
       "    <tr>\n",
       "      <th>4</th>\n",
       "      <td>2</td>\n",
       "      <td>10000000.0</td>\n",
       "      <td>100.00</td>\n",
       "      <td>2018-06-19</td>\n",
       "      <td>2</td>\n",
       "      <td>3.03</td>\n",
       "      <td>14</td>\n",
       "      <td>32.0</td>\n",
       "      <td>13</td>\n",
       "      <td>False</td>\n",
       "      <td>...</td>\n",
       "      <td>2.0</td>\n",
       "      <td>112.0</td>\n",
       "      <td>1.0</td>\n",
       "      <td>48.0</td>\n",
       "      <td>121</td>\n",
       "      <td>100000</td>\n",
       "      <td>1</td>\n",
       "      <td>1970-07-01</td>\n",
       "      <td>2018</td>\n",
       "      <td>другой</td>\n",
       "    </tr>\n",
       "    <tr>\n",
       "      <th>...</th>\n",
       "      <td>...</td>\n",
       "      <td>...</td>\n",
       "      <td>...</td>\n",
       "      <td>...</td>\n",
       "      <td>...</td>\n",
       "      <td>...</td>\n",
       "      <td>...</td>\n",
       "      <td>...</td>\n",
       "      <td>...</td>\n",
       "      <td>...</td>\n",
       "      <td>...</td>\n",
       "      <td>...</td>\n",
       "      <td>...</td>\n",
       "      <td>...</td>\n",
       "      <td>...</td>\n",
       "      <td>...</td>\n",
       "      <td>...</td>\n",
       "      <td>...</td>\n",
       "      <td>...</td>\n",
       "      <td>...</td>\n",
       "      <td>...</td>\n",
       "    </tr>\n",
       "    <tr>\n",
       "      <th>23694</th>\n",
       "      <td>9</td>\n",
       "      <td>9700000.0</td>\n",
       "      <td>133.81</td>\n",
       "      <td>2017-03-21</td>\n",
       "      <td>3</td>\n",
       "      <td>3.70</td>\n",
       "      <td>5</td>\n",
       "      <td>73.3</td>\n",
       "      <td>3</td>\n",
       "      <td>False</td>\n",
       "      <td>...</td>\n",
       "      <td>1.0</td>\n",
       "      <td>796.0</td>\n",
       "      <td>3.0</td>\n",
       "      <td>381.0</td>\n",
       "      <td>0</td>\n",
       "      <td>72490</td>\n",
       "      <td>1</td>\n",
       "      <td>1970-04-01</td>\n",
       "      <td>2017</td>\n",
       "      <td>другой</td>\n",
       "    </tr>\n",
       "    <tr>\n",
       "      <th>23695</th>\n",
       "      <td>14</td>\n",
       "      <td>3100000.0</td>\n",
       "      <td>59.00</td>\n",
       "      <td>2018-01-15</td>\n",
       "      <td>3</td>\n",
       "      <td>2.65</td>\n",
       "      <td>5</td>\n",
       "      <td>38.0</td>\n",
       "      <td>4</td>\n",
       "      <td>False</td>\n",
       "      <td>...</td>\n",
       "      <td>NaN</td>\n",
       "      <td>NaN</td>\n",
       "      <td>NaN</td>\n",
       "      <td>NaN</td>\n",
       "      <td>45</td>\n",
       "      <td>52542</td>\n",
       "      <td>0</td>\n",
       "      <td>1970-02-01</td>\n",
       "      <td>2018</td>\n",
       "      <td>другой</td>\n",
       "    </tr>\n",
       "    <tr>\n",
       "      <th>23696</th>\n",
       "      <td>18</td>\n",
       "      <td>2500000.0</td>\n",
       "      <td>56.70</td>\n",
       "      <td>2018-02-11</td>\n",
       "      <td>2</td>\n",
       "      <td>2.65</td>\n",
       "      <td>3</td>\n",
       "      <td>29.7</td>\n",
       "      <td>1</td>\n",
       "      <td>False</td>\n",
       "      <td>...</td>\n",
       "      <td>NaN</td>\n",
       "      <td>NaN</td>\n",
       "      <td>NaN</td>\n",
       "      <td>NaN</td>\n",
       "      <td>0</td>\n",
       "      <td>44091</td>\n",
       "      <td>6</td>\n",
       "      <td>1970-03-01</td>\n",
       "      <td>2018</td>\n",
       "      <td>первый</td>\n",
       "    </tr>\n",
       "    <tr>\n",
       "      <th>23697</th>\n",
       "      <td>13</td>\n",
       "      <td>11475000.0</td>\n",
       "      <td>76.75</td>\n",
       "      <td>2017-03-28</td>\n",
       "      <td>2</td>\n",
       "      <td>3.00</td>\n",
       "      <td>17</td>\n",
       "      <td>NaN</td>\n",
       "      <td>12</td>\n",
       "      <td>False</td>\n",
       "      <td>...</td>\n",
       "      <td>2.0</td>\n",
       "      <td>173.0</td>\n",
       "      <td>3.0</td>\n",
       "      <td>196.0</td>\n",
       "      <td>602</td>\n",
       "      <td>149511</td>\n",
       "      <td>1</td>\n",
       "      <td>1970-04-01</td>\n",
       "      <td>2017</td>\n",
       "      <td>другой</td>\n",
       "    </tr>\n",
       "    <tr>\n",
       "      <th>23698</th>\n",
       "      <td>4</td>\n",
       "      <td>1350000.0</td>\n",
       "      <td>32.30</td>\n",
       "      <td>2017-07-21</td>\n",
       "      <td>1</td>\n",
       "      <td>2.50</td>\n",
       "      <td>5</td>\n",
       "      <td>12.3</td>\n",
       "      <td>1</td>\n",
       "      <td>False</td>\n",
       "      <td>...</td>\n",
       "      <td>NaN</td>\n",
       "      <td>NaN</td>\n",
       "      <td>NaN</td>\n",
       "      <td>NaN</td>\n",
       "      <td>0</td>\n",
       "      <td>41795</td>\n",
       "      <td>4</td>\n",
       "      <td>1970-08-01</td>\n",
       "      <td>2017</td>\n",
       "      <td>первый</td>\n",
       "    </tr>\n",
       "  </tbody>\n",
       "</table>\n",
       "<p>23565 rows × 27 columns</p>\n",
       "</div>"
      ],
      "text/plain": [
       "       total_images  last_price  total_area first_day_exposition  rooms  \\\n",
       "0                20  13000000.0      108.00           2019-03-07      3   \n",
       "1                 7   3350000.0       40.40           2018-12-04      1   \n",
       "2                10   5196000.0       56.00           2015-08-20      2   \n",
       "3                 0  64900000.0      159.00           2015-07-24      3   \n",
       "4                 2  10000000.0      100.00           2018-06-19      2   \n",
       "...             ...         ...         ...                  ...    ...   \n",
       "23694             9   9700000.0      133.81           2017-03-21      3   \n",
       "23695            14   3100000.0       59.00           2018-01-15      3   \n",
       "23696            18   2500000.0       56.70           2018-02-11      2   \n",
       "23697            13  11475000.0       76.75           2017-03-28      2   \n",
       "23698             4   1350000.0       32.30           2017-07-21      1   \n",
       "\n",
       "       ceiling_height  floors_total  living_area  floor  is_apartment  ...  \\\n",
       "0                2.70            16         51.0      8         False  ...   \n",
       "1                2.65            11         18.6      1         False  ...   \n",
       "2                2.65             5         34.3      4         False  ...   \n",
       "3                2.65            14          NaN      9         False  ...   \n",
       "4                3.03            14         32.0     13         False  ...   \n",
       "...               ...           ...          ...    ...           ...  ...   \n",
       "23694            3.70             5         73.3      3         False  ...   \n",
       "23695            2.65             5         38.0      4         False  ...   \n",
       "23696            2.65             3         29.7      1         False  ...   \n",
       "23697            3.00            17          NaN     12         False  ...   \n",
       "23698            2.50             5         12.3      1         False  ...   \n",
       "\n",
       "       parks_around3000  parks_nearest  ponds_around3000 ponds_nearest  \\\n",
       "0                   1.0          482.0               2.0         755.0   \n",
       "1                   0.0            NaN               0.0           NaN   \n",
       "2                   1.0           90.0               2.0         574.0   \n",
       "3                   2.0           84.0               3.0         234.0   \n",
       "4                   2.0          112.0               1.0          48.0   \n",
       "...                 ...            ...               ...           ...   \n",
       "23694               1.0          796.0               3.0         381.0   \n",
       "23695               NaN            NaN               NaN           NaN   \n",
       "23696               NaN            NaN               NaN           NaN   \n",
       "23697               2.0          173.0               3.0         196.0   \n",
       "23698               NaN            NaN               NaN           NaN   \n",
       "\n",
       "      days_exposition  price_per_square_meter  day_of_week  month_exposition  \\\n",
       "0                   0                  120370            3        1970-04-01   \n",
       "1                  81                   82920            1        1971-01-01   \n",
       "2                 558                   92785            3        1970-09-01   \n",
       "3                 424                  408176            4        1970-08-01   \n",
       "4                 121                  100000            1        1970-07-01   \n",
       "...               ...                     ...          ...               ...   \n",
       "23694               0                   72490            1        1970-04-01   \n",
       "23695              45                   52542            0        1970-02-01   \n",
       "23696               0                   44091            6        1970-03-01   \n",
       "23697             602                  149511            1        1970-04-01   \n",
       "23698               0                   41795            4        1970-08-01   \n",
       "\n",
       "       year_exposition   level  \n",
       "0                 2019  другой  \n",
       "1                 2018  первый  \n",
       "2                 2015  другой  \n",
       "3                 2015  другой  \n",
       "4                 2018  другой  \n",
       "...                ...     ...  \n",
       "23694             2017  другой  \n",
       "23695             2018  другой  \n",
       "23696             2018  первый  \n",
       "23697             2017  другой  \n",
       "23698             2017  первый  \n",
       "\n",
       "[23565 rows x 27 columns]"
      ]
     },
     "metadata": {},
     "output_type": "display_data"
    }
   ],
   "source": [
    "display(data)"
   ]
  },
  {
   "cell_type": "code",
   "execution_count": 42,
   "metadata": {},
   "outputs": [],
   "source": [
    "for value in data['locality_name'].unique():\n",
    "    series = data[data['locality_name'] == value]['cityCenters_nearest']\n",
    "    if series.notnull().sum() > 0:\n",
    "        m = series.median()\n",
    "        data.loc[(data['locality_name'] == value) & (data['cityCenters_nearest'].isna()), 'cityCenters_nearest'] = m"
   ]
  },
  {
   "cell_type": "markdown",
   "metadata": {},
   "source": [
    "### Проведите исследовательский анализ данных"
   ]
  },
  {
   "cell_type": "markdown",
   "metadata": {},
   "source": [
    "Изучаем общую площадь"
   ]
  },
  {
   "cell_type": "code",
   "execution_count": 43,
   "metadata": {},
   "outputs": [
    {
     "data": {
      "text/plain": [
       "count    23565.000000\n",
       "mean        60.322824\n",
       "std         35.657060\n",
       "min         12.000000\n",
       "25%         40.000000\n",
       "50%         52.000000\n",
       "75%         69.700000\n",
       "max        900.000000\n",
       "Name: total_area, dtype: float64"
      ]
     },
     "execution_count": 43,
     "metadata": {},
     "output_type": "execute_result"
    },
    {
     "data": {
      "image/png": "[encoded data removed]",
      "text/plain": [
       "<Figure size 360x216 with 1 Axes>"
      ]
     },
     "metadata": {
      "needs_background": "light"
     },
     "output_type": "display_data"
    }
   ],
   "source": [
    "data.plot(y = 'total_area', kind = 'hist', bins = 100, grid=True, figsize = (5,3), range = (0,200))\n",
    "data['total_area'].describe()"
   ]
  },
  {
   "cell_type": "markdown",
   "metadata": {},
   "source": [
    "Распределение данных нормальное, есть выбросы но они не сильно влияют на данные."
   ]
  },
  {
   "cell_type": "markdown",
   "metadata": {},
   "source": [
    "Изучим жилую площадь"
   ]
  },
  {
   "cell_type": "code",
   "execution_count": 44,
   "metadata": {},
   "outputs": [
    {
     "data": {
      "text/plain": [
       "count    21700.000000\n",
       "mean        34.454822\n",
       "std         22.045359\n",
       "min          2.000000\n",
       "25%         18.600000\n",
       "50%         30.000000\n",
       "75%         42.300000\n",
       "max        409.700000\n",
       "Name: living_area, dtype: float64"
      ]
     },
     "execution_count": 44,
     "metadata": {},
     "output_type": "execute_result"
    },
    {
     "data": {
      "image/png": "[encoded data removed]",
      "text/plain": [
       "<Figure size 360x216 with 1 Axes>"
      ]
     },
     "metadata": {
      "needs_background": "light"
     },
     "output_type": "display_data"
    }
   ],
   "source": [
    "data.plot(y = 'living_area', kind = 'hist', bins = 100, grid=True, figsize = (5,3), range = (0,100))\n",
    "data['living_area'].describe()"
   ]
  },
  {
   "cell_type": "markdown",
   "metadata": {},
   "source": [
    "Распределение данных нормальное, есть выбросы но они не сильно влияют на данные."
   ]
  },
  {
   "cell_type": "markdown",
   "metadata": {},
   "source": [
    "Изучим площадь кухни"
   ]
  },
  {
   "cell_type": "code",
   "execution_count": 45,
   "metadata": {},
   "outputs": [
    {
     "data": {
      "text/plain": [
       "count    21343.000000\n",
       "mean        10.560994\n",
       "std          5.900630\n",
       "min          1.300000\n",
       "25%          7.000000\n",
       "50%          9.100000\n",
       "75%         12.000000\n",
       "max        112.000000\n",
       "Name: kitchen_area, dtype: float64"
      ]
     },
     "execution_count": 45,
     "metadata": {},
     "output_type": "execute_result"
    },
    {
     "data": {
      "image/png": "[encoded data removed]",
      "text/plain": [
       "<Figure size 360x216 with 1 Axes>"
      ]
     },
     "metadata": {
      "needs_background": "light"
     },
     "output_type": "display_data"
    }
   ],
   "source": [
    "data.plot(y = 'kitchen_area', kind = 'hist', bins = 100, grid=True, figsize = (5,3), range = (0,50))\n",
    "data['kitchen_area'].describe()"
   ]
  },
  {
   "cell_type": "markdown",
   "metadata": {},
   "source": [
    "Распределение данных нормальное, есть выбросы но они не сильно влияют на данные."
   ]
  },
  {
   "cell_type": "markdown",
   "metadata": {},
   "source": [
    "Изучим цену объекта"
   ]
  },
  {
   "cell_type": "code",
   "execution_count": 46,
   "metadata": {},
   "outputs": [
    {
     "data": {
      "text/plain": [
       "count    2.356500e+04\n",
       "mean     6.540058e+06\n",
       "std      1.091093e+07\n",
       "min      1.219000e+04\n",
       "25%      3.400000e+06\n",
       "50%      4.646000e+06\n",
       "75%      6.790000e+06\n",
       "max      7.630000e+08\n",
       "Name: last_price, dtype: float64"
      ]
     },
     "execution_count": 46,
     "metadata": {},
     "output_type": "execute_result"
    },
    {
     "data": {
      "image/png": "[encoded data removed]",
      "text/plain": [
       "<Figure size 360x216 with 1 Axes>"
      ]
     },
     "metadata": {
      "needs_background": "light"
     },
     "output_type": "display_data"
    }
   ],
   "source": [
    "data.plot(y = 'last_price', kind = 'hist', bins = 100, grid=True, range = (0,15000000), figsize = (5,3))\n",
    "data['last_price'].describe()"
   ]
  },
  {
   "cell_type": "markdown",
   "metadata": {},
   "source": [
    "С данными все в порядке, но значения выводятся в экспоненциальной записи чисел."
   ]
  },
  {
   "cell_type": "markdown",
   "metadata": {},
   "source": [
    "Изучим количество комнат"
   ]
  },
  {
   "cell_type": "code",
   "execution_count": 47,
   "metadata": {},
   "outputs": [
    {
     "data": {
      "text/plain": [
       "count    23565.000000\n",
       "mean         2.070656\n",
       "std          1.078591\n",
       "min          0.000000\n",
       "25%          1.000000\n",
       "50%          2.000000\n",
       "75%          3.000000\n",
       "max         19.000000\n",
       "Name: rooms, dtype: float64"
      ]
     },
     "execution_count": 47,
     "metadata": {},
     "output_type": "execute_result"
    },
    {
     "data": {
      "image/png": "[encoded data removed]",
      "text/plain": [
       "<Figure size 360x216 with 1 Axes>"
      ]
     },
     "metadata": {
      "needs_background": "light"
     },
     "output_type": "display_data"
    }
   ],
   "source": [
    "data.plot(y = 'rooms', kind = 'hist', bins = 20, grid=True, figsize = (5,3))\n",
    "data['rooms'].describe()"
   ]
  },
  {
   "cell_type": "markdown",
   "metadata": {},
   "source": [
    "Распределение нормальное."
   ]
  },
  {
   "cell_type": "markdown",
   "metadata": {},
   "source": [
    "Изучим высоту потолков"
   ]
  },
  {
   "cell_type": "code",
   "execution_count": 48,
   "metadata": {},
   "outputs": [
    {
     "data": {
      "text/plain": [
       "count    23565.000000\n",
       "mean         2.724530\n",
       "std          0.991026\n",
       "min          1.000000\n",
       "25%          2.600000\n",
       "50%          2.650000\n",
       "75%          2.700000\n",
       "max        100.000000\n",
       "Name: ceiling_height, dtype: float64"
      ]
     },
     "execution_count": 48,
     "metadata": {},
     "output_type": "execute_result"
    },
    {
     "data": {
      "image/png": "[encoded data removed]",
      "text/plain": [
       "<Figure size 360x216 with 1 Axes>"
      ]
     },
     "metadata": {
      "needs_background": "light"
     },
     "output_type": "display_data"
    }
   ],
   "source": [
    "data.plot(y = 'ceiling_height', kind = 'hist', bins = 20, range = (2,4), grid=True, figsize = (5,3))\n",
    "data['ceiling_height'].describe()"
   ]
  },
  {
   "cell_type": "markdown",
   "metadata": {},
   "source": [
    "С данными все в порядке."
   ]
  },
  {
   "cell_type": "markdown",
   "metadata": {},
   "source": [
    "Изучим этаж квартиры"
   ]
  },
  {
   "cell_type": "code",
   "execution_count": 49,
   "metadata": {},
   "outputs": [
    {
     "data": {
      "text/plain": [
       "count    23565.000000\n",
       "mean         5.878124\n",
       "std          4.871485\n",
       "min          1.000000\n",
       "25%          2.000000\n",
       "50%          4.000000\n",
       "75%          8.000000\n",
       "max         33.000000\n",
       "Name: floor, dtype: float64"
      ]
     },
     "execution_count": 49,
     "metadata": {},
     "output_type": "execute_result"
    },
    {
     "data": {
      "image/png": "[encoded data removed]",
      "text/plain": [
       "<Figure size 360x216 with 1 Axes>"
      ]
     },
     "metadata": {
      "needs_background": "light"
     },
     "output_type": "display_data"
    }
   ],
   "source": [
    "data.plot(y = 'floor', kind = 'hist', bins = 30, grid=True, figsize = (5,3))\n",
    "data['floor'].describe()"
   ]
  },
  {
   "cell_type": "markdown",
   "metadata": {},
   "source": [
    "Распределение нормальное"
   ]
  },
  {
   "cell_type": "markdown",
   "metadata": {},
   "source": [
    "Изучим тип этажа"
   ]
  },
  {
   "cell_type": "code",
   "execution_count": 50,
   "metadata": {},
   "outputs": [
    {
     "data": {
      "text/plain": [
       "count    23565.000000\n",
       "mean        10.675875\n",
       "std          6.594823\n",
       "min          1.000000\n",
       "25%          5.000000\n",
       "50%          9.000000\n",
       "75%         16.000000\n",
       "max         60.000000\n",
       "Name: floors_total, dtype: float64"
      ]
     },
     "execution_count": 50,
     "metadata": {},
     "output_type": "execute_result"
    },
    {
     "data": {
      "image/png": "[encoded data removed]",
      "text/plain": [
       "<Figure size 360x216 with 1 Axes>"
      ]
     },
     "metadata": {
      "needs_background": "light"
     },
     "output_type": "display_data"
    }
   ],
   "source": [
    "data.plot(y = 'floors_total', kind = 'hist', bins = 30, grid=True, figsize = (5,3))\n",
    "data['floors_total'].describe()"
   ]
  },
  {
   "cell_type": "markdown",
   "metadata": {},
   "source": [
    "Распределение нормальное."
   ]
  },
  {
   "cell_type": "markdown",
   "metadata": {},
   "source": [
    "Изучим общее количество этажей в доме"
   ]
  },
  {
   "cell_type": "code",
   "execution_count": 51,
   "metadata": {},
   "outputs": [
    {
     "data": {
      "text/plain": [
       "count    23565.000000\n",
       "mean        10.675875\n",
       "std          6.594823\n",
       "min          1.000000\n",
       "25%          5.000000\n",
       "50%          9.000000\n",
       "75%         16.000000\n",
       "max         60.000000\n",
       "Name: floors_total, dtype: float64"
      ]
     },
     "execution_count": 51,
     "metadata": {},
     "output_type": "execute_result"
    },
    {
     "data": {
      "image/png": "[encoded data removed]",
      "text/plain": [
       "<Figure size 360x216 with 1 Axes>"
      ]
     },
     "metadata": {
      "needs_background": "light"
     },
     "output_type": "display_data"
    }
   ],
   "source": [
    "data.plot(y = 'floors_total', kind = 'hist', bins = 20, grid=True, figsize = (5,3))\n",
    "data['floors_total'].describe()"
   ]
  },
  {
   "cell_type": "markdown",
   "metadata": {},
   "source": [
    "Распределение нормальное."
   ]
  },
  {
   "cell_type": "markdown",
   "metadata": {},
   "source": [
    "Изучим расстояние до центра города"
   ]
  },
  {
   "cell_type": "code",
   "execution_count": 52,
   "metadata": {},
   "outputs": [
    {
     "data": {
      "text/plain": [
       "count    18133.000000\n",
       "mean     14195.267882\n",
       "std       8610.213514\n",
       "min        181.000000\n",
       "25%       9265.000000\n",
       "50%      13073.000000\n",
       "75%      16275.000000\n",
       "max      65968.000000\n",
       "Name: cityCenters_nearest, dtype: float64"
      ]
     },
     "execution_count": 52,
     "metadata": {},
     "output_type": "execute_result"
    },
    {
     "data": {
      "image/png": "[encoded data removed]",
      "text/plain": [
       "<Figure size 360x216 with 1 Axes>"
      ]
     },
     "metadata": {
      "needs_background": "light"
     },
     "output_type": "display_data"
    }
   ],
   "source": [
    "data.plot(y = 'cityCenters_nearest', kind = 'hist', bins = 20, grid=True, figsize = (5,3))\n",
    "data['cityCenters_nearest'].describe()"
   ]
  },
  {
   "cell_type": "markdown",
   "metadata": {},
   "source": [
    "Распределение нормальное."
   ]
  },
  {
   "cell_type": "markdown",
   "metadata": {},
   "source": [
    "Изучим расстояние до ближайшего аэропорта"
   ]
  },
  {
   "cell_type": "code",
   "execution_count": 53,
   "metadata": {},
   "outputs": [
    {
     "data": {
      "text/plain": [
       "count    18041.000000\n",
       "mean     28797.082701\n",
       "std      12632.499735\n",
       "min          0.000000\n",
       "25%      18565.000000\n",
       "50%      26757.000000\n",
       "75%      37273.000000\n",
       "max      84869.000000\n",
       "Name: airports_nearest, dtype: float64"
      ]
     },
     "execution_count": 53,
     "metadata": {},
     "output_type": "execute_result"
    },
    {
     "data": {
      "image/png": "[encoded data removed]",
      "text/plain": [
       "<Figure size 360x216 with 1 Axes>"
      ]
     },
     "metadata": {
      "needs_background": "light"
     },
     "output_type": "display_data"
    }
   ],
   "source": [
    "data.plot(y = 'airports_nearest', kind = 'hist', bins = 20, grid=True, figsize = (5,3))\n",
    "data['airports_nearest'].describe()"
   ]
  },
  {
   "cell_type": "markdown",
   "metadata": {},
   "source": [
    "Распределение нормальное.\n"
   ]
  },
  {
   "cell_type": "markdown",
   "metadata": {},
   "source": [
    "Изучим расстояние до ближайшего парка"
   ]
  },
  {
   "cell_type": "code",
   "execution_count": 54,
   "metadata": {},
   "outputs": [
    {
     "data": {
      "text/plain": [
       "count    8030.000000\n",
       "mean      490.580448\n",
       "std       341.572956\n",
       "min         1.000000\n",
       "25%       288.000000\n",
       "50%       455.000000\n",
       "75%       612.000000\n",
       "max      3190.000000\n",
       "Name: parks_nearest, dtype: float64"
      ]
     },
     "execution_count": 54,
     "metadata": {},
     "output_type": "execute_result"
    },
    {
     "data": {
      "image/png": "[encoded data removed]",
      "text/plain": [
       "<Figure size 360x216 with 1 Axes>"
      ]
     },
     "metadata": {
      "needs_background": "light"
     },
     "output_type": "display_data"
    }
   ],
   "source": [
    "data.plot(y = 'parks_nearest', kind = 'hist', bins = 20, grid=True, figsize = (5,3))\n",
    "data['parks_nearest'].describe()"
   ]
  },
  {
   "cell_type": "markdown",
   "metadata": {},
   "source": [
    "Распределение нормальное."
   ]
  },
  {
   "cell_type": "markdown",
   "metadata": {},
   "source": [
    "Изучим день и месяц публикации объявления"
   ]
  },
  {
   "cell_type": "code",
   "execution_count": 55,
   "metadata": {},
   "outputs": [
    {
     "data": {
      "text/plain": [
       "count    23565.000000\n",
       "mean       156.420115\n",
       "std        213.517293\n",
       "min          0.000000\n",
       "25%         22.000000\n",
       "50%         73.000000\n",
       "75%        198.000000\n",
       "max       1580.000000\n",
       "Name: days_exposition, dtype: float64"
      ]
     },
     "execution_count": 55,
     "metadata": {},
     "output_type": "execute_result"
    },
    {
     "data": {
      "image/png": "[encoded data removed]",
      "text/plain": [
       "<Figure size 360x216 with 1 Axes>"
      ]
     },
     "metadata": {
      "needs_background": "light"
     },
     "output_type": "display_data"
    }
   ],
   "source": [
    "data.plot(y = 'days_exposition', kind = 'hist', bins = 20, grid=True, figsize = (5,3))\n",
    "data['days_exposition'].describe()"
   ]
  },
  {
   "cell_type": "markdown",
   "metadata": {},
   "source": [
    "Распределение нормальное."
   ]
  },
  {
   "cell_type": "markdown",
   "metadata": {},
   "source": [
    "Изучим, как быстро продавались квартиры"
   ]
  },
  {
   "cell_type": "code",
   "execution_count": 56,
   "metadata": {},
   "outputs": [
    {
     "data": {
      "text/plain": [
       "95.0"
      ]
     },
     "execution_count": 56,
     "metadata": {},
     "output_type": "execute_result"
    },
    {
     "data": {
      "image/png": "[encoded data removed]",
      "text/plain": [
       "<Figure size 432x288 with 1 Axes>"
      ]
     },
     "metadata": {
      "needs_background": "light"
     },
     "output_type": "display_data"
    },
    {
     "data": {
      "image/png": "[encoded data removed]",
      "text/plain": [
       "<Figure size 432x288 with 1 Axes>"
      ]
     },
     "metadata": {
      "needs_background": "light"
     },
     "output_type": "display_data"
    },
    {
     "data": {
      "image/png": "[encoded data removed]",
      "text/plain": [
       "<Figure size 432x288 with 1 Axes>"
      ]
     },
     "metadata": {
      "needs_background": "light"
     },
     "output_type": "display_data"
    }
   ],
   "source": [
    "plt.boxplot(data[data['days_exposition']!=0]['days_exposition'])\n",
    "plt.ylim(1,1000)\n",
    "\n",
    "data.plot(y = 'days_exposition', kind = 'hist', bins = 30, grid = True, range = (1,1000))\n",
    "data.plot(y = 'days_exposition', kind = 'hist', bins = 100, grid = True, range = (1,200))\n",
    "\n",
    "data[data['days_exposition']!=0]['days_exposition'].describe()\n",
    "data[data['days_exposition']!=0]['days_exposition'].value_counts()\n",
    "data[data['days_exposition']!=0]['days_exposition'].median()"
   ]
  },
  {
   "cell_type": "markdown",
   "metadata": {},
   "source": [
    "Как мы видим, среднее значение 180 дней, а медиана 95 дней. Сделав гистограмму со значениями от 0 до 200 с кол-вом корзин 100, обнаружили выбивающиеся значения и методом value_counts убедились в этом, аномалии на 7, 30, 45, 60, 90 днях - это наиболее популярное количество дней до снятия объявления, цифры такие \"красивые\", что у меня появились сомнения, скорее всего это автоматически были сняты (обычно на сайтах объявлениях объявление висит месяц, если продлевать, то на 1, 2 недели, (бывает и на 1 месяц вперед). То есть, это не значит, что через неделю продали недвижимость."
   ]
  },
  {
   "cell_type": "markdown",
   "metadata": {},
   "source": [
    "Какие факторы больше всего влияют на стоимость объекта? Построим график зависимости цены от общей площади."
   ]
  },
  {
   "cell_type": "code",
   "execution_count": 57,
   "metadata": {},
   "outputs": [
    {
     "data": {
      "text/plain": [
       "0.3025705855894222"
      ]
     },
     "execution_count": 57,
     "metadata": {},
     "output_type": "execute_result"
    },
    {
     "data": {
      "image/png": "[encoded data removed]",
      "text/plain": [
       "<Figure size 432x288 with 1 Axes>"
      ]
     },
     "metadata": {
      "needs_background": "light"
     },
     "output_type": "display_data"
    }
   ],
   "source": [
    "pivot_table_total_area = data.pivot_table(index = 'total_area', values = 'price_per_square_meter', aggfunc = ['mean', 'count', 'median'])\n",
    "pivot_table_total_area.columns = ['mean', 'count', 'median']\n",
    "pivot_table_total_area.plot(y = 'median', style = 'o')\n",
    "\n",
    "pivot_table_total_area.sort_values('median', ascending = False)\n",
    "\n",
    "data['total_area'].corr(data['price_per_square_meter'])"
   ]
  },
  {
   "cell_type": "markdown",
   "metadata": {},
   "source": [
    "Как мы видим, что зависимость очень слабая - согласно корреляции Пирсона - 0.3. То есть, чем больше площадь, тем выше стоимость."
   ]
  },
  {
   "cell_type": "markdown",
   "metadata": {},
   "source": [
    "Построим график зависимости цены кв.м. от жилой площади."
   ]
  },
  {
   "cell_type": "code",
   "execution_count": 58,
   "metadata": {},
   "outputs": [
    {
     "data": {
      "text/plain": [
       "0.22666337383617496"
      ]
     },
     "execution_count": 58,
     "metadata": {},
     "output_type": "execute_result"
    },
    {
     "data": {
      "image/png": "[encoded data removed]",
      "text/plain": [
       "<Figure size 432x288 with 1 Axes>"
      ]
     },
     "metadata": {
      "needs_background": "light"
     },
     "output_type": "display_data"
    }
   ],
   "source": [
    "pivot_table_living_area = data.pivot_table(index = 'living_area', values = 'price_per_square_meter', aggfunc = ['mean', 'count', 'median'])\n",
    "pivot_table_living_area.columns = ['mean', 'count', 'median']\n",
    "pivot_table_living_area.plot(y = 'median', style = 'o')\n",
    "\n",
    "pivot_table_total_area.sort_values('median', ascending = False)\n",
    "\n",
    "data['living_area'].corr(data['price_per_square_meter'])"
   ]
  },
  {
   "cell_type": "markdown",
   "metadata": {},
   "source": [
    "Картина похожа на ту, что с общей площадью. Зависимость все такая же слабая."
   ]
  },
  {
   "cell_type": "markdown",
   "metadata": {},
   "source": [
    "Построим график зависимости цены кв.м. от площади кухни."
   ]
  },
  {
   "cell_type": "code",
   "execution_count": 59,
   "metadata": {},
   "outputs": [
    {
     "data": {
      "text/plain": [
       "0.398472330189574"
      ]
     },
     "execution_count": 59,
     "metadata": {},
     "output_type": "execute_result"
    },
    {
     "data": {
      "image/png": "[encoded data removed]",
      "text/plain": [
       "<Figure size 432x288 with 1 Axes>"
      ]
     },
     "metadata": {
      "needs_background": "light"
     },
     "output_type": "display_data"
    }
   ],
   "source": [
    "pivot_table_kitchen_area = data.pivot_table(index = 'kitchen_area', values = 'price_per_square_meter', aggfunc = ['mean', 'count', 'median'])\n",
    "pivot_table_kitchen_area.columns = ['mean', 'count', 'median']\n",
    "pivot_table_kitchen_area.plot(y = 'median', style = 'o')\n",
    "\n",
    "pivot_table_kitchen_area.sort_values('median', ascending = False)\n",
    "\n",
    "data['kitchen_area'].corr(data['price_per_square_meter'])"
   ]
  },
  {
   "cell_type": "markdown",
   "metadata": {},
   "source": [
    "Как мы видим, зависимость все та же слабая. "
   ]
  },
  {
   "cell_type": "markdown",
   "metadata": {},
   "source": [
    "Построим график зависимости цены кв.м. от количества комнат."
   ]
  },
  {
   "cell_type": "code",
   "execution_count": 60,
   "metadata": {},
   "outputs": [
    {
     "data": {
      "text/plain": [
       "0.055679781492603775"
      ]
     },
     "execution_count": 60,
     "metadata": {},
     "output_type": "execute_result"
    },
    {
     "data": {
      "image/png": "[encoded data removed]",
      "text/plain": [
       "<Figure size 432x288 with 1 Axes>"
      ]
     },
     "metadata": {
      "needs_background": "light"
     },
     "output_type": "display_data"
    }
   ],
   "source": [
    "pivot_table_rooms = data.pivot_table(index = 'rooms', values = 'price_per_square_meter', aggfunc = ['mean', 'count', 'median'])\n",
    "pivot_table_rooms.columns = ['mean', 'count', 'median']\n",
    "pivot_table_rooms.query('count > 50').plot(y = 'median')\n",
    "\n",
    "pivot_table_rooms.query('count > 50').sort_values('median', ascending = False)\n",
    "\n",
    "data['rooms'].corr(data['price_per_square_meter'])"
   ]
  },
  {
   "cell_type": "markdown",
   "metadata": {},
   "source": [
    "Чем больше комнат к 3, тем ниже стоимость кв.м. От 3 комнат и выше - стоимость кв.м. выше. "
   ]
  },
  {
   "cell_type": "markdown",
   "metadata": {},
   "source": [
    "Построим график зависимости цены от типа этажа, на котором расположена квартира (первый, последний, другой)"
   ]
  },
  {
   "cell_type": "code",
   "execution_count": 61,
   "metadata": {},
   "outputs": [
    {
     "data": {
      "text/html": [
       "<div>\n",
       "<style scoped>\n",
       "    .dataframe tbody tr th:only-of-type {\n",
       "        vertical-align: middle;\n",
       "    }\n",
       "\n",
       "    .dataframe tbody tr th {\n",
       "        vertical-align: top;\n",
       "    }\n",
       "\n",
       "    .dataframe thead th {\n",
       "        text-align: right;\n",
       "    }\n",
       "</style>\n",
       "<table border=\"1\" class=\"dataframe\">\n",
       "  <thead>\n",
       "    <tr style=\"text-align: right;\">\n",
       "      <th></th>\n",
       "      <th>mean</th>\n",
       "      <th>count</th>\n",
       "      <th>median</th>\n",
       "    </tr>\n",
       "    <tr>\n",
       "      <th>level</th>\n",
       "      <th></th>\n",
       "      <th></th>\n",
       "      <th></th>\n",
       "    </tr>\n",
       "  </thead>\n",
       "  <tbody>\n",
       "    <tr>\n",
       "      <th>другой</th>\n",
       "      <td>103485.872215</td>\n",
       "      <td>17326</td>\n",
       "      <td>98287.5</td>\n",
       "    </tr>\n",
       "    <tr>\n",
       "      <th>последний</th>\n",
       "      <td>93378.509009</td>\n",
       "      <td>3330</td>\n",
       "      <td>87763.0</td>\n",
       "    </tr>\n",
       "    <tr>\n",
       "      <th>первый</th>\n",
       "      <td>82001.162943</td>\n",
       "      <td>2909</td>\n",
       "      <td>81250.0</td>\n",
       "    </tr>\n",
       "  </tbody>\n",
       "</table>\n",
       "</div>"
      ],
      "text/plain": [
       "                    mean  count   median\n",
       "level                                   \n",
       "другой     103485.872215  17326  98287.5\n",
       "последний   93378.509009   3330  87763.0\n",
       "первый      82001.162943   2909  81250.0"
      ]
     },
     "execution_count": 61,
     "metadata": {},
     "output_type": "execute_result"
    },
    {
     "data": {
      "image/png": "[encoded data removed]",
      "text/plain": [
       "<Figure size 432x288 with 1 Axes>"
      ]
     },
     "metadata": {
      "needs_background": "light"
     },
     "output_type": "display_data"
    }
   ],
   "source": [
    "pivot_table_level = data.pivot_table(index = 'level', values = 'price_per_square_meter', aggfunc = ['mean', 'count', 'median'])\n",
    "pivot_table_level.columns = ['mean', 'count', 'median']\n",
    "pivot_table_level.plot(y = 'median', title = 'Средняя цена по типам этажа')\n",
    "\n",
    "pivot_table_level.sort_values('median', ascending = False)"
   ]
  },
  {
   "cell_type": "markdown",
   "metadata": {},
   "source": [
    "Как мы видим, квартиры на 1 этаже дешевле, чем на последнем этаже. Самые дорогие квартиры, которые не на первом и не на последнем этажах. "
   ]
  },
  {
   "cell_type": "markdown",
   "metadata": {},
   "source": [
    "Построим график зависимости цены кв.м. от даты размещения, в днях недели."
   ]
  },
  {
   "cell_type": "code",
   "execution_count": 62,
   "metadata": {},
   "outputs": [
    {
     "data": {
      "text/html": [
       "<div>\n",
       "<style scoped>\n",
       "    .dataframe tbody tr th:only-of-type {\n",
       "        vertical-align: middle;\n",
       "    }\n",
       "\n",
       "    .dataframe tbody tr th {\n",
       "        vertical-align: top;\n",
       "    }\n",
       "\n",
       "    .dataframe thead th {\n",
       "        text-align: right;\n",
       "    }\n",
       "</style>\n",
       "<table border=\"1\" class=\"dataframe\">\n",
       "  <thead>\n",
       "    <tr style=\"text-align: right;\">\n",
       "      <th></th>\n",
       "      <th>mean</th>\n",
       "      <th>count</th>\n",
       "      <th>median</th>\n",
       "    </tr>\n",
       "    <tr>\n",
       "      <th>day_of_week</th>\n",
       "      <th></th>\n",
       "      <th></th>\n",
       "      <th></th>\n",
       "    </tr>\n",
       "  </thead>\n",
       "  <tbody>\n",
       "    <tr>\n",
       "      <th>1</th>\n",
       "      <td>99667.761951</td>\n",
       "      <td>4163</td>\n",
       "      <td>95567.0</td>\n",
       "    </tr>\n",
       "    <tr>\n",
       "      <th>2</th>\n",
       "      <td>99584.276596</td>\n",
       "      <td>3948</td>\n",
       "      <td>95473.0</td>\n",
       "    </tr>\n",
       "    <tr>\n",
       "      <th>3</th>\n",
       "      <td>100194.284144</td>\n",
       "      <td>4276</td>\n",
       "      <td>95132.0</td>\n",
       "    </tr>\n",
       "    <tr>\n",
       "      <th>0</th>\n",
       "      <td>99462.125139</td>\n",
       "      <td>3596</td>\n",
       "      <td>94719.0</td>\n",
       "    </tr>\n",
       "    <tr>\n",
       "      <th>6</th>\n",
       "      <td>97758.773024</td>\n",
       "      <td>1683</td>\n",
       "      <td>94594.0</td>\n",
       "    </tr>\n",
       "    <tr>\n",
       "      <th>4</th>\n",
       "      <td>98924.551005</td>\n",
       "      <td>3980</td>\n",
       "      <td>94579.5</td>\n",
       "    </tr>\n",
       "    <tr>\n",
       "      <th>5</th>\n",
       "      <td>99045.405941</td>\n",
       "      <td>1919</td>\n",
       "      <td>93548.0</td>\n",
       "    </tr>\n",
       "  </tbody>\n",
       "</table>\n",
       "</div>"
      ],
      "text/plain": [
       "                      mean  count   median\n",
       "day_of_week                               \n",
       "1             99667.761951   4163  95567.0\n",
       "2             99584.276596   3948  95473.0\n",
       "3            100194.284144   4276  95132.0\n",
       "0             99462.125139   3596  94719.0\n",
       "6             97758.773024   1683  94594.0\n",
       "4             98924.551005   3980  94579.5\n",
       "5             99045.405941   1919  93548.0"
      ]
     },
     "execution_count": 62,
     "metadata": {},
     "output_type": "execute_result"
    },
    {
     "data": {
      "image/png": "[encoded data removed]",
      "text/plain": [
       "<Figure size 432x288 with 1 Axes>"
      ]
     },
     "metadata": {
      "needs_background": "light"
     },
     "output_type": "display_data"
    }
   ],
   "source": [
    "pivot_table_day_of_week = data.pivot_table(index = 'day_of_week', values = 'price_per_square_meter', aggfunc = ['mean', 'count', 'median'])\n",
    "pivot_table_day_of_week.columns = ['mean', 'count', 'median']\n",
    "pivot_table_day_of_week.plot(y = 'median', title = 'Средняя цена дням неделям')\n",
    "\n",
    "pivot_table_day_of_week.sort_values('median', ascending = False)"
   ]
  },
  {
   "cell_type": "markdown",
   "metadata": {},
   "source": [
    "Чем ближе ко вторнику выставлены объявления, тем выше стоимость. По субботам стоимость самая низкая.\n",
    "\n",
    "Возможно стоимость зависит от активностей людей на сайте. В будни дороже, в выходные дешевле."
   ]
  },
  {
   "cell_type": "markdown",
   "metadata": {},
   "source": [
    "Построим график зависимости цены кв.м. от даты размещения, в месяцах."
   ]
  },
  {
   "cell_type": "code",
   "execution_count": 63,
   "metadata": {},
   "outputs": [
    {
     "data": {
      "text/html": [
       "<div>\n",
       "<style scoped>\n",
       "    .dataframe tbody tr th:only-of-type {\n",
       "        vertical-align: middle;\n",
       "    }\n",
       "\n",
       "    .dataframe tbody tr th {\n",
       "        vertical-align: top;\n",
       "    }\n",
       "\n",
       "    .dataframe thead th {\n",
       "        text-align: right;\n",
       "    }\n",
       "</style>\n",
       "<table border=\"1\" class=\"dataframe\">\n",
       "  <thead>\n",
       "    <tr style=\"text-align: right;\">\n",
       "      <th></th>\n",
       "      <th>mean</th>\n",
       "      <th>count</th>\n",
       "      <th>median</th>\n",
       "    </tr>\n",
       "    <tr>\n",
       "      <th>month_exposition</th>\n",
       "      <th></th>\n",
       "      <th></th>\n",
       "      <th></th>\n",
       "    </tr>\n",
       "  </thead>\n",
       "  <tbody>\n",
       "    <tr>\n",
       "      <th>1970-05-01</th>\n",
       "      <td>101987.648557</td>\n",
       "      <td>2356</td>\n",
       "      <td>96543.0</td>\n",
       "    </tr>\n",
       "    <tr>\n",
       "      <th>1970-09-01</th>\n",
       "      <td>100108.687752</td>\n",
       "      <td>1739</td>\n",
       "      <td>96052.0</td>\n",
       "    </tr>\n",
       "    <tr>\n",
       "      <th>1970-10-01</th>\n",
       "      <td>100518.872211</td>\n",
       "      <td>1972</td>\n",
       "      <td>95623.0</td>\n",
       "    </tr>\n",
       "    <tr>\n",
       "      <th>1970-12-01</th>\n",
       "      <td>99228.002542</td>\n",
       "      <td>2360</td>\n",
       "      <td>95606.5</td>\n",
       "    </tr>\n",
       "    <tr>\n",
       "      <th>1970-04-01</th>\n",
       "      <td>98951.544078</td>\n",
       "      <td>2575</td>\n",
       "      <td>95233.0</td>\n",
       "    </tr>\n",
       "    <tr>\n",
       "      <th>1970-02-01</th>\n",
       "      <td>99732.675857</td>\n",
       "      <td>1487</td>\n",
       "      <td>95180.0</td>\n",
       "    </tr>\n",
       "    <tr>\n",
       "      <th>1970-08-01</th>\n",
       "      <td>99612.893238</td>\n",
       "      <td>1686</td>\n",
       "      <td>95005.5</td>\n",
       "    </tr>\n",
       "    <tr>\n",
       "      <th>1970-03-01</th>\n",
       "      <td>98762.248483</td>\n",
       "      <td>2636</td>\n",
       "      <td>95000.0</td>\n",
       "    </tr>\n",
       "    <tr>\n",
       "      <th>1971-01-01</th>\n",
       "      <td>99501.177656</td>\n",
       "      <td>1638</td>\n",
       "      <td>94238.0</td>\n",
       "    </tr>\n",
       "    <tr>\n",
       "      <th>1970-11-01</th>\n",
       "      <td>97866.604839</td>\n",
       "      <td>2108</td>\n",
       "      <td>94212.0</td>\n",
       "    </tr>\n",
       "    <tr>\n",
       "      <th>1970-07-01</th>\n",
       "      <td>97795.432742</td>\n",
       "      <td>1747</td>\n",
       "      <td>92857.0</td>\n",
       "    </tr>\n",
       "    <tr>\n",
       "      <th>1970-06-01</th>\n",
       "      <td>98487.816812</td>\n",
       "      <td>1261</td>\n",
       "      <td>92696.0</td>\n",
       "    </tr>\n",
       "  </tbody>\n",
       "</table>\n",
       "</div>"
      ],
      "text/plain": [
       "                           mean  count   median\n",
       "month_exposition                               \n",
       "1970-05-01        101987.648557   2356  96543.0\n",
       "1970-09-01        100108.687752   1739  96052.0\n",
       "1970-10-01        100518.872211   1972  95623.0\n",
       "1970-12-01         99228.002542   2360  95606.5\n",
       "1970-04-01         98951.544078   2575  95233.0\n",
       "1970-02-01         99732.675857   1487  95180.0\n",
       "1970-08-01         99612.893238   1686  95005.5\n",
       "1970-03-01         98762.248483   2636  95000.0\n",
       "1971-01-01         99501.177656   1638  94238.0\n",
       "1970-11-01         97866.604839   2108  94212.0\n",
       "1970-07-01         97795.432742   1747  92857.0\n",
       "1970-06-01         98487.816812   1261  92696.0"
      ]
     },
     "execution_count": 63,
     "metadata": {},
     "output_type": "execute_result"
    },
    {
     "data": {
      "image/png": "[encoded data removed]",
      "text/plain": [
       "<Figure size 432x288 with 1 Axes>"
      ]
     },
     "metadata": {
      "needs_background": "light"
     },
     "output_type": "display_data"
    }
   ],
   "source": [
    "pivot_table_month_exposition = data.pivot_table(index = 'month_exposition', values = 'price_per_square_meter', aggfunc = ['mean', 'count', 'median'])\n",
    "pivot_table_month_exposition.columns = ['mean', 'count', 'median']\n",
    "pivot_table_month_exposition.plot(y = 'median', title = 'Средняя цена по месяцам')\n",
    "\n",
    "pivot_table_month_exposition.sort_values('median', ascending = False)"
   ]
  },
  {
   "cell_type": "markdown",
   "metadata": {},
   "source": [
    "Как мы видим, самая высокая стоимость кв.м. это в конце апреля, в начале мая и в конце августа, в начале сентября. \n",
    "\n",
    "Самая низкая стоимость в конце мая, в начале июня. \n",
    "\n",
    "Также в начале лета мы видим наименьшее предложение как по количеству, так и по стоимости недвижимости. Наверное, это связано с отпусками. Можно считать, что лето - несезонное время для купли-продажи недвижимости."
   ]
  },
  {
   "cell_type": "markdown",
   "metadata": {},
   "source": [
    "Построим график зависимости цены кв.м. от даты размещения, в годах."
   ]
  },
  {
   "cell_type": "code",
   "execution_count": 64,
   "metadata": {},
   "outputs": [
    {
     "data": {
      "text/html": [
       "<div>\n",
       "<style scoped>\n",
       "    .dataframe tbody tr th:only-of-type {\n",
       "        vertical-align: middle;\n",
       "    }\n",
       "\n",
       "    .dataframe tbody tr th {\n",
       "        vertical-align: top;\n",
       "    }\n",
       "\n",
       "    .dataframe thead th {\n",
       "        text-align: right;\n",
       "    }\n",
       "</style>\n",
       "<table border=\"1\" class=\"dataframe\">\n",
       "  <thead>\n",
       "    <tr style=\"text-align: right;\">\n",
       "      <th></th>\n",
       "      <th>mean</th>\n",
       "      <th>count</th>\n",
       "      <th>median</th>\n",
       "    </tr>\n",
       "    <tr>\n",
       "      <th>year_exposition</th>\n",
       "      <th></th>\n",
       "      <th></th>\n",
       "      <th></th>\n",
       "    </tr>\n",
       "  </thead>\n",
       "  <tbody>\n",
       "    <tr>\n",
       "      <th>2014</th>\n",
       "      <td>124301.926471</td>\n",
       "      <td>136</td>\n",
       "      <td>106901.5</td>\n",
       "    </tr>\n",
       "    <tr>\n",
       "      <th>2019</th>\n",
       "      <td>107046.819923</td>\n",
       "      <td>2871</td>\n",
       "      <td>103199.0</td>\n",
       "    </tr>\n",
       "    <tr>\n",
       "      <th>2018</th>\n",
       "      <td>97762.264318</td>\n",
       "      <td>8486</td>\n",
       "      <td>95695.5</td>\n",
       "    </tr>\n",
       "    <tr>\n",
       "      <th>2015</th>\n",
       "      <td>104639.883362</td>\n",
       "      <td>1166</td>\n",
       "      <td>93364.5</td>\n",
       "    </tr>\n",
       "    <tr>\n",
       "      <th>2017</th>\n",
       "      <td>97637.679819</td>\n",
       "      <td>8161</td>\n",
       "      <td>92569.0</td>\n",
       "    </tr>\n",
       "    <tr>\n",
       "      <th>2016</th>\n",
       "      <td>98291.356648</td>\n",
       "      <td>2745</td>\n",
       "      <td>91743.0</td>\n",
       "    </tr>\n",
       "  </tbody>\n",
       "</table>\n",
       "</div>"
      ],
      "text/plain": [
       "                          mean  count    median\n",
       "year_exposition                                \n",
       "2014             124301.926471    136  106901.5\n",
       "2019             107046.819923   2871  103199.0\n",
       "2018              97762.264318   8486   95695.5\n",
       "2015             104639.883362   1166   93364.5\n",
       "2017              97637.679819   8161   92569.0\n",
       "2016              98291.356648   2745   91743.0"
      ]
     },
     "execution_count": 64,
     "metadata": {},
     "output_type": "execute_result"
    },
    {
     "data": {
      "image/png": "[encoded data removed]",
      "text/plain": [
       "<Figure size 432x288 with 1 Axes>"
      ]
     },
     "metadata": {
      "needs_background": "light"
     },
     "output_type": "display_data"
    }
   ],
   "source": [
    "pivot_table_year_exposition = data.pivot_table(index = 'year_exposition', values = 'price_per_square_meter', aggfunc = ['mean', 'count', 'median'])\n",
    "pivot_table_year_exposition.columns = ['mean', 'count', 'median']\n",
    "pivot_table_year_exposition.plot(y = 'median', title = 'Средняя цена по годам')\n",
    "pivot_table_year_exposition.sort_values('median', ascending = False)"
   ]
  },
  {
   "cell_type": "markdown",
   "metadata": {},
   "source": [
    "Как мы видим, что с 2014 до 2016 года цена падала, но с 2016 года уже стала подниматься, и каждым годом все выше и выше."
   ]
  },
  {
   "cell_type": "markdown",
   "metadata": {},
   "source": [
    "Посчитаем среднюю цену одного квадратного метра в 10 населённых пунктах с наибольшим числом объявлений."
   ]
  },
  {
   "cell_type": "code",
   "execution_count": 65,
   "metadata": {},
   "outputs": [
    {
     "data": {
      "text/html": [
       "<div>\n",
       "<style scoped>\n",
       "    .dataframe tbody tr th:only-of-type {\n",
       "        vertical-align: middle;\n",
       "    }\n",
       "\n",
       "    .dataframe tbody tr th {\n",
       "        vertical-align: top;\n",
       "    }\n",
       "\n",
       "    .dataframe thead th {\n",
       "        text-align: right;\n",
       "    }\n",
       "</style>\n",
       "<table border=\"1\" class=\"dataframe\">\n",
       "  <thead>\n",
       "    <tr style=\"text-align: right;\">\n",
       "      <th></th>\n",
       "      <th>count</th>\n",
       "      <th>median</th>\n",
       "    </tr>\n",
       "    <tr>\n",
       "      <th>locality_name</th>\n",
       "      <th></th>\n",
       "      <th></th>\n",
       "    </tr>\n",
       "  </thead>\n",
       "  <tbody>\n",
       "    <tr>\n",
       "      <th>Санкт-Петербург</th>\n",
       "      <td>15651</td>\n",
       "      <td>104774.0</td>\n",
       "    </tr>\n",
       "    <tr>\n",
       "      <th>Пушкин</th>\n",
       "      <td>369</td>\n",
       "      <td>100000.0</td>\n",
       "    </tr>\n",
       "    <tr>\n",
       "      <th>деревня Кудрово</th>\n",
       "      <td>299</td>\n",
       "      <td>91860.0</td>\n",
       "    </tr>\n",
       "    <tr>\n",
       "      <th>поселок Парголово</th>\n",
       "      <td>327</td>\n",
       "      <td>91642.0</td>\n",
       "    </tr>\n",
       "    <tr>\n",
       "      <th>поселок Мурино</th>\n",
       "      <td>552</td>\n",
       "      <td>86058.5</td>\n",
       "    </tr>\n",
       "    <tr>\n",
       "      <th>поселок Шушары</th>\n",
       "      <td>439</td>\n",
       "      <td>76829.0</td>\n",
       "    </tr>\n",
       "    <tr>\n",
       "      <th>Колпино</th>\n",
       "      <td>338</td>\n",
       "      <td>74723.5</td>\n",
       "    </tr>\n",
       "    <tr>\n",
       "      <th>Гатчина</th>\n",
       "      <td>307</td>\n",
       "      <td>67796.0</td>\n",
       "    </tr>\n",
       "    <tr>\n",
       "      <th>Всеволожск</th>\n",
       "      <td>398</td>\n",
       "      <td>65789.0</td>\n",
       "    </tr>\n",
       "    <tr>\n",
       "      <th>Выборг</th>\n",
       "      <td>237</td>\n",
       "      <td>58158.0</td>\n",
       "    </tr>\n",
       "  </tbody>\n",
       "</table>\n",
       "</div>"
      ],
      "text/plain": [
       "                   count    median\n",
       "locality_name                     \n",
       "Санкт-Петербург    15651  104774.0\n",
       "Пушкин               369  100000.0\n",
       "деревня Кудрово      299   91860.0\n",
       "поселок Парголово    327   91642.0\n",
       "поселок Мурино       552   86058.5\n",
       "поселок Шушары       439   76829.0\n",
       "Колпино              338   74723.5\n",
       "Гатчина              307   67796.0\n",
       "Всеволожск           398   65789.0\n",
       "Выборг               237   58158.0"
      ]
     },
     "execution_count": 65,
     "metadata": {},
     "output_type": "execute_result"
    }
   ],
   "source": [
    "locality_pivot_table = data.pivot_table(index = 'locality_name', values = 'price_per_square_meter', aggfunc=['count', 'median'])\n",
    "locality_pivot_table.columns = ['count', 'median']\n",
    "locality_pivot_table = locality_pivot_table.sort_values('count', ascending = False).head(10)\n",
    "\n",
    "locality_pivot_table.sort_values('median', ascending = False)"
   ]
  },
  {
   "cell_type": "markdown",
   "metadata": {},
   "source": [
    "Самая дорогая квартира из 10 населённых пунктов с самым большим количеством объявлений в Санкт-Петербурге, а самая дешевая квартира в Выборге с наименьшим количеством объявлений."
   ]
  },
  {
   "cell_type": "markdown",
   "metadata": {},
   "source": [
    "Мы посчитали расстояние до центра в километрах. Теперь выделим квартиры в Санкт-Петербурге с помощью столбца `locality_name` и вычислим среднюю цену каждого километра."
   ]
  },
  {
   "cell_type": "code",
   "execution_count": 66,
   "metadata": {},
   "outputs": [
    {
     "data": {
      "text/html": [
       "<div>\n",
       "<style scoped>\n",
       "    .dataframe tbody tr th:only-of-type {\n",
       "        vertical-align: middle;\n",
       "    }\n",
       "\n",
       "    .dataframe tbody tr th {\n",
       "        vertical-align: top;\n",
       "    }\n",
       "\n",
       "    .dataframe thead th {\n",
       "        text-align: right;\n",
       "    }\n",
       "</style>\n",
       "<table border=\"1\" class=\"dataframe\">\n",
       "  <thead>\n",
       "    <tr style=\"text-align: right;\">\n",
       "      <th></th>\n",
       "      <th>price_per_square_meter</th>\n",
       "    </tr>\n",
       "    <tr>\n",
       "      <th>cityCenters_nearest_km</th>\n",
       "      <th></th>\n",
       "    </tr>\n",
       "  </thead>\n",
       "  <tbody>\n",
       "    <tr>\n",
       "      <th>0</th>\n",
       "      <td>187323.674419</td>\n",
       "    </tr>\n",
       "    <tr>\n",
       "      <th>1</th>\n",
       "      <td>166603.312500</td>\n",
       "    </tr>\n",
       "    <tr>\n",
       "      <th>2</th>\n",
       "      <td>146662.420195</td>\n",
       "    </tr>\n",
       "    <tr>\n",
       "      <th>3</th>\n",
       "      <td>129526.480916</td>\n",
       "    </tr>\n",
       "    <tr>\n",
       "      <th>4</th>\n",
       "      <td>137412.971207</td>\n",
       "    </tr>\n",
       "    <tr>\n",
       "      <th>5</th>\n",
       "      <td>146977.869792</td>\n",
       "    </tr>\n",
       "    <tr>\n",
       "      <th>6</th>\n",
       "      <td>152277.455319</td>\n",
       "    </tr>\n",
       "    <tr>\n",
       "      <th>7</th>\n",
       "      <td>141399.287469</td>\n",
       "    </tr>\n",
       "    <tr>\n",
       "      <th>8</th>\n",
       "      <td>120538.701649</td>\n",
       "    </tr>\n",
       "    <tr>\n",
       "      <th>9</th>\n",
       "      <td>110027.380814</td>\n",
       "    </tr>\n",
       "    <tr>\n",
       "      <th>10</th>\n",
       "      <td>111489.727974</td>\n",
       "    </tr>\n",
       "    <tr>\n",
       "      <th>11</th>\n",
       "      <td>106617.914712</td>\n",
       "    </tr>\n",
       "    <tr>\n",
       "      <th>12</th>\n",
       "      <td>110129.877785</td>\n",
       "    </tr>\n",
       "    <tr>\n",
       "      <th>13</th>\n",
       "      <td>107140.412903</td>\n",
       "    </tr>\n",
       "    <tr>\n",
       "      <th>14</th>\n",
       "      <td>104979.087101</td>\n",
       "    </tr>\n",
       "    <tr>\n",
       "      <th>15</th>\n",
       "      <td>101859.372449</td>\n",
       "    </tr>\n",
       "    <tr>\n",
       "      <th>16</th>\n",
       "      <td>100082.875113</td>\n",
       "    </tr>\n",
       "    <tr>\n",
       "      <th>17</th>\n",
       "      <td>94665.973129</td>\n",
       "    </tr>\n",
       "    <tr>\n",
       "      <th>18</th>\n",
       "      <td>94814.537572</td>\n",
       "    </tr>\n",
       "    <tr>\n",
       "      <th>19</th>\n",
       "      <td>95433.951220</td>\n",
       "    </tr>\n",
       "    <tr>\n",
       "      <th>20</th>\n",
       "      <td>107045.773810</td>\n",
       "    </tr>\n",
       "    <tr>\n",
       "      <th>21</th>\n",
       "      <td>91492.220513</td>\n",
       "    </tr>\n",
       "    <tr>\n",
       "      <th>22</th>\n",
       "      <td>88714.237410</td>\n",
       "    </tr>\n",
       "    <tr>\n",
       "      <th>23</th>\n",
       "      <td>92720.233333</td>\n",
       "    </tr>\n",
       "    <tr>\n",
       "      <th>24</th>\n",
       "      <td>82439.909091</td>\n",
       "    </tr>\n",
       "    <tr>\n",
       "      <th>25</th>\n",
       "      <td>90436.553846</td>\n",
       "    </tr>\n",
       "    <tr>\n",
       "      <th>26</th>\n",
       "      <td>75171.333333</td>\n",
       "    </tr>\n",
       "    <tr>\n",
       "      <th>27</th>\n",
       "      <td>132115.000000</td>\n",
       "    </tr>\n",
       "    <tr>\n",
       "      <th>28</th>\n",
       "      <td>81840.200000</td>\n",
       "    </tr>\n",
       "    <tr>\n",
       "      <th>29</th>\n",
       "      <td>62481.666667</td>\n",
       "    </tr>\n",
       "  </tbody>\n",
       "</table>\n",
       "</div>"
      ],
      "text/plain": [
       "                        price_per_square_meter\n",
       "cityCenters_nearest_km                        \n",
       "0                                187323.674419\n",
       "1                                166603.312500\n",
       "2                                146662.420195\n",
       "3                                129526.480916\n",
       "4                                137412.971207\n",
       "5                                146977.869792\n",
       "6                                152277.455319\n",
       "7                                141399.287469\n",
       "8                                120538.701649\n",
       "9                                110027.380814\n",
       "10                               111489.727974\n",
       "11                               106617.914712\n",
       "12                               110129.877785\n",
       "13                               107140.412903\n",
       "14                               104979.087101\n",
       "15                               101859.372449\n",
       "16                               100082.875113\n",
       "17                                94665.973129\n",
       "18                                94814.537572\n",
       "19                                95433.951220\n",
       "20                               107045.773810\n",
       "21                                91492.220513\n",
       "22                                88714.237410\n",
       "23                                92720.233333\n",
       "24                                82439.909091\n",
       "25                                90436.553846\n",
       "26                                75171.333333\n",
       "27                               132115.000000\n",
       "28                                81840.200000\n",
       "29                                62481.666667"
      ]
     },
     "execution_count": 66,
     "metadata": {},
     "output_type": "execute_result"
    },
    {
     "data": {
      "image/png": "[encoded data removed]",
      "text/plain": [
       "<Figure size 432x288 with 1 Axes>"
      ]
     },
     "metadata": {
      "needs_background": "light"
     },
     "output_type": "display_data"
    }
   ],
   "source": [
    "data['cityCenters_nearest_km'] = data['cityCenters_nearest']/1000\n",
    "data['cityCenters_nearest_km'] = data['cityCenters_nearest_km'].fillna(999999)\n",
    "data['cityCenters_nearest_km'] = data['cityCenters_nearest_km'].astype('int')\n",
    "pivot_table_km = data.query('locality_name == \"Санкт-Петербург\" and cityCenters_nearest_km !=999999').pivot_table(index = 'cityCenters_nearest_km', values = 'price_per_square_meter', aggfunc = 'mean')\n",
    "pivot_table_km.plot(title = 'Средняя цена за км')\n",
    "pivot_table_km"
   ]
  },
  {
   "cell_type": "markdown",
   "metadata": {},
   "source": [
    "Как мы видим на графике, чем ближе к центру, тем дороже квартира. В центре города квартира стоит более 180 тыс за кв.м."
   ]
  },
  {
   "cell_type": "markdown",
   "metadata": {},
   "source": [
    "### Общий вывод"
   ]
  },
  {
   "cell_type": "markdown",
   "metadata": {},
   "source": [
    "Мы изучили файлы, обработали и заполнили пропущенные значения там, где возможно было. \n",
    "\n",
    "Также заменили типы данных на необходимые, для удобства в работе. \n",
    "\n",
    "Посчитали и добавили в таблицу цену одного кв.м., день публикации объявления, месяц публикации объявления, год публикации объявления, тип этажа, расстояние в км до центра города. \n",
    "\n",
    "Также изучили и описали интересующиеся нам параметры на наличие выбивающихся значений - площадь, цена, число комнат, высота потолков. \n",
    "\n",
    "Построили гистограммы. \n",
    "\n",
    "Изучая время продажи квартир мы выявили, что большое количество объявлений было автоматически снято и дату снятия нельзя считать датой продажи квартиры, поэтому, изучая средние сроки продажи квартир - данные значения не учитывались. \n",
    "\n",
    "Мы выявили при помощи диаграммы размаха, что нормальные значения продажи квартир варьируются от 1 до 600 дней. \n",
    "\n",
    "Мы построили графики, которые показали зависимость цены от общей и жилой площади, площади кухни, количества комнат, типа этажа и даты размещения в днях, месяцах и годах, и пришли к выводу, что зависимость от площади (общей, жилой, кухни) в целом низкая. \n",
    "\n",
    "Но мы выявили, что на стоимость квадратного метра квартиры больше всего влияют количество комнат, этаж квартиры. По типу этажа тоже есть зависимость, квартиры на первом и последнем этажах дешевле, чем на других этажах. Также на стоимость квадратного метра влияют день, месяц, год размещения. В будни дороже, в выходных дешевле, скорее всего связано из-за активности пользователей. По месяцам летом спрос низкий, в мае и осенью спрос выше. Нужно учитывать, что в 2016-2017 годах стоимость квартир в среднем по рынку была ниже на 10-20 %, тогда как в центре Санкт-Петербурга данной зависимости от года не обнаружено. В данном случае имело место постоянное удорожание стоимости, начиная с 2015 года по текущий момент.\n",
    "\n",
    "Также мы выявили, что на стоимость квадратного метра влияет и близость к центру. Чем ближе к центру, тем дороже стоимость квадратного метра. Судя, по резкости изменения цен в зависимости от удаления от центра Санкт-Петербурга, мы выявили центр города в радиусе 3 километров.\n",
    "\n",
    "Рассматривая среднюю стоимость квартир в 2014-2019 годах, мы смотрели средние показатели по рынку в целом, т.е. возможно, что цены на аналогичные квартиры в разных годах вели себя абсолютно по-разному. \n",
    "\n",
    "Когда средняя стоимость метра по рынку в 2016-2017 годах была наиболее низкой, какие-то аналогичные прошлым годам квартиры могли и не падать в цене, а наоборот дорожать. "
   ]
  },
  {
   "cell_type": "markdown",
   "metadata": {},
   "source": [
    "**Чек-лист готовности проекта**\n",
    "\n",
    "Поставьте 'x' в выполненных пунктах. Далее нажмите Shift+Enter."
   ]
  },
  {
   "cell_type": "markdown",
   "metadata": {},
   "source": [
    "- [x]  открыт файл\n",
    "- [x]  файлы изучены (выведены первые строки, метод `info()`, гистограммы и т.д.)\n",
    "- [x]  определены пропущенные значения\n",
    "- [x]  заполнены пропущенные значения там, где это возможно\n",
    "- [x]  есть пояснение, какие пропущенные значения обнаружены\n",
    "- [x]  изменены типы данных\n",
    "- [x]  есть пояснение, в каких столбцах изменены типы и почему\n",
    "- [x]  устранены неявные дубликаты в названиях населённых пунктов\n",
    "- [x]  устранены редкие и выбивающиеся значения (аномалии) во всех столбцах\n",
    "- [x]  посчитано и добавлено в таблицу: цена одного квадратного метра\n",
    "- [x]  посчитано и добавлено в таблицу: день публикации объявления (0 - понедельник, 1 - вторник и т.д.)\n",
    "- [x]  посчитано и добавлено в таблицу: месяц публикации объявления\n",
    "- [x]  посчитано и добавлено в таблицу: год публикации объявления\n",
    "- [x]  посчитано и добавлено в таблицу: тип этажа квартиры (значения — «первый», «последний», «другой»)\n",
    "- [x]  посчитано и добавлено в таблицу: расстояние в км до центра города\n",
    "- [x]  изучены и описаны следующие параметры:\n",
    "        - общая площадь;\n",
    "        - жилая площадь;\n",
    "        - площадь кухни;\n",
    "        - цена объекта;\n",
    "        - количество комнат;\n",
    "        - высота потолков;\n",
    "        - этаж квартиры;\n",
    "        - тип этажа квартиры («первый», «последний», «другой»);\n",
    "        - общее количество этажей в доме;\n",
    "        - расстояние до центра города в метрах;\n",
    "        - расстояние до ближайшего аэропорта;\n",
    "        - расстояние до ближайшего парка;\n",
    "        - день и месяц публикации объявления\n",
    "- [x]  построены гистограммы для каждого параметра\n",
    "- [x]  выполнено задание: \"Изучите, как быстро продавались квартиры (столбец days_exposition). Этот параметр показывает, сколько дней «висело» каждое объявление.\n",
    "    - Постройте гистограмму.\n",
    "    - Посчитайте среднее и медиану.\n",
    "    - В ячейке типа markdown опишите, сколько обычно занимает продажа. Какие продажи можно считать быстрыми, а какие — необычно долгими?\"\n",
    "- [x]  выполнено задание: \"Какие факторы больше всего влияют на общую (полную) стоимость объекта? Постройте графики, которые покажут зависимость цены от указанных ниже параметров. Для подготовки данных перед визуализацией вы можете использовать сводные таблицы.\"\n",
    "        - общей площади;\n",
    "        - жилой площади;\n",
    "        - площади кухни;\n",
    "        - количество комнат;\n",
    "        - типа этажа, на котором расположена квартира (первый, последний, другой);\n",
    "        - даты размещения (день недели, месяц, год);\n",
    "- [x]  выполнено задание: \"Посчитайте среднюю цену одного квадратного метра в 10 населённых пунктах с наибольшим числом объявлений. Выделите населённые пункты с самой высокой и низкой стоимостью квадратного метра. Эти данные можно найти по имени в столбце `locality_name`.\"\n",
    "- [x]  выполнено задание: \"Ранее вы посчитали расстояние до центра в километрах. Теперь выделите квартиры в Санкт-Петербурге с помощью столбца `locality_name` и вычислите среднюю цену каждого километра. Опишите, как стоимость объектов зависит от расстояния до центра города.\"\n",
    "- [x]  в каждом этапе есть промежуточные выводы\n",
    "- [x]  есть общий вывод"
   ]
  }
 ],
 "metadata": {
  "ExecuteTimeLog": [
   {
    "duration": 514,
    "start_time": "2022-08-10T19:27:24.245Z"
   },
   {
    "duration": 75,
    "start_time": "2022-08-10T19:27:28.337Z"
   },
   {
    "duration": 79,
    "start_time": "2022-08-10T19:27:58.869Z"
   },
   {
    "duration": 460,
    "start_time": "2022-08-10T19:28:11.237Z"
   },
   {
    "duration": 70,
    "start_time": "2022-08-10T19:28:47.837Z"
   },
   {
    "duration": 87,
    "start_time": "2022-08-10T19:28:58.048Z"
   },
   {
    "duration": 83,
    "start_time": "2022-08-10T19:29:08.897Z"
   },
   {
    "duration": 98,
    "start_time": "2022-08-10T19:29:22.438Z"
   },
   {
    "duration": 120,
    "start_time": "2022-08-10T19:29:30.667Z"
   },
   {
    "duration": 2153,
    "start_time": "2022-08-10T19:29:50.284Z"
   },
   {
    "duration": 1744,
    "start_time": "2022-08-10T19:29:59.233Z"
   },
   {
    "duration": 1862,
    "start_time": "2022-08-10T19:30:19.836Z"
   },
   {
    "duration": 139,
    "start_time": "2022-08-10T19:31:05.529Z"
   },
   {
    "duration": 1733,
    "start_time": "2022-08-10T19:31:10.931Z"
   },
   {
    "duration": 89,
    "start_time": "2022-08-10T19:36:45.692Z"
   },
   {
    "duration": 13,
    "start_time": "2022-08-10T19:37:02.534Z"
   },
   {
    "duration": 39,
    "start_time": "2022-08-10T19:37:11.692Z"
   },
   {
    "duration": 6,
    "start_time": "2022-08-10T19:38:01.430Z"
   },
   {
    "duration": 15,
    "start_time": "2022-08-10T19:38:42.158Z"
   },
   {
    "duration": 134,
    "start_time": "2022-08-10T19:38:49.667Z"
   },
   {
    "duration": 24,
    "start_time": "2022-08-10T19:39:20.901Z"
   },
   {
    "duration": 13,
    "start_time": "2022-08-10T19:39:34.728Z"
   },
   {
    "duration": 29,
    "start_time": "2022-08-10T19:39:41.832Z"
   },
   {
    "duration": 1176,
    "start_time": "2022-08-10T19:39:55.641Z"
   },
   {
    "duration": 14,
    "start_time": "2022-08-10T19:40:02.374Z"
   },
   {
    "duration": 24,
    "start_time": "2022-08-10T19:40:07.656Z"
   },
   {
    "duration": 23,
    "start_time": "2022-08-10T19:40:12.739Z"
   },
   {
    "duration": 22,
    "start_time": "2022-08-10T19:40:32.459Z"
   },
   {
    "duration": 17,
    "start_time": "2022-08-10T19:40:59.192Z"
   },
   {
    "duration": 24,
    "start_time": "2022-08-10T19:41:05.634Z"
   },
   {
    "duration": 104,
    "start_time": "2022-08-10T19:41:38.442Z"
   },
   {
    "duration": 36,
    "start_time": "2022-08-10T19:41:46.360Z"
   },
   {
    "duration": 34,
    "start_time": "2022-08-10T19:41:54.301Z"
   },
   {
    "duration": 32,
    "start_time": "2022-08-10T19:41:58.938Z"
   },
   {
    "duration": 37,
    "start_time": "2022-08-10T19:42:08.639Z"
   },
   {
    "duration": 20,
    "start_time": "2022-08-10T19:42:34.248Z"
   },
   {
    "duration": 35,
    "start_time": "2022-08-10T19:42:46.168Z"
   },
   {
    "duration": 34,
    "start_time": "2022-08-10T19:43:02.088Z"
   },
   {
    "duration": 22,
    "start_time": "2022-08-10T19:44:11.498Z"
   },
   {
    "duration": 44,
    "start_time": "2022-08-10T19:45:07.284Z"
   },
   {
    "duration": 35,
    "start_time": "2022-08-10T19:46:06.462Z"
   },
   {
    "duration": 57,
    "start_time": "2022-08-10T19:46:39.163Z"
   },
   {
    "duration": 35,
    "start_time": "2022-08-10T19:50:22.863Z"
   },
   {
    "duration": 7,
    "start_time": "2022-08-10T19:50:26.159Z"
   },
   {
    "duration": 14,
    "start_time": "2022-08-10T19:50:27.672Z"
   },
   {
    "duration": 39,
    "start_time": "2022-08-10T19:50:38.234Z"
   },
   {
    "duration": 4,
    "start_time": "2022-08-10T19:51:40.241Z"
   },
   {
    "duration": 39,
    "start_time": "2022-08-10T19:51:42.982Z"
   },
   {
    "duration": 33,
    "start_time": "2022-08-10T19:57:27.575Z"
   },
   {
    "duration": 13,
    "start_time": "2022-08-10T20:08:30.150Z"
   },
   {
    "duration": 13,
    "start_time": "2022-08-10T20:08:46.426Z"
   },
   {
    "duration": 13,
    "start_time": "2022-08-10T20:09:39.456Z"
   },
   {
    "duration": 14,
    "start_time": "2022-08-10T20:10:16.685Z"
   },
   {
    "duration": 12,
    "start_time": "2022-08-10T20:10:25.611Z"
   },
   {
    "duration": 13,
    "start_time": "2022-08-10T20:11:59.004Z"
   },
   {
    "duration": 33,
    "start_time": "2022-08-10T20:15:41.485Z"
   },
   {
    "duration": 31,
    "start_time": "2022-08-10T20:16:50.281Z"
   },
   {
    "duration": 31,
    "start_time": "2022-08-10T20:18:30.714Z"
   },
   {
    "duration": 43,
    "start_time": "2022-08-10T20:19:23.124Z"
   },
   {
    "duration": 30,
    "start_time": "2022-08-10T20:21:11.461Z"
   },
   {
    "duration": 35,
    "start_time": "2022-08-10T20:22:55.275Z"
   },
   {
    "duration": 40,
    "start_time": "2022-08-10T20:23:24.636Z"
   },
   {
    "duration": 563,
    "start_time": "2022-08-10T20:59:47.460Z"
   },
   {
    "duration": 19,
    "start_time": "2022-08-10T20:59:48.025Z"
   },
   {
    "duration": 73,
    "start_time": "2022-08-10T20:59:48.046Z"
   },
   {
    "duration": 15,
    "start_time": "2022-08-10T20:59:48.121Z"
   },
   {
    "duration": 108,
    "start_time": "2022-08-10T20:59:48.138Z"
   },
   {
    "duration": 0,
    "start_time": "2022-08-10T20:59:48.250Z"
   },
   {
    "duration": 0,
    "start_time": "2022-08-10T20:59:48.252Z"
   },
   {
    "duration": 0,
    "start_time": "2022-08-10T20:59:48.254Z"
   },
   {
    "duration": 0,
    "start_time": "2022-08-10T20:59:48.255Z"
   },
   {
    "duration": 0,
    "start_time": "2022-08-10T20:59:48.257Z"
   },
   {
    "duration": 0,
    "start_time": "2022-08-10T20:59:48.258Z"
   },
   {
    "duration": 0,
    "start_time": "2022-08-10T20:59:48.260Z"
   },
   {
    "duration": 0,
    "start_time": "2022-08-10T20:59:48.262Z"
   },
   {
    "duration": 0,
    "start_time": "2022-08-10T20:59:48.264Z"
   },
   {
    "duration": 0,
    "start_time": "2022-08-10T20:59:48.265Z"
   },
   {
    "duration": 0,
    "start_time": "2022-08-10T20:59:48.267Z"
   },
   {
    "duration": 0,
    "start_time": "2022-08-10T20:59:48.268Z"
   },
   {
    "duration": 0,
    "start_time": "2022-08-10T20:59:48.270Z"
   },
   {
    "duration": 0,
    "start_time": "2022-08-10T20:59:48.271Z"
   },
   {
    "duration": 0,
    "start_time": "2022-08-10T20:59:48.273Z"
   },
   {
    "duration": 0,
    "start_time": "2022-08-10T20:59:48.274Z"
   },
   {
    "duration": 0,
    "start_time": "2022-08-10T20:59:48.275Z"
   },
   {
    "duration": 0,
    "start_time": "2022-08-10T20:59:48.276Z"
   },
   {
    "duration": 0,
    "start_time": "2022-08-10T20:59:48.277Z"
   },
   {
    "duration": 0,
    "start_time": "2022-08-10T20:59:48.278Z"
   },
   {
    "duration": 0,
    "start_time": "2022-08-10T20:59:48.279Z"
   },
   {
    "duration": 0,
    "start_time": "2022-08-10T20:59:48.280Z"
   },
   {
    "duration": 0,
    "start_time": "2022-08-10T20:59:48.281Z"
   },
   {
    "duration": 0,
    "start_time": "2022-08-10T20:59:48.281Z"
   },
   {
    "duration": 0,
    "start_time": "2022-08-10T20:59:48.282Z"
   },
   {
    "duration": 539,
    "start_time": "2022-08-10T21:00:18.286Z"
   },
   {
    "duration": 16,
    "start_time": "2022-08-10T21:00:18.827Z"
   },
   {
    "duration": 65,
    "start_time": "2022-08-10T21:00:18.845Z"
   },
   {
    "duration": 14,
    "start_time": "2022-08-10T21:00:18.912Z"
   },
   {
    "duration": 46,
    "start_time": "2022-08-10T21:00:18.927Z"
   },
   {
    "duration": 34,
    "start_time": "2022-08-10T21:00:18.975Z"
   },
   {
    "duration": 46,
    "start_time": "2022-08-10T21:00:19.011Z"
   },
   {
    "duration": 43,
    "start_time": "2022-08-10T21:00:19.059Z"
   },
   {
    "duration": 39,
    "start_time": "2022-08-10T21:00:19.104Z"
   },
   {
    "duration": 178,
    "start_time": "2022-08-10T21:00:19.146Z"
   },
   {
    "duration": 0,
    "start_time": "2022-08-10T21:00:19.326Z"
   },
   {
    "duration": 0,
    "start_time": "2022-08-10T21:00:19.328Z"
   },
   {
    "duration": 0,
    "start_time": "2022-08-10T21:00:19.329Z"
   },
   {
    "duration": 0,
    "start_time": "2022-08-10T21:00:19.331Z"
   },
   {
    "duration": 0,
    "start_time": "2022-08-10T21:00:19.332Z"
   },
   {
    "duration": 0,
    "start_time": "2022-08-10T21:00:19.334Z"
   },
   {
    "duration": 0,
    "start_time": "2022-08-10T21:00:19.336Z"
   },
   {
    "duration": 0,
    "start_time": "2022-08-10T21:00:19.338Z"
   },
   {
    "duration": 0,
    "start_time": "2022-08-10T21:00:19.339Z"
   },
   {
    "duration": 0,
    "start_time": "2022-08-10T21:00:19.340Z"
   },
   {
    "duration": 0,
    "start_time": "2022-08-10T21:00:19.341Z"
   },
   {
    "duration": 1,
    "start_time": "2022-08-10T21:00:19.342Z"
   },
   {
    "duration": 0,
    "start_time": "2022-08-10T21:00:19.344Z"
   },
   {
    "duration": 0,
    "start_time": "2022-08-10T21:00:19.346Z"
   },
   {
    "duration": 0,
    "start_time": "2022-08-10T21:00:19.347Z"
   },
   {
    "duration": 0,
    "start_time": "2022-08-10T21:00:19.348Z"
   },
   {
    "duration": 0,
    "start_time": "2022-08-10T21:00:19.349Z"
   },
   {
    "duration": 0,
    "start_time": "2022-08-10T21:00:19.350Z"
   },
   {
    "duration": 0,
    "start_time": "2022-08-10T21:00:19.351Z"
   },
   {
    "duration": 543,
    "start_time": "2022-08-10T21:02:05.294Z"
   },
   {
    "duration": 16,
    "start_time": "2022-08-10T21:02:05.840Z"
   },
   {
    "duration": 82,
    "start_time": "2022-08-10T21:02:05.858Z"
   },
   {
    "duration": 15,
    "start_time": "2022-08-10T21:02:05.942Z"
   },
   {
    "duration": 33,
    "start_time": "2022-08-10T21:02:05.960Z"
   },
   {
    "duration": 23,
    "start_time": "2022-08-10T21:02:05.995Z"
   },
   {
    "duration": 55,
    "start_time": "2022-08-10T21:02:06.019Z"
   },
   {
    "duration": 44,
    "start_time": "2022-08-10T21:02:06.076Z"
   },
   {
    "duration": 40,
    "start_time": "2022-08-10T21:02:06.121Z"
   },
   {
    "duration": 31,
    "start_time": "2022-08-10T21:02:06.163Z"
   },
   {
    "duration": 77,
    "start_time": "2022-08-10T21:02:06.196Z"
   },
   {
    "duration": 42,
    "start_time": "2022-08-10T21:02:06.275Z"
   },
   {
    "duration": 49,
    "start_time": "2022-08-10T21:02:06.319Z"
   },
   {
    "duration": 82,
    "start_time": "2022-08-10T21:02:06.371Z"
   },
   {
    "duration": 48,
    "start_time": "2022-08-10T21:02:06.455Z"
   },
   {
    "duration": 37,
    "start_time": "2022-08-10T21:02:06.504Z"
   },
   {
    "duration": 59,
    "start_time": "2022-08-10T21:02:06.543Z"
   },
   {
    "duration": 49,
    "start_time": "2022-08-10T21:02:06.604Z"
   },
   {
    "duration": 55,
    "start_time": "2022-08-10T21:02:06.655Z"
   },
   {
    "duration": 46,
    "start_time": "2022-08-10T21:02:06.712Z"
   },
   {
    "duration": 60,
    "start_time": "2022-08-10T21:02:06.760Z"
   },
   {
    "duration": 7,
    "start_time": "2022-08-10T21:02:06.822Z"
   },
   {
    "duration": 81,
    "start_time": "2022-08-10T21:02:06.831Z"
   },
   {
    "duration": 65,
    "start_time": "2022-08-11T06:42:25.115Z"
   },
   {
    "duration": 676,
    "start_time": "2022-08-11T06:42:39.835Z"
   },
   {
    "duration": 15,
    "start_time": "2022-08-11T06:42:40.514Z"
   },
   {
    "duration": 469,
    "start_time": "2022-08-11T06:42:40.531Z"
   },
   {
    "duration": 57,
    "start_time": "2022-08-11T06:42:41.002Z"
   },
   {
    "duration": 13,
    "start_time": "2022-08-11T06:42:41.060Z"
   },
   {
    "duration": 39,
    "start_time": "2022-08-11T06:42:41.075Z"
   },
   {
    "duration": 19,
    "start_time": "2022-08-11T06:42:41.116Z"
   },
   {
    "duration": 39,
    "start_time": "2022-08-11T06:42:41.137Z"
   },
   {
    "duration": 61,
    "start_time": "2022-08-11T06:42:41.178Z"
   },
   {
    "duration": 33,
    "start_time": "2022-08-11T06:42:41.242Z"
   },
   {
    "duration": 40,
    "start_time": "2022-08-11T06:42:41.276Z"
   },
   {
    "duration": 47,
    "start_time": "2022-08-11T06:42:41.318Z"
   },
   {
    "duration": 57,
    "start_time": "2022-08-11T06:42:41.367Z"
   },
   {
    "duration": 38,
    "start_time": "2022-08-11T06:42:41.425Z"
   },
   {
    "duration": 84,
    "start_time": "2022-08-11T06:42:41.465Z"
   },
   {
    "duration": 31,
    "start_time": "2022-08-11T06:42:41.550Z"
   },
   {
    "duration": 50,
    "start_time": "2022-08-11T06:42:41.583Z"
   },
   {
    "duration": 29,
    "start_time": "2022-08-11T06:42:41.635Z"
   },
   {
    "duration": 68,
    "start_time": "2022-08-11T06:42:41.666Z"
   },
   {
    "duration": 30,
    "start_time": "2022-08-11T06:42:41.736Z"
   },
   {
    "duration": 61,
    "start_time": "2022-08-11T06:42:41.768Z"
   },
   {
    "duration": 33,
    "start_time": "2022-08-11T06:42:41.830Z"
   },
   {
    "duration": 8,
    "start_time": "2022-08-11T06:42:41.865Z"
   },
   {
    "duration": 77,
    "start_time": "2022-08-11T06:42:41.874Z"
   },
   {
    "duration": 15,
    "start_time": "2022-08-11T06:46:16.435Z"
   },
   {
    "duration": 1009,
    "start_time": "2022-08-11T06:53:15.571Z"
   },
   {
    "duration": 1632,
    "start_time": "2022-08-11T06:53:36.163Z"
   },
   {
    "duration": 484,
    "start_time": "2022-08-11T07:09:30.625Z"
   },
   {
    "duration": 16,
    "start_time": "2022-08-11T07:09:31.111Z"
   },
   {
    "duration": 49,
    "start_time": "2022-08-11T07:09:31.128Z"
   },
   {
    "duration": 33,
    "start_time": "2022-08-11T07:09:31.179Z"
   },
   {
    "duration": 21,
    "start_time": "2022-08-11T07:09:31.214Z"
   },
   {
    "duration": 19,
    "start_time": "2022-08-11T07:09:31.237Z"
   },
   {
    "duration": 276,
    "start_time": "2022-08-11T07:09:31.257Z"
   },
   {
    "duration": 39,
    "start_time": "2022-08-11T07:09:31.535Z"
   },
   {
    "duration": 48,
    "start_time": "2022-08-11T07:09:31.576Z"
   },
   {
    "duration": 33,
    "start_time": "2022-08-11T07:09:31.626Z"
   },
   {
    "duration": 13,
    "start_time": "2022-08-11T07:09:31.660Z"
   },
   {
    "duration": 119,
    "start_time": "2022-08-11T07:09:31.675Z"
   },
   {
    "duration": 33,
    "start_time": "2022-08-11T07:09:31.795Z"
   },
   {
    "duration": 42,
    "start_time": "2022-08-11T07:09:31.829Z"
   },
   {
    "duration": 59,
    "start_time": "2022-08-11T07:09:31.873Z"
   },
   {
    "duration": 33,
    "start_time": "2022-08-11T07:09:31.933Z"
   },
   {
    "duration": 58,
    "start_time": "2022-08-11T07:09:31.967Z"
   },
   {
    "duration": 31,
    "start_time": "2022-08-11T07:09:32.026Z"
   },
   {
    "duration": 68,
    "start_time": "2022-08-11T07:09:32.059Z"
   },
   {
    "duration": 32,
    "start_time": "2022-08-11T07:09:32.129Z"
   },
   {
    "duration": 78,
    "start_time": "2022-08-11T07:09:32.163Z"
   },
   {
    "duration": 69,
    "start_time": "2022-08-11T07:09:32.242Z"
   },
   {
    "duration": 1942,
    "start_time": "2022-08-11T07:09:32.313Z"
   },
   {
    "duration": 8,
    "start_time": "2022-08-11T07:09:34.257Z"
   },
   {
    "duration": 44,
    "start_time": "2022-08-11T07:09:34.267Z"
   },
   {
    "duration": 525,
    "start_time": "2022-08-11T13:25:22.572Z"
   },
   {
    "duration": 16,
    "start_time": "2022-08-11T13:25:23.099Z"
   },
   {
    "duration": 54,
    "start_time": "2022-08-11T13:25:23.116Z"
   },
   {
    "duration": 30,
    "start_time": "2022-08-11T13:25:23.173Z"
   },
   {
    "duration": 16,
    "start_time": "2022-08-11T13:25:23.206Z"
   },
   {
    "duration": 15,
    "start_time": "2022-08-11T13:25:23.223Z"
   },
   {
    "duration": 348,
    "start_time": "2022-08-11T13:25:23.241Z"
   },
   {
    "duration": 52,
    "start_time": "2022-08-11T13:25:23.591Z"
   },
   {
    "duration": 40,
    "start_time": "2022-08-11T13:25:23.645Z"
   },
   {
    "duration": 39,
    "start_time": "2022-08-11T13:25:23.704Z"
   },
   {
    "duration": 15,
    "start_time": "2022-08-11T13:25:23.745Z"
   },
   {
    "duration": 76,
    "start_time": "2022-08-11T13:25:23.762Z"
   },
   {
    "duration": 39,
    "start_time": "2022-08-11T13:25:23.840Z"
   },
   {
    "duration": 57,
    "start_time": "2022-08-11T13:25:23.881Z"
   },
   {
    "duration": 77,
    "start_time": "2022-08-11T13:25:23.940Z"
   },
   {
    "duration": 39,
    "start_time": "2022-08-11T13:25:24.018Z"
   },
   {
    "duration": 62,
    "start_time": "2022-08-11T13:25:24.059Z"
   },
   {
    "duration": 38,
    "start_time": "2022-08-11T13:25:24.123Z"
   },
   {
    "duration": 71,
    "start_time": "2022-08-11T13:25:24.163Z"
   },
   {
    "duration": 37,
    "start_time": "2022-08-11T13:25:24.236Z"
   },
   {
    "duration": 68,
    "start_time": "2022-08-11T13:25:24.275Z"
   },
   {
    "duration": 42,
    "start_time": "2022-08-11T13:25:24.345Z"
   },
   {
    "duration": 2136,
    "start_time": "2022-08-11T13:25:24.388Z"
   },
   {
    "duration": 8,
    "start_time": "2022-08-11T13:25:26.526Z"
   },
   {
    "duration": 68,
    "start_time": "2022-08-11T13:25:26.536Z"
   },
   {
    "duration": 734,
    "start_time": "2022-08-11T14:16:43.636Z"
   },
   {
    "duration": 19,
    "start_time": "2022-08-11T14:16:44.372Z"
   },
   {
    "duration": 63,
    "start_time": "2022-08-11T14:16:44.393Z"
   },
   {
    "duration": 14,
    "start_time": "2022-08-11T14:16:44.459Z"
   },
   {
    "duration": 34,
    "start_time": "2022-08-11T14:16:44.475Z"
   },
   {
    "duration": 18,
    "start_time": "2022-08-11T14:16:44.510Z"
   },
   {
    "duration": 523,
    "start_time": "2022-08-11T14:16:44.531Z"
   },
   {
    "duration": 53,
    "start_time": "2022-08-11T14:16:45.056Z"
   },
   {
    "duration": 34,
    "start_time": "2022-08-11T14:16:45.111Z"
   },
   {
    "duration": 37,
    "start_time": "2022-08-11T14:16:45.148Z"
   },
   {
    "duration": 33,
    "start_time": "2022-08-11T14:16:45.187Z"
   },
   {
    "duration": 53,
    "start_time": "2022-08-11T14:16:45.222Z"
   },
   {
    "duration": 50,
    "start_time": "2022-08-11T14:16:45.277Z"
   },
   {
    "duration": 44,
    "start_time": "2022-08-11T14:16:45.329Z"
   },
   {
    "duration": 83,
    "start_time": "2022-08-11T14:16:45.374Z"
   },
   {
    "duration": 32,
    "start_time": "2022-08-11T14:16:45.459Z"
   },
   {
    "duration": 44,
    "start_time": "2022-08-11T14:16:45.493Z"
   },
   {
    "duration": 31,
    "start_time": "2022-08-11T14:16:45.539Z"
   },
   {
    "duration": 64,
    "start_time": "2022-08-11T14:16:45.572Z"
   },
   {
    "duration": 31,
    "start_time": "2022-08-11T14:16:45.637Z"
   },
   {
    "duration": 61,
    "start_time": "2022-08-11T14:16:45.670Z"
   },
   {
    "duration": 34,
    "start_time": "2022-08-11T14:16:45.732Z"
   },
   {
    "duration": 1914,
    "start_time": "2022-08-11T14:16:45.767Z"
   },
   {
    "duration": 9,
    "start_time": "2022-08-11T14:16:47.683Z"
   },
   {
    "duration": 49,
    "start_time": "2022-08-11T14:16:47.693Z"
   },
   {
    "duration": 95,
    "start_time": "2022-08-11T14:16:47.744Z"
   },
   {
    "duration": 1196,
    "start_time": "2022-08-11T14:17:58.677Z"
   },
   {
    "duration": 1042,
    "start_time": "2022-08-11T14:18:36.073Z"
   },
   {
    "duration": 893,
    "start_time": "2022-08-11T14:19:17.488Z"
   },
   {
    "duration": 1322,
    "start_time": "2022-08-11T14:19:31.443Z"
   },
   {
    "duration": 1471,
    "start_time": "2022-08-11T14:25:13.750Z"
   },
   {
    "duration": 490,
    "start_time": "2022-08-11T14:25:19.336Z"
   },
   {
    "duration": 16,
    "start_time": "2022-08-11T14:25:19.828Z"
   },
   {
    "duration": 46,
    "start_time": "2022-08-11T14:25:19.845Z"
   },
   {
    "duration": 14,
    "start_time": "2022-08-11T14:25:19.910Z"
   },
   {
    "duration": 13,
    "start_time": "2022-08-11T14:25:19.925Z"
   },
   {
    "duration": 12,
    "start_time": "2022-08-11T14:25:19.939Z"
   },
   {
    "duration": 329,
    "start_time": "2022-08-11T14:25:19.953Z"
   },
   {
    "duration": 49,
    "start_time": "2022-08-11T14:25:20.284Z"
   },
   {
    "duration": 34,
    "start_time": "2022-08-11T14:25:20.334Z"
   },
   {
    "duration": 58,
    "start_time": "2022-08-11T14:25:20.370Z"
   },
   {
    "duration": 11,
    "start_time": "2022-08-11T14:25:20.429Z"
   },
   {
    "duration": 52,
    "start_time": "2022-08-11T14:25:20.443Z"
   },
   {
    "duration": 46,
    "start_time": "2022-08-11T14:25:20.496Z"
   },
   {
    "duration": 41,
    "start_time": "2022-08-11T14:25:20.543Z"
   },
   {
    "duration": 83,
    "start_time": "2022-08-11T14:25:20.585Z"
   },
   {
    "duration": 47,
    "start_time": "2022-08-11T14:25:20.670Z"
   },
   {
    "duration": 32,
    "start_time": "2022-08-11T14:25:20.719Z"
   },
   {
    "duration": 33,
    "start_time": "2022-08-11T14:25:20.752Z"
   },
   {
    "duration": 42,
    "start_time": "2022-08-11T14:25:20.810Z"
   },
   {
    "duration": 32,
    "start_time": "2022-08-11T14:25:20.854Z"
   },
   {
    "duration": 54,
    "start_time": "2022-08-11T14:25:20.888Z"
   },
   {
    "duration": 34,
    "start_time": "2022-08-11T14:25:20.943Z"
   },
   {
    "duration": 1976,
    "start_time": "2022-08-11T14:25:20.978Z"
   },
   {
    "duration": 9,
    "start_time": "2022-08-11T14:25:22.955Z"
   },
   {
    "duration": 48,
    "start_time": "2022-08-11T14:25:22.965Z"
   },
   {
    "duration": 1265,
    "start_time": "2022-08-11T14:25:23.014Z"
   },
   {
    "duration": 1475,
    "start_time": "2022-08-11T14:25:24.281Z"
   },
   {
    "duration": 1232,
    "start_time": "2022-08-11T14:28:01.812Z"
   },
   {
    "duration": 1346,
    "start_time": "2022-08-11T14:28:10.366Z"
   },
   {
    "duration": 510,
    "start_time": "2022-08-11T14:28:21.199Z"
   },
   {
    "duration": 18,
    "start_time": "2022-08-11T14:28:21.712Z"
   },
   {
    "duration": 48,
    "start_time": "2022-08-11T14:28:21.731Z"
   },
   {
    "duration": 34,
    "start_time": "2022-08-11T14:28:21.781Z"
   },
   {
    "duration": 13,
    "start_time": "2022-08-11T14:28:21.816Z"
   },
   {
    "duration": 12,
    "start_time": "2022-08-11T14:28:21.831Z"
   },
   {
    "duration": 277,
    "start_time": "2022-08-11T14:28:21.845Z"
   },
   {
    "duration": 39,
    "start_time": "2022-08-11T14:28:22.123Z"
   },
   {
    "duration": 44,
    "start_time": "2022-08-11T14:28:22.163Z"
   },
   {
    "duration": 35,
    "start_time": "2022-08-11T14:28:22.209Z"
   },
   {
    "duration": 12,
    "start_time": "2022-08-11T14:28:22.246Z"
   },
   {
    "duration": 71,
    "start_time": "2022-08-11T14:28:22.260Z"
   },
   {
    "duration": 39,
    "start_time": "2022-08-11T14:28:22.333Z"
   },
   {
    "duration": 60,
    "start_time": "2022-08-11T14:28:22.373Z"
   },
   {
    "duration": 76,
    "start_time": "2022-08-11T14:28:22.435Z"
   },
   {
    "duration": 33,
    "start_time": "2022-08-11T14:28:22.513Z"
   },
   {
    "duration": 33,
    "start_time": "2022-08-11T14:28:22.548Z"
   },
   {
    "duration": 49,
    "start_time": "2022-08-11T14:28:22.583Z"
   },
   {
    "duration": 43,
    "start_time": "2022-08-11T14:28:22.634Z"
   },
   {
    "duration": 44,
    "start_time": "2022-08-11T14:28:22.678Z"
   },
   {
    "duration": 47,
    "start_time": "2022-08-11T14:28:22.724Z"
   },
   {
    "duration": 60,
    "start_time": "2022-08-11T14:28:22.773Z"
   },
   {
    "duration": 1914,
    "start_time": "2022-08-11T14:28:22.835Z"
   },
   {
    "duration": 8,
    "start_time": "2022-08-11T14:28:24.751Z"
   },
   {
    "duration": 51,
    "start_time": "2022-08-11T14:28:24.760Z"
   },
   {
    "duration": 1315,
    "start_time": "2022-08-11T14:28:24.813Z"
   },
   {
    "duration": 1375,
    "start_time": "2022-08-11T14:28:26.129Z"
   },
   {
    "duration": 10,
    "start_time": "2022-08-11T14:30:12.877Z"
   },
   {
    "duration": 11,
    "start_time": "2022-08-11T14:33:55.043Z"
   },
   {
    "duration": 28,
    "start_time": "2022-08-11T14:34:29.384Z"
   },
   {
    "duration": 16,
    "start_time": "2022-08-11T14:37:02.947Z"
   },
   {
    "duration": 13,
    "start_time": "2022-08-11T14:37:35.717Z"
   },
   {
    "duration": 15,
    "start_time": "2022-08-11T14:37:44.112Z"
   },
   {
    "duration": 6,
    "start_time": "2022-08-11T14:38:32.439Z"
   },
   {
    "duration": 6,
    "start_time": "2022-08-11T14:38:51.400Z"
   },
   {
    "duration": 6,
    "start_time": "2022-08-11T14:38:56.709Z"
   },
   {
    "duration": 6,
    "start_time": "2022-08-11T14:39:17.608Z"
   },
   {
    "duration": 5,
    "start_time": "2022-08-11T14:39:22.726Z"
   },
   {
    "duration": 5,
    "start_time": "2022-08-11T14:39:26.356Z"
   },
   {
    "duration": 6,
    "start_time": "2022-08-11T14:39:30.202Z"
   },
   {
    "duration": 5,
    "start_time": "2022-08-11T14:39:33.156Z"
   },
   {
    "duration": 5,
    "start_time": "2022-08-11T14:46:54.834Z"
   },
   {
    "duration": 6,
    "start_time": "2022-08-11T14:47:10.727Z"
   },
   {
    "duration": 83,
    "start_time": "2022-08-11T14:50:06.867Z"
   },
   {
    "duration": 3,
    "start_time": "2022-08-11T14:50:12.217Z"
   },
   {
    "duration": 7,
    "start_time": "2022-08-11T14:51:56.610Z"
   },
   {
    "duration": 10,
    "start_time": "2022-08-11T14:53:00.916Z"
   },
   {
    "duration": 478,
    "start_time": "2022-08-11T14:57:00.142Z"
   },
   {
    "duration": 14,
    "start_time": "2022-08-11T14:57:00.622Z"
   },
   {
    "duration": 53,
    "start_time": "2022-08-11T14:57:00.638Z"
   },
   {
    "duration": 16,
    "start_time": "2022-08-11T14:57:00.699Z"
   },
   {
    "duration": 45,
    "start_time": "2022-08-11T14:57:00.717Z"
   },
   {
    "duration": 30,
    "start_time": "2022-08-11T14:57:00.763Z"
   },
   {
    "duration": 286,
    "start_time": "2022-08-11T14:57:00.795Z"
   },
   {
    "duration": 47,
    "start_time": "2022-08-11T14:57:01.082Z"
   },
   {
    "duration": 33,
    "start_time": "2022-08-11T14:57:01.131Z"
   },
   {
    "duration": 56,
    "start_time": "2022-08-11T14:57:01.167Z"
   },
   {
    "duration": 13,
    "start_time": "2022-08-11T14:57:01.224Z"
   },
   {
    "duration": 59,
    "start_time": "2022-08-11T14:57:01.239Z"
   },
   {
    "duration": 36,
    "start_time": "2022-08-11T14:57:01.300Z"
   },
   {
    "duration": 39,
    "start_time": "2022-08-11T14:57:01.337Z"
   },
   {
    "duration": 85,
    "start_time": "2022-08-11T14:57:01.377Z"
   },
   {
    "duration": 52,
    "start_time": "2022-08-11T14:57:01.463Z"
   },
   {
    "duration": 31,
    "start_time": "2022-08-11T14:57:01.516Z"
   },
   {
    "duration": 31,
    "start_time": "2022-08-11T14:57:01.549Z"
   },
   {
    "duration": 61,
    "start_time": "2022-08-11T14:57:01.581Z"
   },
   {
    "duration": 31,
    "start_time": "2022-08-11T14:57:01.643Z"
   },
   {
    "duration": 65,
    "start_time": "2022-08-11T14:57:01.676Z"
   },
   {
    "duration": 33,
    "start_time": "2022-08-11T14:57:01.742Z"
   },
   {
    "duration": 1952,
    "start_time": "2022-08-11T14:57:01.777Z"
   },
   {
    "duration": 8,
    "start_time": "2022-08-11T14:57:03.731Z"
   },
   {
    "duration": 50,
    "start_time": "2022-08-11T14:57:03.740Z"
   },
   {
    "duration": 1401,
    "start_time": "2022-08-11T14:57:03.791Z"
   },
   {
    "duration": 1356,
    "start_time": "2022-08-11T14:57:05.194Z"
   },
   {
    "duration": 97,
    "start_time": "2022-08-11T14:57:06.553Z"
   },
   {
    "duration": 0,
    "start_time": "2022-08-11T14:57:06.651Z"
   },
   {
    "duration": 0,
    "start_time": "2022-08-11T14:57:06.652Z"
   },
   {
    "duration": 0,
    "start_time": "2022-08-11T14:57:06.653Z"
   },
   {
    "duration": 0,
    "start_time": "2022-08-11T14:57:06.654Z"
   },
   {
    "duration": 0,
    "start_time": "2022-08-11T14:57:06.655Z"
   },
   {
    "duration": 5,
    "start_time": "2022-08-11T14:58:20.711Z"
   },
   {
    "duration": 480,
    "start_time": "2022-08-11T18:43:45.938Z"
   },
   {
    "duration": 16,
    "start_time": "2022-08-11T18:43:46.420Z"
   },
   {
    "duration": 45,
    "start_time": "2022-08-11T18:43:46.438Z"
   },
   {
    "duration": 278,
    "start_time": "2022-08-11T18:43:46.508Z"
   },
   {
    "duration": 44,
    "start_time": "2022-08-11T18:43:46.787Z"
   },
   {
    "duration": 32,
    "start_time": "2022-08-11T18:43:46.832Z"
   },
   {
    "duration": 61,
    "start_time": "2022-08-11T18:43:46.866Z"
   },
   {
    "duration": 13,
    "start_time": "2022-08-11T18:43:46.929Z"
   },
   {
    "duration": 65,
    "start_time": "2022-08-11T18:43:46.944Z"
   },
   {
    "duration": 36,
    "start_time": "2022-08-11T18:43:47.013Z"
   },
   {
    "duration": 37,
    "start_time": "2022-08-11T18:43:47.050Z"
   },
   {
    "duration": 66,
    "start_time": "2022-08-11T18:43:47.097Z"
   },
   {
    "duration": 60,
    "start_time": "2022-08-11T18:43:47.166Z"
   },
   {
    "duration": 31,
    "start_time": "2022-08-11T18:43:47.228Z"
   },
   {
    "duration": 56,
    "start_time": "2022-08-11T18:43:47.261Z"
   },
   {
    "duration": 41,
    "start_time": "2022-08-11T18:43:47.318Z"
   },
   {
    "duration": 46,
    "start_time": "2022-08-11T18:43:47.362Z"
   },
   {
    "duration": 50,
    "start_time": "2022-08-11T18:43:47.409Z"
   },
   {
    "duration": 56,
    "start_time": "2022-08-11T18:43:47.460Z"
   },
   {
    "duration": 1972,
    "start_time": "2022-08-11T18:43:47.518Z"
   },
   {
    "duration": 20,
    "start_time": "2022-08-11T18:43:49.492Z"
   },
   {
    "duration": 52,
    "start_time": "2022-08-11T18:43:49.514Z"
   },
   {
    "duration": 1345,
    "start_time": "2022-08-11T18:43:49.567Z"
   },
   {
    "duration": 1402,
    "start_time": "2022-08-11T18:43:50.914Z"
   },
   {
    "duration": 8,
    "start_time": "2022-08-11T18:43:52.318Z"
   },
   {
    "duration": 18,
    "start_time": "2022-08-11T18:43:52.327Z"
   },
   {
    "duration": 21,
    "start_time": "2022-08-11T18:43:52.346Z"
   },
   {
    "duration": 8,
    "start_time": "2022-08-11T18:43:52.370Z"
   },
   {
    "duration": 20,
    "start_time": "2022-08-11T18:43:52.380Z"
   },
   {
    "duration": 25,
    "start_time": "2022-08-11T18:43:52.401Z"
   },
   {
    "duration": 8,
    "start_time": "2022-08-11T18:47:37.660Z"
   },
   {
    "duration": 38,
    "start_time": "2022-08-11T18:47:49.842Z"
   },
   {
    "duration": 87,
    "start_time": "2022-08-11T18:54:01.459Z"
   },
   {
    "duration": 927,
    "start_time": "2022-08-11T18:54:15.040Z"
   },
   {
    "duration": 37,
    "start_time": "2022-08-11T18:54:26.734Z"
   },
   {
    "duration": 8,
    "start_time": "2022-08-11T18:56:58.968Z"
   },
   {
    "duration": 4,
    "start_time": "2022-08-11T18:57:10.866Z"
   },
   {
    "duration": 38,
    "start_time": "2022-08-11T18:57:12.335Z"
   },
   {
    "duration": 10,
    "start_time": "2022-08-11T19:01:42.967Z"
   },
   {
    "duration": 6,
    "start_time": "2022-08-11T19:11:18.119Z"
   },
   {
    "duration": 37,
    "start_time": "2022-08-11T19:11:55.357Z"
   },
   {
    "duration": 5,
    "start_time": "2022-08-11T19:13:01.219Z"
   },
   {
    "duration": 49,
    "start_time": "2022-08-11T19:13:08.286Z"
   },
   {
    "duration": 487,
    "start_time": "2022-08-11T19:13:17.676Z"
   },
   {
    "duration": 16,
    "start_time": "2022-08-11T19:13:18.164Z"
   },
   {
    "duration": 60,
    "start_time": "2022-08-11T19:13:18.182Z"
   },
   {
    "duration": 292,
    "start_time": "2022-08-11T19:13:18.244Z"
   },
   {
    "duration": 39,
    "start_time": "2022-08-11T19:13:18.537Z"
   },
   {
    "duration": 58,
    "start_time": "2022-08-11T19:13:18.577Z"
   },
   {
    "duration": 35,
    "start_time": "2022-08-11T19:13:18.636Z"
   },
   {
    "duration": 13,
    "start_time": "2022-08-11T19:13:18.673Z"
   },
   {
    "duration": 71,
    "start_time": "2022-08-11T19:13:18.687Z"
   },
   {
    "duration": 55,
    "start_time": "2022-08-11T19:13:18.760Z"
   },
   {
    "duration": 40,
    "start_time": "2022-08-11T19:13:18.817Z"
   },
   {
    "duration": 76,
    "start_time": "2022-08-11T19:13:18.858Z"
   },
   {
    "duration": 36,
    "start_time": "2022-08-11T19:13:18.935Z"
   },
   {
    "duration": 61,
    "start_time": "2022-08-11T19:13:18.972Z"
   },
   {
    "duration": 34,
    "start_time": "2022-08-11T19:13:19.034Z"
   },
   {
    "duration": 55,
    "start_time": "2022-08-11T19:13:19.069Z"
   },
   {
    "duration": 32,
    "start_time": "2022-08-11T19:13:19.125Z"
   },
   {
    "duration": 51,
    "start_time": "2022-08-11T19:13:19.159Z"
   },
   {
    "duration": 39,
    "start_time": "2022-08-11T19:13:19.211Z"
   },
   {
    "duration": 2033,
    "start_time": "2022-08-11T19:13:19.252Z"
   },
   {
    "duration": 8,
    "start_time": "2022-08-11T19:13:21.287Z"
   },
   {
    "duration": 60,
    "start_time": "2022-08-11T19:13:21.296Z"
   },
   {
    "duration": 1467,
    "start_time": "2022-08-11T19:13:21.357Z"
   },
   {
    "duration": 1449,
    "start_time": "2022-08-11T19:13:22.826Z"
   },
   {
    "duration": 4,
    "start_time": "2022-08-11T19:13:24.277Z"
   },
   {
    "duration": 13,
    "start_time": "2022-08-11T19:13:24.282Z"
   },
   {
    "duration": 29,
    "start_time": "2022-08-11T19:13:24.298Z"
   },
   {
    "duration": 6,
    "start_time": "2022-08-11T19:13:24.331Z"
   },
   {
    "duration": 3,
    "start_time": "2022-08-11T19:13:24.339Z"
   },
   {
    "duration": 9,
    "start_time": "2022-08-11T19:13:24.344Z"
   },
   {
    "duration": 12,
    "start_time": "2022-08-11T19:13:24.354Z"
   },
   {
    "duration": 4,
    "start_time": "2022-08-11T19:13:24.368Z"
   },
   {
    "duration": 4,
    "start_time": "2022-08-11T19:13:24.373Z"
   },
   {
    "duration": 70,
    "start_time": "2022-08-11T19:13:24.378Z"
   },
   {
    "duration": 97,
    "start_time": "2022-08-11T19:13:24.450Z"
   },
   {
    "duration": 282,
    "start_time": "2022-08-11T19:22:06.181Z"
   },
   {
    "duration": 3,
    "start_time": "2022-08-11T19:24:05.862Z"
   },
   {
    "duration": 5,
    "start_time": "2022-08-11T19:24:31.164Z"
   },
   {
    "duration": 40,
    "start_time": "2022-08-11T19:24:43.883Z"
   },
   {
    "duration": 5,
    "start_time": "2022-08-11T19:27:25.089Z"
   },
   {
    "duration": 6,
    "start_time": "2022-08-11T19:27:55.382Z"
   },
   {
    "duration": 35,
    "start_time": "2022-08-11T19:28:00.426Z"
   },
   {
    "duration": 7,
    "start_time": "2022-08-11T19:28:27.226Z"
   },
   {
    "duration": 37,
    "start_time": "2022-08-11T19:28:28.922Z"
   },
   {
    "duration": 6,
    "start_time": "2022-08-11T19:29:14.424Z"
   },
   {
    "duration": 43,
    "start_time": "2022-08-11T19:29:58.006Z"
   },
   {
    "duration": 276,
    "start_time": "2022-08-11T19:30:18.885Z"
   },
   {
    "duration": 313,
    "start_time": "2022-08-11T19:31:43.611Z"
   },
   {
    "duration": 268,
    "start_time": "2022-08-11T19:31:48.867Z"
   },
   {
    "duration": 256,
    "start_time": "2022-08-11T19:31:54.311Z"
   },
   {
    "duration": 241,
    "start_time": "2022-08-11T19:31:59.015Z"
   },
   {
    "duration": 239,
    "start_time": "2022-08-11T19:32:03.874Z"
   },
   {
    "duration": 266,
    "start_time": "2022-08-11T19:32:36.546Z"
   },
   {
    "duration": 399,
    "start_time": "2022-08-11T19:34:06.420Z"
   },
   {
    "duration": 259,
    "start_time": "2022-08-11T19:35:28.835Z"
   },
   {
    "duration": 169,
    "start_time": "2022-08-11T19:36:24.948Z"
   },
   {
    "duration": 167,
    "start_time": "2022-08-11T19:37:23.573Z"
   },
   {
    "duration": 191,
    "start_time": "2022-08-11T19:40:17.174Z"
   },
   {
    "duration": 222,
    "start_time": "2022-08-11T19:40:25.060Z"
   },
   {
    "duration": 190,
    "start_time": "2022-08-11T19:40:49.349Z"
   },
   {
    "duration": 183,
    "start_time": "2022-08-11T19:41:58.283Z"
   },
   {
    "duration": 154,
    "start_time": "2022-08-11T19:42:23.877Z"
   },
   {
    "duration": 283,
    "start_time": "2022-08-11T19:43:12.869Z"
   },
   {
    "duration": 137,
    "start_time": "2022-08-11T19:43:18.627Z"
   },
   {
    "duration": 796,
    "start_time": "2022-08-11T19:43:52.536Z"
   },
   {
    "duration": 141,
    "start_time": "2022-08-11T19:44:20.652Z"
   },
   {
    "duration": 169,
    "start_time": "2022-08-11T19:45:00.387Z"
   },
   {
    "duration": 146,
    "start_time": "2022-08-11T19:45:35.541Z"
   },
   {
    "duration": 525,
    "start_time": "2022-08-11T20:20:30.529Z"
   },
   {
    "duration": 15,
    "start_time": "2022-08-11T20:20:31.056Z"
   },
   {
    "duration": 72,
    "start_time": "2022-08-11T20:20:31.073Z"
   },
   {
    "duration": 333,
    "start_time": "2022-08-11T20:20:31.147Z"
   },
   {
    "duration": 51,
    "start_time": "2022-08-11T20:20:31.481Z"
   },
   {
    "duration": 36,
    "start_time": "2022-08-11T20:20:31.535Z"
   },
   {
    "duration": 56,
    "start_time": "2022-08-11T20:20:31.573Z"
   },
   {
    "duration": 14,
    "start_time": "2022-08-11T20:20:31.631Z"
   },
   {
    "duration": 91,
    "start_time": "2022-08-11T20:20:31.647Z"
   },
   {
    "duration": 37,
    "start_time": "2022-08-11T20:20:31.740Z"
   },
   {
    "duration": 53,
    "start_time": "2022-08-11T20:20:31.779Z"
   },
   {
    "duration": 74,
    "start_time": "2022-08-11T20:20:31.834Z"
   },
   {
    "duration": 35,
    "start_time": "2022-08-11T20:20:31.910Z"
   },
   {
    "duration": 56,
    "start_time": "2022-08-11T20:20:31.947Z"
   },
   {
    "duration": 32,
    "start_time": "2022-08-11T20:20:32.004Z"
   },
   {
    "duration": 60,
    "start_time": "2022-08-11T20:20:32.038Z"
   },
   {
    "duration": 34,
    "start_time": "2022-08-11T20:20:32.100Z"
   },
   {
    "duration": 39,
    "start_time": "2022-08-11T20:20:32.135Z"
   },
   {
    "duration": 54,
    "start_time": "2022-08-11T20:20:32.176Z"
   },
   {
    "duration": 1906,
    "start_time": "2022-08-11T20:20:32.232Z"
   },
   {
    "duration": 10,
    "start_time": "2022-08-11T20:20:34.140Z"
   },
   {
    "duration": 46,
    "start_time": "2022-08-11T20:20:34.152Z"
   },
   {
    "duration": 1460,
    "start_time": "2022-08-11T20:20:34.200Z"
   },
   {
    "duration": 1369,
    "start_time": "2022-08-11T20:20:35.665Z"
   },
   {
    "duration": 4,
    "start_time": "2022-08-11T20:20:37.036Z"
   },
   {
    "duration": 10,
    "start_time": "2022-08-11T20:20:37.041Z"
   },
   {
    "duration": 16,
    "start_time": "2022-08-11T20:20:37.052Z"
   },
   {
    "duration": 27,
    "start_time": "2022-08-11T20:20:37.072Z"
   },
   {
    "duration": 3,
    "start_time": "2022-08-11T20:20:37.101Z"
   },
   {
    "duration": 9,
    "start_time": "2022-08-11T20:20:37.107Z"
   },
   {
    "duration": 15,
    "start_time": "2022-08-11T20:20:37.117Z"
   },
   {
    "duration": 29,
    "start_time": "2022-08-11T20:20:37.134Z"
   },
   {
    "duration": 9,
    "start_time": "2022-08-11T20:20:37.165Z"
   },
   {
    "duration": 7,
    "start_time": "2022-08-11T20:20:37.176Z"
   },
   {
    "duration": 5,
    "start_time": "2022-08-11T20:20:37.185Z"
   },
   {
    "duration": 9,
    "start_time": "2022-08-11T20:20:37.192Z"
   },
   {
    "duration": 76,
    "start_time": "2022-08-11T20:20:37.203Z"
   },
   {
    "duration": 0,
    "start_time": "2022-08-11T20:20:37.281Z"
   },
   {
    "duration": 0,
    "start_time": "2022-08-11T20:20:37.282Z"
   },
   {
    "duration": 0,
    "start_time": "2022-08-11T20:20:37.284Z"
   },
   {
    "duration": 0,
    "start_time": "2022-08-11T20:20:37.285Z"
   },
   {
    "duration": 0,
    "start_time": "2022-08-11T20:20:37.287Z"
   },
   {
    "duration": 0,
    "start_time": "2022-08-11T20:20:37.288Z"
   },
   {
    "duration": 0,
    "start_time": "2022-08-11T20:20:37.290Z"
   },
   {
    "duration": 0,
    "start_time": "2022-08-11T20:20:37.291Z"
   },
   {
    "duration": 0,
    "start_time": "2022-08-11T20:20:37.292Z"
   },
   {
    "duration": 0,
    "start_time": "2022-08-11T20:20:37.294Z"
   },
   {
    "duration": 0,
    "start_time": "2022-08-11T20:20:37.295Z"
   },
   {
    "duration": 0,
    "start_time": "2022-08-11T20:20:37.296Z"
   },
   {
    "duration": 0,
    "start_time": "2022-08-11T20:20:37.298Z"
   },
   {
    "duration": 0,
    "start_time": "2022-08-11T20:20:37.299Z"
   },
   {
    "duration": 0,
    "start_time": "2022-08-11T20:20:37.299Z"
   },
   {
    "duration": 20,
    "start_time": "2022-08-11T20:22:13.590Z"
   },
   {
    "duration": 13,
    "start_time": "2022-08-11T20:23:30.962Z"
   },
   {
    "duration": 545,
    "start_time": "2022-08-11T20:26:31.990Z"
   },
   {
    "duration": 16,
    "start_time": "2022-08-11T20:26:32.537Z"
   },
   {
    "duration": 63,
    "start_time": "2022-08-11T20:26:32.555Z"
   },
   {
    "duration": 354,
    "start_time": "2022-08-11T20:26:32.621Z"
   },
   {
    "duration": 53,
    "start_time": "2022-08-11T20:26:32.977Z"
   },
   {
    "duration": 42,
    "start_time": "2022-08-11T20:26:33.033Z"
   },
   {
    "duration": 58,
    "start_time": "2022-08-11T20:26:33.076Z"
   },
   {
    "duration": 13,
    "start_time": "2022-08-11T20:26:33.137Z"
   },
   {
    "duration": 70,
    "start_time": "2022-08-11T20:26:33.152Z"
   },
   {
    "duration": 47,
    "start_time": "2022-08-11T20:26:33.225Z"
   },
   {
    "duration": 54,
    "start_time": "2022-08-11T20:26:33.276Z"
   },
   {
    "duration": 77,
    "start_time": "2022-08-11T20:26:33.331Z"
   },
   {
    "duration": 52,
    "start_time": "2022-08-11T20:26:33.410Z"
   },
   {
    "duration": 58,
    "start_time": "2022-08-11T20:26:33.464Z"
   },
   {
    "duration": 33,
    "start_time": "2022-08-11T20:26:33.525Z"
   },
   {
    "duration": 62,
    "start_time": "2022-08-11T20:26:33.560Z"
   },
   {
    "duration": 33,
    "start_time": "2022-08-11T20:26:33.624Z"
   },
   {
    "duration": 73,
    "start_time": "2022-08-11T20:26:33.658Z"
   },
   {
    "duration": 38,
    "start_time": "2022-08-11T20:26:33.733Z"
   },
   {
    "duration": 1980,
    "start_time": "2022-08-11T20:26:33.773Z"
   },
   {
    "duration": 10,
    "start_time": "2022-08-11T20:26:35.755Z"
   },
   {
    "duration": 66,
    "start_time": "2022-08-11T20:26:35.766Z"
   },
   {
    "duration": 1354,
    "start_time": "2022-08-11T20:26:35.834Z"
   },
   {
    "duration": 1424,
    "start_time": "2022-08-11T20:26:37.190Z"
   },
   {
    "duration": 4,
    "start_time": "2022-08-11T20:26:38.617Z"
   },
   {
    "duration": 14,
    "start_time": "2022-08-11T20:26:38.624Z"
   },
   {
    "duration": 27,
    "start_time": "2022-08-11T20:26:38.641Z"
   },
   {
    "duration": 25,
    "start_time": "2022-08-11T20:26:38.673Z"
   },
   {
    "duration": 4,
    "start_time": "2022-08-11T20:26:38.700Z"
   },
   {
    "duration": 15,
    "start_time": "2022-08-11T20:26:38.706Z"
   },
   {
    "duration": 9,
    "start_time": "2022-08-11T20:26:38.723Z"
   },
   {
    "duration": 25,
    "start_time": "2022-08-11T20:26:38.733Z"
   },
   {
    "duration": 4,
    "start_time": "2022-08-11T20:26:38.761Z"
   },
   {
    "duration": 33,
    "start_time": "2022-08-11T20:26:38.766Z"
   },
   {
    "duration": 10,
    "start_time": "2022-08-11T20:26:38.801Z"
   },
   {
    "duration": 12,
    "start_time": "2022-08-11T20:26:38.812Z"
   },
   {
    "duration": 10,
    "start_time": "2022-08-11T20:26:38.826Z"
   },
   {
    "duration": 9,
    "start_time": "2022-08-11T20:26:38.838Z"
   },
   {
    "duration": 40,
    "start_time": "2022-08-11T20:26:38.849Z"
   },
   {
    "duration": 291,
    "start_time": "2022-08-11T20:26:38.890Z"
   },
   {
    "duration": 269,
    "start_time": "2022-08-11T20:26:39.183Z"
   },
   {
    "duration": 354,
    "start_time": "2022-08-11T20:26:39.453Z"
   },
   {
    "duration": 309,
    "start_time": "2022-08-11T20:26:39.809Z"
   },
   {
    "duration": 213,
    "start_time": "2022-08-11T20:26:40.120Z"
   },
   {
    "duration": 238,
    "start_time": "2022-08-11T20:26:40.335Z"
   },
   {
    "duration": 194,
    "start_time": "2022-08-11T20:26:40.575Z"
   },
   {
    "duration": 164,
    "start_time": "2022-08-11T20:26:40.771Z"
   },
   {
    "duration": 76,
    "start_time": "2022-08-11T20:26:40.937Z"
   },
   {
    "duration": 0,
    "start_time": "2022-08-11T20:26:41.015Z"
   },
   {
    "duration": 0,
    "start_time": "2022-08-11T20:26:41.017Z"
   },
   {
    "duration": 0,
    "start_time": "2022-08-11T20:26:41.018Z"
   },
   {
    "duration": 0,
    "start_time": "2022-08-11T20:26:41.019Z"
   },
   {
    "duration": 1303,
    "start_time": "2022-08-11T20:34:03.138Z"
   },
   {
    "duration": 37,
    "start_time": "2022-08-11T20:34:09.745Z"
   },
   {
    "duration": 15,
    "start_time": "2022-08-11T20:35:05.507Z"
   },
   {
    "duration": 11,
    "start_time": "2022-08-11T20:36:00.830Z"
   },
   {
    "duration": 324,
    "start_time": "2022-08-11T20:36:07.440Z"
   },
   {
    "duration": 36,
    "start_time": "2022-08-11T20:38:43.876Z"
   },
   {
    "duration": 5,
    "start_time": "2022-08-11T20:39:01.011Z"
   },
   {
    "duration": 8,
    "start_time": "2022-08-11T20:39:24.079Z"
   },
   {
    "duration": 358,
    "start_time": "2022-08-11T20:39:33.333Z"
   },
   {
    "duration": 117,
    "start_time": "2022-08-11T20:39:43.833Z"
   },
   {
    "duration": 549,
    "start_time": "2022-08-12T11:53:45.495Z"
   },
   {
    "duration": 16,
    "start_time": "2022-08-12T11:53:46.046Z"
   },
   {
    "duration": 62,
    "start_time": "2022-08-12T11:53:46.064Z"
   },
   {
    "duration": 305,
    "start_time": "2022-08-12T11:53:46.128Z"
   },
   {
    "duration": 43,
    "start_time": "2022-08-12T11:53:46.435Z"
   },
   {
    "duration": 55,
    "start_time": "2022-08-12T11:53:46.480Z"
   },
   {
    "duration": 36,
    "start_time": "2022-08-12T11:53:46.537Z"
   },
   {
    "duration": 43,
    "start_time": "2022-08-12T11:53:46.575Z"
   },
   {
    "duration": 51,
    "start_time": "2022-08-12T11:53:46.621Z"
   },
   {
    "duration": 69,
    "start_time": "2022-08-12T11:53:46.676Z"
   },
   {
    "duration": 62,
    "start_time": "2022-08-12T11:53:46.747Z"
   },
   {
    "duration": 62,
    "start_time": "2022-08-12T11:53:46.811Z"
   },
   {
    "duration": 63,
    "start_time": "2022-08-12T11:53:46.874Z"
   },
   {
    "duration": 40,
    "start_time": "2022-08-12T11:53:46.939Z"
   },
   {
    "duration": 42,
    "start_time": "2022-08-12T11:53:46.981Z"
   },
   {
    "duration": 44,
    "start_time": "2022-08-12T11:53:47.024Z"
   },
   {
    "duration": 57,
    "start_time": "2022-08-12T11:53:47.070Z"
   },
   {
    "duration": 40,
    "start_time": "2022-08-12T11:53:47.129Z"
   },
   {
    "duration": 61,
    "start_time": "2022-08-12T11:53:47.170Z"
   },
   {
    "duration": 2001,
    "start_time": "2022-08-12T11:53:47.233Z"
   },
   {
    "duration": 10,
    "start_time": "2022-08-12T11:53:49.235Z"
   },
   {
    "duration": 65,
    "start_time": "2022-08-12T11:53:49.246Z"
   },
   {
    "duration": 1406,
    "start_time": "2022-08-12T11:53:49.313Z"
   },
   {
    "duration": 1492,
    "start_time": "2022-08-12T11:53:50.721Z"
   },
   {
    "duration": 5,
    "start_time": "2022-08-12T11:53:52.215Z"
   },
   {
    "duration": 13,
    "start_time": "2022-08-12T11:53:52.222Z"
   },
   {
    "duration": 21,
    "start_time": "2022-08-12T11:53:52.236Z"
   },
   {
    "duration": 45,
    "start_time": "2022-08-12T11:53:52.263Z"
   },
   {
    "duration": 15,
    "start_time": "2022-08-12T11:53:52.309Z"
   },
   {
    "duration": 11,
    "start_time": "2022-08-12T11:53:52.326Z"
   },
   {
    "duration": 15,
    "start_time": "2022-08-12T11:53:52.339Z"
   },
   {
    "duration": 19,
    "start_time": "2022-08-12T11:53:52.355Z"
   },
   {
    "duration": 5,
    "start_time": "2022-08-12T11:53:52.376Z"
   },
   {
    "duration": 7,
    "start_time": "2022-08-12T11:53:52.383Z"
   },
   {
    "duration": 11,
    "start_time": "2022-08-12T11:53:52.404Z"
   },
   {
    "duration": 6,
    "start_time": "2022-08-12T11:53:52.417Z"
   },
   {
    "duration": 5,
    "start_time": "2022-08-12T11:53:52.425Z"
   },
   {
    "duration": 5,
    "start_time": "2022-08-12T11:53:52.433Z"
   },
   {
    "duration": 348,
    "start_time": "2022-08-12T11:53:52.441Z"
   },
   {
    "duration": 50,
    "start_time": "2022-08-12T11:53:52.791Z"
   },
   {
    "duration": 299,
    "start_time": "2022-08-12T11:53:52.843Z"
   },
   {
    "duration": 381,
    "start_time": "2022-08-12T11:53:53.145Z"
   },
   {
    "duration": 304,
    "start_time": "2022-08-12T11:53:53.528Z"
   },
   {
    "duration": 300,
    "start_time": "2022-08-12T11:53:53.834Z"
   },
   {
    "duration": 206,
    "start_time": "2022-08-12T11:53:54.137Z"
   },
   {
    "duration": 229,
    "start_time": "2022-08-12T11:53:54.345Z"
   },
   {
    "duration": 214,
    "start_time": "2022-08-12T11:53:54.576Z"
   },
   {
    "duration": 24,
    "start_time": "2022-08-12T11:53:54.792Z"
   },
   {
    "duration": 151,
    "start_time": "2022-08-12T11:53:54.818Z"
   },
   {
    "duration": 175,
    "start_time": "2022-08-12T11:53:54.971Z"
   },
   {
    "duration": 73,
    "start_time": "2022-08-12T11:53:55.148Z"
   },
   {
    "duration": 7,
    "start_time": "2022-08-12T11:57:28.424Z"
   },
   {
    "duration": 1274,
    "start_time": "2022-08-12T12:01:36.751Z"
   },
   {
    "duration": 1294,
    "start_time": "2022-08-12T12:01:53.824Z"
   },
   {
    "duration": 2115,
    "start_time": "2022-08-12T12:02:06.267Z"
   },
   {
    "duration": 1703,
    "start_time": "2022-08-12T12:02:38.435Z"
   },
   {
    "duration": 1559,
    "start_time": "2022-08-12T12:03:09.255Z"
   },
   {
    "duration": 1272,
    "start_time": "2022-08-12T12:03:30.352Z"
   },
   {
    "duration": 1028,
    "start_time": "2022-08-12T12:03:33.006Z"
   },
   {
    "duration": 2184,
    "start_time": "2022-08-12T12:04:35.863Z"
   },
   {
    "duration": 2069,
    "start_time": "2022-08-12T12:06:28.655Z"
   },
   {
    "duration": 1853,
    "start_time": "2022-08-12T12:06:46.981Z"
   },
   {
    "duration": 295,
    "start_time": "2022-08-12T12:19:43.297Z"
   },
   {
    "duration": 309,
    "start_time": "2022-08-12T12:20:40.601Z"
   },
   {
    "duration": 287,
    "start_time": "2022-08-12T12:20:51.831Z"
   },
   {
    "duration": 18,
    "start_time": "2022-08-12T12:21:50.211Z"
   },
   {
    "duration": 551,
    "start_time": "2022-08-12T12:22:20.869Z"
   },
   {
    "duration": 16,
    "start_time": "2022-08-12T12:22:21.423Z"
   },
   {
    "duration": 65,
    "start_time": "2022-08-12T12:22:21.440Z"
   },
   {
    "duration": 325,
    "start_time": "2022-08-12T12:22:21.507Z"
   },
   {
    "duration": 53,
    "start_time": "2022-08-12T12:22:21.833Z"
   },
   {
    "duration": 44,
    "start_time": "2022-08-12T12:22:21.887Z"
   },
   {
    "duration": 69,
    "start_time": "2022-08-12T12:22:21.933Z"
   },
   {
    "duration": 13,
    "start_time": "2022-08-12T12:22:22.003Z"
   },
   {
    "duration": 63,
    "start_time": "2022-08-12T12:22:22.018Z"
   },
   {
    "duration": 50,
    "start_time": "2022-08-12T12:22:22.083Z"
   },
   {
    "duration": 41,
    "start_time": "2022-08-12T12:22:22.135Z"
   },
   {
    "duration": 84,
    "start_time": "2022-08-12T12:22:22.177Z"
   },
   {
    "duration": 67,
    "start_time": "2022-08-12T12:22:22.263Z"
   },
   {
    "duration": 35,
    "start_time": "2022-08-12T12:22:22.332Z"
   },
   {
    "duration": 60,
    "start_time": "2022-08-12T12:22:22.369Z"
   },
   {
    "duration": 67,
    "start_time": "2022-08-12T12:22:22.431Z"
   },
   {
    "duration": 38,
    "start_time": "2022-08-12T12:22:22.501Z"
   },
   {
    "duration": 66,
    "start_time": "2022-08-12T12:22:22.541Z"
   },
   {
    "duration": 38,
    "start_time": "2022-08-12T12:22:22.609Z"
   },
   {
    "duration": 2079,
    "start_time": "2022-08-12T12:22:22.649Z"
   },
   {
    "duration": 9,
    "start_time": "2022-08-12T12:22:24.730Z"
   },
   {
    "duration": 50,
    "start_time": "2022-08-12T12:22:24.741Z"
   },
   {
    "duration": 5,
    "start_time": "2022-08-12T12:22:24.793Z"
   },
   {
    "duration": 30,
    "start_time": "2022-08-12T12:22:24.799Z"
   },
   {
    "duration": 18,
    "start_time": "2022-08-12T12:22:24.831Z"
   },
   {
    "duration": 8,
    "start_time": "2022-08-12T12:22:24.851Z"
   },
   {
    "duration": 6,
    "start_time": "2022-08-12T12:22:24.861Z"
   },
   {
    "duration": 9,
    "start_time": "2022-08-12T12:22:24.872Z"
   },
   {
    "duration": 24,
    "start_time": "2022-08-12T12:22:24.883Z"
   },
   {
    "duration": 17,
    "start_time": "2022-08-12T12:22:24.909Z"
   },
   {
    "duration": 7,
    "start_time": "2022-08-12T12:22:24.927Z"
   },
   {
    "duration": 15,
    "start_time": "2022-08-12T12:22:24.936Z"
   },
   {
    "duration": 6,
    "start_time": "2022-08-12T12:22:24.953Z"
   },
   {
    "duration": 38,
    "start_time": "2022-08-12T12:22:24.961Z"
   },
   {
    "duration": 6,
    "start_time": "2022-08-12T12:22:25.000Z"
   },
   {
    "duration": 24,
    "start_time": "2022-08-12T12:22:25.008Z"
   },
   {
    "duration": 14,
    "start_time": "2022-08-12T12:22:25.034Z"
   },
   {
    "duration": 322,
    "start_time": "2022-08-12T12:22:25.050Z"
   },
   {
    "duration": 41,
    "start_time": "2022-08-12T12:22:25.374Z"
   },
   {
    "duration": 2171,
    "start_time": "2022-08-12T12:22:25.417Z"
   },
   {
    "duration": 0,
    "start_time": "2022-08-12T12:22:27.590Z"
   },
   {
    "duration": 0,
    "start_time": "2022-08-12T12:22:27.591Z"
   },
   {
    "duration": 0,
    "start_time": "2022-08-12T12:22:27.593Z"
   },
   {
    "duration": 0,
    "start_time": "2022-08-12T12:22:27.594Z"
   },
   {
    "duration": 0,
    "start_time": "2022-08-12T12:22:27.595Z"
   },
   {
    "duration": 0,
    "start_time": "2022-08-12T12:22:27.596Z"
   },
   {
    "duration": 0,
    "start_time": "2022-08-12T12:22:27.597Z"
   },
   {
    "duration": 0,
    "start_time": "2022-08-12T12:22:27.598Z"
   },
   {
    "duration": 0,
    "start_time": "2022-08-12T12:22:27.599Z"
   },
   {
    "duration": 0,
    "start_time": "2022-08-12T12:22:27.600Z"
   },
   {
    "duration": 0,
    "start_time": "2022-08-12T12:22:27.601Z"
   },
   {
    "duration": 497,
    "start_time": "2022-08-12T12:22:56.839Z"
   },
   {
    "duration": 15,
    "start_time": "2022-08-12T12:22:57.338Z"
   },
   {
    "duration": 67,
    "start_time": "2022-08-12T12:22:57.355Z"
   },
   {
    "duration": 317,
    "start_time": "2022-08-12T12:22:57.424Z"
   },
   {
    "duration": 44,
    "start_time": "2022-08-12T12:22:57.742Z"
   },
   {
    "duration": 36,
    "start_time": "2022-08-12T12:22:57.798Z"
   },
   {
    "duration": 36,
    "start_time": "2022-08-12T12:22:57.836Z"
   },
   {
    "duration": 15,
    "start_time": "2022-08-12T12:22:57.897Z"
   },
   {
    "duration": 56,
    "start_time": "2022-08-12T12:22:57.914Z"
   },
   {
    "duration": 55,
    "start_time": "2022-08-12T12:22:57.973Z"
   },
   {
    "duration": 41,
    "start_time": "2022-08-12T12:22:58.030Z"
   },
   {
    "duration": 89,
    "start_time": "2022-08-12T12:22:58.073Z"
   },
   {
    "duration": 58,
    "start_time": "2022-08-12T12:22:58.163Z"
   },
   {
    "duration": 40,
    "start_time": "2022-08-12T12:22:58.222Z"
   },
   {
    "duration": 61,
    "start_time": "2022-08-12T12:22:58.264Z"
   },
   {
    "duration": 55,
    "start_time": "2022-08-12T12:22:58.326Z"
   },
   {
    "duration": 46,
    "start_time": "2022-08-12T12:22:58.383Z"
   },
   {
    "duration": 42,
    "start_time": "2022-08-12T12:22:58.431Z"
   },
   {
    "duration": 43,
    "start_time": "2022-08-12T12:22:58.499Z"
   },
   {
    "duration": 1950,
    "start_time": "2022-08-12T12:22:58.544Z"
   },
   {
    "duration": 9,
    "start_time": "2022-08-12T12:23:00.496Z"
   },
   {
    "duration": 57,
    "start_time": "2022-08-12T12:23:00.507Z"
   },
   {
    "duration": 5,
    "start_time": "2022-08-12T12:23:00.566Z"
   },
   {
    "duration": 26,
    "start_time": "2022-08-12T12:23:00.572Z"
   },
   {
    "duration": 30,
    "start_time": "2022-08-12T12:23:00.600Z"
   },
   {
    "duration": 28,
    "start_time": "2022-08-12T12:23:00.632Z"
   },
   {
    "duration": 18,
    "start_time": "2022-08-12T12:23:00.662Z"
   },
   {
    "duration": 30,
    "start_time": "2022-08-12T12:23:00.684Z"
   },
   {
    "duration": 31,
    "start_time": "2022-08-12T12:23:00.716Z"
   },
   {
    "duration": 31,
    "start_time": "2022-08-12T12:23:00.749Z"
   },
   {
    "duration": 7,
    "start_time": "2022-08-12T12:23:00.782Z"
   },
   {
    "duration": 10,
    "start_time": "2022-08-12T12:23:00.791Z"
   },
   {
    "duration": 21,
    "start_time": "2022-08-12T12:23:00.802Z"
   },
   {
    "duration": 21,
    "start_time": "2022-08-12T12:23:00.824Z"
   },
   {
    "duration": 21,
    "start_time": "2022-08-12T12:23:00.847Z"
   },
   {
    "duration": 24,
    "start_time": "2022-08-12T12:23:00.870Z"
   },
   {
    "duration": 29,
    "start_time": "2022-08-12T12:23:00.896Z"
   },
   {
    "duration": 319,
    "start_time": "2022-08-12T12:23:00.926Z"
   },
   {
    "duration": 35,
    "start_time": "2022-08-12T12:23:01.247Z"
   },
   {
    "duration": 1153,
    "start_time": "2022-08-12T12:23:01.298Z"
   },
   {
    "duration": 284,
    "start_time": "2022-08-12T12:23:02.453Z"
   },
   {
    "duration": 364,
    "start_time": "2022-08-12T12:23:02.739Z"
   },
   {
    "duration": 282,
    "start_time": "2022-08-12T12:23:03.105Z"
   },
   {
    "duration": 295,
    "start_time": "2022-08-12T12:23:03.388Z"
   },
   {
    "duration": 188,
    "start_time": "2022-08-12T12:23:03.685Z"
   },
   {
    "duration": 197,
    "start_time": "2022-08-12T12:23:03.875Z"
   },
   {
    "duration": 202,
    "start_time": "2022-08-12T12:23:04.074Z"
   },
   {
    "duration": 30,
    "start_time": "2022-08-12T12:23:04.278Z"
   },
   {
    "duration": 110,
    "start_time": "2022-08-12T12:23:04.309Z"
   },
   {
    "duration": 0,
    "start_time": "2022-08-12T12:23:04.420Z"
   },
   {
    "duration": 0,
    "start_time": "2022-08-12T12:23:04.422Z"
   },
   {
    "duration": 11,
    "start_time": "2022-08-12T12:43:30.603Z"
   },
   {
    "duration": 9,
    "start_time": "2022-08-12T12:43:39.801Z"
   },
   {
    "duration": 100,
    "start_time": "2022-08-12T12:44:25.497Z"
   },
   {
    "duration": 6,
    "start_time": "2022-08-12T12:44:47.931Z"
   },
   {
    "duration": 23,
    "start_time": "2022-08-12T12:49:18.091Z"
   },
   {
    "duration": 8,
    "start_time": "2022-08-12T12:49:57.227Z"
   },
   {
    "duration": 9,
    "start_time": "2022-08-12T12:50:02.561Z"
   },
   {
    "duration": 9,
    "start_time": "2022-08-12T12:50:48.981Z"
   },
   {
    "duration": 22,
    "start_time": "2022-08-12T12:50:55.330Z"
   },
   {
    "duration": 10,
    "start_time": "2022-08-12T12:57:14.445Z"
   },
   {
    "duration": 1237,
    "start_time": "2022-08-12T12:57:19.931Z"
   },
   {
    "duration": 16,
    "start_time": "2022-08-12T12:57:21.170Z"
   },
   {
    "duration": 49,
    "start_time": "2022-08-12T12:57:21.200Z"
   },
   {
    "duration": 82,
    "start_time": "2022-08-12T12:57:21.251Z"
   },
   {
    "duration": 39,
    "start_time": "2022-08-12T12:57:21.335Z"
   },
   {
    "duration": 53,
    "start_time": "2022-08-12T12:57:21.376Z"
   },
   {
    "duration": 34,
    "start_time": "2022-08-12T12:57:21.431Z"
   },
   {
    "duration": 43,
    "start_time": "2022-08-12T12:57:21.467Z"
   },
   {
    "duration": 48,
    "start_time": "2022-08-12T12:57:21.513Z"
   },
   {
    "duration": 70,
    "start_time": "2022-08-12T12:57:21.563Z"
   },
   {
    "duration": 72,
    "start_time": "2022-08-12T12:57:21.635Z"
   },
   {
    "duration": 64,
    "start_time": "2022-08-12T12:57:21.709Z"
   },
   {
    "duration": 57,
    "start_time": "2022-08-12T12:57:21.775Z"
   },
   {
    "duration": 37,
    "start_time": "2022-08-12T12:57:21.834Z"
   },
   {
    "duration": 61,
    "start_time": "2022-08-12T12:57:21.872Z"
   },
   {
    "duration": 65,
    "start_time": "2022-08-12T12:57:21.935Z"
   },
   {
    "duration": 34,
    "start_time": "2022-08-12T12:57:22.002Z"
   },
   {
    "duration": 67,
    "start_time": "2022-08-12T12:57:22.038Z"
   },
   {
    "duration": 43,
    "start_time": "2022-08-12T12:57:22.107Z"
   },
   {
    "duration": 2261,
    "start_time": "2022-08-12T12:57:22.153Z"
   },
   {
    "duration": 11,
    "start_time": "2022-08-12T12:57:24.416Z"
   },
   {
    "duration": 68,
    "start_time": "2022-08-12T12:57:24.429Z"
   },
   {
    "duration": 7,
    "start_time": "2022-08-12T12:57:24.500Z"
   },
   {
    "duration": 31,
    "start_time": "2022-08-12T12:57:24.510Z"
   },
   {
    "duration": 21,
    "start_time": "2022-08-12T12:57:24.543Z"
   },
   {
    "duration": 13,
    "start_time": "2022-08-12T12:57:24.566Z"
   },
   {
    "duration": 19,
    "start_time": "2022-08-12T12:57:24.587Z"
   },
   {
    "duration": 22,
    "start_time": "2022-08-12T12:57:24.607Z"
   },
   {
    "duration": 19,
    "start_time": "2022-08-12T12:57:24.631Z"
   },
   {
    "duration": 23,
    "start_time": "2022-08-12T12:57:24.652Z"
   },
   {
    "duration": 23,
    "start_time": "2022-08-12T12:57:24.677Z"
   },
   {
    "duration": 26,
    "start_time": "2022-08-12T12:57:24.702Z"
   },
   {
    "duration": 144,
    "start_time": "2022-08-12T12:57:24.729Z"
   },
   {
    "duration": 0,
    "start_time": "2022-08-12T12:57:24.875Z"
   },
   {
    "duration": 0,
    "start_time": "2022-08-12T12:57:24.877Z"
   },
   {
    "duration": 0,
    "start_time": "2022-08-12T12:57:24.879Z"
   },
   {
    "duration": 0,
    "start_time": "2022-08-12T12:57:24.880Z"
   },
   {
    "duration": 0,
    "start_time": "2022-08-12T12:57:24.899Z"
   },
   {
    "duration": 0,
    "start_time": "2022-08-12T12:57:24.901Z"
   },
   {
    "duration": 0,
    "start_time": "2022-08-12T12:57:24.902Z"
   },
   {
    "duration": 0,
    "start_time": "2022-08-12T12:57:24.903Z"
   },
   {
    "duration": 0,
    "start_time": "2022-08-12T12:57:24.904Z"
   },
   {
    "duration": 0,
    "start_time": "2022-08-12T12:57:24.905Z"
   },
   {
    "duration": 0,
    "start_time": "2022-08-12T12:57:24.906Z"
   },
   {
    "duration": 0,
    "start_time": "2022-08-12T12:57:24.907Z"
   },
   {
    "duration": 0,
    "start_time": "2022-08-12T12:57:24.909Z"
   },
   {
    "duration": 0,
    "start_time": "2022-08-12T12:57:24.910Z"
   },
   {
    "duration": 0,
    "start_time": "2022-08-12T12:57:24.911Z"
   },
   {
    "duration": 0,
    "start_time": "2022-08-12T12:57:24.912Z"
   },
   {
    "duration": 0,
    "start_time": "2022-08-12T12:57:24.913Z"
   },
   {
    "duration": 0,
    "start_time": "2022-08-12T12:57:24.914Z"
   },
   {
    "duration": 0,
    "start_time": "2022-08-12T12:57:24.916Z"
   },
   {
    "duration": 0,
    "start_time": "2022-08-12T12:57:24.917Z"
   },
   {
    "duration": 1331,
    "start_time": "2022-08-12T13:00:54.444Z"
   },
   {
    "duration": 21,
    "start_time": "2022-08-12T13:00:55.778Z"
   },
   {
    "duration": 50,
    "start_time": "2022-08-12T13:00:55.801Z"
   },
   {
    "duration": 80,
    "start_time": "2022-08-12T13:00:55.854Z"
   },
   {
    "duration": 40,
    "start_time": "2022-08-12T13:00:55.936Z"
   },
   {
    "duration": 54,
    "start_time": "2022-08-12T13:00:55.978Z"
   },
   {
    "duration": 36,
    "start_time": "2022-08-12T13:00:56.033Z"
   },
   {
    "duration": 36,
    "start_time": "2022-08-12T13:00:56.070Z"
   },
   {
    "duration": 51,
    "start_time": "2022-08-12T13:00:56.108Z"
   },
   {
    "duration": 62,
    "start_time": "2022-08-12T13:00:56.162Z"
   },
   {
    "duration": 40,
    "start_time": "2022-08-12T13:00:56.225Z"
   },
   {
    "duration": 92,
    "start_time": "2022-08-12T13:00:56.266Z"
   },
   {
    "duration": 49,
    "start_time": "2022-08-12T13:00:56.359Z"
   },
   {
    "duration": 35,
    "start_time": "2022-08-12T13:00:56.410Z"
   },
   {
    "duration": 56,
    "start_time": "2022-08-12T13:00:56.446Z"
   },
   {
    "duration": 45,
    "start_time": "2022-08-12T13:00:56.503Z"
   },
   {
    "duration": 63,
    "start_time": "2022-08-12T13:00:56.550Z"
   },
   {
    "duration": 45,
    "start_time": "2022-08-12T13:00:56.615Z"
   },
   {
    "duration": 55,
    "start_time": "2022-08-12T13:00:56.661Z"
   },
   {
    "duration": 2213,
    "start_time": "2022-08-12T13:00:56.718Z"
   },
   {
    "duration": 15,
    "start_time": "2022-08-12T13:00:58.972Z"
   },
   {
    "duration": 70,
    "start_time": "2022-08-12T13:00:58.990Z"
   },
   {
    "duration": 6,
    "start_time": "2022-08-12T13:00:59.062Z"
   },
   {
    "duration": 28,
    "start_time": "2022-08-12T13:00:59.070Z"
   },
   {
    "duration": 19,
    "start_time": "2022-08-12T13:00:59.100Z"
   },
   {
    "duration": 9,
    "start_time": "2022-08-12T13:00:59.120Z"
   },
   {
    "duration": 5,
    "start_time": "2022-08-12T13:00:59.131Z"
   },
   {
    "duration": 10,
    "start_time": "2022-08-12T13:00:59.140Z"
   },
   {
    "duration": 15,
    "start_time": "2022-08-12T13:00:59.151Z"
   },
   {
    "duration": 42,
    "start_time": "2022-08-12T13:00:59.168Z"
   },
   {
    "duration": 7,
    "start_time": "2022-08-12T13:00:59.212Z"
   },
   {
    "duration": 22,
    "start_time": "2022-08-12T13:00:59.221Z"
   },
   {
    "duration": 1757,
    "start_time": "2022-08-12T13:00:59.245Z"
   },
   {
    "duration": 0,
    "start_time": "2022-08-12T13:01:01.004Z"
   },
   {
    "duration": 0,
    "start_time": "2022-08-12T13:01:01.005Z"
   },
   {
    "duration": 0,
    "start_time": "2022-08-12T13:01:01.006Z"
   },
   {
    "duration": 0,
    "start_time": "2022-08-12T13:01:01.007Z"
   },
   {
    "duration": 0,
    "start_time": "2022-08-12T13:01:01.008Z"
   },
   {
    "duration": 0,
    "start_time": "2022-08-12T13:01:01.010Z"
   },
   {
    "duration": 0,
    "start_time": "2022-08-12T13:01:01.011Z"
   },
   {
    "duration": 0,
    "start_time": "2022-08-12T13:01:01.012Z"
   },
   {
    "duration": 0,
    "start_time": "2022-08-12T13:01:01.013Z"
   },
   {
    "duration": 0,
    "start_time": "2022-08-12T13:01:01.014Z"
   },
   {
    "duration": 0,
    "start_time": "2022-08-12T13:01:01.015Z"
   },
   {
    "duration": 0,
    "start_time": "2022-08-12T13:01:01.016Z"
   },
   {
    "duration": 0,
    "start_time": "2022-08-12T13:01:01.017Z"
   },
   {
    "duration": 0,
    "start_time": "2022-08-12T13:01:01.018Z"
   },
   {
    "duration": 0,
    "start_time": "2022-08-12T13:01:01.018Z"
   },
   {
    "duration": 0,
    "start_time": "2022-08-12T13:01:01.019Z"
   },
   {
    "duration": 0,
    "start_time": "2022-08-12T13:01:01.020Z"
   },
   {
    "duration": 0,
    "start_time": "2022-08-12T13:01:01.021Z"
   },
   {
    "duration": 0,
    "start_time": "2022-08-12T13:01:01.022Z"
   },
   {
    "duration": 107,
    "start_time": "2022-08-12T13:04:00.550Z"
   },
   {
    "duration": 12,
    "start_time": "2022-08-12T13:07:49.529Z"
   },
   {
    "duration": 2180,
    "start_time": "2022-08-12T13:08:10.144Z"
   },
   {
    "duration": 2265,
    "start_time": "2022-08-12T13:08:30.354Z"
   },
   {
    "duration": 1181,
    "start_time": "2022-08-12T13:08:54.419Z"
   },
   {
    "duration": 1455,
    "start_time": "2022-08-12T13:09:35.008Z"
   },
   {
    "duration": 1296,
    "start_time": "2022-08-12T13:10:45.162Z"
   },
   {
    "duration": 18,
    "start_time": "2022-08-12T13:10:46.460Z"
   },
   {
    "duration": 61,
    "start_time": "2022-08-12T13:10:46.480Z"
   },
   {
    "duration": 72,
    "start_time": "2022-08-12T13:10:46.544Z"
   },
   {
    "duration": 39,
    "start_time": "2022-08-12T13:10:46.618Z"
   },
   {
    "duration": 59,
    "start_time": "2022-08-12T13:10:46.659Z"
   },
   {
    "duration": 37,
    "start_time": "2022-08-12T13:10:46.720Z"
   },
   {
    "duration": 42,
    "start_time": "2022-08-12T13:10:46.759Z"
   },
   {
    "duration": 53,
    "start_time": "2022-08-12T13:10:46.803Z"
   },
   {
    "duration": 72,
    "start_time": "2022-08-12T13:10:46.859Z"
   },
   {
    "duration": 41,
    "start_time": "2022-08-12T13:10:46.933Z"
   },
   {
    "duration": 82,
    "start_time": "2022-08-12T13:10:46.976Z"
   },
   {
    "duration": 59,
    "start_time": "2022-08-12T13:10:47.060Z"
   },
   {
    "duration": 39,
    "start_time": "2022-08-12T13:10:47.121Z"
   },
   {
    "duration": 58,
    "start_time": "2022-08-12T13:10:47.162Z"
   },
   {
    "duration": 43,
    "start_time": "2022-08-12T13:10:47.222Z"
   },
   {
    "duration": 56,
    "start_time": "2022-08-12T13:10:47.266Z"
   },
   {
    "duration": 42,
    "start_time": "2022-08-12T13:10:47.323Z"
   },
   {
    "duration": 57,
    "start_time": "2022-08-12T13:10:47.367Z"
   },
   {
    "duration": 2229,
    "start_time": "2022-08-12T13:10:47.425Z"
   },
   {
    "duration": 9,
    "start_time": "2022-08-12T13:10:49.655Z"
   },
   {
    "duration": 50,
    "start_time": "2022-08-12T13:10:49.665Z"
   },
   {
    "duration": 4,
    "start_time": "2022-08-12T13:10:49.717Z"
   },
   {
    "duration": 12,
    "start_time": "2022-08-12T13:10:49.723Z"
   },
   {
    "duration": 22,
    "start_time": "2022-08-12T13:10:49.736Z"
   },
   {
    "duration": 7,
    "start_time": "2022-08-12T13:10:49.759Z"
   },
   {
    "duration": 8,
    "start_time": "2022-08-12T13:10:49.767Z"
   },
   {
    "duration": 12,
    "start_time": "2022-08-12T13:10:49.798Z"
   },
   {
    "duration": 16,
    "start_time": "2022-08-12T13:10:49.811Z"
   },
   {
    "duration": 7,
    "start_time": "2022-08-12T13:10:49.829Z"
   },
   {
    "duration": 25,
    "start_time": "2022-08-12T13:10:49.837Z"
   },
   {
    "duration": 139,
    "start_time": "2022-08-12T13:10:49.864Z"
   },
   {
    "duration": 4,
    "start_time": "2022-08-12T13:10:50.005Z"
   },
   {
    "duration": 8,
    "start_time": "2022-08-12T13:10:50.010Z"
   },
   {
    "duration": 7,
    "start_time": "2022-08-12T13:10:50.020Z"
   },
   {
    "duration": 6,
    "start_time": "2022-08-12T13:10:50.029Z"
   },
   {
    "duration": 7,
    "start_time": "2022-08-12T13:10:50.037Z"
   },
   {
    "duration": 13,
    "start_time": "2022-08-12T13:10:50.045Z"
   },
   {
    "duration": 333,
    "start_time": "2022-08-12T13:10:50.060Z"
   },
   {
    "duration": 39,
    "start_time": "2022-08-12T13:10:50.395Z"
   },
   {
    "duration": 1220,
    "start_time": "2022-08-12T13:10:50.435Z"
   },
   {
    "duration": 0,
    "start_time": "2022-08-12T13:10:51.656Z"
   },
   {
    "duration": 0,
    "start_time": "2022-08-12T13:10:51.658Z"
   },
   {
    "duration": 0,
    "start_time": "2022-08-12T13:10:51.659Z"
   },
   {
    "duration": 1,
    "start_time": "2022-08-12T13:10:51.659Z"
   },
   {
    "duration": 0,
    "start_time": "2022-08-12T13:10:51.661Z"
   },
   {
    "duration": 0,
    "start_time": "2022-08-12T13:10:51.662Z"
   },
   {
    "duration": 0,
    "start_time": "2022-08-12T13:10:51.662Z"
   },
   {
    "duration": 0,
    "start_time": "2022-08-12T13:10:51.663Z"
   },
   {
    "duration": 0,
    "start_time": "2022-08-12T13:10:51.664Z"
   },
   {
    "duration": 0,
    "start_time": "2022-08-12T13:10:51.665Z"
   },
   {
    "duration": 0,
    "start_time": "2022-08-12T13:10:51.666Z"
   },
   {
    "duration": 11,
    "start_time": "2022-08-12T13:11:22.449Z"
   },
   {
    "duration": 774,
    "start_time": "2022-08-12T13:11:41.720Z"
   },
   {
    "duration": 6,
    "start_time": "2022-08-12T13:12:44.141Z"
   },
   {
    "duration": 33,
    "start_time": "2022-08-12T13:14:15.743Z"
   },
   {
    "duration": 32,
    "start_time": "2022-08-12T13:14:50.948Z"
   },
   {
    "duration": 1375,
    "start_time": "2022-08-12T13:15:08.568Z"
   },
   {
    "duration": 17,
    "start_time": "2022-08-12T13:15:09.945Z"
   },
   {
    "duration": 66,
    "start_time": "2022-08-12T13:15:09.964Z"
   },
   {
    "duration": 69,
    "start_time": "2022-08-12T13:15:10.033Z"
   },
   {
    "duration": 40,
    "start_time": "2022-08-12T13:15:10.104Z"
   },
   {
    "duration": 64,
    "start_time": "2022-08-12T13:15:10.146Z"
   },
   {
    "duration": 43,
    "start_time": "2022-08-12T13:15:10.211Z"
   },
   {
    "duration": 64,
    "start_time": "2022-08-12T13:15:10.256Z"
   },
   {
    "duration": 15,
    "start_time": "2022-08-12T13:15:10.321Z"
   },
   {
    "duration": 74,
    "start_time": "2022-08-12T13:15:10.339Z"
   },
   {
    "duration": 39,
    "start_time": "2022-08-12T13:15:10.415Z"
   },
   {
    "duration": 65,
    "start_time": "2022-08-12T13:15:10.456Z"
   },
   {
    "duration": 78,
    "start_time": "2022-08-12T13:15:10.523Z"
   },
   {
    "duration": 42,
    "start_time": "2022-08-12T13:15:10.603Z"
   },
   {
    "duration": 53,
    "start_time": "2022-08-12T13:15:10.647Z"
   },
   {
    "duration": 34,
    "start_time": "2022-08-12T13:15:10.701Z"
   },
   {
    "duration": 62,
    "start_time": "2022-08-12T13:15:10.737Z"
   },
   {
    "duration": 35,
    "start_time": "2022-08-12T13:15:10.801Z"
   },
   {
    "duration": 64,
    "start_time": "2022-08-12T13:15:10.838Z"
   },
   {
    "duration": 35,
    "start_time": "2022-08-12T13:15:10.904Z"
   },
   {
    "duration": 2410,
    "start_time": "2022-08-12T13:15:10.940Z"
   },
   {
    "duration": 9,
    "start_time": "2022-08-12T13:15:13.352Z"
   },
   {
    "duration": 70,
    "start_time": "2022-08-12T13:15:13.362Z"
   },
   {
    "duration": 6,
    "start_time": "2022-08-12T13:15:13.435Z"
   },
   {
    "duration": 11,
    "start_time": "2022-08-12T13:15:13.443Z"
   },
   {
    "duration": 47,
    "start_time": "2022-08-12T13:15:13.457Z"
   },
   {
    "duration": 12,
    "start_time": "2022-08-12T13:15:13.506Z"
   },
   {
    "duration": 11,
    "start_time": "2022-08-12T13:15:13.522Z"
   },
   {
    "duration": 15,
    "start_time": "2022-08-12T13:15:13.535Z"
   },
   {
    "duration": 27,
    "start_time": "2022-08-12T13:15:13.552Z"
   },
   {
    "duration": 20,
    "start_time": "2022-08-12T13:15:13.581Z"
   },
   {
    "duration": 24,
    "start_time": "2022-08-12T13:15:13.603Z"
   },
   {
    "duration": 131,
    "start_time": "2022-08-12T13:15:13.629Z"
   },
   {
    "duration": 4,
    "start_time": "2022-08-12T13:15:13.762Z"
   },
   {
    "duration": 10,
    "start_time": "2022-08-12T13:15:13.767Z"
   },
   {
    "duration": 21,
    "start_time": "2022-08-12T13:15:13.779Z"
   },
   {
    "duration": 5,
    "start_time": "2022-08-12T13:15:13.801Z"
   },
   {
    "duration": 8,
    "start_time": "2022-08-12T13:15:13.808Z"
   },
   {
    "duration": 4,
    "start_time": "2022-08-12T13:15:13.817Z"
   },
   {
    "duration": 342,
    "start_time": "2022-08-12T13:15:13.823Z"
   },
   {
    "duration": 42,
    "start_time": "2022-08-12T13:15:14.167Z"
   },
   {
    "duration": 745,
    "start_time": "2022-08-12T13:15:14.211Z"
   },
   {
    "duration": 41,
    "start_time": "2022-08-12T13:15:14.959Z"
   },
   {
    "duration": 310,
    "start_time": "2022-08-12T13:15:15.001Z"
   },
   {
    "duration": 302,
    "start_time": "2022-08-12T13:15:15.312Z"
   },
   {
    "duration": 377,
    "start_time": "2022-08-12T13:15:15.616Z"
   },
   {
    "duration": 291,
    "start_time": "2022-08-12T13:15:15.998Z"
   },
   {
    "duration": 184,
    "start_time": "2022-08-12T13:15:16.291Z"
   },
   {
    "duration": 199,
    "start_time": "2022-08-12T13:15:16.477Z"
   },
   {
    "duration": 192,
    "start_time": "2022-08-12T13:15:16.678Z"
   },
   {
    "duration": 31,
    "start_time": "2022-08-12T13:15:16.872Z"
   },
   {
    "duration": 133,
    "start_time": "2022-08-12T13:15:16.906Z"
   },
   {
    "duration": 0,
    "start_time": "2022-08-12T13:15:17.041Z"
   },
   {
    "duration": 0,
    "start_time": "2022-08-12T13:15:17.043Z"
   },
   {
    "duration": 16,
    "start_time": "2022-08-12T13:18:59.020Z"
   },
   {
    "duration": 245,
    "start_time": "2022-08-12T13:20:45.331Z"
   },
   {
    "duration": 277,
    "start_time": "2022-08-12T13:20:49.165Z"
   },
   {
    "duration": 398,
    "start_time": "2022-08-12T13:20:52.421Z"
   },
   {
    "duration": 263,
    "start_time": "2022-08-12T13:20:56.222Z"
   },
   {
    "duration": 263,
    "start_time": "2022-08-12T13:21:00.624Z"
   },
   {
    "duration": 327,
    "start_time": "2022-08-12T13:21:04.952Z"
   },
   {
    "duration": 276,
    "start_time": "2022-08-12T13:21:19.936Z"
   },
   {
    "duration": 428,
    "start_time": "2022-08-12T13:21:28.360Z"
   },
   {
    "duration": 188,
    "start_time": "2022-08-12T13:22:07.148Z"
   },
   {
    "duration": 171,
    "start_time": "2022-08-12T13:23:09.895Z"
   },
   {
    "duration": 179,
    "start_time": "2022-08-12T13:23:28.678Z"
   },
   {
    "duration": 272,
    "start_time": "2022-08-12T13:24:01.172Z"
   },
   {
    "duration": 186,
    "start_time": "2022-08-12T13:24:08.323Z"
   },
   {
    "duration": 160,
    "start_time": "2022-08-12T13:24:12.349Z"
   },
   {
    "duration": 204,
    "start_time": "2022-08-12T13:24:15.931Z"
   },
   {
    "duration": 162,
    "start_time": "2022-08-12T13:24:19.312Z"
   },
   {
    "duration": 180,
    "start_time": "2022-08-12T13:24:22.140Z"
   },
   {
    "duration": 297,
    "start_time": "2022-08-12T13:24:27.254Z"
   },
   {
    "duration": 177,
    "start_time": "2022-08-12T13:24:33.055Z"
   },
   {
    "duration": 16,
    "start_time": "2022-08-12T13:25:07.602Z"
   },
   {
    "duration": 161,
    "start_time": "2022-08-12T13:25:19.269Z"
   },
   {
    "duration": 164,
    "start_time": "2022-08-12T13:25:37.531Z"
   },
   {
    "duration": 161,
    "start_time": "2022-08-12T13:25:57.859Z"
   },
   {
    "duration": 10,
    "start_time": "2022-08-12T13:28:55.407Z"
   },
   {
    "duration": 1276,
    "start_time": "2022-08-12T13:29:09.188Z"
   },
   {
    "duration": 15,
    "start_time": "2022-08-12T13:29:10.466Z"
   },
   {
    "duration": 58,
    "start_time": "2022-08-12T13:29:10.483Z"
   },
   {
    "duration": 74,
    "start_time": "2022-08-12T13:29:10.544Z"
   },
   {
    "duration": 38,
    "start_time": "2022-08-12T13:29:10.620Z"
   },
   {
    "duration": 56,
    "start_time": "2022-08-12T13:29:10.660Z"
   },
   {
    "duration": 37,
    "start_time": "2022-08-12T13:29:10.718Z"
   },
   {
    "duration": 41,
    "start_time": "2022-08-12T13:29:10.757Z"
   },
   {
    "duration": 53,
    "start_time": "2022-08-12T13:29:10.800Z"
   },
   {
    "duration": 57,
    "start_time": "2022-08-12T13:29:10.857Z"
   },
   {
    "duration": 39,
    "start_time": "2022-08-12T13:29:10.915Z"
   },
   {
    "duration": 81,
    "start_time": "2022-08-12T13:29:10.955Z"
   },
   {
    "duration": 35,
    "start_time": "2022-08-12T13:29:11.038Z"
   },
   {
    "duration": 56,
    "start_time": "2022-08-12T13:29:11.074Z"
   },
   {
    "duration": 34,
    "start_time": "2022-08-12T13:29:11.132Z"
   },
   {
    "duration": 69,
    "start_time": "2022-08-12T13:29:11.167Z"
   },
   {
    "duration": 41,
    "start_time": "2022-08-12T13:29:11.238Z"
   },
   {
    "duration": 44,
    "start_time": "2022-08-12T13:29:11.299Z"
   },
   {
    "duration": 54,
    "start_time": "2022-08-12T13:29:11.345Z"
   },
   {
    "duration": 2380,
    "start_time": "2022-08-12T13:29:11.402Z"
   },
   {
    "duration": 10,
    "start_time": "2022-08-12T13:29:13.783Z"
   },
   {
    "duration": 46,
    "start_time": "2022-08-12T13:29:13.794Z"
   },
   {
    "duration": 5,
    "start_time": "2022-08-12T13:29:13.842Z"
   },
   {
    "duration": 10,
    "start_time": "2022-08-12T13:29:13.849Z"
   },
   {
    "duration": 60,
    "start_time": "2022-08-12T13:29:13.861Z"
   },
   {
    "duration": 7,
    "start_time": "2022-08-12T13:29:13.924Z"
   },
   {
    "duration": 12,
    "start_time": "2022-08-12T13:29:13.932Z"
   },
   {
    "duration": 24,
    "start_time": "2022-08-12T13:29:13.949Z"
   },
   {
    "duration": 21,
    "start_time": "2022-08-12T13:29:13.975Z"
   },
   {
    "duration": 6,
    "start_time": "2022-08-12T13:29:13.998Z"
   },
   {
    "duration": 25,
    "start_time": "2022-08-12T13:29:14.006Z"
   },
   {
    "duration": 129,
    "start_time": "2022-08-12T13:29:14.032Z"
   },
   {
    "duration": 4,
    "start_time": "2022-08-12T13:29:14.163Z"
   },
   {
    "duration": 7,
    "start_time": "2022-08-12T13:29:14.168Z"
   },
   {
    "duration": 24,
    "start_time": "2022-08-12T13:29:14.176Z"
   },
   {
    "duration": 4,
    "start_time": "2022-08-12T13:29:14.202Z"
   },
   {
    "duration": 16,
    "start_time": "2022-08-12T13:29:14.208Z"
   },
   {
    "duration": 5,
    "start_time": "2022-08-12T13:29:14.225Z"
   },
   {
    "duration": 366,
    "start_time": "2022-08-12T13:29:14.232Z"
   },
   {
    "duration": 40,
    "start_time": "2022-08-12T13:29:14.600Z"
   },
   {
    "duration": 727,
    "start_time": "2022-08-12T13:29:14.642Z"
   },
   {
    "duration": 295,
    "start_time": "2022-08-12T13:29:15.371Z"
   },
   {
    "duration": 286,
    "start_time": "2022-08-12T13:29:15.668Z"
   },
   {
    "duration": 369,
    "start_time": "2022-08-12T13:29:15.956Z"
   },
   {
    "duration": 287,
    "start_time": "2022-08-12T13:29:16.327Z"
   },
   {
    "duration": 172,
    "start_time": "2022-08-12T13:29:16.615Z"
   },
   {
    "duration": 186,
    "start_time": "2022-08-12T13:29:16.798Z"
   },
   {
    "duration": 195,
    "start_time": "2022-08-12T13:29:16.986Z"
   },
   {
    "duration": 182,
    "start_time": "2022-08-12T13:29:17.183Z"
   },
   {
    "duration": 55,
    "start_time": "2022-08-12T13:29:17.367Z"
   },
   {
    "duration": 0,
    "start_time": "2022-08-12T13:29:17.424Z"
   },
   {
    "duration": 0,
    "start_time": "2022-08-12T13:29:17.426Z"
   },
   {
    "duration": 0,
    "start_time": "2022-08-12T13:29:17.427Z"
   },
   {
    "duration": 0,
    "start_time": "2022-08-12T13:29:17.429Z"
   },
   {
    "duration": 0,
    "start_time": "2022-08-12T13:29:17.431Z"
   },
   {
    "duration": 18,
    "start_time": "2022-08-12T13:30:02.709Z"
   },
   {
    "duration": 245,
    "start_time": "2022-08-12T13:30:23.817Z"
   },
   {
    "duration": 16,
    "start_time": "2022-08-12T13:33:15.209Z"
   },
   {
    "duration": 180,
    "start_time": "2022-08-12T13:33:40.963Z"
   },
   {
    "duration": 191,
    "start_time": "2022-08-12T13:33:57.473Z"
   },
   {
    "duration": 187,
    "start_time": "2022-08-12T13:34:19.713Z"
   },
   {
    "duration": 456,
    "start_time": "2022-08-12T13:34:26.557Z"
   },
   {
    "duration": 338,
    "start_time": "2022-08-12T13:34:33.239Z"
   },
   {
    "duration": 316,
    "start_time": "2022-08-12T13:34:43.110Z"
   },
   {
    "duration": 279,
    "start_time": "2022-08-12T13:34:47.015Z"
   },
   {
    "duration": 323,
    "start_time": "2022-08-12T13:34:57.228Z"
   },
   {
    "duration": 443,
    "start_time": "2022-08-12T13:35:02.914Z"
   },
   {
    "duration": 560,
    "start_time": "2022-08-12T13:35:33.746Z"
   },
   {
    "duration": 565,
    "start_time": "2022-08-12T13:36:29.862Z"
   },
   {
    "duration": 562,
    "start_time": "2022-08-12T13:36:35.066Z"
   },
   {
    "duration": 683,
    "start_time": "2022-08-12T13:36:41.091Z"
   },
   {
    "duration": 562,
    "start_time": "2022-08-12T13:36:48.110Z"
   },
   {
    "duration": 162,
    "start_time": "2022-08-12T13:40:08.047Z"
   },
   {
    "duration": 28,
    "start_time": "2022-08-12T13:44:16.979Z"
   },
   {
    "duration": 27,
    "start_time": "2022-08-12T13:45:04.058Z"
   },
   {
    "duration": 27,
    "start_time": "2022-08-12T13:45:08.363Z"
   },
   {
    "duration": 8,
    "start_time": "2022-08-12T13:45:17.401Z"
   },
   {
    "duration": 28,
    "start_time": "2022-08-12T13:46:04.364Z"
   },
   {
    "duration": 164,
    "start_time": "2022-08-12T13:47:47.608Z"
   },
   {
    "duration": 1452,
    "start_time": "2022-08-12T18:24:07.239Z"
   },
   {
    "duration": 21,
    "start_time": "2022-08-12T18:24:08.693Z"
   },
   {
    "duration": 57,
    "start_time": "2022-08-12T18:24:08.716Z"
   },
   {
    "duration": 60,
    "start_time": "2022-08-12T18:24:08.775Z"
   },
   {
    "duration": 38,
    "start_time": "2022-08-12T18:24:08.837Z"
   },
   {
    "duration": 58,
    "start_time": "2022-08-12T18:24:08.876Z"
   },
   {
    "duration": 33,
    "start_time": "2022-08-12T18:24:08.935Z"
   },
   {
    "duration": 32,
    "start_time": "2022-08-12T18:24:08.970Z"
   },
   {
    "duration": 58,
    "start_time": "2022-08-12T18:24:09.004Z"
   },
   {
    "duration": 48,
    "start_time": "2022-08-12T18:24:09.064Z"
   },
   {
    "duration": 37,
    "start_time": "2022-08-12T18:24:09.114Z"
   },
   {
    "duration": 84,
    "start_time": "2022-08-12T18:24:09.153Z"
   },
   {
    "duration": 33,
    "start_time": "2022-08-12T18:24:09.238Z"
   },
   {
    "duration": 60,
    "start_time": "2022-08-12T18:24:09.273Z"
   },
   {
    "duration": 31,
    "start_time": "2022-08-12T18:24:09.334Z"
   },
   {
    "duration": 73,
    "start_time": "2022-08-12T18:24:09.367Z"
   },
   {
    "duration": 32,
    "start_time": "2022-08-12T18:24:09.442Z"
   },
   {
    "duration": 60,
    "start_time": "2022-08-12T18:24:09.476Z"
   },
   {
    "duration": 35,
    "start_time": "2022-08-12T18:24:09.538Z"
   },
   {
    "duration": 2145,
    "start_time": "2022-08-12T18:24:09.575Z"
   },
   {
    "duration": 8,
    "start_time": "2022-08-12T18:24:11.722Z"
   },
   {
    "duration": 40,
    "start_time": "2022-08-12T18:24:11.731Z"
   },
   {
    "duration": 32,
    "start_time": "2022-08-12T18:24:11.773Z"
   },
   {
    "duration": 21,
    "start_time": "2022-08-12T18:24:11.806Z"
   },
   {
    "duration": 20,
    "start_time": "2022-08-12T18:24:11.829Z"
   },
   {
    "duration": 5,
    "start_time": "2022-08-12T18:24:11.851Z"
   },
   {
    "duration": 10,
    "start_time": "2022-08-12T18:24:11.857Z"
   },
   {
    "duration": 16,
    "start_time": "2022-08-12T18:24:11.871Z"
   },
   {
    "duration": 41,
    "start_time": "2022-08-12T18:24:11.889Z"
   },
   {
    "duration": 8,
    "start_time": "2022-08-12T18:24:11.932Z"
   },
   {
    "duration": 26,
    "start_time": "2022-08-12T18:24:11.942Z"
   },
   {
    "duration": 113,
    "start_time": "2022-08-12T18:24:11.970Z"
   },
   {
    "duration": 4,
    "start_time": "2022-08-12T18:24:12.084Z"
   },
   {
    "duration": 26,
    "start_time": "2022-08-12T18:24:12.089Z"
   },
   {
    "duration": 7,
    "start_time": "2022-08-12T18:24:12.116Z"
   },
   {
    "duration": 4,
    "start_time": "2022-08-12T18:24:12.124Z"
   },
   {
    "duration": 6,
    "start_time": "2022-08-12T18:24:12.129Z"
   },
   {
    "duration": 5,
    "start_time": "2022-08-12T18:24:12.136Z"
   },
   {
    "duration": 312,
    "start_time": "2022-08-12T18:24:12.142Z"
   },
   {
    "duration": 31,
    "start_time": "2022-08-12T18:24:12.455Z"
   },
   {
    "duration": 661,
    "start_time": "2022-08-12T18:24:12.488Z"
   },
   {
    "duration": 291,
    "start_time": "2022-08-12T18:24:13.151Z"
   },
   {
    "duration": 269,
    "start_time": "2022-08-12T18:24:13.443Z"
   },
   {
    "duration": 339,
    "start_time": "2022-08-12T18:24:13.714Z"
   },
   {
    "duration": 273,
    "start_time": "2022-08-12T18:24:14.054Z"
   },
   {
    "duration": 174,
    "start_time": "2022-08-12T18:24:14.328Z"
   },
   {
    "duration": 207,
    "start_time": "2022-08-12T18:24:14.503Z"
   },
   {
    "duration": 179,
    "start_time": "2022-08-12T18:24:14.711Z"
   },
   {
    "duration": 171,
    "start_time": "2022-08-12T18:24:14.891Z"
   },
   {
    "duration": 175,
    "start_time": "2022-08-12T18:24:15.064Z"
   },
   {
    "duration": 179,
    "start_time": "2022-08-12T18:24:15.241Z"
   },
   {
    "duration": 156,
    "start_time": "2022-08-12T18:24:15.421Z"
   },
   {
    "duration": 405,
    "start_time": "2022-08-12T18:24:15.578Z"
   },
   {
    "duration": 534,
    "start_time": "2022-08-12T18:24:15.984Z"
   },
   {
    "duration": 167,
    "start_time": "2022-08-12T18:24:16.520Z"
   },
   {
    "duration": 28,
    "start_time": "2022-08-12T18:24:16.697Z"
   },
   {
    "duration": 157,
    "start_time": "2022-08-12T18:24:16.726Z"
   },
   {
    "duration": 103,
    "start_time": "2022-08-12T18:24:16.885Z"
   },
   {
    "duration": 251,
    "start_time": "2022-08-12T18:25:22.239Z"
   },
   {
    "duration": 23,
    "start_time": "2022-08-12T18:25:27.541Z"
   },
   {
    "duration": 17,
    "start_time": "2022-08-12T18:26:28.413Z"
   },
   {
    "duration": 403,
    "start_time": "2022-08-12T18:26:49.726Z"
   },
   {
    "duration": 99,
    "start_time": "2022-08-12T18:27:01.779Z"
   },
   {
    "duration": 163,
    "start_time": "2022-08-12T18:28:32.857Z"
   },
   {
    "duration": 238,
    "start_time": "2022-08-12T18:28:41.513Z"
   },
   {
    "duration": 90,
    "start_time": "2022-08-12T18:28:55.438Z"
   },
   {
    "duration": 240,
    "start_time": "2022-08-12T18:29:02.652Z"
   },
   {
    "duration": 168,
    "start_time": "2022-08-12T18:30:10.918Z"
   },
   {
    "duration": 171,
    "start_time": "2022-08-12T18:30:20.060Z"
   },
   {
    "duration": 149,
    "start_time": "2022-08-12T18:30:24.611Z"
   },
   {
    "duration": 137,
    "start_time": "2022-08-12T18:30:40.418Z"
   },
   {
    "duration": 146,
    "start_time": "2022-08-12T18:30:43.772Z"
   },
   {
    "duration": 142,
    "start_time": "2022-08-12T18:30:47.938Z"
   },
   {
    "duration": 151,
    "start_time": "2022-08-12T18:30:50.892Z"
   },
   {
    "duration": 306,
    "start_time": "2022-08-12T18:30:54.224Z"
   },
   {
    "duration": 514,
    "start_time": "2022-08-12T18:32:43.847Z"
   },
   {
    "duration": 503,
    "start_time": "2022-08-12T18:32:59.081Z"
   },
   {
    "duration": 530,
    "start_time": "2022-08-12T18:33:11.362Z"
   },
   {
    "duration": 90,
    "start_time": "2022-08-12T18:37:36.396Z"
   },
   {
    "duration": 7,
    "start_time": "2022-08-12T18:57:03.269Z"
   },
   {
    "duration": 6,
    "start_time": "2022-08-12T18:57:28.878Z"
   },
   {
    "duration": 6,
    "start_time": "2022-08-12T18:57:34.623Z"
   },
   {
    "duration": 8,
    "start_time": "2022-08-12T18:57:36.813Z"
   },
   {
    "duration": 8,
    "start_time": "2022-08-12T18:57:41.942Z"
   },
   {
    "duration": 5,
    "start_time": "2022-08-12T18:57:43.762Z"
   },
   {
    "duration": 1177,
    "start_time": "2022-08-12T18:59:24.832Z"
   },
   {
    "duration": 17,
    "start_time": "2022-08-12T18:59:26.011Z"
   },
   {
    "duration": 45,
    "start_time": "2022-08-12T18:59:26.030Z"
   },
   {
    "duration": 76,
    "start_time": "2022-08-12T18:59:26.078Z"
   },
   {
    "duration": 53,
    "start_time": "2022-08-12T18:59:26.156Z"
   },
   {
    "duration": 36,
    "start_time": "2022-08-12T18:59:26.211Z"
   },
   {
    "duration": 34,
    "start_time": "2022-08-12T18:59:26.248Z"
   },
   {
    "duration": 37,
    "start_time": "2022-08-12T18:59:26.283Z"
   },
   {
    "duration": 45,
    "start_time": "2022-08-12T18:59:26.321Z"
   },
   {
    "duration": 67,
    "start_time": "2022-08-12T18:59:26.368Z"
   },
   {
    "duration": 37,
    "start_time": "2022-08-12T18:59:26.436Z"
   },
   {
    "duration": 70,
    "start_time": "2022-08-12T18:59:26.475Z"
   },
   {
    "duration": 36,
    "start_time": "2022-08-12T18:59:26.546Z"
   },
   {
    "duration": 50,
    "start_time": "2022-08-12T18:59:26.584Z"
   },
   {
    "duration": 33,
    "start_time": "2022-08-12T18:59:26.635Z"
   },
   {
    "duration": 61,
    "start_time": "2022-08-12T18:59:26.669Z"
   },
   {
    "duration": 30,
    "start_time": "2022-08-12T18:59:26.731Z"
   },
   {
    "duration": 61,
    "start_time": "2022-08-12T18:59:26.763Z"
   },
   {
    "duration": 34,
    "start_time": "2022-08-12T18:59:26.825Z"
   },
   {
    "duration": 2097,
    "start_time": "2022-08-12T18:59:26.861Z"
   },
   {
    "duration": 10,
    "start_time": "2022-08-12T18:59:28.960Z"
   },
   {
    "duration": 61,
    "start_time": "2022-08-12T18:59:28.972Z"
   },
   {
    "duration": 4,
    "start_time": "2022-08-12T18:59:29.035Z"
   },
   {
    "duration": 17,
    "start_time": "2022-08-12T18:59:29.041Z"
   },
   {
    "duration": 17,
    "start_time": "2022-08-12T18:59:29.060Z"
   },
   {
    "duration": 5,
    "start_time": "2022-08-12T18:59:29.079Z"
   },
   {
    "duration": 21,
    "start_time": "2022-08-12T18:59:29.098Z"
   },
   {
    "duration": 14,
    "start_time": "2022-08-12T18:59:29.124Z"
   },
   {
    "duration": 16,
    "start_time": "2022-08-12T18:59:29.139Z"
   },
   {
    "duration": 6,
    "start_time": "2022-08-12T18:59:29.157Z"
   },
   {
    "duration": 43,
    "start_time": "2022-08-12T18:59:29.165Z"
   },
   {
    "duration": 248,
    "start_time": "2022-08-12T18:59:29.210Z"
   },
   {
    "duration": 4,
    "start_time": "2022-08-12T18:59:29.460Z"
   },
   {
    "duration": 8,
    "start_time": "2022-08-12T18:59:29.465Z"
   },
   {
    "duration": 11,
    "start_time": "2022-08-12T18:59:29.475Z"
   },
   {
    "duration": 27,
    "start_time": "2022-08-12T18:59:29.488Z"
   },
   {
    "duration": 12,
    "start_time": "2022-08-12T18:59:29.516Z"
   },
   {
    "duration": 9,
    "start_time": "2022-08-12T18:59:29.529Z"
   },
   {
    "duration": 6,
    "start_time": "2022-08-12T18:59:29.540Z"
   },
   {
    "duration": 360,
    "start_time": "2022-08-12T18:59:29.548Z"
   },
   {
    "duration": 41,
    "start_time": "2022-08-12T18:59:29.910Z"
   },
   {
    "duration": 650,
    "start_time": "2022-08-12T18:59:29.952Z"
   },
   {
    "duration": 362,
    "start_time": "2022-08-12T18:59:30.603Z"
   },
   {
    "duration": 276,
    "start_time": "2022-08-12T18:59:30.967Z"
   },
   {
    "duration": 276,
    "start_time": "2022-08-12T18:59:31.244Z"
   },
   {
    "duration": 268,
    "start_time": "2022-08-12T18:59:31.521Z"
   },
   {
    "duration": 161,
    "start_time": "2022-08-12T18:59:31.791Z"
   },
   {
    "duration": 188,
    "start_time": "2022-08-12T18:59:31.954Z"
   },
   {
    "duration": 181,
    "start_time": "2022-08-12T18:59:32.143Z"
   },
   {
    "duration": 289,
    "start_time": "2022-08-12T18:59:32.325Z"
   },
   {
    "duration": 164,
    "start_time": "2022-08-12T18:59:32.615Z"
   },
   {
    "duration": 164,
    "start_time": "2022-08-12T18:59:32.781Z"
   },
   {
    "duration": 174,
    "start_time": "2022-08-12T18:59:32.946Z"
   },
   {
    "duration": 165,
    "start_time": "2022-08-12T18:59:33.123Z"
   },
   {
    "duration": 404,
    "start_time": "2022-08-12T18:59:33.290Z"
   },
   {
    "duration": 0,
    "start_time": "2022-08-12T18:59:33.696Z"
   },
   {
    "duration": 0,
    "start_time": "2022-08-12T18:59:33.698Z"
   },
   {
    "duration": 0,
    "start_time": "2022-08-12T18:59:33.698Z"
   },
   {
    "duration": 0,
    "start_time": "2022-08-12T18:59:33.699Z"
   },
   {
    "duration": 749,
    "start_time": "2022-08-12T19:00:05.632Z"
   },
   {
    "duration": 21,
    "start_time": "2022-08-12T19:00:06.383Z"
   },
   {
    "duration": 44,
    "start_time": "2022-08-12T19:00:06.406Z"
   },
   {
    "duration": 70,
    "start_time": "2022-08-12T19:00:06.452Z"
   },
   {
    "duration": 36,
    "start_time": "2022-08-12T19:00:06.523Z"
   },
   {
    "duration": 52,
    "start_time": "2022-08-12T19:00:06.560Z"
   },
   {
    "duration": 34,
    "start_time": "2022-08-12T19:00:06.614Z"
   },
   {
    "duration": 13,
    "start_time": "2022-08-12T19:00:06.650Z"
   },
   {
    "duration": 70,
    "start_time": "2022-08-12T19:00:06.665Z"
   },
   {
    "duration": 32,
    "start_time": "2022-08-12T19:00:06.738Z"
   },
   {
    "duration": 51,
    "start_time": "2022-08-12T19:00:06.772Z"
   },
   {
    "duration": 58,
    "start_time": "2022-08-12T19:00:06.824Z"
   },
   {
    "duration": 38,
    "start_time": "2022-08-12T19:00:06.904Z"
   },
   {
    "duration": 33,
    "start_time": "2022-08-12T19:00:06.943Z"
   },
   {
    "duration": 54,
    "start_time": "2022-08-12T19:00:06.978Z"
   },
   {
    "duration": 66,
    "start_time": "2022-08-12T19:00:07.034Z"
   },
   {
    "duration": 40,
    "start_time": "2022-08-12T19:00:07.101Z"
   },
   {
    "duration": 68,
    "start_time": "2022-08-12T19:00:07.143Z"
   },
   {
    "duration": 36,
    "start_time": "2022-08-12T19:00:07.212Z"
   },
   {
    "duration": 2166,
    "start_time": "2022-08-12T19:00:07.249Z"
   },
   {
    "duration": 10,
    "start_time": "2022-08-12T19:00:09.417Z"
   },
   {
    "duration": 52,
    "start_time": "2022-08-12T19:00:09.429Z"
   },
   {
    "duration": 29,
    "start_time": "2022-08-12T19:00:09.484Z"
   },
   {
    "duration": 12,
    "start_time": "2022-08-12T19:00:09.515Z"
   },
   {
    "duration": 17,
    "start_time": "2022-08-12T19:00:09.531Z"
   },
   {
    "duration": 6,
    "start_time": "2022-08-12T19:00:09.549Z"
   },
   {
    "duration": 7,
    "start_time": "2022-08-12T19:00:09.556Z"
   },
   {
    "duration": 15,
    "start_time": "2022-08-12T19:00:09.566Z"
   },
   {
    "duration": 21,
    "start_time": "2022-08-12T19:00:09.605Z"
   },
   {
    "duration": 8,
    "start_time": "2022-08-12T19:00:09.628Z"
   },
   {
    "duration": 30,
    "start_time": "2022-08-12T19:00:09.637Z"
   },
   {
    "duration": 285,
    "start_time": "2022-08-12T19:00:09.668Z"
   },
   {
    "duration": 4,
    "start_time": "2022-08-12T19:00:09.955Z"
   },
   {
    "duration": 10,
    "start_time": "2022-08-12T19:00:09.961Z"
   },
   {
    "duration": 6,
    "start_time": "2022-08-12T19:00:09.973Z"
   },
   {
    "duration": 28,
    "start_time": "2022-08-12T19:00:09.981Z"
   },
   {
    "duration": 13,
    "start_time": "2022-08-12T19:00:10.011Z"
   },
   {
    "duration": 6,
    "start_time": "2022-08-12T19:00:10.026Z"
   },
   {
    "duration": 8,
    "start_time": "2022-08-12T19:00:10.034Z"
   },
   {
    "duration": 498,
    "start_time": "2022-08-12T19:00:10.044Z"
   },
   {
    "duration": 39,
    "start_time": "2022-08-12T19:00:10.544Z"
   },
   {
    "duration": 641,
    "start_time": "2022-08-12T19:00:10.612Z"
   },
   {
    "duration": 298,
    "start_time": "2022-08-12T19:00:11.254Z"
   },
   {
    "duration": 268,
    "start_time": "2022-08-12T19:00:11.554Z"
   },
   {
    "duration": 259,
    "start_time": "2022-08-12T19:00:11.824Z"
   },
   {
    "duration": 352,
    "start_time": "2022-08-12T19:00:12.085Z"
   },
   {
    "duration": 173,
    "start_time": "2022-08-12T19:00:12.438Z"
   },
   {
    "duration": 182,
    "start_time": "2022-08-12T19:00:12.614Z"
   },
   {
    "duration": 191,
    "start_time": "2022-08-12T19:00:12.798Z"
   },
   {
    "duration": 200,
    "start_time": "2022-08-12T19:00:12.992Z"
   },
   {
    "duration": 169,
    "start_time": "2022-08-12T19:00:13.193Z"
   },
   {
    "duration": 172,
    "start_time": "2022-08-12T19:00:13.365Z"
   },
   {
    "duration": 173,
    "start_time": "2022-08-12T19:00:13.539Z"
   },
   {
    "duration": 177,
    "start_time": "2022-08-12T19:00:13.714Z"
   },
   {
    "duration": 369,
    "start_time": "2022-08-12T19:00:13.892Z"
   },
   {
    "duration": 0,
    "start_time": "2022-08-12T19:00:14.263Z"
   },
   {
    "duration": 0,
    "start_time": "2022-08-12T19:00:14.264Z"
   },
   {
    "duration": 0,
    "start_time": "2022-08-12T19:00:14.265Z"
   },
   {
    "duration": 0,
    "start_time": "2022-08-12T19:00:14.266Z"
   },
   {
    "duration": 287,
    "start_time": "2022-08-12T19:00:30.497Z"
   },
   {
    "duration": 183,
    "start_time": "2022-08-12T19:00:36.944Z"
   },
   {
    "duration": 197,
    "start_time": "2022-08-12T19:01:29.851Z"
   },
   {
    "duration": 132,
    "start_time": "2022-08-12T19:02:08.680Z"
   },
   {
    "duration": 180,
    "start_time": "2022-08-12T19:02:14.736Z"
   },
   {
    "duration": 633,
    "start_time": "2022-08-12T19:05:26.953Z"
   },
   {
    "duration": 13,
    "start_time": "2022-08-12T19:05:27.587Z"
   },
   {
    "duration": 40,
    "start_time": "2022-08-12T19:05:27.601Z"
   },
   {
    "duration": 61,
    "start_time": "2022-08-12T19:05:27.643Z"
   },
   {
    "duration": 34,
    "start_time": "2022-08-12T19:05:27.706Z"
   },
   {
    "duration": 57,
    "start_time": "2022-08-12T19:05:27.741Z"
   },
   {
    "duration": 33,
    "start_time": "2022-08-12T19:05:27.800Z"
   },
   {
    "duration": 12,
    "start_time": "2022-08-12T19:05:27.835Z"
   },
   {
    "duration": 65,
    "start_time": "2022-08-12T19:05:27.848Z"
   },
   {
    "duration": 30,
    "start_time": "2022-08-12T19:05:27.916Z"
   },
   {
    "duration": 56,
    "start_time": "2022-08-12T19:05:27.948Z"
   },
   {
    "duration": 52,
    "start_time": "2022-08-12T19:05:28.005Z"
   },
   {
    "duration": 46,
    "start_time": "2022-08-12T19:05:28.058Z"
   },
   {
    "duration": 28,
    "start_time": "2022-08-12T19:05:28.105Z"
   },
   {
    "duration": 29,
    "start_time": "2022-08-12T19:05:28.134Z"
   },
   {
    "duration": 62,
    "start_time": "2022-08-12T19:05:28.165Z"
   },
   {
    "duration": 27,
    "start_time": "2022-08-12T19:05:28.229Z"
   },
   {
    "duration": 57,
    "start_time": "2022-08-12T19:05:28.258Z"
   },
   {
    "duration": 29,
    "start_time": "2022-08-12T19:05:28.316Z"
   },
   {
    "duration": 1789,
    "start_time": "2022-08-12T19:05:28.347Z"
   },
   {
    "duration": 7,
    "start_time": "2022-08-12T19:05:30.138Z"
   },
   {
    "duration": 57,
    "start_time": "2022-08-12T19:05:30.147Z"
   },
   {
    "duration": 4,
    "start_time": "2022-08-12T19:05:30.205Z"
   },
   {
    "duration": 34,
    "start_time": "2022-08-12T19:05:30.210Z"
   },
   {
    "duration": 37,
    "start_time": "2022-08-12T19:05:30.246Z"
   },
   {
    "duration": 5,
    "start_time": "2022-08-12T19:05:30.284Z"
   },
   {
    "duration": 13,
    "start_time": "2022-08-12T19:05:30.290Z"
   },
   {
    "duration": 27,
    "start_time": "2022-08-12T19:05:30.306Z"
   },
   {
    "duration": 38,
    "start_time": "2022-08-12T19:05:30.334Z"
   },
   {
    "duration": 6,
    "start_time": "2022-08-12T19:05:30.373Z"
   },
   {
    "duration": 38,
    "start_time": "2022-08-12T19:05:30.380Z"
   },
   {
    "duration": 212,
    "start_time": "2022-08-12T19:05:30.420Z"
   },
   {
    "duration": 4,
    "start_time": "2022-08-12T19:05:30.633Z"
   },
   {
    "duration": 9,
    "start_time": "2022-08-12T19:05:30.638Z"
   },
   {
    "duration": 13,
    "start_time": "2022-08-12T19:05:30.649Z"
   },
   {
    "duration": 9,
    "start_time": "2022-08-12T19:05:30.663Z"
   },
   {
    "duration": 7,
    "start_time": "2022-08-12T19:05:30.673Z"
   },
   {
    "duration": 32,
    "start_time": "2022-08-12T19:05:30.681Z"
   },
   {
    "duration": 21,
    "start_time": "2022-08-12T19:05:30.714Z"
   },
   {
    "duration": 405,
    "start_time": "2022-08-12T19:05:30.736Z"
   },
   {
    "duration": 33,
    "start_time": "2022-08-12T19:05:31.143Z"
   },
   {
    "duration": 578,
    "start_time": "2022-08-12T19:05:31.177Z"
   },
   {
    "duration": 253,
    "start_time": "2022-08-12T19:05:31.756Z"
   },
   {
    "duration": 242,
    "start_time": "2022-08-12T19:05:32.010Z"
   },
   {
    "duration": 224,
    "start_time": "2022-08-12T19:05:32.254Z"
   },
   {
    "duration": 305,
    "start_time": "2022-08-12T19:05:32.479Z"
   },
   {
    "duration": 145,
    "start_time": "2022-08-12T19:05:32.786Z"
   },
   {
    "duration": 167,
    "start_time": "2022-08-12T19:05:32.932Z"
   },
   {
    "duration": 154,
    "start_time": "2022-08-12T19:05:33.100Z"
   },
   {
    "duration": 168,
    "start_time": "2022-08-12T19:05:33.256Z"
   },
   {
    "duration": 140,
    "start_time": "2022-08-12T19:05:33.425Z"
   },
   {
    "duration": 140,
    "start_time": "2022-08-12T19:05:33.567Z"
   },
   {
    "duration": 139,
    "start_time": "2022-08-12T19:05:33.709Z"
   },
   {
    "duration": 155,
    "start_time": "2022-08-12T19:05:33.849Z"
   },
   {
    "duration": 162,
    "start_time": "2022-08-12T19:05:34.005Z"
   },
   {
    "duration": 657,
    "start_time": "2022-08-12T19:05:34.168Z"
   },
   {
    "duration": 148,
    "start_time": "2022-08-12T19:05:34.826Z"
   },
   {
    "duration": 30,
    "start_time": "2022-08-12T19:05:34.976Z"
   },
   {
    "duration": 140,
    "start_time": "2022-08-12T19:05:35.008Z"
   },
   {
    "duration": 700,
    "start_time": "2022-08-12T22:08:52.744Z"
   },
   {
    "duration": 15,
    "start_time": "2022-08-12T22:08:53.446Z"
   },
   {
    "duration": 58,
    "start_time": "2022-08-12T22:08:53.463Z"
   },
   {
    "duration": 46,
    "start_time": "2022-08-12T22:08:53.523Z"
   },
   {
    "duration": 51,
    "start_time": "2022-08-12T22:08:53.570Z"
   },
   {
    "duration": 35,
    "start_time": "2022-08-12T22:08:53.623Z"
   },
   {
    "duration": 60,
    "start_time": "2022-08-12T22:08:53.660Z"
   },
   {
    "duration": 12,
    "start_time": "2022-08-12T22:08:53.722Z"
   },
   {
    "duration": 52,
    "start_time": "2022-08-12T22:08:53.736Z"
   },
   {
    "duration": 55,
    "start_time": "2022-08-12T22:08:53.790Z"
   },
   {
    "duration": 59,
    "start_time": "2022-08-12T22:08:53.847Z"
   },
   {
    "duration": 59,
    "start_time": "2022-08-12T22:08:53.907Z"
   },
   {
    "duration": 44,
    "start_time": "2022-08-12T22:08:53.967Z"
   },
   {
    "duration": 38,
    "start_time": "2022-08-12T22:08:54.013Z"
   },
   {
    "duration": 54,
    "start_time": "2022-08-12T22:08:54.053Z"
   },
   {
    "duration": 41,
    "start_time": "2022-08-12T22:08:54.109Z"
   },
   {
    "duration": 32,
    "start_time": "2022-08-12T22:08:54.152Z"
   },
   {
    "duration": 61,
    "start_time": "2022-08-12T22:08:54.186Z"
   },
   {
    "duration": 35,
    "start_time": "2022-08-12T22:08:54.248Z"
   },
   {
    "duration": 2133,
    "start_time": "2022-08-12T22:08:54.284Z"
   },
   {
    "duration": 8,
    "start_time": "2022-08-12T22:08:56.419Z"
   },
   {
    "duration": 48,
    "start_time": "2022-08-12T22:08:56.429Z"
   },
   {
    "duration": 27,
    "start_time": "2022-08-12T22:08:56.480Z"
   },
   {
    "duration": 10,
    "start_time": "2022-08-12T22:08:56.509Z"
   },
   {
    "duration": 18,
    "start_time": "2022-08-12T22:08:56.520Z"
   },
   {
    "duration": 5,
    "start_time": "2022-08-12T22:08:56.540Z"
   },
   {
    "duration": 16,
    "start_time": "2022-08-12T22:08:56.547Z"
   },
   {
    "duration": 14,
    "start_time": "2022-08-12T22:08:56.567Z"
   },
   {
    "duration": 34,
    "start_time": "2022-08-12T22:08:56.582Z"
   },
   {
    "duration": 6,
    "start_time": "2022-08-12T22:08:56.617Z"
   },
   {
    "duration": 21,
    "start_time": "2022-08-12T22:08:56.625Z"
   },
   {
    "duration": 273,
    "start_time": "2022-08-12T22:08:56.648Z"
   },
   {
    "duration": 4,
    "start_time": "2022-08-12T22:08:56.923Z"
   },
   {
    "duration": 7,
    "start_time": "2022-08-12T22:08:56.928Z"
   },
   {
    "duration": 7,
    "start_time": "2022-08-12T22:08:56.937Z"
   },
   {
    "duration": 8,
    "start_time": "2022-08-12T22:08:56.946Z"
   },
   {
    "duration": 5,
    "start_time": "2022-08-12T22:08:56.955Z"
   },
   {
    "duration": 5,
    "start_time": "2022-08-12T22:08:56.961Z"
   },
   {
    "duration": 5,
    "start_time": "2022-08-12T22:08:56.967Z"
   },
   {
    "duration": 419,
    "start_time": "2022-08-12T22:08:56.974Z"
   },
   {
    "duration": 41,
    "start_time": "2022-08-12T22:08:57.394Z"
   },
   {
    "duration": 665,
    "start_time": "2022-08-12T22:08:57.436Z"
   },
   {
    "duration": 310,
    "start_time": "2022-08-12T22:08:58.102Z"
   },
   {
    "duration": 283,
    "start_time": "2022-08-12T22:08:58.414Z"
   },
   {
    "duration": 286,
    "start_time": "2022-08-12T22:08:58.699Z"
   },
   {
    "duration": 386,
    "start_time": "2022-08-12T22:08:58.987Z"
   },
   {
    "duration": 169,
    "start_time": "2022-08-12T22:08:59.374Z"
   },
   {
    "duration": 186,
    "start_time": "2022-08-12T22:08:59.545Z"
   },
   {
    "duration": 196,
    "start_time": "2022-08-12T22:08:59.733Z"
   },
   {
    "duration": 196,
    "start_time": "2022-08-12T22:08:59.931Z"
   },
   {
    "duration": 164,
    "start_time": "2022-08-12T22:09:00.129Z"
   },
   {
    "duration": 148,
    "start_time": "2022-08-12T22:09:00.295Z"
   },
   {
    "duration": 146,
    "start_time": "2022-08-12T22:09:00.445Z"
   },
   {
    "duration": 158,
    "start_time": "2022-08-12T22:09:00.593Z"
   },
   {
    "duration": 176,
    "start_time": "2022-08-12T22:09:00.753Z"
   },
   {
    "duration": 688,
    "start_time": "2022-08-12T22:09:00.930Z"
   },
   {
    "duration": 160,
    "start_time": "2022-08-12T22:09:01.620Z"
   },
   {
    "duration": 32,
    "start_time": "2022-08-12T22:09:01.781Z"
   },
   {
    "duration": 172,
    "start_time": "2022-08-12T22:09:01.814Z"
   },
   {
    "duration": 77,
    "start_time": "2022-08-12T22:10:44.456Z"
   },
   {
    "duration": 35,
    "start_time": "2022-08-12T22:13:48.564Z"
   },
   {
    "duration": 140,
    "start_time": "2022-08-12T22:18:45.023Z"
   },
   {
    "duration": 49,
    "start_time": "2022-08-13T06:03:00.275Z"
   },
   {
    "duration": 7,
    "start_time": "2022-08-13T06:03:10.319Z"
   },
   {
    "duration": 648,
    "start_time": "2022-08-13T06:03:54.418Z"
   },
   {
    "duration": 13,
    "start_time": "2022-08-13T06:03:55.068Z"
   },
   {
    "duration": 44,
    "start_time": "2022-08-13T06:03:55.082Z"
   },
   {
    "duration": 47,
    "start_time": "2022-08-13T06:03:55.127Z"
   },
   {
    "duration": 53,
    "start_time": "2022-08-13T06:03:55.176Z"
   },
   {
    "duration": 32,
    "start_time": "2022-08-13T06:03:55.230Z"
   },
   {
    "duration": 53,
    "start_time": "2022-08-13T06:03:55.264Z"
   },
   {
    "duration": 13,
    "start_time": "2022-08-13T06:03:55.319Z"
   },
   {
    "duration": 43,
    "start_time": "2022-08-13T06:03:55.334Z"
   },
   {
    "duration": 50,
    "start_time": "2022-08-13T06:03:55.379Z"
   },
   {
    "duration": 32,
    "start_time": "2022-08-13T06:03:55.430Z"
   },
   {
    "duration": 79,
    "start_time": "2022-08-13T06:03:55.463Z"
   },
   {
    "duration": 28,
    "start_time": "2022-08-13T06:03:55.543Z"
   },
   {
    "duration": 47,
    "start_time": "2022-08-13T06:03:55.572Z"
   },
   {
    "duration": 27,
    "start_time": "2022-08-13T06:03:55.621Z"
   },
   {
    "duration": 51,
    "start_time": "2022-08-13T06:03:55.649Z"
   },
   {
    "duration": 29,
    "start_time": "2022-08-13T06:03:55.702Z"
   },
   {
    "duration": 34,
    "start_time": "2022-08-13T06:03:55.733Z"
   },
   {
    "duration": 52,
    "start_time": "2022-08-13T06:03:55.769Z"
   },
   {
    "duration": 1776,
    "start_time": "2022-08-13T06:03:55.822Z"
   },
   {
    "duration": 7,
    "start_time": "2022-08-13T06:03:57.600Z"
   },
   {
    "duration": 38,
    "start_time": "2022-08-13T06:03:57.609Z"
   },
   {
    "duration": 4,
    "start_time": "2022-08-13T06:03:57.648Z"
   },
   {
    "duration": 10,
    "start_time": "2022-08-13T06:03:57.653Z"
   },
   {
    "duration": 43,
    "start_time": "2022-08-13T06:03:57.664Z"
   },
   {
    "duration": 4,
    "start_time": "2022-08-13T06:03:57.710Z"
   },
   {
    "duration": 6,
    "start_time": "2022-08-13T06:03:57.715Z"
   },
   {
    "duration": 9,
    "start_time": "2022-08-13T06:03:57.725Z"
   },
   {
    "duration": 13,
    "start_time": "2022-08-13T06:03:57.735Z"
   },
   {
    "duration": 5,
    "start_time": "2022-08-13T06:03:57.749Z"
   },
   {
    "duration": 54,
    "start_time": "2022-08-13T06:03:57.755Z"
   },
   {
    "duration": 72,
    "start_time": "2022-08-13T06:03:57.810Z"
   },
   {
    "duration": 3,
    "start_time": "2022-08-13T06:03:57.898Z"
   },
   {
    "duration": 6,
    "start_time": "2022-08-13T06:03:57.903Z"
   },
   {
    "duration": 6,
    "start_time": "2022-08-13T06:03:57.910Z"
   },
   {
    "duration": 6,
    "start_time": "2022-08-13T06:03:57.917Z"
   },
   {
    "duration": 5,
    "start_time": "2022-08-13T06:03:57.924Z"
   },
   {
    "duration": 9,
    "start_time": "2022-08-13T06:03:57.930Z"
   },
   {
    "duration": 7,
    "start_time": "2022-08-13T06:03:57.941Z"
   },
   {
    "duration": 394,
    "start_time": "2022-08-13T06:03:57.950Z"
   },
   {
    "duration": 31,
    "start_time": "2022-08-13T06:03:58.345Z"
   },
   {
    "duration": 571,
    "start_time": "2022-08-13T06:03:58.378Z"
   },
   {
    "duration": 249,
    "start_time": "2022-08-13T06:03:58.951Z"
   },
   {
    "duration": 242,
    "start_time": "2022-08-13T06:03:59.203Z"
   },
   {
    "duration": 230,
    "start_time": "2022-08-13T06:03:59.447Z"
   },
   {
    "duration": 320,
    "start_time": "2022-08-13T06:03:59.678Z"
   },
   {
    "duration": 140,
    "start_time": "2022-08-13T06:04:00.000Z"
   },
   {
    "duration": 158,
    "start_time": "2022-08-13T06:04:00.142Z"
   },
   {
    "duration": 168,
    "start_time": "2022-08-13T06:04:00.301Z"
   },
   {
    "duration": 162,
    "start_time": "2022-08-13T06:04:00.471Z"
   },
   {
    "duration": 142,
    "start_time": "2022-08-13T06:04:00.635Z"
   },
   {
    "duration": 153,
    "start_time": "2022-08-13T06:04:00.779Z"
   },
   {
    "duration": 147,
    "start_time": "2022-08-13T06:04:00.934Z"
   },
   {
    "duration": 150,
    "start_time": "2022-08-13T06:04:01.083Z"
   },
   {
    "duration": 165,
    "start_time": "2022-08-13T06:04:01.235Z"
   },
   {
    "duration": 571,
    "start_time": "2022-08-13T06:04:01.402Z"
   },
   {
    "duration": 137,
    "start_time": "2022-08-13T06:04:01.974Z"
   },
   {
    "duration": 22,
    "start_time": "2022-08-13T06:04:02.113Z"
   },
   {
    "duration": 153,
    "start_time": "2022-08-13T06:04:02.136Z"
   },
   {
    "duration": 141,
    "start_time": "2022-08-13T06:05:51.062Z"
   },
   {
    "duration": 14,
    "start_time": "2022-08-13T06:14:21.208Z"
   },
   {
    "duration": 134,
    "start_time": "2022-08-13T06:14:38.449Z"
   },
   {
    "duration": 116,
    "start_time": "2022-08-13T06:14:56.640Z"
   },
   {
    "duration": 140,
    "start_time": "2022-08-13T06:15:24.804Z"
   },
   {
    "duration": 505,
    "start_time": "2022-08-13T06:16:00.411Z"
   },
   {
    "duration": 674,
    "start_time": "2022-08-13T10:10:22.984Z"
   },
   {
    "duration": 12,
    "start_time": "2022-08-13T10:10:23.660Z"
   },
   {
    "duration": 50,
    "start_time": "2022-08-13T10:10:23.675Z"
   },
   {
    "duration": 45,
    "start_time": "2022-08-13T10:10:23.726Z"
   },
   {
    "duration": 44,
    "start_time": "2022-08-13T10:10:23.772Z"
   },
   {
    "duration": 29,
    "start_time": "2022-08-13T10:10:23.817Z"
   },
   {
    "duration": 32,
    "start_time": "2022-08-13T10:10:23.847Z"
   },
   {
    "duration": 30,
    "start_time": "2022-08-13T10:10:23.881Z"
   },
   {
    "duration": 42,
    "start_time": "2022-08-13T10:10:23.915Z"
   },
   {
    "duration": 52,
    "start_time": "2022-08-13T10:10:23.959Z"
   },
   {
    "duration": 36,
    "start_time": "2022-08-13T10:10:24.013Z"
   },
   {
    "duration": 68,
    "start_time": "2022-08-13T10:10:24.051Z"
   },
   {
    "duration": 28,
    "start_time": "2022-08-13T10:10:24.121Z"
   },
   {
    "duration": 28,
    "start_time": "2022-08-13T10:10:24.150Z"
   },
   {
    "duration": 45,
    "start_time": "2022-08-13T10:10:24.180Z"
   },
   {
    "duration": 34,
    "start_time": "2022-08-13T10:10:24.226Z"
   },
   {
    "duration": 44,
    "start_time": "2022-08-13T10:10:24.262Z"
   },
   {
    "duration": 37,
    "start_time": "2022-08-13T10:10:24.307Z"
   },
   {
    "duration": 29,
    "start_time": "2022-08-13T10:10:24.345Z"
   },
   {
    "duration": 1839,
    "start_time": "2022-08-13T10:10:24.376Z"
   },
   {
    "duration": 7,
    "start_time": "2022-08-13T10:10:26.217Z"
   },
   {
    "duration": 36,
    "start_time": "2022-08-13T10:10:26.225Z"
   },
   {
    "duration": 4,
    "start_time": "2022-08-13T10:10:26.263Z"
   },
   {
    "duration": 13,
    "start_time": "2022-08-13T10:10:26.268Z"
   },
   {
    "duration": 14,
    "start_time": "2022-08-13T10:10:26.297Z"
   },
   {
    "duration": 7,
    "start_time": "2022-08-13T10:10:26.312Z"
   },
   {
    "duration": 7,
    "start_time": "2022-08-13T10:10:26.322Z"
   },
   {
    "duration": 12,
    "start_time": "2022-08-13T10:10:26.331Z"
   },
   {
    "duration": 15,
    "start_time": "2022-08-13T10:10:26.344Z"
   },
   {
    "duration": 5,
    "start_time": "2022-08-13T10:10:26.360Z"
   },
   {
    "duration": 18,
    "start_time": "2022-08-13T10:10:26.366Z"
   },
   {
    "duration": 72,
    "start_time": "2022-08-13T10:10:26.398Z"
   },
   {
    "duration": 4,
    "start_time": "2022-08-13T10:10:26.471Z"
   },
   {
    "duration": 6,
    "start_time": "2022-08-13T10:10:26.476Z"
   },
   {
    "duration": 18,
    "start_time": "2022-08-13T10:10:26.483Z"
   },
   {
    "duration": 5,
    "start_time": "2022-08-13T10:10:26.502Z"
   },
   {
    "duration": 4,
    "start_time": "2022-08-13T10:10:26.508Z"
   },
   {
    "duration": 10,
    "start_time": "2022-08-13T10:10:26.514Z"
   },
   {
    "duration": 4,
    "start_time": "2022-08-13T10:10:26.526Z"
   },
   {
    "duration": 368,
    "start_time": "2022-08-13T10:10:26.531Z"
   },
   {
    "duration": 33,
    "start_time": "2022-08-13T10:10:26.900Z"
   },
   {
    "duration": 561,
    "start_time": "2022-08-13T10:10:26.935Z"
   },
   {
    "duration": 247,
    "start_time": "2022-08-13T10:10:27.498Z"
   },
   {
    "duration": 226,
    "start_time": "2022-08-13T10:10:27.746Z"
   },
   {
    "duration": 234,
    "start_time": "2022-08-13T10:10:27.973Z"
   },
   {
    "duration": 291,
    "start_time": "2022-08-13T10:10:28.208Z"
   },
   {
    "duration": 142,
    "start_time": "2022-08-13T10:10:28.501Z"
   },
   {
    "duration": 147,
    "start_time": "2022-08-13T10:10:28.644Z"
   },
   {
    "duration": 173,
    "start_time": "2022-08-13T10:10:28.792Z"
   },
   {
    "duration": 162,
    "start_time": "2022-08-13T10:10:28.966Z"
   },
   {
    "duration": 135,
    "start_time": "2022-08-13T10:10:29.129Z"
   },
   {
    "duration": 137,
    "start_time": "2022-08-13T10:10:29.266Z"
   },
   {
    "duration": 136,
    "start_time": "2022-08-13T10:10:29.404Z"
   },
   {
    "duration": 137,
    "start_time": "2022-08-13T10:10:29.541Z"
   },
   {
    "duration": 154,
    "start_time": "2022-08-13T10:10:29.680Z"
   },
   {
    "duration": 566,
    "start_time": "2022-08-13T10:10:29.836Z"
   },
   {
    "duration": 129,
    "start_time": "2022-08-13T10:10:30.404Z"
   },
   {
    "duration": 13,
    "start_time": "2022-08-13T10:10:30.535Z"
   },
   {
    "duration": 153,
    "start_time": "2022-08-13T10:10:30.550Z"
   },
   {
    "duration": 123,
    "start_time": "2022-08-13T10:10:30.704Z"
   },
   {
    "duration": 144,
    "start_time": "2022-08-13T10:10:30.828Z"
   },
   {
    "duration": 431,
    "start_time": "2022-08-13T10:10:30.973Z"
   },
   {
    "duration": 1,
    "start_time": "2022-08-13T10:10:31.405Z"
   },
   {
    "duration": 0,
    "start_time": "2022-08-13T10:10:31.406Z"
   },
   {
    "duration": 0,
    "start_time": "2022-08-13T10:10:31.407Z"
   },
   {
    "duration": 2018,
    "start_time": "2022-08-13T10:11:03.030Z"
   },
   {
    "duration": 44,
    "start_time": "2022-08-13T10:12:47.366Z"
   },
   {
    "duration": 133,
    "start_time": "2022-08-13T10:15:06.288Z"
   },
   {
    "duration": 23,
    "start_time": "2022-08-13T10:16:16.032Z"
   },
   {
    "duration": 136,
    "start_time": "2022-08-13T10:16:18.597Z"
   },
   {
    "duration": 147,
    "start_time": "2022-08-13T10:16:54.502Z"
   },
   {
    "duration": 141,
    "start_time": "2022-08-13T10:17:35.871Z"
   },
   {
    "duration": 231,
    "start_time": "2022-08-13T10:17:43.374Z"
   },
   {
    "duration": 132,
    "start_time": "2022-08-13T10:22:48.621Z"
   },
   {
    "duration": 131,
    "start_time": "2022-08-13T10:23:13.202Z"
   },
   {
    "duration": 134,
    "start_time": "2022-08-13T10:23:22.459Z"
   },
   {
    "duration": 16,
    "start_time": "2022-08-13T10:26:23.313Z"
   },
   {
    "duration": 17,
    "start_time": "2022-08-13T10:26:44.596Z"
   },
   {
    "duration": 402,
    "start_time": "2022-08-13T10:26:55.470Z"
   },
   {
    "duration": 18,
    "start_time": "2022-08-13T10:27:59.104Z"
   },
   {
    "duration": 13,
    "start_time": "2022-08-13T10:28:33.923Z"
   },
   {
    "duration": 149,
    "start_time": "2022-08-13T10:29:13.126Z"
   },
   {
    "duration": 145,
    "start_time": "2022-08-13T10:29:38.753Z"
   },
   {
    "duration": 161,
    "start_time": "2022-08-13T10:29:49.491Z"
   },
   {
    "duration": 206,
    "start_time": "2022-08-13T10:30:07.463Z"
   },
   {
    "duration": 12,
    "start_time": "2022-08-13T10:31:01.147Z"
   },
   {
    "duration": 138,
    "start_time": "2022-08-13T10:31:14.148Z"
   },
   {
    "duration": 178,
    "start_time": "2022-08-13T10:34:30.981Z"
   },
   {
    "duration": 139,
    "start_time": "2022-08-13T10:39:33.756Z"
   },
   {
    "duration": 251,
    "start_time": "2022-08-13T10:42:48.530Z"
   },
   {
    "duration": 256,
    "start_time": "2022-08-13T10:42:59.112Z"
   },
   {
    "duration": 212,
    "start_time": "2022-08-13T10:43:38.192Z"
   },
   {
    "duration": 166,
    "start_time": "2022-08-13T10:43:54.879Z"
   },
   {
    "duration": 130,
    "start_time": "2022-08-13T10:44:39.225Z"
   },
   {
    "duration": 139,
    "start_time": "2022-08-13T10:47:51.144Z"
   },
   {
    "duration": 24,
    "start_time": "2022-08-13T11:05:59.653Z"
   },
   {
    "duration": 119,
    "start_time": "2022-08-13T11:10:24.760Z"
   },
   {
    "duration": 266,
    "start_time": "2022-08-13T11:11:15.549Z"
   },
   {
    "duration": 23,
    "start_time": "2022-08-13T11:12:44.640Z"
   },
   {
    "duration": 194,
    "start_time": "2022-08-13T11:13:42.864Z"
   },
   {
    "duration": 162,
    "start_time": "2022-08-13T11:14:04.404Z"
   },
   {
    "duration": 22,
    "start_time": "2022-08-13T11:14:17.258Z"
   },
   {
    "duration": 678,
    "start_time": "2022-08-13T11:14:52.276Z"
   },
   {
    "duration": 12,
    "start_time": "2022-08-13T11:14:52.955Z"
   },
   {
    "duration": 46,
    "start_time": "2022-08-13T11:14:52.968Z"
   },
   {
    "duration": 82,
    "start_time": "2022-08-13T11:14:53.017Z"
   },
   {
    "duration": 31,
    "start_time": "2022-08-13T11:14:53.101Z"
   },
   {
    "duration": 28,
    "start_time": "2022-08-13T11:14:53.134Z"
   },
   {
    "duration": 50,
    "start_time": "2022-08-13T11:14:53.164Z"
   },
   {
    "duration": 12,
    "start_time": "2022-08-13T11:14:53.216Z"
   },
   {
    "duration": 42,
    "start_time": "2022-08-13T11:14:53.229Z"
   },
   {
    "duration": 51,
    "start_time": "2022-08-13T11:14:53.273Z"
   },
   {
    "duration": 31,
    "start_time": "2022-08-13T11:14:53.325Z"
   },
   {
    "duration": 64,
    "start_time": "2022-08-13T11:14:53.357Z"
   },
   {
    "duration": 27,
    "start_time": "2022-08-13T11:14:53.423Z"
   },
   {
    "duration": 26,
    "start_time": "2022-08-13T11:14:53.452Z"
   },
   {
    "duration": 49,
    "start_time": "2022-08-13T11:14:53.479Z"
   },
   {
    "duration": 34,
    "start_time": "2022-08-13T11:14:53.530Z"
   },
   {
    "duration": 41,
    "start_time": "2022-08-13T11:14:53.565Z"
   },
   {
    "duration": 37,
    "start_time": "2022-08-13T11:14:53.607Z"
   },
   {
    "duration": 28,
    "start_time": "2022-08-13T11:14:53.645Z"
   },
   {
    "duration": 1900,
    "start_time": "2022-08-13T11:14:53.675Z"
   },
   {
    "duration": 22,
    "start_time": "2022-08-13T11:14:55.577Z"
   },
   {
    "duration": 40,
    "start_time": "2022-08-13T11:14:55.600Z"
   },
   {
    "duration": 5,
    "start_time": "2022-08-13T11:14:55.642Z"
   },
   {
    "duration": 10,
    "start_time": "2022-08-13T11:14:55.648Z"
   },
   {
    "duration": 15,
    "start_time": "2022-08-13T11:14:55.659Z"
   },
   {
    "duration": 26,
    "start_time": "2022-08-13T11:14:55.675Z"
   },
   {
    "duration": 11,
    "start_time": "2022-08-13T11:14:55.703Z"
   },
   {
    "duration": 10,
    "start_time": "2022-08-13T11:14:55.718Z"
   },
   {
    "duration": 13,
    "start_time": "2022-08-13T11:14:55.730Z"
   },
   {
    "duration": 6,
    "start_time": "2022-08-13T11:14:55.744Z"
   },
   {
    "duration": 18,
    "start_time": "2022-08-13T11:14:55.752Z"
   },
   {
    "duration": 97,
    "start_time": "2022-08-13T11:14:55.771Z"
   },
   {
    "duration": 4,
    "start_time": "2022-08-13T11:14:55.870Z"
   },
   {
    "duration": 23,
    "start_time": "2022-08-13T11:14:55.876Z"
   },
   {
    "duration": 7,
    "start_time": "2022-08-13T11:14:55.900Z"
   },
   {
    "duration": 6,
    "start_time": "2022-08-13T11:14:55.908Z"
   },
   {
    "duration": 3,
    "start_time": "2022-08-13T11:14:55.916Z"
   },
   {
    "duration": 6,
    "start_time": "2022-08-13T11:14:55.921Z"
   },
   {
    "duration": 4,
    "start_time": "2022-08-13T11:14:55.929Z"
   },
   {
    "duration": 392,
    "start_time": "2022-08-13T11:14:55.934Z"
   },
   {
    "duration": 30,
    "start_time": "2022-08-13T11:14:56.327Z"
   },
   {
    "duration": 592,
    "start_time": "2022-08-13T11:14:56.358Z"
   },
   {
    "duration": 250,
    "start_time": "2022-08-13T11:14:56.951Z"
   },
   {
    "duration": 232,
    "start_time": "2022-08-13T11:14:57.202Z"
   },
   {
    "duration": 225,
    "start_time": "2022-08-13T11:14:57.435Z"
   },
   {
    "duration": 304,
    "start_time": "2022-08-13T11:14:57.661Z"
   },
   {
    "duration": 137,
    "start_time": "2022-08-13T11:14:57.966Z"
   },
   {
    "duration": 151,
    "start_time": "2022-08-13T11:14:58.105Z"
   },
   {
    "duration": 152,
    "start_time": "2022-08-13T11:14:58.257Z"
   },
   {
    "duration": 154,
    "start_time": "2022-08-13T11:14:58.410Z"
   },
   {
    "duration": 134,
    "start_time": "2022-08-13T11:14:58.565Z"
   },
   {
    "duration": 137,
    "start_time": "2022-08-13T11:14:58.701Z"
   },
   {
    "duration": 148,
    "start_time": "2022-08-13T11:14:58.839Z"
   },
   {
    "duration": 135,
    "start_time": "2022-08-13T11:14:58.989Z"
   },
   {
    "duration": 152,
    "start_time": "2022-08-13T11:14:59.125Z"
   },
   {
    "duration": 543,
    "start_time": "2022-08-13T11:14:59.278Z"
   },
   {
    "duration": 129,
    "start_time": "2022-08-13T11:14:59.822Z"
   },
   {
    "duration": 190,
    "start_time": "2022-08-13T11:14:59.953Z"
   },
   {
    "duration": 138,
    "start_time": "2022-08-13T11:15:00.145Z"
   },
   {
    "duration": 157,
    "start_time": "2022-08-13T11:15:00.285Z"
   },
   {
    "duration": 144,
    "start_time": "2022-08-13T11:15:00.443Z"
   },
   {
    "duration": 151,
    "start_time": "2022-08-13T11:15:00.589Z"
   },
   {
    "duration": 169,
    "start_time": "2022-08-13T11:15:00.741Z"
   },
   {
    "duration": 160,
    "start_time": "2022-08-13T11:15:00.912Z"
   },
   {
    "duration": 31,
    "start_time": "2022-08-13T11:15:01.073Z"
   },
   {
    "duration": 139,
    "start_time": "2022-08-13T11:15:01.105Z"
   },
   {
    "duration": 724,
    "start_time": "2022-08-14T00:50:09.108Z"
   },
   {
    "duration": 15,
    "start_time": "2022-08-14T00:50:09.833Z"
   },
   {
    "duration": 44,
    "start_time": "2022-08-14T00:50:09.850Z"
   },
   {
    "duration": 57,
    "start_time": "2022-08-14T00:50:09.896Z"
   },
   {
    "duration": 35,
    "start_time": "2022-08-14T00:50:09.955Z"
   },
   {
    "duration": 51,
    "start_time": "2022-08-14T00:50:09.992Z"
   },
   {
    "duration": 35,
    "start_time": "2022-08-14T00:50:10.045Z"
   },
   {
    "duration": 32,
    "start_time": "2022-08-14T00:50:10.082Z"
   },
   {
    "duration": 60,
    "start_time": "2022-08-14T00:50:10.116Z"
   },
   {
    "duration": 47,
    "start_time": "2022-08-14T00:50:10.179Z"
   },
   {
    "duration": 37,
    "start_time": "2022-08-14T00:50:10.228Z"
   },
   {
    "duration": 74,
    "start_time": "2022-08-14T00:50:10.267Z"
   },
   {
    "duration": 32,
    "start_time": "2022-08-14T00:50:10.343Z"
   },
   {
    "duration": 50,
    "start_time": "2022-08-14T00:50:10.377Z"
   },
   {
    "duration": 32,
    "start_time": "2022-08-14T00:50:10.428Z"
   },
   {
    "duration": 58,
    "start_time": "2022-08-14T00:50:10.462Z"
   },
   {
    "duration": 31,
    "start_time": "2022-08-14T00:50:10.522Z"
   },
   {
    "duration": 56,
    "start_time": "2022-08-14T00:50:10.555Z"
   },
   {
    "duration": 33,
    "start_time": "2022-08-14T00:50:10.613Z"
   },
   {
    "duration": 1935,
    "start_time": "2022-08-14T00:50:10.648Z"
   },
   {
    "duration": 8,
    "start_time": "2022-08-14T00:50:12.584Z"
   },
   {
    "duration": 54,
    "start_time": "2022-08-14T00:50:12.593Z"
   },
   {
    "duration": 4,
    "start_time": "2022-08-14T00:50:12.649Z"
   },
   {
    "duration": 19,
    "start_time": "2022-08-14T00:50:12.654Z"
   },
   {
    "duration": 18,
    "start_time": "2022-08-14T00:50:12.674Z"
   },
   {
    "duration": 5,
    "start_time": "2022-08-14T00:50:12.693Z"
   },
   {
    "duration": 7,
    "start_time": "2022-08-14T00:50:12.709Z"
   },
   {
    "duration": 13,
    "start_time": "2022-08-14T00:50:12.721Z"
   },
   {
    "duration": 20,
    "start_time": "2022-08-14T00:50:12.735Z"
   },
   {
    "duration": 7,
    "start_time": "2022-08-14T00:50:12.756Z"
   },
   {
    "duration": 45,
    "start_time": "2022-08-14T00:50:12.764Z"
   },
   {
    "duration": 87,
    "start_time": "2022-08-14T00:50:12.811Z"
   },
   {
    "duration": 4,
    "start_time": "2022-08-14T00:50:12.910Z"
   },
   {
    "duration": 8,
    "start_time": "2022-08-14T00:50:12.915Z"
   },
   {
    "duration": 8,
    "start_time": "2022-08-14T00:50:12.924Z"
   },
   {
    "duration": 13,
    "start_time": "2022-08-14T00:50:12.934Z"
   },
   {
    "duration": 6,
    "start_time": "2022-08-14T00:50:12.948Z"
   },
   {
    "duration": 7,
    "start_time": "2022-08-14T00:50:12.955Z"
   },
   {
    "duration": 7,
    "start_time": "2022-08-14T00:50:12.964Z"
   },
   {
    "duration": 417,
    "start_time": "2022-08-14T00:50:12.972Z"
   },
   {
    "duration": 46,
    "start_time": "2022-08-14T00:50:13.391Z"
   },
   {
    "duration": 676,
    "start_time": "2022-08-14T00:50:13.439Z"
   },
   {
    "duration": 295,
    "start_time": "2022-08-14T00:50:14.117Z"
   },
   {
    "duration": 257,
    "start_time": "2022-08-14T00:50:14.413Z"
   },
   {
    "duration": 248,
    "start_time": "2022-08-14T00:50:14.671Z"
   },
   {
    "duration": 343,
    "start_time": "2022-08-14T00:50:14.921Z"
   },
   {
    "duration": 155,
    "start_time": "2022-08-14T00:50:15.266Z"
   },
   {
    "duration": 165,
    "start_time": "2022-08-14T00:50:15.423Z"
   },
   {
    "duration": 175,
    "start_time": "2022-08-14T00:50:15.590Z"
   },
   {
    "duration": 194,
    "start_time": "2022-08-14T00:50:15.766Z"
   },
   {
    "duration": 165,
    "start_time": "2022-08-14T00:50:15.961Z"
   },
   {
    "duration": 159,
    "start_time": "2022-08-14T00:50:16.128Z"
   },
   {
    "duration": 148,
    "start_time": "2022-08-14T00:50:16.288Z"
   },
   {
    "duration": 155,
    "start_time": "2022-08-14T00:50:16.438Z"
   },
   {
    "duration": 168,
    "start_time": "2022-08-14T00:50:16.595Z"
   },
   {
    "duration": 622,
    "start_time": "2022-08-14T00:50:16.765Z"
   },
   {
    "duration": 143,
    "start_time": "2022-08-14T00:50:17.388Z"
   },
   {
    "duration": 161,
    "start_time": "2022-08-14T00:50:17.532Z"
   },
   {
    "duration": 157,
    "start_time": "2022-08-14T00:50:17.695Z"
   },
   {
    "duration": 166,
    "start_time": "2022-08-14T00:50:17.854Z"
   },
   {
    "duration": 167,
    "start_time": "2022-08-14T00:50:18.022Z"
   },
   {
    "duration": 190,
    "start_time": "2022-08-14T00:50:18.191Z"
   },
   {
    "duration": 186,
    "start_time": "2022-08-14T00:50:18.383Z"
   },
   {
    "duration": 158,
    "start_time": "2022-08-14T00:50:18.571Z"
   },
   {
    "duration": 23,
    "start_time": "2022-08-14T00:50:18.730Z"
   },
   {
    "duration": 168,
    "start_time": "2022-08-14T00:50:18.755Z"
   }
  ],
  "kernelspec": {
   "display_name": "Python 3 (ipykernel)",
   "language": "python",
   "name": "python3"
  },
  "language_info": {
   "codemirror_mode": {
    "name": "ipython",
    "version": 3
   },
   "file_extension": ".py",
   "mimetype": "text/x-python",
   "name": "python",
   "nbconvert_exporter": "python",
   "pygments_lexer": "ipython3",
   "version": "3.9.5"
  },
  "toc": {
   "base_numbering": 1,
   "nav_menu": {},
   "number_sections": true,
   "sideBar": true,
   "skip_h1_title": true,
   "title_cell": "Table of Contents",
   "title_sidebar": "Contents",
   "toc_cell": false,
   "toc_position": {},
   "toc_section_display": true,
   "toc_window_display": true
  }
 },
 "nbformat": 4,
 "nbformat_minor": 2
}
